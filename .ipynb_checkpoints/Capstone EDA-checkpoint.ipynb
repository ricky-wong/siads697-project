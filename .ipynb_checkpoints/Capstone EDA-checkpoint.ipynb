{
 "cells": [
  {
   "cell_type": "code",
   "execution_count": 1,
   "id": "8d51a433-7b63-461b-865c-489db9557af1",
   "metadata": {},
   "outputs": [],
   "source": [
    "import pandas as pd\n",
    "import numpy as np\n",
    "import matplotlib.pylab as plt\n",
    "%matplotlib inline\n",
    "import seaborn as sns\n",
    "import dtale\n",
    "from sklearn.preprocessing import StandardScaler"
   ]
  },
  {
   "cell_type": "code",
   "execution_count": 2,
   "id": "ae68ded9-c1eb-4228-87c3-8d4ae29e80b3",
   "metadata": {},
   "outputs": [],
   "source": [
    "df = pd.read_csv('tedsd_puf_2019.csv')"
   ]
  },
  {
   "cell_type": "code",
   "execution_count": 3,
   "id": "495b0b53-925b-455b-ad67-25f0887ed7fe",
   "metadata": {},
   "outputs": [
    {
     "data": {
      "text/plain": [
       "(1722503, 76)"
      ]
     },
     "execution_count": 3,
     "metadata": {},
     "output_type": "execute_result"
    }
   ],
   "source": [
    "df.shape"
   ]
  },
  {
   "cell_type": "code",
   "execution_count": 4,
   "id": "6921fe11-cedc-4831-bd52-917b87b17568",
   "metadata": {},
   "outputs": [
    {
     "data": {
      "text/html": [
       "<div>\n",
       "<style scoped>\n",
       "    .dataframe tbody tr th:only-of-type {\n",
       "        vertical-align: middle;\n",
       "    }\n",
       "\n",
       "    .dataframe tbody tr th {\n",
       "        vertical-align: top;\n",
       "    }\n",
       "\n",
       "    .dataframe thead th {\n",
       "        text-align: right;\n",
       "    }\n",
       "</style>\n",
       "<table border=\"1\" class=\"dataframe\">\n",
       "  <thead>\n",
       "    <tr style=\"text-align: right;\">\n",
       "      <th></th>\n",
       "      <th>DISYR</th>\n",
       "      <th>CASEID</th>\n",
       "      <th>STFIPS</th>\n",
       "      <th>CBSA2010</th>\n",
       "      <th>EDUC</th>\n",
       "      <th>MARSTAT</th>\n",
       "      <th>SERVICES</th>\n",
       "      <th>DETCRIM</th>\n",
       "      <th>LOS</th>\n",
       "      <th>PSOURCE</th>\n",
       "      <th>...</th>\n",
       "      <th>TRNQFLG</th>\n",
       "      <th>BARBFLG</th>\n",
       "      <th>SEDHPFLG</th>\n",
       "      <th>INHFLG</th>\n",
       "      <th>OTCFLG</th>\n",
       "      <th>OTHERFLG</th>\n",
       "      <th>DIVISION</th>\n",
       "      <th>REGION</th>\n",
       "      <th>IDU</th>\n",
       "      <th>ALCDRUG</th>\n",
       "    </tr>\n",
       "  </thead>\n",
       "  <tbody>\n",
       "    <tr>\n",
       "      <th>0</th>\n",
       "      <td>2019</td>\n",
       "      <td>20191553576</td>\n",
       "      <td>2</td>\n",
       "      <td>-9</td>\n",
       "      <td>4</td>\n",
       "      <td>1</td>\n",
       "      <td>7</td>\n",
       "      <td>-9</td>\n",
       "      <td>37</td>\n",
       "      <td>1</td>\n",
       "      <td>...</td>\n",
       "      <td>0</td>\n",
       "      <td>0</td>\n",
       "      <td>0</td>\n",
       "      <td>0</td>\n",
       "      <td>0</td>\n",
       "      <td>0</td>\n",
       "      <td>9</td>\n",
       "      <td>4</td>\n",
       "      <td>0</td>\n",
       "      <td>1</td>\n",
       "    </tr>\n",
       "    <tr>\n",
       "      <th>1</th>\n",
       "      <td>2019</td>\n",
       "      <td>20191465214</td>\n",
       "      <td>2</td>\n",
       "      <td>-9</td>\n",
       "      <td>3</td>\n",
       "      <td>1</td>\n",
       "      <td>7</td>\n",
       "      <td>-9</td>\n",
       "      <td>35</td>\n",
       "      <td>1</td>\n",
       "      <td>...</td>\n",
       "      <td>0</td>\n",
       "      <td>0</td>\n",
       "      <td>0</td>\n",
       "      <td>0</td>\n",
       "      <td>0</td>\n",
       "      <td>0</td>\n",
       "      <td>9</td>\n",
       "      <td>4</td>\n",
       "      <td>0</td>\n",
       "      <td>3</td>\n",
       "    </tr>\n",
       "    <tr>\n",
       "      <th>2</th>\n",
       "      <td>2019</td>\n",
       "      <td>20191443889</td>\n",
       "      <td>2</td>\n",
       "      <td>-9</td>\n",
       "      <td>2</td>\n",
       "      <td>1</td>\n",
       "      <td>7</td>\n",
       "      <td>-9</td>\n",
       "      <td>35</td>\n",
       "      <td>1</td>\n",
       "      <td>...</td>\n",
       "      <td>0</td>\n",
       "      <td>0</td>\n",
       "      <td>0</td>\n",
       "      <td>0</td>\n",
       "      <td>0</td>\n",
       "      <td>0</td>\n",
       "      <td>9</td>\n",
       "      <td>4</td>\n",
       "      <td>0</td>\n",
       "      <td>3</td>\n",
       "    </tr>\n",
       "    <tr>\n",
       "      <th>3</th>\n",
       "      <td>2019</td>\n",
       "      <td>20191409377</td>\n",
       "      <td>2</td>\n",
       "      <td>-9</td>\n",
       "      <td>3</td>\n",
       "      <td>1</td>\n",
       "      <td>7</td>\n",
       "      <td>-9</td>\n",
       "      <td>37</td>\n",
       "      <td>1</td>\n",
       "      <td>...</td>\n",
       "      <td>0</td>\n",
       "      <td>0</td>\n",
       "      <td>0</td>\n",
       "      <td>0</td>\n",
       "      <td>0</td>\n",
       "      <td>0</td>\n",
       "      <td>9</td>\n",
       "      <td>4</td>\n",
       "      <td>0</td>\n",
       "      <td>3</td>\n",
       "    </tr>\n",
       "    <tr>\n",
       "      <th>4</th>\n",
       "      <td>2019</td>\n",
       "      <td>20191479567</td>\n",
       "      <td>2</td>\n",
       "      <td>-9</td>\n",
       "      <td>3</td>\n",
       "      <td>3</td>\n",
       "      <td>7</td>\n",
       "      <td>-9</td>\n",
       "      <td>37</td>\n",
       "      <td>1</td>\n",
       "      <td>...</td>\n",
       "      <td>0</td>\n",
       "      <td>0</td>\n",
       "      <td>0</td>\n",
       "      <td>0</td>\n",
       "      <td>0</td>\n",
       "      <td>0</td>\n",
       "      <td>9</td>\n",
       "      <td>4</td>\n",
       "      <td>0</td>\n",
       "      <td>1</td>\n",
       "    </tr>\n",
       "  </tbody>\n",
       "</table>\n",
       "<p>5 rows × 76 columns</p>\n",
       "</div>"
      ],
      "text/plain": [
       "   DISYR       CASEID  STFIPS  CBSA2010  EDUC  MARSTAT  SERVICES  DETCRIM  \\\n",
       "0   2019  20191553576       2        -9     4        1         7       -9   \n",
       "1   2019  20191465214       2        -9     3        1         7       -9   \n",
       "2   2019  20191443889       2        -9     2        1         7       -9   \n",
       "3   2019  20191409377       2        -9     3        1         7       -9   \n",
       "4   2019  20191479567       2        -9     3        3         7       -9   \n",
       "\n",
       "   LOS  PSOURCE  ...  TRNQFLG  BARBFLG  SEDHPFLG  INHFLG  OTCFLG  OTHERFLG  \\\n",
       "0   37        1  ...        0        0         0       0       0         0   \n",
       "1   35        1  ...        0        0         0       0       0         0   \n",
       "2   35        1  ...        0        0         0       0       0         0   \n",
       "3   37        1  ...        0        0         0       0       0         0   \n",
       "4   37        1  ...        0        0         0       0       0         0   \n",
       "\n",
       "   DIVISION  REGION  IDU  ALCDRUG  \n",
       "0         9       4    0        1  \n",
       "1         9       4    0        3  \n",
       "2         9       4    0        3  \n",
       "3         9       4    0        3  \n",
       "4         9       4    0        1  \n",
       "\n",
       "[5 rows x 76 columns]"
      ]
     },
     "execution_count": 4,
     "metadata": {},
     "output_type": "execute_result"
    }
   ],
   "source": [
    "df.head()"
   ]
  },
  {
   "cell_type": "code",
   "execution_count": 5,
   "id": "204a2696-3e36-478b-9acb-c8bb8e17a796",
   "metadata": {},
   "outputs": [
    {
     "data": {
      "text/plain": [
       "Index(['DISYR', 'CASEID', 'STFIPS', 'CBSA2010', 'EDUC', 'MARSTAT', 'SERVICES',\n",
       "       'DETCRIM', 'LOS', 'PSOURCE', 'NOPRIOR', 'ARRESTS', 'EMPLOY', 'METHUSE',\n",
       "       'PSYPROB', 'PREG', 'GENDER', 'VET', 'LIVARAG', 'DAYWAIT', 'SERVICES_D',\n",
       "       'REASON', 'EMPLOY_D', 'LIVARAG_D', 'ARRESTS_D', 'DSMCRIT', 'AGE',\n",
       "       'RACE', 'ETHNIC', 'DETNLF', 'DETNLF_D', 'PRIMINC', 'SUB1', 'SUB2',\n",
       "       'SUB3', 'SUB1_D', 'SUB2_D', 'SUB3_D', 'ROUTE1', 'ROUTE2', 'ROUTE3',\n",
       "       'FREQ1', 'FREQ2', 'FREQ3', 'FREQ1_D', 'FREQ2_D', 'FREQ3_D', 'FRSTUSE1',\n",
       "       'FRSTUSE2', 'FRSTUSE3', 'HLTHINS', 'PRIMPAY', 'FREQ_ATND_SELF_HELP',\n",
       "       'FREQ_ATND_SELF_HELP_D', 'ALCFLG', 'COKEFLG', 'MARFLG', 'HERFLG',\n",
       "       'METHFLG', 'OPSYNFLG', 'PCPFLG', 'HALLFLG', 'MTHAMFLG', 'AMPHFLG',\n",
       "       'STIMFLG', 'BENZFLG', 'TRNQFLG', 'BARBFLG', 'SEDHPFLG', 'INHFLG',\n",
       "       'OTCFLG', 'OTHERFLG', 'DIVISION', 'REGION', 'IDU', 'ALCDRUG'],\n",
       "      dtype='object')"
      ]
     },
     "execution_count": 5,
     "metadata": {},
     "output_type": "execute_result"
    }
   ],
   "source": [
    "df.columns"
   ]
  },
  {
   "cell_type": "code",
   "execution_count": 6,
   "id": "8957f69a-9005-493e-b7fb-a28d14047e71",
   "metadata": {},
   "outputs": [
    {
     "data": {
      "text/plain": [
       "DISYR             1\n",
       "CASEID      1722503\n",
       "STFIPS           49\n",
       "CBSA2010        279\n",
       "EDUC              6\n",
       "             ...   \n",
       "OTHERFLG          2\n",
       "DIVISION         10\n",
       "REGION            5\n",
       "IDU               3\n",
       "ALCDRUG           4\n",
       "Length: 76, dtype: int64"
      ]
     },
     "execution_count": 6,
     "metadata": {},
     "output_type": "execute_result"
    }
   ],
   "source": [
    "df.nunique(axis=0)"
   ]
  },
  {
   "cell_type": "code",
   "execution_count": 7,
   "id": "45a0876f-4dba-4fff-967c-0006fe68a333",
   "metadata": {},
   "outputs": [],
   "source": [
    "#df.describe()"
   ]
  },
  {
   "cell_type": "code",
   "execution_count": 8,
   "id": "95d95ae2-28d6-4738-b2a8-7ab3e36b2d6b",
   "metadata": {},
   "outputs": [],
   "source": [
    "# state_list = df['STFIPS'].unique().tolist()\n",
    "# state_list"
   ]
  },
  {
   "cell_type": "code",
   "execution_count": 9,
   "id": "fb1eb693-e3c5-4cb2-bcb4-40100ee1edc4",
   "metadata": {},
   "outputs": [],
   "source": [
    "state_dict = {1:'Alabama',2:'Alaska',4:'Arizona', 5:'Arkansas',6:'California',8:'Colorado',9:'Connecticut',\n",
    "              10:'Delaware', 11:'District of Columbia', 12:'Florida', 13:'Georgia', 15:'Hawaii', 16:'Idaho', \n",
    "              17:'Illinois', 18:'Indiana', 19:'Iowa', 20:'Kansas', 21:'Kentucky', 22:'Louisiana', 23:'Maine', \n",
    "              24:'Maryland', 25:'Massachusetts', 26:'Michigan', 27:'Minnesota', 28:'Mississippi', 29:'Missouri',\n",
    "              30:'Montana', 31:'Nebraska', 32:'Nevada', 33:'New Hampshire', 34:'New Jersey', 35:'New Mexico', \n",
    "              36:'New York', 37:'North Carolina', 38:'North Dakota', 39:'Ohio', 40:'Oklahoma', 42:'Pennsylvania',\n",
    "              44:'Rhode Island', 45:'South Carolina', 46:'South Dakota', 47:'Tennessee', 48:'Texas', 49:'Utah',\n",
    "              50:'Vermont', 51:'Virginia', 55:'Wisconsin', 56:'Wyoming', 72:'Puerto Rico'}"
   ]
  },
  {
   "cell_type": "code",
   "execution_count": 10,
   "id": "7f20b48c-daf1-4a79-a6af-64c459bde29d",
   "metadata": {},
   "outputs": [],
   "source": [
    "#df = df.replace(-9, np.nan) #Replace coded missing values"
   ]
  },
  {
   "cell_type": "code",
   "execution_count": 11,
   "id": "b4c7f932-488e-417e-8d04-7237cdc2df6b",
   "metadata": {},
   "outputs": [],
   "source": [
    "# pd.options.display.max_rows = 100\n",
    "# print(df.dtypes) #Confirm that all data is numerical"
   ]
  },
  {
   "cell_type": "markdown",
   "id": "566ada03-ac87-47b9-b9f0-9c9a450c4746",
   "metadata": {},
   "source": [
    "## PCA Testing (Select Features, 2 components) Uncomment to view charts"
   ]
  },
  {
   "cell_type": "code",
   "execution_count": 12,
   "id": "e314b884-82e1-4cad-8631-c21630e50e5e",
   "metadata": {},
   "outputs": [],
   "source": [
    "# features = ['LOS','SERVICES','PSOURCE','SUB1','ROUTE1','FREQ1','DSMCRIT','PSYPROB','HLTHINS']\n",
    "\n",
    "# x = df.loc[:, features].values\n",
    "\n",
    "# y = df.loc[:, ['REASON']].values\n",
    "\n",
    "# x = StandardScaler().fit_transform(x)"
   ]
  },
  {
   "cell_type": "code",
   "execution_count": 13,
   "id": "15f9c96b-a81d-42ce-9a40-4c09e5dddc9c",
   "metadata": {},
   "outputs": [],
   "source": [
    "# from sklearn.decomposition import PCA\n",
    "\n",
    "# pca = (PCA(n_components=2))\n",
    "\n",
    "# principalComponents = pca.fit_transform(x)\n",
    "\n",
    "# principalDf = pd.DataFrame(data = principalComponents\n",
    "#                           , columns = ['PC1','PC2'])\n",
    "\n",
    "# finalDf = pd.concat([principalDf, df[['REASON']]], axis=1)\n"
   ]
  },
  {
   "cell_type": "code",
   "execution_count": 14,
   "id": "56fcaa7a-a07d-4d1e-88aa-cd975bdb1ce0",
   "metadata": {},
   "outputs": [],
   "source": [
    "# %matplotlib inline\n",
    "\n",
    "# fig = plt.figure(figsize =(8,8))\n",
    "# ax = fig.add_subplot(1,1,1)\n",
    "\n",
    "# ax.set_xlabel('Principal Component 1', fontsize = 15)\n",
    "# ax.set_ylabel('Principal Component 2', fontsize = 15)\n",
    "# ax.set_title('2 component PCA', fontsize = 20)\n",
    "# targets = [1,2,3,4,5,6]\n",
    "# #targets = ['Treatment Completed','Dropout','Terminated by Facility','Transfer','Incarcerated','Death','Other']\n",
    "# colors = ['r', 'g', 'b','c','m','y']\n",
    "# for target, color in zip(targets,colors):\n",
    "#     indicesToKeep = finalDf['REASON'] == target\n",
    "#     ax.scatter(finalDf.loc[indicesToKeep, 'PC1']\n",
    "#                , finalDf.loc[indicesToKeep, 'PC2']\n",
    "#                , c = color\n",
    "#                , s = 50)\n",
    "# ax.legend(targets)\n",
    "# ax.grid()\n",
    "\n",
    "# ax.set_xlim([-3,3])\n",
    "# ax.set_ylim([-3,3])"
   ]
  },
  {
   "cell_type": "markdown",
   "id": "b6502044-5304-484f-8dd5-f262aeebcf53",
   "metadata": {},
   "source": [
    "## PCA Testing (All Columns, 2 components) Uncomment to view charts"
   ]
  },
  {
   "cell_type": "code",
   "execution_count": 15,
   "id": "7f66525d-0da9-4055-a386-65480afd0aa5",
   "metadata": {},
   "outputs": [],
   "source": [
    "# #All Columns\n",
    "\n",
    "# x = df.loc[:, df.columns != 'REASON'].values\n",
    "\n",
    "# y = df.loc[:, ['REASON']].values\n",
    "\n",
    "# x = StandardScaler().fit_transform(x)"
   ]
  },
  {
   "cell_type": "code",
   "execution_count": 16,
   "id": "9fc0f581-b904-4884-adf7-6972caf6608f",
   "metadata": {},
   "outputs": [],
   "source": [
    "# pca = (PCA(n_components=2))\n",
    "\n",
    "# principalComponents = pca.fit_transform(x)\n",
    "\n",
    "# principalDf = pd.DataFrame(data = principalComponents\n",
    "#                           , columns = ['PC1','PC2'])\n",
    "\n",
    "# finalDf = pd.concat([principalDf, df[['REASON']]], axis=1)"
   ]
  },
  {
   "cell_type": "code",
   "execution_count": 17,
   "id": "fcb2e929-3d1c-4235-a4f4-e30b9b6de114",
   "metadata": {},
   "outputs": [],
   "source": [
    "# %matplotlib inline\n",
    "\n",
    "# fig = plt.figure(figsize =(8,8))\n",
    "# ax = fig.add_subplot(1,1,1)\n",
    "\n",
    "# ax.set_xlabel('Principal Component 1', fontsize = 15)\n",
    "# ax.set_ylabel('Principal Component 2', fontsize = 15)\n",
    "# ax.set_title('2 component PCA', fontsize = 20)\n",
    "# targets = [1,2,3,4,5,6]\n",
    "# #targets = ['Treatment Completed','Dropout','Terminated by Facility','Transfer','Incarcerated','Death','Other']\n",
    "# colors = ['r', 'g', 'b','c','m','y']\n",
    "# for target, color in zip(targets,colors):\n",
    "#     indicesToKeep = finalDf['REASON'] == target\n",
    "#     ax.scatter(finalDf.loc[indicesToKeep, 'PC1']\n",
    "#                , finalDf.loc[indicesToKeep, 'PC2']\n",
    "#                , c = color\n",
    "#                , s = 50)\n",
    "# ax.legend(targets)\n",
    "# ax.grid()\n",
    "\n",
    "# ax.set_xlim([-5,5])\n",
    "# ax.set_ylim([-5,5])"
   ]
  },
  {
   "cell_type": "markdown",
   "id": "689032dd-bae9-406f-9f92-8c3a63f1ebda",
   "metadata": {},
   "source": [
    "### PCA Variance and Clustering? Uncomment to view charts"
   ]
  },
  {
   "cell_type": "code",
   "execution_count": 18,
   "id": "15f3347f-57e7-49d4-bb44-c3f903d09230",
   "metadata": {},
   "outputs": [],
   "source": [
    "# from sklearn.cluster import KMeans\n",
    "\n",
    "# pca = PCA(n_components=20)\n",
    "# principalComponents = pca.fit_transform(x)\n",
    "\n",
    "# features = range(pca.n_components_)\n",
    "\n",
    "# plt.bar(features, pca.explained_variance_ratio_, color='black')\n",
    "# plt.xlabel('PCA features')\n",
    "# plt.ylabel('variance %')\n",
    "# plt.xticks(features)"
   ]
  },
  {
   "cell_type": "markdown",
   "id": "77914456-7361-4d03-81d3-fa95f276fddd",
   "metadata": {},
   "source": [
    "Looks like a slight dropoff after four components."
   ]
  },
  {
   "cell_type": "code",
   "execution_count": 19,
   "id": "feda9a2e-fc28-434a-9810-93316db4e9b5",
   "metadata": {},
   "outputs": [],
   "source": [
    "# PCA_components_df = pd.DataFrame(principalComponents)\n",
    "\n",
    "# plt.scatter(PCA_components_df[0], PCA_components_df[1], alpha=.01, color='black') #Alpha reduced to look for clustering\n",
    "# plt.xlabel('PCA 1')\n",
    "# plt.ylabel('PCA 2')"
   ]
  },
  {
   "cell_type": "markdown",
   "id": "c6c3ba3b-b1f9-4f42-aad2-3e826e7816b3",
   "metadata": {},
   "source": [
    "Roughly three clusters? Hard to reduce alpha much further for clarity."
   ]
  },
  {
   "cell_type": "code",
   "execution_count": 20,
   "id": "d0c77529-bc68-4ced-bbae-fe633c7a191f",
   "metadata": {},
   "outputs": [],
   "source": [
    "# ks = range(1, 10)\n",
    "# inertias = []\n",
    "# for k in ks:\n",
    "#     # Create a KMeans instance with k clusters: model\n",
    "#     model = KMeans(n_clusters=k)\n",
    "    \n",
    "#     # Fit model to samples\n",
    "#     model.fit(PCA_components_df.iloc[:,:3])\n",
    "    \n",
    "#     # Append the inertia to the list of inertias\n",
    "#     inertias.append(model.inertia_)\n",
    "    \n",
    "# plt.plot(ks, inertias, '-o', color='black')\n",
    "# plt.xlabel('number of clusters, k')\n",
    "# plt.ylabel('inertia')\n",
    "# plt.xticks(ks)\n",
    "# plt.show()"
   ]
  },
  {
   "cell_type": "markdown",
   "id": "4ea604fc-f7db-49e1-ba8e-828eed8a4398",
   "metadata": {},
   "source": [
    "Slight elbow after 3 clusters."
   ]
  },
  {
   "cell_type": "markdown",
   "id": "0058b6ae-baf9-440a-8100-d7a7d64b4687",
   "metadata": {},
   "source": [
    "## Completion Rates by..."
   ]
  },
  {
   "cell_type": "markdown",
   "id": "4cdbbfe3-c3d0-4307-9fe5-138bad6d90df",
   "metadata": {},
   "source": [
    "### State"
   ]
  },
  {
   "cell_type": "code",
   "execution_count": 70,
   "id": "013a2d72-2d36-4e9e-a8ce-24177906facf",
   "metadata": {},
   "outputs": [],
   "source": [
    "df2 = df.copy()\n",
    "completion_df = df2.groupby(['STFIPS','REASON']).size().reset_index()"
   ]
  },
  {
   "cell_type": "code",
   "execution_count": 72,
   "id": "3af7d8b5-7307-4546-b336-a2656d9c7104",
   "metadata": {},
   "outputs": [],
   "source": [
    "completion_df = completion_df.rename(columns={0:'COUNT'})"
   ]
  },
  {
   "cell_type": "code",
   "execution_count": 105,
   "id": "4adc0c28-6d57-4f21-a626-9589077eb9e4",
   "metadata": {},
   "outputs": [],
   "source": [
    "completion_df['PERC'] = 100 * completion_df['COUNT'] / completion_df.groupby(['STFIPS'])['COUNT'].transform('sum')"
   ]
  },
  {
   "cell_type": "code",
   "execution_count": 140,
   "id": "c16baa4a-ea33-4599-a1f6-df1437c68858",
   "metadata": {},
   "outputs": [
    {
     "data": {
      "text/html": [
       "\n",
       "<div id=\"altair-viz-f04bddfc90804fd8a728949b913ca736\"></div>\n",
       "<script type=\"text/javascript\">\n",
       "  var VEGA_DEBUG = (typeof VEGA_DEBUG == \"undefined\") ? {} : VEGA_DEBUG;\n",
       "  (function(spec, embedOpt){\n",
       "    let outputDiv = document.currentScript.previousElementSibling;\n",
       "    if (outputDiv.id !== \"altair-viz-f04bddfc90804fd8a728949b913ca736\") {\n",
       "      outputDiv = document.getElementById(\"altair-viz-f04bddfc90804fd8a728949b913ca736\");\n",
       "    }\n",
       "    const paths = {\n",
       "      \"vega\": \"https://cdn.jsdelivr.net/npm//vega@5?noext\",\n",
       "      \"vega-lib\": \"https://cdn.jsdelivr.net/npm//vega-lib?noext\",\n",
       "      \"vega-lite\": \"https://cdn.jsdelivr.net/npm//vega-lite@4.17.0?noext\",\n",
       "      \"vega-embed\": \"https://cdn.jsdelivr.net/npm//vega-embed@6?noext\",\n",
       "    };\n",
       "\n",
       "    function maybeLoadScript(lib, version) {\n",
       "      var key = `${lib.replace(\"-\", \"\")}_version`;\n",
       "      return (VEGA_DEBUG[key] == version) ?\n",
       "        Promise.resolve(paths[lib]) :\n",
       "        new Promise(function(resolve, reject) {\n",
       "          var s = document.createElement('script');\n",
       "          document.getElementsByTagName(\"head\")[0].appendChild(s);\n",
       "          s.async = true;\n",
       "          s.onload = () => {\n",
       "            VEGA_DEBUG[key] = version;\n",
       "            return resolve(paths[lib]);\n",
       "          };\n",
       "          s.onerror = () => reject(`Error loading script: ${paths[lib]}`);\n",
       "          s.src = paths[lib];\n",
       "        });\n",
       "    }\n",
       "\n",
       "    function showError(err) {\n",
       "      outputDiv.innerHTML = `<div class=\"error\" style=\"color:red;\">${err}</div>`;\n",
       "      throw err;\n",
       "    }\n",
       "\n",
       "    function displayChart(vegaEmbed) {\n",
       "      vegaEmbed(outputDiv, spec, embedOpt)\n",
       "        .catch(err => showError(`Javascript Error: ${err.message}<br>This usually means there's a typo in your chart specification. See the javascript console for the full traceback.`));\n",
       "    }\n",
       "\n",
       "    if(typeof define === \"function\" && define.amd) {\n",
       "      requirejs.config({paths});\n",
       "      require([\"vega-embed\"], displayChart, err => showError(`Error loading script: ${err.message}`));\n",
       "    } else {\n",
       "      maybeLoadScript(\"vega\", \"5\")\n",
       "        .then(() => maybeLoadScript(\"vega-lite\", \"4.17.0\"))\n",
       "        .then(() => maybeLoadScript(\"vega-embed\", \"6\"))\n",
       "        .catch(showError)\n",
       "        .then(() => displayChart(vegaEmbed));\n",
       "    }\n",
       "  })({\"config\": {\"view\": {\"continuousWidth\": 400, \"continuousHeight\": 300}}, \"data\": {\"name\": \"data-231732a8aa8847f8dbd5296a64f951e3\"}, \"mark\": \"bar\", \"encoding\": {\"color\": {\"field\": \"REASON\", \"type\": \"nominal\"}, \"x\": {\"field\": \"STFIPS\", \"type\": \"nominal\"}, \"y\": {\"field\": \"PERC\", \"type\": \"quantitative\"}}, \"$schema\": \"https://vega.github.io/schema/vega-lite/v4.17.0.json\", \"datasets\": {\"data-231732a8aa8847f8dbd5296a64f951e3\": [{\"STFIPS\": 1, \"REASON\": 1, \"COUNT\": 4229, \"%\": 33.913392141138736, \"PERC\": 33.913392141138736}, {\"STFIPS\": 1, \"REASON\": 2, \"COUNT\": 4337, \"%\": 34.7794707297514, \"PERC\": 34.7794707297514}, {\"STFIPS\": 1, \"REASON\": 3, \"COUNT\": 989, \"%\": 7.931034482758621, \"PERC\": 7.931034482758621}, {\"STFIPS\": 1, \"REASON\": 4, \"COUNT\": 1636, \"%\": 13.119486768243785, \"PERC\": 13.119486768243785}, {\"STFIPS\": 1, \"REASON\": 5, \"COUNT\": 262, \"%\": 2.1010425020048116, \"PERC\": 2.1010425020048116}, {\"STFIPS\": 1, \"REASON\": 6, \"COUNT\": 26, \"%\": 0.20850040096230954, \"PERC\": 0.20850040096230954}, {\"STFIPS\": 1, \"REASON\": 7, \"COUNT\": 991, \"%\": 7.947072975140337, \"PERC\": 7.947072975140337}, {\"STFIPS\": 2, \"REASON\": 1, \"COUNT\": 2945, \"%\": 38.346354166666664, \"PERC\": 38.346354166666664}, {\"STFIPS\": 2, \"REASON\": 2, \"COUNT\": 1387, \"%\": 18.059895833333332, \"PERC\": 18.059895833333332}, {\"STFIPS\": 2, \"REASON\": 3, \"COUNT\": 1470, \"%\": 19.140625, \"PERC\": 19.140625}, {\"STFIPS\": 2, \"REASON\": 4, \"COUNT\": 918, \"%\": 11.953125, \"PERC\": 11.953125}, {\"STFIPS\": 2, \"REASON\": 5, \"COUNT\": 170, \"%\": 2.2135416666666665, \"PERC\": 2.2135416666666665}, {\"STFIPS\": 2, \"REASON\": 6, \"COUNT\": 24, \"%\": 0.3125, \"PERC\": 0.3125}, {\"STFIPS\": 2, \"REASON\": 7, \"COUNT\": 766, \"%\": 9.973958333333334, \"PERC\": 9.973958333333334}, {\"STFIPS\": 4, \"REASON\": 1, \"COUNT\": 132545, \"%\": 99.3181222134802, \"PERC\": 99.3181222134802}, {\"STFIPS\": 4, \"REASON\": 2, \"COUNT\": 72, \"%\": 0.05395076992244577, \"PERC\": 0.05395076992244577}, {\"STFIPS\": 4, \"REASON\": 3, \"COUNT\": 20, \"%\": 0.014986324978457158, \"PERC\": 0.014986324978457158}, {\"STFIPS\": 4, \"REASON\": 4, \"COUNT\": 38, \"%\": 0.0284740174590686, \"PERC\": 0.0284740174590686}, {\"STFIPS\": 4, \"REASON\": 5, \"COUNT\": 674, \"%\": 0.5050391517740063, \"PERC\": 0.5050391517740063}, {\"STFIPS\": 4, \"REASON\": 6, \"COUNT\": 69, \"%\": 0.0517028211756772, \"PERC\": 0.0517028211756772}, {\"STFIPS\": 4, \"REASON\": 7, \"COUNT\": 37, \"%\": 0.027724701210145742, \"PERC\": 0.027724701210145742}, {\"STFIPS\": 5, \"REASON\": 1, \"COUNT\": 7200, \"%\": 59.28853754940712, \"PERC\": 59.28853754940712}, {\"STFIPS\": 5, \"REASON\": 2, \"COUNT\": 2472, \"%\": 20.35573122529644, \"PERC\": 20.35573122529644}, {\"STFIPS\": 5, \"REASON\": 3, \"COUNT\": 845, \"%\": 6.958168642951252, \"PERC\": 6.958168642951252}, {\"STFIPS\": 5, \"REASON\": 4, \"COUNT\": 1495, \"%\": 12.31060606060606, \"PERC\": 12.31060606060606}, {\"STFIPS\": 5, \"REASON\": 5, \"COUNT\": 123, \"%\": 1.0128458498023716, \"PERC\": 1.0128458498023716}, {\"STFIPS\": 5, \"REASON\": 6, \"COUNT\": 5, \"%\": 0.04117259552042161, \"PERC\": 0.04117259552042161}, {\"STFIPS\": 5, \"REASON\": 7, \"COUNT\": 4, \"%\": 0.03293807641633729, \"PERC\": 0.03293807641633729}, {\"STFIPS\": 6, \"REASON\": 1, \"COUNT\": 30858, \"%\": 23.198538532668756, \"PERC\": 23.198538532668756}, {\"STFIPS\": 6, \"REASON\": 2, \"COUNT\": 65143, \"%\": 48.97343948517859, \"PERC\": 48.97343948517859}, {\"STFIPS\": 6, \"REASON\": 3, \"COUNT\": 40, \"%\": 0.030071344264266973, \"PERC\": 0.030071344264266973}, {\"STFIPS\": 6, \"REASON\": 4, \"COUNT\": 34873, \"%\": 26.216949713194555, \"PERC\": 26.216949713194555}, {\"STFIPS\": 6, \"REASON\": 5, \"COUNT\": 1657, \"%\": 1.2457054361472595, \"PERC\": 1.2457054361472595}, {\"STFIPS\": 6, \"REASON\": 6, \"COUNT\": 394, \"%\": 0.2962027410030297, \"PERC\": 0.2962027410030297}, {\"STFIPS\": 6, \"REASON\": 7, \"COUNT\": 52, \"%\": 0.039092747543547066, \"PERC\": 0.039092747543547066}, {\"STFIPS\": 8, \"REASON\": 1, \"COUNT\": 40919, \"%\": 75.28240791846046, \"PERC\": 75.28240791846046}, {\"STFIPS\": 8, \"REASON\": 2, \"COUNT\": 6072, \"%\": 11.17121095043603, \"PERC\": 11.17121095043603}, {\"STFIPS\": 8, \"REASON\": 3, \"COUNT\": 1988, \"%\": 3.6575045074879493, \"PERC\": 3.6575045074879493}, {\"STFIPS\": 8, \"REASON\": 4, \"COUNT\": 4253, \"%\": 7.8246311219045515, \"PERC\": 7.8246311219045515}, {\"STFIPS\": 8, \"REASON\": 5, \"COUNT\": 503, \"%\": 0.9254148728704419, \"PERC\": 0.9254148728704419}, {\"STFIPS\": 8, \"REASON\": 6, \"COUNT\": 45, \"%\": 0.08279059498840932, \"PERC\": 0.08279059498840932}, {\"STFIPS\": 8, \"REASON\": 7, \"COUNT\": 574, \"%\": 1.0560400338521545, \"PERC\": 1.0560400338521545}, {\"STFIPS\": 9, \"REASON\": 1, \"COUNT\": 26808, \"%\": 42.93401665598975, \"PERC\": 42.93401665598975}, {\"STFIPS\": 9, \"REASON\": 2, \"COUNT\": 12694, \"%\": 20.329916720051248, \"PERC\": 20.329916720051248}, {\"STFIPS\": 9, \"REASON\": 3, \"COUNT\": 2331, \"%\": 3.733183856502242, \"PERC\": 3.733183856502242}, {\"STFIPS\": 9, \"REASON\": 4, \"COUNT\": 12413, \"%\": 19.87988468930173, \"PERC\": 19.87988468930173}, {\"STFIPS\": 9, \"REASON\": 5, \"COUNT\": 944, \"%\": 1.5118513773222293, \"PERC\": 1.5118513773222293}, {\"STFIPS\": 9, \"REASON\": 6, \"COUNT\": 190, \"%\": 0.3042921204356182, \"PERC\": 0.3042921204356182}, {\"STFIPS\": 9, \"REASON\": 7, \"COUNT\": 7060, \"%\": 11.30685458039718, \"PERC\": 11.30685458039718}, {\"STFIPS\": 10, \"REASON\": 1, \"COUNT\": 2826, \"%\": 37.013752455795675, \"PERC\": 37.013752455795675}, {\"STFIPS\": 10, \"REASON\": 2, \"COUNT\": 1045, \"%\": 13.686967910936477, \"PERC\": 13.686967910936477}, {\"STFIPS\": 10, \"REASON\": 3, \"COUNT\": 2263, \"%\": 29.639816633922724, \"PERC\": 29.639816633922724}, {\"STFIPS\": 10, \"REASON\": 4, \"COUNT\": 1064, \"%\": 13.935821872953504, \"PERC\": 13.935821872953504}, {\"STFIPS\": 10, \"REASON\": 5, \"COUNT\": 204, \"%\": 2.6719056974459723, \"PERC\": 2.6719056974459723}, {\"STFIPS\": 10, \"REASON\": 6, \"COUNT\": 41, \"%\": 0.5370006548788474, \"PERC\": 0.5370006548788474}, {\"STFIPS\": 10, \"REASON\": 7, \"COUNT\": 192, \"%\": 2.5147347740667976, \"PERC\": 2.5147347740667976}, {\"STFIPS\": 11, \"REASON\": 1, \"COUNT\": 2236, \"%\": 51.42594296228151, \"PERC\": 51.42594296228151}, {\"STFIPS\": 11, \"REASON\": 2, \"COUNT\": 12, \"%\": 0.27598896044158233, \"PERC\": 0.27598896044158233}, {\"STFIPS\": 11, \"REASON\": 3, \"COUNT\": 240, \"%\": 5.519779208831647, \"PERC\": 5.519779208831647}, {\"STFIPS\": 11, \"REASON\": 4, \"COUNT\": 411, \"%\": 9.452621895124196, \"PERC\": 9.452621895124196}, {\"STFIPS\": 11, \"REASON\": 5, \"COUNT\": 20, \"%\": 0.45998160073597055, \"PERC\": 0.45998160073597055}, {\"STFIPS\": 11, \"REASON\": 6, \"COUNT\": 16, \"%\": 0.36798528058877644, \"PERC\": 0.36798528058877644}, {\"STFIPS\": 11, \"REASON\": 7, \"COUNT\": 1413, \"%\": 32.49770009199632, \"PERC\": 32.49770009199632}, {\"STFIPS\": 12, \"REASON\": 1, \"COUNT\": 13475, \"%\": 44.90768512964074, \"PERC\": 44.90768512964074}, {\"STFIPS\": 12, \"REASON\": 2, \"COUNT\": 4791, \"%\": 15.966806638672265, \"PERC\": 15.966806638672265}, {\"STFIPS\": 12, \"REASON\": 3, \"COUNT\": 580, \"%\": 1.9329467439845365, \"PERC\": 1.9329467439845365}, {\"STFIPS\": 12, \"REASON\": 4, \"COUNT\": 2387, \"%\": 7.955075651536359, \"PERC\": 7.955075651536359}, {\"STFIPS\": 12, \"REASON\": 5, \"COUNT\": 358, \"%\": 1.1930947143904553, \"PERC\": 1.1930947143904553}, {\"STFIPS\": 12, \"REASON\": 6, \"COUNT\": 33, \"%\": 0.10997800439912017, \"PERC\": 0.10997800439912017}, {\"STFIPS\": 12, \"REASON\": 7, \"COUNT\": 8382, \"%\": 27.934413117376526, \"PERC\": 27.934413117376526}, {\"STFIPS\": 13, \"REASON\": 1, \"COUNT\": 7231, \"%\": 17.973255120302248, \"PERC\": 17.973255120302248}, {\"STFIPS\": 13, \"REASON\": 2, \"COUNT\": 28311, \"%\": 70.36935772519388, \"PERC\": 70.36935772519388}, {\"STFIPS\": 13, \"REASON\": 3, \"COUNT\": 2341, \"%\": 5.818751242791808, \"PERC\": 5.818751242791808}, {\"STFIPS\": 13, \"REASON\": 4, \"COUNT\": 717, \"%\": 1.7821634519785245, \"PERC\": 1.7821634519785245}, {\"STFIPS\": 13, \"REASON\": 5, \"COUNT\": 277, \"%\": 0.6885066613640883, \"PERC\": 0.6885066613640883}, {\"STFIPS\": 13, \"REASON\": 6, \"COUNT\": 63, \"%\": 0.156591767747067, \"PERC\": 0.156591767747067}, {\"STFIPS\": 13, \"REASON\": 7, \"COUNT\": 1292, \"%\": 3.21137403062239, \"PERC\": 3.21137403062239}, {\"STFIPS\": 15, \"REASON\": 1, \"COUNT\": 2232, \"%\": 27.262733602052034, \"PERC\": 27.262733602052034}, {\"STFIPS\": 15, \"REASON\": 2, \"COUNT\": 1319, \"%\": 16.110907536338097, \"PERC\": 16.110907536338097}, {\"STFIPS\": 15, \"REASON\": 3, \"COUNT\": 922, \"%\": 11.261756443141566, \"PERC\": 11.261756443141566}, {\"STFIPS\": 15, \"REASON\": 4, \"COUNT\": 3602, \"%\": 43.996579943813366, \"PERC\": 43.996579943813366}, {\"STFIPS\": 15, \"REASON\": 5, \"COUNT\": 47, \"%\": 0.5740808598998413, \"PERC\": 0.5740808598998413}, {\"STFIPS\": 15, \"REASON\": 6, \"COUNT\": 4, \"%\": 0.04885794552339074, \"PERC\": 0.04885794552339074}, {\"STFIPS\": 15, \"REASON\": 7, \"COUNT\": 61, \"%\": 0.7450836692317088, \"PERC\": 0.7450836692317088}, {\"STFIPS\": 16, \"REASON\": 1, \"COUNT\": 2899, \"%\": 38.23025187920348, \"PERC\": 38.23025187920348}, {\"STFIPS\": 16, \"REASON\": 2, \"COUNT\": 2050, \"%\": 27.0341553474878, \"PERC\": 27.0341553474878}, {\"STFIPS\": 16, \"REASON\": 4, \"COUNT\": 1244, \"%\": 16.405116708426743, \"PERC\": 16.405116708426743}, {\"STFIPS\": 16, \"REASON\": 5, \"COUNT\": 597, \"%\": 7.872873532902545, \"PERC\": 7.872873532902545}, {\"STFIPS\": 16, \"REASON\": 6, \"COUNT\": 18, \"%\": 0.23737307134379534, \"PERC\": 0.23737307134379534}, {\"STFIPS\": 16, \"REASON\": 7, \"COUNT\": 775, \"%\": 10.220229460635633, \"PERC\": 10.220229460635633}, {\"STFIPS\": 17, \"REASON\": 1, \"COUNT\": 11161, \"%\": 28.062455999195414, \"PERC\": 28.062455999195414}, {\"STFIPS\": 17, \"REASON\": 2, \"COUNT\": 9822, \"%\": 24.695765865432968, \"PERC\": 24.695765865432968}, {\"STFIPS\": 17, \"REASON\": 3, \"COUNT\": 3672, \"%\": 9.2326259680177, \"PERC\": 9.2326259680177}, {\"STFIPS\": 17, \"REASON\": 4, \"COUNT\": 14641, \"%\": 36.81233028261088, \"PERC\": 36.81233028261088}, {\"STFIPS\": 17, \"REASON\": 5, \"COUNT\": 423, \"%\": 1.063562305139294, \"PERC\": 1.063562305139294}, {\"STFIPS\": 17, \"REASON\": 6, \"COUNT\": 37, \"%\": 0.09303027255355527, \"PERC\": 0.09303027255355527}, {\"STFIPS\": 17, \"REASON\": 7, \"COUNT\": 16, \"%\": 0.04022930705018606, \"PERC\": 0.04022930705018606}, {\"STFIPS\": 18, \"REASON\": 1, \"COUNT\": 3343, \"%\": 22.245142400851744, \"PERC\": 22.245142400851744}, {\"STFIPS\": 18, \"REASON\": 2, \"COUNT\": 6582, \"%\": 43.79824327921214, \"PERC\": 43.79824327921214}, {\"STFIPS\": 18, \"REASON\": 3, \"COUNT\": 3043, \"%\": 20.248868778280542, \"PERC\": 20.248868778280542}, {\"STFIPS\": 18, \"REASON\": 4, \"COUNT\": 1334, \"%\": 8.87676337503327, \"PERC\": 8.87676337503327}, {\"STFIPS\": 18, \"REASON\": 5, \"COUNT\": 485, \"%\": 3.227309023156774, \"PERC\": 3.227309023156774}, {\"STFIPS\": 18, \"REASON\": 6, \"COUNT\": 48, \"%\": 0.31940377961139205, \"PERC\": 0.31940377961139205}, {\"STFIPS\": 18, \"REASON\": 7, \"COUNT\": 193, \"%\": 1.284269363854139, \"PERC\": 1.284269363854139}, {\"STFIPS\": 19, \"REASON\": 1, \"COUNT\": 9876, \"%\": 42.65906440326552, \"PERC\": 42.65906440326552}, {\"STFIPS\": 19, \"REASON\": 2, \"COUNT\": 7983, \"%\": 34.482311779188805, \"PERC\": 34.482311779188805}, {\"STFIPS\": 19, \"REASON\": 3, \"COUNT\": 1916, \"%\": 8.276100384432638, \"PERC\": 8.276100384432638}, {\"STFIPS\": 19, \"REASON\": 4, \"COUNT\": 1586, \"%\": 6.850675996717205, \"PERC\": 6.850675996717205}, {\"STFIPS\": 19, \"REASON\": 5, \"COUNT\": 812, \"%\": 3.5074078873482786, \"PERC\": 3.5074078873482786}, {\"STFIPS\": 19, \"REASON\": 6, \"COUNT\": 41, \"%\": 0.1770981815040387, \"PERC\": 0.1770981815040387}, {\"STFIPS\": 19, \"REASON\": 7, \"COUNT\": 937, \"%\": 4.047341367543519, \"PERC\": 4.047341367543519}, {\"STFIPS\": 20, \"REASON\": 1, \"COUNT\": 1965, \"%\": 49.69650986342944, \"PERC\": 49.69650986342944}, {\"STFIPS\": 20, \"REASON\": 2, \"COUNT\": 1192, \"%\": 30.146686899342438, \"PERC\": 30.146686899342438}, {\"STFIPS\": 20, \"REASON\": 3, \"COUNT\": 180, \"%\": 4.552352048558422, \"PERC\": 4.552352048558422}, {\"STFIPS\": 20, \"REASON\": 4, \"COUNT\": 384, \"%\": 9.711684370257966, \"PERC\": 9.711684370257966}, {\"STFIPS\": 20, \"REASON\": 5, \"COUNT\": 138, \"%\": 3.490136570561457, \"PERC\": 3.490136570561457}, {\"STFIPS\": 20, \"REASON\": 6, \"COUNT\": 3, \"%\": 0.07587253414264036, \"PERC\": 0.07587253414264036}, {\"STFIPS\": 20, \"REASON\": 7, \"COUNT\": 92, \"%\": 2.3267577137076376, \"PERC\": 2.3267577137076376}, {\"STFIPS\": 21, \"REASON\": 1, \"COUNT\": 4411, \"%\": 6.664249346568161, \"PERC\": 6.664249346568161}, {\"STFIPS\": 21, \"REASON\": 2, \"COUNT\": 2189, \"%\": 3.3071960597682395, \"PERC\": 3.3071960597682395}, {\"STFIPS\": 21, \"REASON\": 3, \"COUNT\": 1224, \"%\": 1.8492498753569324, \"PERC\": 1.8492498753569324}, {\"STFIPS\": 21, \"REASON\": 4, \"COUNT\": 56226, \"%\": 84.94764991161674, \"PERC\": 84.94764991161674}, {\"STFIPS\": 21, \"REASON\": 5, \"COUNT\": 190, \"%\": 0.28705676169756306, \"PERC\": 0.28705676169756306}, {\"STFIPS\": 21, \"REASON\": 6, \"COUNT\": 22, \"%\": 0.03323815135445467, \"PERC\": 0.03323815135445467}, {\"STFIPS\": 21, \"REASON\": 7, \"COUNT\": 1927, \"%\": 2.9113598936379157, \"PERC\": 2.9113598936379157}, {\"STFIPS\": 22, \"REASON\": 1, \"COUNT\": 1979, \"%\": 13.944475760992109, \"PERC\": 13.944475760992109}, {\"STFIPS\": 22, \"REASON\": 2, \"COUNT\": 10100, \"%\": 71.16685456595265, \"PERC\": 71.16685456595265}, {\"STFIPS\": 22, \"REASON\": 3, \"COUNT\": 9, \"%\": 0.06341600901916573, \"PERC\": 0.06341600901916573}, {\"STFIPS\": 22, \"REASON\": 4, \"COUNT\": 2002, \"%\": 14.106538895152198, \"PERC\": 14.106538895152198}, {\"STFIPS\": 22, \"REASON\": 5, \"COUNT\": 10, \"%\": 0.07046223224351747, \"PERC\": 0.07046223224351747}, {\"STFIPS\": 22, \"REASON\": 6, \"COUNT\": 8, \"%\": 0.05636978579481398, \"PERC\": 0.05636978579481398}, {\"STFIPS\": 22, \"REASON\": 7, \"COUNT\": 84, \"%\": 0.5918827508455468, \"PERC\": 0.5918827508455468}, {\"STFIPS\": 23, \"REASON\": 1, \"COUNT\": 2951, \"%\": 43.01749271137026, \"PERC\": 43.01749271137026}, {\"STFIPS\": 23, \"REASON\": 2, \"COUNT\": 1979, \"%\": 28.848396501457724, \"PERC\": 28.848396501457724}, {\"STFIPS\": 23, \"REASON\": 3, \"COUNT\": 738, \"%\": 10.758017492711371, \"PERC\": 10.758017492711371}, {\"STFIPS\": 23, \"REASON\": 4, \"COUNT\": 563, \"%\": 8.206997084548105, \"PERC\": 8.206997084548105}, {\"STFIPS\": 23, \"REASON\": 5, \"COUNT\": 182, \"%\": 2.6530612244897958, \"PERC\": 2.6530612244897958}, {\"STFIPS\": 23, \"REASON\": 6, \"COUNT\": 42, \"%\": 0.6122448979591837, \"PERC\": 0.6122448979591837}, {\"STFIPS\": 23, \"REASON\": 7, \"COUNT\": 405, \"%\": 5.903790087463557, \"PERC\": 5.903790087463557}, {\"STFIPS\": 24, \"REASON\": 1, \"COUNT\": 3332, \"%\": 11.053976047506884, \"PERC\": 11.053976047506884}, {\"STFIPS\": 24, \"REASON\": 2, \"COUNT\": 10022, \"%\": 33.24818365789736, \"PERC\": 33.24818365789736}, {\"STFIPS\": 24, \"REASON\": 3, \"COUNT\": 3796, \"%\": 12.593305244998838, \"PERC\": 12.593305244998838}, {\"STFIPS\": 24, \"REASON\": 4, \"COUNT\": 12111, \"%\": 40.17848256643333, \"PERC\": 40.17848256643333}, {\"STFIPS\": 24, \"REASON\": 5, \"COUNT\": 690, \"%\": 2.289088677304847, \"PERC\": 2.289088677304847}, {\"STFIPS\": 24, \"REASON\": 6, \"COUNT\": 176, \"%\": 0.583883488703845, \"PERC\": 0.583883488703845}, {\"STFIPS\": 24, \"REASON\": 7, \"COUNT\": 16, \"%\": 0.053080317154895, \"PERC\": 0.053080317154895}, {\"STFIPS\": 25, \"REASON\": 1, \"COUNT\": 34441, \"%\": 50.86545561955398, \"PERC\": 50.86545561955398}, {\"STFIPS\": 25, \"REASON\": 2, \"COUNT\": 23958, \"%\": 35.38325210456358, \"PERC\": 35.38325210456358}, {\"STFIPS\": 25, \"REASON\": 3, \"COUNT\": 3791, \"%\": 5.598877566090681, \"PERC\": 5.598877566090681}, {\"STFIPS\": 25, \"REASON\": 4, \"COUNT\": 2257, \"%\": 3.3333333333333335, \"PERC\": 3.3333333333333335}, {\"STFIPS\": 25, \"REASON\": 5, \"COUNT\": 364, \"%\": 0.5375867670949638, \"PERC\": 0.5375867670949638}, {\"STFIPS\": 25, \"REASON\": 6, \"COUNT\": 143, \"%\": 0.21119480135873578, \"PERC\": 0.21119480135873578}, {\"STFIPS\": 25, \"REASON\": 7, \"COUNT\": 2756, \"%\": 4.070299808004726, \"PERC\": 4.070299808004726}, {\"STFIPS\": 26, \"REASON\": 1, \"COUNT\": 17180, \"%\": 23.82537305153381, \"PERC\": 23.82537305153381}, {\"STFIPS\": 26, \"REASON\": 2, \"COUNT\": 25668, \"%\": 35.59660509236146, \"PERC\": 35.59660509236146}, {\"STFIPS\": 26, \"REASON\": 3, \"COUNT\": 3491, \"%\": 4.841349087479891, \"PERC\": 4.841349087479891}, {\"STFIPS\": 26, \"REASON\": 4, \"COUNT\": 19837, \"%\": 27.51012370333389, \"PERC\": 27.51012370333389}, {\"STFIPS\": 26, \"REASON\": 5, \"COUNT\": 1735, \"%\": 2.4061130526432573, \"PERC\": 2.4061130526432573}, {\"STFIPS\": 26, \"REASON\": 6, \"COUNT\": 193, \"%\": 0.2676540744438897, \"PERC\": 0.2676540744438897}, {\"STFIPS\": 26, \"REASON\": 7, \"COUNT\": 4004, \"%\": 5.552781938203806, \"PERC\": 5.552781938203806}, {\"STFIPS\": 27, \"REASON\": 1, \"COUNT\": 26041, \"%\": 50.431869238515766, \"PERC\": 50.431869238515766}, {\"STFIPS\": 27, \"REASON\": 2, \"COUNT\": 14361, \"%\": 27.8119916337439, \"PERC\": 27.8119916337439}, {\"STFIPS\": 27, \"REASON\": 3, \"COUNT\": 3348, \"%\": 6.483848477806181, \"PERC\": 6.483848477806181}, {\"STFIPS\": 27, \"REASON\": 4, \"COUNT\": 4064, \"%\": 7.870477961112402, \"PERC\": 7.870477961112402}, {\"STFIPS\": 27, \"REASON\": 5, \"COUNT\": 854, \"%\": 1.6538848865132854, \"PERC\": 1.6538848865132854}, {\"STFIPS\": 27, \"REASON\": 6, \"COUNT\": 72, \"%\": 0.13943760167325123, \"PERC\": 0.13943760167325123}, {\"STFIPS\": 27, \"REASON\": 7, \"COUNT\": 2896, \"%\": 5.608490200635216, \"PERC\": 5.608490200635216}, {\"STFIPS\": 28, \"REASON\": 1, \"COUNT\": 1240, \"%\": 27.77777777777778, \"PERC\": 27.77777777777778}, {\"STFIPS\": 28, \"REASON\": 2, \"COUNT\": 1696, \"%\": 37.992831541218635, \"PERC\": 37.992831541218635}, {\"STFIPS\": 28, \"REASON\": 3, \"COUNT\": 156, \"%\": 3.4946236559139785, \"PERC\": 3.4946236559139785}, {\"STFIPS\": 28, \"REASON\": 4, \"COUNT\": 1305, \"%\": 29.233870967741936, \"PERC\": 29.233870967741936}, {\"STFIPS\": 28, \"REASON\": 5, \"COUNT\": 2, \"%\": 0.044802867383512544, \"PERC\": 0.044802867383512544}, {\"STFIPS\": 28, \"REASON\": 7, \"COUNT\": 65, \"%\": 1.4560931899641576, \"PERC\": 1.4560931899641576}, {\"STFIPS\": 29, \"REASON\": 1, \"COUNT\": 10280, \"%\": 21.75293072072453, \"PERC\": 21.75293072072453}, {\"STFIPS\": 29, \"REASON\": 2, \"COUNT\": 13678, \"%\": 28.94324770409243, \"PERC\": 28.94324770409243}, {\"STFIPS\": 29, \"REASON\": 3, \"COUNT\": 3258, \"%\": 6.894070845147912, \"PERC\": 6.894070845147912}, {\"STFIPS\": 29, \"REASON\": 4, \"COUNT\": 18511, \"%\": 39.17008760421516, \"PERC\": 39.17008760421516}, {\"STFIPS\": 29, \"REASON\": 5, \"COUNT\": 655, \"%\": 1.386008718100639, \"PERC\": 1.386008718100639}, {\"STFIPS\": 29, \"REASON\": 6, \"COUNT\": 189, \"%\": 0.39993228659697827, \"PERC\": 0.39993228659697827}, {\"STFIPS\": 29, \"REASON\": 7, \"COUNT\": 687, \"%\": 1.4537221211223497, \"PERC\": 1.4537221211223497}, {\"STFIPS\": 30, \"REASON\": 1, \"COUNT\": 521, \"%\": 45.74187884108868, \"PERC\": 45.74187884108868}, {\"STFIPS\": 30, \"REASON\": 2, \"COUNT\": 345, \"%\": 30.28972783143108, \"PERC\": 30.28972783143108}, {\"STFIPS\": 30, \"REASON\": 3, \"COUNT\": 19, \"%\": 1.6681299385425812, \"PERC\": 1.6681299385425812}, {\"STFIPS\": 30, \"REASON\": 4, \"COUNT\": 221, \"%\": 19.402985074626866, \"PERC\": 19.402985074626866}, {\"STFIPS\": 30, \"REASON\": 7, \"COUNT\": 33, \"%\": 2.8972783143107987, \"PERC\": 2.8972783143107987}, {\"STFIPS\": 31, \"REASON\": 1, \"COUNT\": 5921, \"%\": 61.319386909693456, \"PERC\": 61.319386909693456}, {\"STFIPS\": 31, \"REASON\": 2, \"COUNT\": 1581, \"%\": 16.37323943661972, \"PERC\": 16.37323943661972}, {\"STFIPS\": 31, \"REASON\": 3, \"COUNT\": 284, \"%\": 2.9411764705882355, \"PERC\": 2.9411764705882355}, {\"STFIPS\": 31, \"REASON\": 4, \"COUNT\": 980, \"%\": 10.149130074565038, \"PERC\": 10.149130074565038}, {\"STFIPS\": 31, \"REASON\": 5, \"COUNT\": 149, \"%\": 1.5430820215410108, \"PERC\": 1.5430820215410108}, {\"STFIPS\": 31, \"REASON\": 6, \"COUNT\": 15, \"%\": 0.15534382767191385, \"PERC\": 0.15534382767191385}, {\"STFIPS\": 31, \"REASON\": 7, \"COUNT\": 726, \"%\": 7.5186412593206295, \"PERC\": 7.5186412593206295}, {\"STFIPS\": 32, \"REASON\": 1, \"COUNT\": 4451, \"%\": 51.438807350052, \"PERC\": 51.438807350052}, {\"STFIPS\": 32, \"REASON\": 2, \"COUNT\": 1987, \"%\": 22.96313417311915, \"PERC\": 22.96313417311915}, {\"STFIPS\": 32, \"REASON\": 3, \"COUNT\": 603, \"%\": 6.968681382179591, \"PERC\": 6.968681382179591}, {\"STFIPS\": 32, \"REASON\": 4, \"COUNT\": 1247, \"%\": 14.411186871605224, \"PERC\": 14.411186871605224}, {\"STFIPS\": 32, \"REASON\": 5, \"COUNT\": 110, \"%\": 1.2712354096845024, \"PERC\": 1.2712354096845024}, {\"STFIPS\": 32, \"REASON\": 6, \"COUNT\": 6, \"%\": 0.06934011325551832, \"PERC\": 0.06934011325551832}, {\"STFIPS\": 32, \"REASON\": 7, \"COUNT\": 249, \"%\": 2.87761470010401, \"PERC\": 2.87761470010401}, {\"STFIPS\": 33, \"REASON\": 1, \"COUNT\": 1015, \"%\": 38.59315589353612, \"PERC\": 38.59315589353612}, {\"STFIPS\": 33, \"REASON\": 2, \"COUNT\": 292, \"%\": 11.102661596958175, \"PERC\": 11.102661596958175}, {\"STFIPS\": 33, \"REASON\": 3, \"COUNT\": 225, \"%\": 8.55513307984791, \"PERC\": 8.55513307984791}, {\"STFIPS\": 33, \"REASON\": 4, \"COUNT\": 409, \"%\": 15.551330798479087, \"PERC\": 15.551330798479087}, {\"STFIPS\": 33, \"REASON\": 5, \"COUNT\": 76, \"%\": 2.8897338403041823, \"PERC\": 2.8897338403041823}, {\"STFIPS\": 33, \"REASON\": 6, \"COUNT\": 3, \"%\": 0.11406844106463879, \"PERC\": 0.11406844106463879}, {\"STFIPS\": 33, \"REASON\": 7, \"COUNT\": 610, \"%\": 23.193916349809886, \"PERC\": 23.193916349809886}, {\"STFIPS\": 34, \"REASON\": 1, \"COUNT\": 50056, \"%\": 57.22386080435329, \"PERC\": 57.22386080435329}, {\"STFIPS\": 34, \"REASON\": 2, \"COUNT\": 23540, \"%\": 26.910853510757484, \"PERC\": 26.910853510757484}, {\"STFIPS\": 34, \"REASON\": 3, \"COUNT\": 3410, \"%\": 3.898301209502252, \"PERC\": 3.898301209502252}, {\"STFIPS\": 34, \"REASON\": 4, \"COUNT\": 864, \"%\": 0.9877220659853213, \"PERC\": 0.9877220659853213}, {\"STFIPS\": 34, \"REASON\": 5, \"COUNT\": 1498, \"%\": 1.712508859775476, \"PERC\": 1.712508859775476}, {\"STFIPS\": 34, \"REASON\": 6, \"COUNT\": 248, \"%\": 0.28351281523652744, \"PERC\": 0.28351281523652744}, {\"STFIPS\": 34, \"REASON\": 7, \"COUNT\": 7858, \"%\": 8.983240734389648, \"PERC\": 8.983240734389648}, {\"STFIPS\": 35, \"REASON\": 1, \"COUNT\": 83, \"%\": 4.30944963655244, \"PERC\": 4.30944963655244}, {\"STFIPS\": 35, \"REASON\": 2, \"COUNT\": 54, \"%\": 2.803738317757009, \"PERC\": 2.803738317757009}, {\"STFIPS\": 35, \"REASON\": 3, \"COUNT\": 16, \"%\": 0.8307372793354102, \"PERC\": 0.8307372793354102}, {\"STFIPS\": 35, \"REASON\": 4, \"COUNT\": 1750, \"%\": 90.86188992731049, \"PERC\": 90.86188992731049}, {\"STFIPS\": 35, \"REASON\": 5, \"COUNT\": 3, \"%\": 0.1557632398753894, \"PERC\": 0.1557632398753894}, {\"STFIPS\": 35, \"REASON\": 6, \"COUNT\": 4, \"%\": 0.20768431983385255, \"PERC\": 0.20768431983385255}, {\"STFIPS\": 35, \"REASON\": 7, \"COUNT\": 16, \"%\": 0.8307372793354102, \"PERC\": 0.8307372793354102}, {\"STFIPS\": 36, \"REASON\": 1, \"COUNT\": 129030, \"%\": 49.83007646559049, \"PERC\": 49.83007646559049}, {\"STFIPS\": 36, \"REASON\": 2, \"COUNT\": 84870, \"%\": 32.77593264849, \"PERC\": 32.77593264849}, {\"STFIPS\": 36, \"REASON\": 3, \"COUNT\": 19957, \"%\": 7.70719085502433, \"PERC\": 7.70719085502433}, {\"STFIPS\": 36, \"REASON\": 4, \"COUNT\": 13531, \"%\": 5.225534872943539, \"PERC\": 5.225534872943539}, {\"STFIPS\": 36, \"REASON\": 5, \"COUNT\": 6454, \"%\": 2.492469297906851, \"PERC\": 2.492469297906851}, {\"STFIPS\": 36, \"REASON\": 6, \"COUNT\": 793, \"%\": 0.306248551788059, \"PERC\": 0.306248551788059}, {\"STFIPS\": 36, \"REASON\": 7, \"COUNT\": 4305, \"%\": 1.662547308256739, \"PERC\": 1.662547308256739}, {\"STFIPS\": 37, \"REASON\": 1, \"COUNT\": 28406, \"%\": 17.211480783562873, \"PERC\": 17.211480783562873}, {\"STFIPS\": 37, \"REASON\": 2, \"COUNT\": 5286, \"%\": 3.202840506298435, \"PERC\": 3.202840506298435}, {\"STFIPS\": 37, \"REASON\": 3, \"COUNT\": 38, \"%\": 0.023024581770590337, \"PERC\": 0.023024581770590337}, {\"STFIPS\": 37, \"REASON\": 4, \"COUNT\": 131173, \"%\": 79.47903854193807, \"PERC\": 79.47903854193807}, {\"STFIPS\": 37, \"REASON\": 5, \"COUNT\": 26, \"%\": 0.01575366121145655, \"PERC\": 0.01575366121145655}, {\"STFIPS\": 37, \"REASON\": 6, \"COUNT\": 20, \"%\": 0.012118200931889651, \"PERC\": 0.012118200931889651}, {\"STFIPS\": 37, \"REASON\": 7, \"COUNT\": 92, \"%\": 0.0557437242866924, \"PERC\": 0.0557437242866924}, {\"STFIPS\": 38, \"REASON\": 1, \"COUNT\": 70, \"%\": 25.454545454545453, \"PERC\": 25.454545454545453}, {\"STFIPS\": 38, \"REASON\": 2, \"COUNT\": 84, \"%\": 30.545454545454547, \"PERC\": 30.545454545454547}, {\"STFIPS\": 38, \"REASON\": 3, \"COUNT\": 7, \"%\": 2.5454545454545454, \"PERC\": 2.5454545454545454}, {\"STFIPS\": 38, \"REASON\": 4, \"COUNT\": 38, \"%\": 13.818181818181818, \"PERC\": 13.818181818181818}, {\"STFIPS\": 38, \"REASON\": 5, \"COUNT\": 3, \"%\": 1.0909090909090908, \"PERC\": 1.0909090909090908}, {\"STFIPS\": 38, \"REASON\": 6, \"COUNT\": 8, \"%\": 2.909090909090909, \"PERC\": 2.909090909090909}, {\"STFIPS\": 38, \"REASON\": 7, \"COUNT\": 65, \"%\": 23.636363636363637, \"PERC\": 23.636363636363637}, {\"STFIPS\": 39, \"REASON\": 1, \"COUNT\": 5090, \"%\": 29.27137845764564, \"PERC\": 29.27137845764564}, {\"STFIPS\": 39, \"REASON\": 2, \"COUNT\": 5099, \"%\": 29.323135315429294, \"PERC\": 29.323135315429294}, {\"STFIPS\": 39, \"REASON\": 3, \"COUNT\": 3466, \"%\": 19.93214100868365, \"PERC\": 19.93214100868365}, {\"STFIPS\": 39, \"REASON\": 4, \"COUNT\": 1449, \"%\": 8.33285410316867, \"PERC\": 8.33285410316867}, {\"STFIPS\": 39, \"REASON\": 5, \"COUNT\": 611, \"%\": 3.5137155673126688, \"PERC\": 3.5137155673126688}, {\"STFIPS\": 39, \"REASON\": 6, \"COUNT\": 81, \"%\": 0.465811720052907, \"PERC\": 0.465811720052907}, {\"STFIPS\": 39, \"REASON\": 7, \"COUNT\": 1593, \"%\": 9.160963827707171, \"PERC\": 9.160963827707171}, {\"STFIPS\": 40, \"REASON\": 1, \"COUNT\": 4391, \"%\": 34.358372456964005, \"PERC\": 34.358372456964005}, {\"STFIPS\": 40, \"REASON\": 2, \"COUNT\": 5754, \"%\": 45.02347417840375, \"PERC\": 45.02347417840375}, {\"STFIPS\": 40, \"REASON\": 3, \"COUNT\": 498, \"%\": 3.896713615023474, \"PERC\": 3.896713615023474}, {\"STFIPS\": 40, \"REASON\": 4, \"COUNT\": 1353, \"%\": 10.586854460093896, \"PERC\": 10.586854460093896}, {\"STFIPS\": 40, \"REASON\": 5, \"COUNT\": 223, \"%\": 1.7449139280125197, \"PERC\": 1.7449139280125197}, {\"STFIPS\": 40, \"REASON\": 6, \"COUNT\": 41, \"%\": 0.3208137715179969, \"PERC\": 0.3208137715179969}, {\"STFIPS\": 40, \"REASON\": 7, \"COUNT\": 520, \"%\": 4.068857589984351, \"PERC\": 4.068857589984351}, {\"STFIPS\": 42, \"REASON\": 1, \"COUNT\": 10129, \"%\": 38.19381598793363, \"PERC\": 38.19381598793363}, {\"STFIPS\": 42, \"REASON\": 2, \"COUNT\": 5848, \"%\": 22.05128205128205, \"PERC\": 22.05128205128205}, {\"STFIPS\": 42, \"REASON\": 3, \"COUNT\": 1551, \"%\": 5.84841628959276, \"PERC\": 5.84841628959276}, {\"STFIPS\": 42, \"REASON\": 4, \"COUNT\": 1265, \"%\": 4.7699849170437405, \"PERC\": 4.7699849170437405}, {\"STFIPS\": 42, \"REASON\": 5, \"COUNT\": 929, \"%\": 3.5030165912518854, \"PERC\": 3.5030165912518854}, {\"STFIPS\": 42, \"REASON\": 6, \"COUNT\": 47, \"%\": 0.17722473604826547, \"PERC\": 0.17722473604826547}, {\"STFIPS\": 42, \"REASON\": 7, \"COUNT\": 6751, \"%\": 25.456259426847662, \"PERC\": 25.456259426847662}, {\"STFIPS\": 44, \"REASON\": 1, \"COUNT\": 3160, \"%\": 29.660221513046743, \"PERC\": 29.660221513046743}, {\"STFIPS\": 44, \"REASON\": 2, \"COUNT\": 2403, \"%\": 22.55490895438333, \"PERC\": 22.55490895438333}, {\"STFIPS\": 44, \"REASON\": 3, \"COUNT\": 1415, \"%\": 13.281396658532007, \"PERC\": 13.281396658532007}, {\"STFIPS\": 44, \"REASON\": 4, \"COUNT\": 3455, \"%\": 32.42913459733433, \"PERC\": 32.42913459733433}, {\"STFIPS\": 44, \"REASON\": 5, \"COUNT\": 164, \"%\": 1.5393279519429321, \"PERC\": 1.5393279519429321}, {\"STFIPS\": 44, \"REASON\": 6, \"COUNT\": 51, \"%\": 0.4786934484700582, \"PERC\": 0.4786934484700582}, {\"STFIPS\": 44, \"REASON\": 7, \"COUNT\": 6, \"%\": 0.056316876290595085, \"PERC\": 0.056316876290595085}, {\"STFIPS\": 45, \"REASON\": 1, \"COUNT\": 15278, \"%\": 46.29556680100603, \"PERC\": 46.29556680100603}, {\"STFIPS\": 45, \"REASON\": 2, \"COUNT\": 13198, \"%\": 39.99272749310627, \"PERC\": 39.99272749310627}, {\"STFIPS\": 45, \"REASON\": 3, \"COUNT\": 1810, \"%\": 5.48468228235508, \"PERC\": 5.48468228235508}, {\"STFIPS\": 45, \"REASON\": 4, \"COUNT\": 1386, \"%\": 4.19987273112936, \"PERC\": 4.19987273112936}, {\"STFIPS\": 45, \"REASON\": 5, \"COUNT\": 438, \"%\": 1.327232508105815, \"PERC\": 1.327232508105815}, {\"STFIPS\": 45, \"REASON\": 6, \"COUNT\": 83, \"%\": 0.2515075300748462, \"PERC\": 0.2515075300748462}, {\"STFIPS\": 45, \"REASON\": 7, \"COUNT\": 808, \"%\": 2.448410654222599, \"PERC\": 2.448410654222599}, {\"STFIPS\": 46, \"REASON\": 1, \"COUNT\": 9979, \"%\": 60.85869366347502, \"PERC\": 60.85869366347502}, {\"STFIPS\": 46, \"REASON\": 2, \"COUNT\": 1842, \"%\": 11.233762273586631, \"PERC\": 11.233762273586631}, {\"STFIPS\": 46, \"REASON\": 3, \"COUNT\": 783, \"%\": 4.775263767762396, \"PERC\": 4.775263767762396}, {\"STFIPS\": 46, \"REASON\": 4, \"COUNT\": 2454, \"%\": 14.966152344941149, \"PERC\": 14.966152344941149}, {\"STFIPS\": 46, \"REASON\": 5, \"COUNT\": 523, \"%\": 3.1896078550954443, \"PERC\": 3.1896078550954443}, {\"STFIPS\": 46, \"REASON\": 6, \"COUNT\": 10, \"%\": 0.06098676587180582, \"PERC\": 0.06098676587180582}, {\"STFIPS\": 46, \"REASON\": 7, \"COUNT\": 806, \"%\": 4.915533329267549, \"PERC\": 4.915533329267549}, {\"STFIPS\": 47, \"REASON\": 1, \"COUNT\": 8722, \"%\": 49.73484632491304, \"PERC\": 49.73484632491304}, {\"STFIPS\": 47, \"REASON\": 2, \"COUNT\": 4976, \"%\": 28.374294349090494, \"PERC\": 28.374294349090494}, {\"STFIPS\": 47, \"REASON\": 3, \"COUNT\": 2839, \"%\": 16.188629754233904, \"PERC\": 16.188629754233904}, {\"STFIPS\": 47, \"REASON\": 4, \"COUNT\": 466, \"%\": 2.6572389804413525, \"PERC\": 2.6572389804413525}, {\"STFIPS\": 47, \"REASON\": 5, \"COUNT\": 225, \"%\": 1.2830016536465758, \"PERC\": 1.2830016536465758}, {\"STFIPS\": 47, \"REASON\": 6, \"COUNT\": 20, \"%\": 0.11404459143525118, \"PERC\": 0.11404459143525118}, {\"STFIPS\": 47, \"REASON\": 7, \"COUNT\": 289, \"%\": 1.6479443462393797, \"PERC\": 1.6479443462393797}, {\"STFIPS\": 48, \"REASON\": 1, \"COUNT\": 18429, \"%\": 53.94590480651016, \"PERC\": 53.94590480651016}, {\"STFIPS\": 48, \"REASON\": 2, \"COUNT\": 5968, \"%\": 17.469703178970786, \"PERC\": 17.469703178970786}, {\"STFIPS\": 48, \"REASON\": 3, \"COUNT\": 5037, \"%\": 14.744452900884022, \"PERC\": 14.744452900884022}, {\"STFIPS\": 48, \"REASON\": 4, \"COUNT\": 1875, \"%\": 5.488554534277853, \"PERC\": 5.488554534277853}, {\"STFIPS\": 48, \"REASON\": 5, \"COUNT\": 8, \"%\": 0.023417832679585505, \"PERC\": 0.023417832679585505}, {\"STFIPS\": 48, \"REASON\": 7, \"COUNT\": 2845, \"%\": 8.327966746677594, \"PERC\": 8.327966746677594}, {\"STFIPS\": 49, \"REASON\": 1, \"COUNT\": 8467, \"%\": 49.514619883040936, \"PERC\": 49.514619883040936}, {\"STFIPS\": 49, \"REASON\": 2, \"COUNT\": 3826, \"%\": 22.374269005847953, \"PERC\": 22.374269005847953}, {\"STFIPS\": 49, \"REASON\": 3, \"COUNT\": 1395, \"%\": 8.157894736842104, \"PERC\": 8.157894736842104}, {\"STFIPS\": 49, \"REASON\": 4, \"COUNT\": 2844, \"%\": 16.63157894736842, \"PERC\": 16.63157894736842}, {\"STFIPS\": 49, \"REASON\": 5, \"COUNT\": 519, \"%\": 3.0350877192982457, \"PERC\": 3.0350877192982457}, {\"STFIPS\": 49, \"REASON\": 6, \"COUNT\": 42, \"%\": 0.24561403508771928, \"PERC\": 0.24561403508771928}, {\"STFIPS\": 49, \"REASON\": 7, \"COUNT\": 7, \"%\": 0.04093567251461988, \"PERC\": 0.04093567251461988}, {\"STFIPS\": 50, \"REASON\": 1, \"COUNT\": 3106, \"%\": 33.81600435492651, \"PERC\": 33.81600435492651}, {\"STFIPS\": 50, \"REASON\": 2, \"COUNT\": 3264, \"%\": 35.536200326619486, \"PERC\": 35.536200326619486}, {\"STFIPS\": 50, \"REASON\": 3, \"COUNT\": 602, \"%\": 6.554164398475776, \"PERC\": 6.554164398475776}, {\"STFIPS\": 50, \"REASON\": 4, \"COUNT\": 1513, \"%\": 16.47250952640174, \"PERC\": 16.47250952640174}, {\"STFIPS\": 50, \"REASON\": 5, \"COUNT\": 249, \"%\": 2.7109417528579205, \"PERC\": 2.7109417528579205}, {\"STFIPS\": 50, \"REASON\": 6, \"COUNT\": 30, \"%\": 0.326619488296135, \"PERC\": 0.326619488296135}, {\"STFIPS\": 50, \"REASON\": 7, \"COUNT\": 421, \"%\": 4.583560152422428, \"PERC\": 4.583560152422428}, {\"STFIPS\": 51, \"REASON\": 1, \"COUNT\": 7415, \"%\": 34.95827636603649, \"PERC\": 34.95827636603649}, {\"STFIPS\": 51, \"REASON\": 2, \"COUNT\": 16, \"%\": 0.07543255857809628, \"PERC\": 0.07543255857809628}, {\"STFIPS\": 51, \"REASON\": 3, \"COUNT\": 7870, \"%\": 37.1033897506011, \"PERC\": 37.1033897506011}, {\"STFIPS\": 51, \"REASON\": 4, \"COUNT\": 16, \"%\": 0.07543255857809628, \"PERC\": 0.07543255857809628}, {\"STFIPS\": 51, \"REASON\": 5, \"COUNT\": 870, \"%\": 4.1016453726839845, \"PERC\": 4.1016453726839845}, {\"STFIPS\": 51, \"REASON\": 6, \"COUNT\": 74, \"%\": 0.34887558342369523, \"PERC\": 0.34887558342369523}, {\"STFIPS\": 51, \"REASON\": 7, \"COUNT\": 4950, \"%\": 23.336947810098533, \"PERC\": 23.336947810098533}, {\"STFIPS\": 55, \"REASON\": 1, \"COUNT\": 3864, \"%\": 56.21999127018769, \"PERC\": 56.21999127018769}, {\"STFIPS\": 55, \"REASON\": 2, \"COUNT\": 1477, \"%\": 21.489887967408702, \"PERC\": 21.489887967408702}, {\"STFIPS\": 55, \"REASON\": 3, \"COUNT\": 483, \"%\": 7.027498908773461, \"PERC\": 7.027498908773461}, {\"STFIPS\": 55, \"REASON\": 4, \"COUNT\": 627, \"%\": 9.122653862941947, \"PERC\": 9.122653862941947}, {\"STFIPS\": 55, \"REASON\": 5, \"COUNT\": 276, \"%\": 4.015713662156264, \"PERC\": 4.015713662156264}, {\"STFIPS\": 55, \"REASON\": 6, \"COUNT\": 30, \"%\": 0.43649061545176776, \"PERC\": 0.43649061545176776}, {\"STFIPS\": 55, \"REASON\": 7, \"COUNT\": 116, \"%\": 1.6877637130801688, \"PERC\": 1.6877637130801688}, {\"STFIPS\": 56, \"REASON\": 1, \"COUNT\": 2265, \"%\": 43.844367015098726, \"PERC\": 43.844367015098726}, {\"STFIPS\": 56, \"REASON\": 2, \"COUNT\": 1016, \"%\": 19.667053813395277, \"PERC\": 19.667053813395277}, {\"STFIPS\": 56, \"REASON\": 3, \"COUNT\": 176, \"%\": 3.4068912117692607, \"PERC\": 3.4068912117692607}, {\"STFIPS\": 56, \"REASON\": 4, \"COUNT\": 620, \"%\": 12.00154858691444, \"PERC\": 12.00154858691444}, {\"STFIPS\": 56, \"REASON\": 5, \"COUNT\": 233, \"%\": 4.510259388308169, \"PERC\": 4.510259388308169}, {\"STFIPS\": 56, \"REASON\": 6, \"COUNT\": 17, \"%\": 0.32907471931862176, \"PERC\": 0.32907471931862176}, {\"STFIPS\": 56, \"REASON\": 7, \"COUNT\": 839, \"%\": 16.240805265195508, \"PERC\": 16.240805265195508}, {\"STFIPS\": 72, \"REASON\": 1, \"COUNT\": 1478, \"%\": 53.203743700503956, \"PERC\": 53.203743700503956}, {\"STFIPS\": 72, \"REASON\": 2, \"COUNT\": 949, \"%\": 34.16126709863211, \"PERC\": 34.16126709863211}, {\"STFIPS\": 72, \"REASON\": 3, \"COUNT\": 119, \"%\": 4.283657307415407, \"PERC\": 4.283657307415407}, {\"STFIPS\": 72, \"REASON\": 4, \"COUNT\": 95, \"%\": 3.4197264218862493, \"PERC\": 3.4197264218862493}, {\"STFIPS\": 72, \"REASON\": 5, \"COUNT\": 42, \"%\": 1.511879049676026, \"PERC\": 1.511879049676026}, {\"STFIPS\": 72, \"REASON\": 6, \"COUNT\": 51, \"%\": 1.83585313174946, \"PERC\": 1.83585313174946}, {\"STFIPS\": 72, \"REASON\": 7, \"COUNT\": 44, \"%\": 1.5838732901367891, \"PERC\": 1.5838732901367891}]}}, {\"mode\": \"vega-lite\"});\n",
       "</script>"
      ],
      "text/plain": [
       "alt.Chart(...)"
      ]
     },
     "execution_count": 140,
     "metadata": {},
     "output_type": "execute_result"
    }
   ],
   "source": [
    "%matplotlib inline\n",
    "\n",
    "import altair as alt\n",
    "\n",
    "#completion_df.groupby(['STFIPS'])['COUNT'].plot.barh(stacked=True,title='DISCHARGE RATES BY STATE', figsize=(8,10))\n",
    "\n",
    "bar = alt.Chart(completion_df).mark_bar().encode(\n",
    "    x='STFIPS:N',\n",
    "    y='PERC',\n",
    "    color='REASON:N',\n",
    "#    order=alt.Order('PERC', sort='ascending'\n",
    "#                   )\n",
    ")\n",
    "\n",
    "bar"
   ]
  },
  {
   "cell_type": "markdown",
   "id": "35f2c1cf-7ffa-4127-9415-1336db4b8d6f",
   "metadata": {},
   "source": [
    "### Region/Census Division"
   ]
  },
  {
   "cell_type": "code",
   "execution_count": 144,
   "id": "0e94f9e8-ab07-4a24-b63c-dc6262542e00",
   "metadata": {},
   "outputs": [
    {
     "data": {
      "text/html": [
       "\n",
       "<div id=\"altair-viz-fcef0a70c87b4a608dbde5d01224c6d1\"></div>\n",
       "<script type=\"text/javascript\">\n",
       "  var VEGA_DEBUG = (typeof VEGA_DEBUG == \"undefined\") ? {} : VEGA_DEBUG;\n",
       "  (function(spec, embedOpt){\n",
       "    let outputDiv = document.currentScript.previousElementSibling;\n",
       "    if (outputDiv.id !== \"altair-viz-fcef0a70c87b4a608dbde5d01224c6d1\") {\n",
       "      outputDiv = document.getElementById(\"altair-viz-fcef0a70c87b4a608dbde5d01224c6d1\");\n",
       "    }\n",
       "    const paths = {\n",
       "      \"vega\": \"https://cdn.jsdelivr.net/npm//vega@5?noext\",\n",
       "      \"vega-lib\": \"https://cdn.jsdelivr.net/npm//vega-lib?noext\",\n",
       "      \"vega-lite\": \"https://cdn.jsdelivr.net/npm//vega-lite@4.17.0?noext\",\n",
       "      \"vega-embed\": \"https://cdn.jsdelivr.net/npm//vega-embed@6?noext\",\n",
       "    };\n",
       "\n",
       "    function maybeLoadScript(lib, version) {\n",
       "      var key = `${lib.replace(\"-\", \"\")}_version`;\n",
       "      return (VEGA_DEBUG[key] == version) ?\n",
       "        Promise.resolve(paths[lib]) :\n",
       "        new Promise(function(resolve, reject) {\n",
       "          var s = document.createElement('script');\n",
       "          document.getElementsByTagName(\"head\")[0].appendChild(s);\n",
       "          s.async = true;\n",
       "          s.onload = () => {\n",
       "            VEGA_DEBUG[key] = version;\n",
       "            return resolve(paths[lib]);\n",
       "          };\n",
       "          s.onerror = () => reject(`Error loading script: ${paths[lib]}`);\n",
       "          s.src = paths[lib];\n",
       "        });\n",
       "    }\n",
       "\n",
       "    function showError(err) {\n",
       "      outputDiv.innerHTML = `<div class=\"error\" style=\"color:red;\">${err}</div>`;\n",
       "      throw err;\n",
       "    }\n",
       "\n",
       "    function displayChart(vegaEmbed) {\n",
       "      vegaEmbed(outputDiv, spec, embedOpt)\n",
       "        .catch(err => showError(`Javascript Error: ${err.message}<br>This usually means there's a typo in your chart specification. See the javascript console for the full traceback.`));\n",
       "    }\n",
       "\n",
       "    if(typeof define === \"function\" && define.amd) {\n",
       "      requirejs.config({paths});\n",
       "      require([\"vega-embed\"], displayChart, err => showError(`Error loading script: ${err.message}`));\n",
       "    } else {\n",
       "      maybeLoadScript(\"vega\", \"5\")\n",
       "        .then(() => maybeLoadScript(\"vega-lite\", \"4.17.0\"))\n",
       "        .then(() => maybeLoadScript(\"vega-embed\", \"6\"))\n",
       "        .catch(showError)\n",
       "        .then(() => displayChart(vegaEmbed));\n",
       "    }\n",
       "  })({\"config\": {\"view\": {\"continuousWidth\": 400, \"continuousHeight\": 300}}, \"data\": {\"name\": \"data-a7890a2cb75e6991e5aca1ca1881d4b0\"}, \"mark\": \"bar\", \"encoding\": {\"color\": {\"field\": \"REASON\", \"type\": \"nominal\"}, \"x\": {\"field\": \"DIVISION\", \"type\": \"nominal\"}, \"y\": {\"field\": \"PERC\", \"type\": \"quantitative\"}}, \"$schema\": \"https://vega.github.io/schema/vega-lite/v4.17.0.json\", \"datasets\": {\"data-a7890a2cb75e6991e5aca1ca1881d4b0\": [{\"DIVISION\": 0, \"REASON\": 1, \"COUNT\": 1478, \"PERC\": 53.203743700503956}, {\"DIVISION\": 0, \"REASON\": 2, \"COUNT\": 949, \"PERC\": 34.16126709863211}, {\"DIVISION\": 0, \"REASON\": 3, \"COUNT\": 119, \"PERC\": 4.283657307415407}, {\"DIVISION\": 0, \"REASON\": 4, \"COUNT\": 95, \"PERC\": 3.4197264218862493}, {\"DIVISION\": 0, \"REASON\": 5, \"COUNT\": 42, \"PERC\": 1.511879049676026}, {\"DIVISION\": 0, \"REASON\": 6, \"COUNT\": 51, \"PERC\": 1.83585313174946}, {\"DIVISION\": 0, \"REASON\": 7, \"COUNT\": 44, \"PERC\": 1.5838732901367891}, {\"DIVISION\": 1, \"REASON\": 1, \"COUNT\": 71481, \"PERC\": 44.821575254422214}, {\"DIVISION\": 1, \"REASON\": 2, \"COUNT\": 44590, \"PERC\": 27.95979407947128}, {\"DIVISION\": 1, \"REASON\": 3, \"COUNT\": 9102, \"PERC\": 5.707334507991648}, {\"DIVISION\": 1, \"REASON\": 4, \"COUNT\": 20610, \"PERC\": 12.923331598517674}, {\"DIVISION\": 1, \"REASON\": 5, \"COUNT\": 1979, \"PERC\": 1.2409157318518425}, {\"DIVISION\": 1, \"REASON\": 6, \"COUNT\": 459, \"PERC\": 0.2878121884386032}, {\"DIVISION\": 1, \"REASON\": 7, \"COUNT\": 11258, \"PERC\": 7.059236639306743}, {\"DIVISION\": 2, \"REASON\": 1, \"COUNT\": 189215, \"PERC\": 50.73685960518483}, {\"DIVISION\": 2, \"REASON\": 2, \"COUNT\": 114258, \"PERC\": 30.63759271077456}, {\"DIVISION\": 2, \"REASON\": 3, \"COUNT\": 24918, \"PERC\": 6.681611223433637}, {\"DIVISION\": 2, \"REASON\": 4, \"COUNT\": 15660, \"PERC\": 4.199134431293473}, {\"DIVISION\": 2, \"REASON\": 5, \"COUNT\": 8881, \"PERC\": 2.3813865187942103}, {\"DIVISION\": 2, \"REASON\": 6, \"COUNT\": 1088, \"PERC\": 0.29174062970927833}, {\"DIVISION\": 2, \"REASON\": 7, \"COUNT\": 18914, \"PERC\": 5.07167488081001}, {\"DIVISION\": 3, \"REASON\": 1, \"COUNT\": 40638, \"PERC\": 26.882317920222267}, {\"DIVISION\": 3, \"REASON\": 2, \"COUNT\": 48648, \"PERC\": 32.180988291327644}, {\"DIVISION\": 3, \"REASON\": 3, \"COUNT\": 14155, \"PERC\": 9.363630349937157}, {\"DIVISION\": 3, \"REASON\": 4, \"COUNT\": 37888, \"PERC\": 25.06317391016736}, {\"DIVISION\": 3, \"REASON\": 5, \"COUNT\": 3530, \"PERC\": 2.335119401997751}, {\"DIVISION\": 3, \"REASON\": 6, \"COUNT\": 389, \"PERC\": 0.25732618905867566}, {\"DIVISION\": 3, \"REASON\": 7, \"COUNT\": 5922, \"PERC\": 3.9174439372891445}, {\"DIVISION\": 4, \"REASON\": 1, \"COUNT\": 64132, \"PERC\": 42.10153157352275}, {\"DIVISION\": 4, \"REASON\": 2, \"COUNT\": 40721, \"PERC\": 26.732621268717956}, {\"DIVISION\": 4, \"REASON\": 3, \"COUNT\": 9776, \"PERC\": 6.417772292502314}, {\"DIVISION\": 4, \"REASON\": 4, \"COUNT\": 28017, \"PERC\": 18.392668404156847}, {\"DIVISION\": 4, \"REASON\": 5, \"COUNT\": 3134, \"PERC\": 2.057415953836155}, {\"DIVISION\": 4, \"REASON\": 6, \"COUNT\": 338, \"PERC\": 0.2218910633046013}, {\"DIVISION\": 4, \"REASON\": 7, \"COUNT\": 6209, \"PERC\": 4.076099443959377}, {\"DIVISION\": 5, \"REASON\": 1, \"COUNT\": 80199, \"PERC\": 24.18422457232289}, {\"DIVISION\": 5, \"REASON\": 2, \"COUNT\": 62681, \"PERC\": 18.901624464367025}, {\"DIVISION\": 5, \"REASON\": 3, \"COUNT\": 18938, \"PERC\": 5.710804934608298}, {\"DIVISION\": 5, \"REASON\": 4, \"COUNT\": 149265, \"PERC\": 45.01126299315174}, {\"DIVISION\": 5, \"REASON\": 5, \"COUNT\": 2883, \"PERC\": 0.8693764191823701}, {\"DIVISION\": 5, \"REASON\": 6, \"COUNT\": 506, \"PERC\": 0.1525856635817826}, {\"DIVISION\": 5, \"REASON\": 7, \"COUNT\": 17145, \"PERC\": 5.1701209527858945}, {\"DIVISION\": 6, \"REASON\": 1, \"COUNT\": 18602, \"PERC\": 18.480031790184782}, {\"DIVISION\": 6, \"REASON\": 2, \"COUNT\": 13198, \"PERC\": 13.111464335386449}, {\"DIVISION\": 6, \"REASON\": 3, \"COUNT\": 5208, \"PERC\": 5.173852573018081}, {\"DIVISION\": 6, \"REASON\": 4, \"COUNT\": 59633, \"PERC\": 59.24200278164117}, {\"DIVISION\": 6, \"REASON\": 5, \"COUNT\": 679, \"PERC\": 0.674547983310153}, {\"DIVISION\": 6, \"REASON\": 6, \"COUNT\": 68, \"PERC\": 0.0675541426584542}, {\"DIVISION\": 6, \"REASON\": 7, \"COUNT\": 3272, \"PERC\": 3.250546393800914}, {\"DIVISION\": 7, \"REASON\": 1, \"COUNT\": 31999, \"PERC\": 43.66794945276891}, {\"DIVISION\": 7, \"REASON\": 2, \"COUNT\": 24294, \"PERC\": 33.15319741259314}, {\"DIVISION\": 7, \"REASON\": 3, \"COUNT\": 6389, \"PERC\": 8.718851497038674}, {\"DIVISION\": 7, \"REASON\": 4, \"COUNT\": 6725, \"PERC\": 9.177379295286443}, {\"DIVISION\": 7, \"REASON\": 5, \"COUNT\": 364, \"PERC\": 0.4967384481017495}, {\"DIVISION\": 7, \"REASON\": 6, \"COUNT\": 54, \"PERC\": 0.07369196757553427}, {\"DIVISION\": 7, \"REASON\": 7, \"COUNT\": 3453, \"PERC\": 4.712191926635552}, {\"DIVISION\": 8, \"REASON\": 1, \"COUNT\": 192150, \"PERC\": 83.770751953125}, {\"DIVISION\": 8, \"REASON\": 2, \"COUNT\": 15422, \"PERC\": 6.723458426339286}, {\"DIVISION\": 8, \"REASON\": 3, \"COUNT\": 4217, \"PERC\": 1.8384660993303572}, {\"DIVISION\": 8, \"REASON\": 4, \"COUNT\": 12217, \"PERC\": 5.326189313616071}, {\"DIVISION\": 8, \"REASON\": 5, \"COUNT\": 2639, \"PERC\": 1.1505126953125}, {\"DIVISION\": 8, \"REASON\": 6, \"COUNT\": 201, \"PERC\": 0.08762904575892858}, {\"DIVISION\": 8, \"REASON\": 7, \"COUNT\": 2530, \"PERC\": 1.1029924665178572}, {\"DIVISION\": 9, \"REASON\": 1, \"COUNT\": 36035, \"PERC\": 24.20340667902528}, {\"DIVISION\": 9, \"REASON\": 2, \"COUNT\": 67849, \"PERC\": 45.57172026544155}, {\"DIVISION\": 9, \"REASON\": 3, \"COUNT\": 2432, \"PERC\": 1.6334864726901481}, {\"DIVISION\": 9, \"REASON\": 4, \"COUNT\": 39393, \"PERC\": 26.458853872813734}, {\"DIVISION\": 9, \"REASON\": 5, \"COUNT\": 1874, \"PERC\": 1.2586980468015367}, {\"DIVISION\": 9, \"REASON\": 6, \"COUNT\": 422, \"PERC\": 0.28344214287633324}, {\"DIVISION\": 9, \"REASON\": 7, \"COUNT\": 879, \"PERC\": 0.5903925203514145}]}}, {\"mode\": \"vega-lite\"});\n",
       "</script>"
      ],
      "text/plain": [
       "alt.Chart(...)"
      ]
     },
     "execution_count": 144,
     "metadata": {},
     "output_type": "execute_result"
    }
   ],
   "source": [
    "df2 = df.copy()\n",
    "completion_df = df2.groupby(['DIVISION','REASON']).size().reset_index()\n",
    "completion_df = completion_df.rename(columns={0:'COUNT'})\n",
    "completion_df['PERC'] = 100 * completion_df['COUNT'] / completion_df.groupby(['DIVISION'])['COUNT'].transform('sum')\n",
    "\n",
    "bar = alt.Chart(completion_df).mark_bar().encode(\n",
    "    x='DIVISION:N',\n",
    "    y='PERC',\n",
    "    color='REASON:N',\n",
    "#    order=alt.Order('PERC', sort='ascending'\n",
    "#                   )\n",
    ")\n",
    "\n",
    "bar"
   ]
  },
  {
   "cell_type": "markdown",
   "id": "3001432b-5301-4271-aa3e-fc988f190511",
   "metadata": {},
   "source": [
    "### Treatment Type @ Admission"
   ]
  },
  {
   "cell_type": "code",
   "execution_count": 142,
   "id": "0df6ff9c-3d99-450d-a3fc-3f3d291e6586",
   "metadata": {},
   "outputs": [
    {
     "data": {
      "text/html": [
       "\n",
       "<div id=\"altair-viz-28759cfffc134fc99b6e08cc6d67d458\"></div>\n",
       "<script type=\"text/javascript\">\n",
       "  var VEGA_DEBUG = (typeof VEGA_DEBUG == \"undefined\") ? {} : VEGA_DEBUG;\n",
       "  (function(spec, embedOpt){\n",
       "    let outputDiv = document.currentScript.previousElementSibling;\n",
       "    if (outputDiv.id !== \"altair-viz-28759cfffc134fc99b6e08cc6d67d458\") {\n",
       "      outputDiv = document.getElementById(\"altair-viz-28759cfffc134fc99b6e08cc6d67d458\");\n",
       "    }\n",
       "    const paths = {\n",
       "      \"vega\": \"https://cdn.jsdelivr.net/npm//vega@5?noext\",\n",
       "      \"vega-lib\": \"https://cdn.jsdelivr.net/npm//vega-lib?noext\",\n",
       "      \"vega-lite\": \"https://cdn.jsdelivr.net/npm//vega-lite@4.17.0?noext\",\n",
       "      \"vega-embed\": \"https://cdn.jsdelivr.net/npm//vega-embed@6?noext\",\n",
       "    };\n",
       "\n",
       "    function maybeLoadScript(lib, version) {\n",
       "      var key = `${lib.replace(\"-\", \"\")}_version`;\n",
       "      return (VEGA_DEBUG[key] == version) ?\n",
       "        Promise.resolve(paths[lib]) :\n",
       "        new Promise(function(resolve, reject) {\n",
       "          var s = document.createElement('script');\n",
       "          document.getElementsByTagName(\"head\")[0].appendChild(s);\n",
       "          s.async = true;\n",
       "          s.onload = () => {\n",
       "            VEGA_DEBUG[key] = version;\n",
       "            return resolve(paths[lib]);\n",
       "          };\n",
       "          s.onerror = () => reject(`Error loading script: ${paths[lib]}`);\n",
       "          s.src = paths[lib];\n",
       "        });\n",
       "    }\n",
       "\n",
       "    function showError(err) {\n",
       "      outputDiv.innerHTML = `<div class=\"error\" style=\"color:red;\">${err}</div>`;\n",
       "      throw err;\n",
       "    }\n",
       "\n",
       "    function displayChart(vegaEmbed) {\n",
       "      vegaEmbed(outputDiv, spec, embedOpt)\n",
       "        .catch(err => showError(`Javascript Error: ${err.message}<br>This usually means there's a typo in your chart specification. See the javascript console for the full traceback.`));\n",
       "    }\n",
       "\n",
       "    if(typeof define === \"function\" && define.amd) {\n",
       "      requirejs.config({paths});\n",
       "      require([\"vega-embed\"], displayChart, err => showError(`Error loading script: ${err.message}`));\n",
       "    } else {\n",
       "      maybeLoadScript(\"vega\", \"5\")\n",
       "        .then(() => maybeLoadScript(\"vega-lite\", \"4.17.0\"))\n",
       "        .then(() => maybeLoadScript(\"vega-embed\", \"6\"))\n",
       "        .catch(showError)\n",
       "        .then(() => displayChart(vegaEmbed));\n",
       "    }\n",
       "  })({\"config\": {\"view\": {\"continuousWidth\": 400, \"continuousHeight\": 300}}, \"data\": {\"name\": \"data-e475b7f7cbb01789fe63d6ca4ee991ed\"}, \"mark\": \"bar\", \"encoding\": {\"color\": {\"field\": \"REASON\", \"type\": \"nominal\"}, \"x\": {\"field\": \"SERVICES\", \"type\": \"nominal\"}, \"y\": {\"field\": \"PERC\", \"type\": \"quantitative\"}}, \"$schema\": \"https://vega.github.io/schema/vega-lite/v4.17.0.json\", \"datasets\": {\"data-e475b7f7cbb01789fe63d6ca4ee991ed\": [{\"SERVICES\": 1, \"REASON\": 1, \"COUNT\": 31505, \"PERC\": 71.66579468164964}, {\"SERVICES\": 1, \"REASON\": 2, \"COUNT\": 8311, \"PERC\": 18.905393416892245}, {\"SERVICES\": 1, \"REASON\": 3, \"COUNT\": 747, \"PERC\": 1.6992334114328609}, {\"SERVICES\": 1, \"REASON\": 4, \"COUNT\": 2783, \"PERC\": 6.33061122358454}, {\"SERVICES\": 1, \"REASON\": 5, \"COUNT\": 14, \"PERC\": 0.03184640931734947}, {\"SERVICES\": 1, \"REASON\": 6, \"COUNT\": 1, \"PERC\": 0.0022747435226678193}, {\"SERVICES\": 1, \"REASON\": 7, \"COUNT\": 600, \"PERC\": 1.3648461136006915}, {\"SERVICES\": 2, \"REASON\": 1, \"COUNT\": 144144, \"PERC\": 58.67550261944208}, {\"SERVICES\": 2, \"REASON\": 2, \"COUNT\": 47446, \"PERC\": 19.31344972584394}, {\"SERVICES\": 2, \"REASON\": 3, \"COUNT\": 5148, \"PERC\": 2.0955536649800743}, {\"SERVICES\": 2, \"REASON\": 4, \"COUNT\": 42655, \"PERC\": 17.363217090078685}, {\"SERVICES\": 2, \"REASON\": 5, \"COUNT\": 181, \"PERC\": 0.07367816887361955}, {\"SERVICES\": 2, \"REASON\": 6, \"COUNT\": 38, \"PERC\": 0.015468344846395265}, {\"SERVICES\": 2, \"REASON\": 7, \"COUNT\": 6051, \"PERC\": 2.463130385935204}, {\"SERVICES\": 3, \"REASON\": 1, \"COUNT\": 3072, \"PERC\": 77.85098834262544}, {\"SERVICES\": 3, \"REASON\": 2, \"COUNT\": 495, \"PERC\": 12.54434870755195}, {\"SERVICES\": 3, \"REASON\": 3, \"COUNT\": 56, \"PERC\": 1.4191586416624429}, {\"SERVICES\": 3, \"REASON\": 4, \"COUNT\": 238, \"PERC\": 6.031424227065383}, {\"SERVICES\": 3, \"REASON\": 5, \"COUNT\": 3, \"PERC\": 0.07602635580334516}, {\"SERVICES\": 3, \"REASON\": 6, \"COUNT\": 2, \"PERC\": 0.05068423720223011}, {\"SERVICES\": 3, \"REASON\": 7, \"COUNT\": 80, \"PERC\": 2.0273694880892044}, {\"SERVICES\": 4, \"REASON\": 1, \"COUNT\": 98309, \"PERC\": 54.60397689402355}, {\"SERVICES\": 4, \"REASON\": 2, \"COUNT\": 35048, \"PERC\": 19.46678515885359}, {\"SERVICES\": 4, \"REASON\": 3, \"COUNT\": 9718, \"PERC\": 5.397689402355033}, {\"SERVICES\": 4, \"REASON\": 4, \"COUNT\": 30215, \"PERC\": 16.78238169295712}, {\"SERVICES\": 4, \"REASON\": 5, \"COUNT\": 426, \"PERC\": 0.23661408575872028}, {\"SERVICES\": 4, \"REASON\": 6, \"COUNT\": 37, \"PERC\": 0.020550988669184627}, {\"SERVICES\": 4, \"REASON\": 7, \"COUNT\": 6287, \"PERC\": 3.492001777382804}, {\"SERVICES\": 5, \"REASON\": 1, \"COUNT\": 49975, \"PERC\": 41.10462247080112}, {\"SERVICES\": 5, \"REASON\": 2, \"COUNT\": 34565, \"PERC\": 28.429840434281953}, {\"SERVICES\": 5, \"REASON\": 3, \"COUNT\": 9457, \"PERC\": 7.778417502878763}, {\"SERVICES\": 5, \"REASON\": 4, \"COUNT\": 23807, \"PERC\": 19.581345616055273}, {\"SERVICES\": 5, \"REASON\": 5, \"COUNT\": 1179, \"PERC\": 0.969731863793387}, {\"SERVICES\": 5, \"REASON\": 6, \"COUNT\": 62, \"PERC\": 0.050995229478532654}, {\"SERVICES\": 5, \"REASON\": 7, \"COUNT\": 2535, \"PERC\": 2.085046882710972}, {\"SERVICES\": 6, \"REASON\": 1, \"COUNT\": 60375, \"PERC\": 25.62171108470548}, {\"SERVICES\": 6, \"REASON\": 2, \"COUNT\": 63940, \"PERC\": 27.13461212018333}, {\"SERVICES\": 6, \"REASON\": 3, \"COUNT\": 15802, \"PERC\": 6.7059921914785265}, {\"SERVICES\": 6, \"REASON\": 4, \"COUNT\": 77901, \"PERC\": 33.059327788151414}, {\"SERVICES\": 6, \"REASON\": 5, \"COUNT\": 4451, \"PERC\": 1.8888983194703786}, {\"SERVICES\": 6, \"REASON\": 6, \"COUNT\": 461, \"PERC\": 0.19563741300288576}, {\"SERVICES\": 6, \"REASON\": 7, \"COUNT\": 12710, \"PERC\": 5.393821083007978}, {\"SERVICES\": 7, \"REASON\": 1, \"COUNT\": 329594, \"PERC\": 37.52289723935286}, {\"SERVICES\": 7, \"REASON\": 2, \"COUNT\": 241071, \"PERC\": 27.444924241303035}, {\"SERVICES\": 7, \"REASON\": 3, \"COUNT\": 53892, \"PERC\": 6.13537861133153}, {\"SERVICES\": 7, \"REASON\": 4, \"COUNT\": 190026, \"PERC\": 21.633664662600854}, {\"SERVICES\": 7, \"REASON\": 5, \"COUNT\": 19688, \"PERC\": 2.2413963872169367}, {\"SERVICES\": 7, \"REASON\": 6, \"COUNT\": 2965, \"PERC\": 0.3375528386884507}, {\"SERVICES\": 7, \"REASON\": 7, \"COUNT\": 41145, \"PERC\": 4.684186019506342}, {\"SERVICES\": 8, \"REASON\": 1, \"COUNT\": 8955, \"PERC\": 67.37135118868493}, {\"SERVICES\": 8, \"REASON\": 2, \"COUNT\": 1734, \"PERC\": 13.045440866686729}, {\"SERVICES\": 8, \"REASON\": 3, \"COUNT\": 434, \"PERC\": 3.265121877821246}, {\"SERVICES\": 8, \"REASON\": 4, \"COUNT\": 1878, \"PERC\": 14.12879927776106}, {\"SERVICES\": 8, \"REASON\": 5, \"COUNT\": 63, \"PERC\": 0.47396930484501953}, {\"SERVICES\": 8, \"REASON\": 6, \"COUNT\": 10, \"PERC\": 0.07523322299127294}, {\"SERVICES\": 8, \"REASON\": 7, \"COUNT\": 218, \"PERC\": 1.6400842612097501}]}}, {\"mode\": \"vega-lite\"});\n",
       "</script>"
      ],
      "text/plain": [
       "alt.Chart(...)"
      ]
     },
     "execution_count": 142,
     "metadata": {},
     "output_type": "execute_result"
    }
   ],
   "source": [
    "df3 = df.copy()\n",
    "completion_df = df3.groupby(['SERVICES','REASON']).size().reset_index()\n",
    "completion_df = completion_df.rename(columns={0:'COUNT'})\n",
    "completion_df['PERC'] = 100 * completion_df['COUNT'] / completion_df.groupby(['SERVICES'])['COUNT'].transform('sum')\n",
    "\n",
    "bar = alt.Chart(completion_df).mark_bar().encode(\n",
    "    x='SERVICES:N',\n",
    "    y='PERC',\n",
    "    color='REASON:N',\n",
    "#    order=alt.Order('PERC', sort='ascending'\n",
    "#                   )\n",
    ")\n",
    "\n",
    "bar"
   ]
  },
  {
   "cell_type": "markdown",
   "id": "86c1026d-8851-42d1-98de-a227436006c0",
   "metadata": {},
   "source": [
    "### Treatment Type @ Discharge"
   ]
  },
  {
   "cell_type": "code",
   "execution_count": 143,
   "id": "c4228d45-a4ee-41b6-9d78-74766a18c9a7",
   "metadata": {},
   "outputs": [
    {
     "data": {
      "text/html": [
       "\n",
       "<div id=\"altair-viz-10aa669d3f4043fbae033464c5e6e848\"></div>\n",
       "<script type=\"text/javascript\">\n",
       "  var VEGA_DEBUG = (typeof VEGA_DEBUG == \"undefined\") ? {} : VEGA_DEBUG;\n",
       "  (function(spec, embedOpt){\n",
       "    let outputDiv = document.currentScript.previousElementSibling;\n",
       "    if (outputDiv.id !== \"altair-viz-10aa669d3f4043fbae033464c5e6e848\") {\n",
       "      outputDiv = document.getElementById(\"altair-viz-10aa669d3f4043fbae033464c5e6e848\");\n",
       "    }\n",
       "    const paths = {\n",
       "      \"vega\": \"https://cdn.jsdelivr.net/npm//vega@5?noext\",\n",
       "      \"vega-lib\": \"https://cdn.jsdelivr.net/npm//vega-lib?noext\",\n",
       "      \"vega-lite\": \"https://cdn.jsdelivr.net/npm//vega-lite@4.17.0?noext\",\n",
       "      \"vega-embed\": \"https://cdn.jsdelivr.net/npm//vega-embed@6?noext\",\n",
       "    };\n",
       "\n",
       "    function maybeLoadScript(lib, version) {\n",
       "      var key = `${lib.replace(\"-\", \"\")}_version`;\n",
       "      return (VEGA_DEBUG[key] == version) ?\n",
       "        Promise.resolve(paths[lib]) :\n",
       "        new Promise(function(resolve, reject) {\n",
       "          var s = document.createElement('script');\n",
       "          document.getElementsByTagName(\"head\")[0].appendChild(s);\n",
       "          s.async = true;\n",
       "          s.onload = () => {\n",
       "            VEGA_DEBUG[key] = version;\n",
       "            return resolve(paths[lib]);\n",
       "          };\n",
       "          s.onerror = () => reject(`Error loading script: ${paths[lib]}`);\n",
       "          s.src = paths[lib];\n",
       "        });\n",
       "    }\n",
       "\n",
       "    function showError(err) {\n",
       "      outputDiv.innerHTML = `<div class=\"error\" style=\"color:red;\">${err}</div>`;\n",
       "      throw err;\n",
       "    }\n",
       "\n",
       "    function displayChart(vegaEmbed) {\n",
       "      vegaEmbed(outputDiv, spec, embedOpt)\n",
       "        .catch(err => showError(`Javascript Error: ${err.message}<br>This usually means there's a typo in your chart specification. See the javascript console for the full traceback.`));\n",
       "    }\n",
       "\n",
       "    if(typeof define === \"function\" && define.amd) {\n",
       "      requirejs.config({paths});\n",
       "      require([\"vega-embed\"], displayChart, err => showError(`Error loading script: ${err.message}`));\n",
       "    } else {\n",
       "      maybeLoadScript(\"vega\", \"5\")\n",
       "        .then(() => maybeLoadScript(\"vega-lite\", \"4.17.0\"))\n",
       "        .then(() => maybeLoadScript(\"vega-embed\", \"6\"))\n",
       "        .catch(showError)\n",
       "        .then(() => displayChart(vegaEmbed));\n",
       "    }\n",
       "  })({\"config\": {\"view\": {\"continuousWidth\": 400, \"continuousHeight\": 300}}, \"data\": {\"name\": \"data-07c8c9d5cb3571eae33649bfc3b087bf\"}, \"mark\": \"bar\", \"encoding\": {\"color\": {\"field\": \"REASON\", \"type\": \"nominal\"}, \"x\": {\"field\": \"SERVICES_D\", \"type\": \"nominal\"}, \"y\": {\"field\": \"PERC\", \"type\": \"quantitative\"}}, \"$schema\": \"https://vega.github.io/schema/vega-lite/v4.17.0.json\", \"datasets\": {\"data-07c8c9d5cb3571eae33649bfc3b087bf\": [{\"SERVICES_D\": 1, \"REASON\": 1, \"COUNT\": 31060, \"PERC\": 71.49104635639645}, {\"SERVICES_D\": 1, \"REASON\": 2, \"COUNT\": 8287, \"PERC\": 19.074253095797083}, {\"SERVICES_D\": 1, \"REASON\": 3, \"COUNT\": 716, \"PERC\": 1.648022832942043}, {\"SERVICES_D\": 1, \"REASON\": 4, \"COUNT\": 2767, \"PERC\": 6.368825668646135}, {\"SERVICES_D\": 1, \"REASON\": 5, \"COUNT\": 14, \"PERC\": 0.03222391014132486}, {\"SERVICES_D\": 1, \"REASON\": 6, \"COUNT\": 1, \"PERC\": 0.00230170786723749}, {\"SERVICES_D\": 1, \"REASON\": 7, \"COUNT\": 601, \"PERC\": 1.3833264282097317}, {\"SERVICES_D\": 2, \"REASON\": 1, \"COUNT\": 141478, \"PERC\": 58.87483718472096}, {\"SERVICES_D\": 2, \"REASON\": 2, \"COUNT\": 46343, \"PERC\": 19.285235723232752}, {\"SERVICES_D\": 2, \"REASON\": 3, \"COUNT\": 4552, \"PERC\": 1.8942751442969916}, {\"SERVICES_D\": 2, \"REASON\": 4, \"COUNT\": 41773, \"PERC\": 17.383470035746537}, {\"SERVICES_D\": 2, \"REASON\": 5, \"COUNT\": 177, \"PERC\": 0.07365700802736545}, {\"SERVICES_D\": 2, \"REASON\": 6, \"COUNT\": 35, \"PERC\": 0.01456494509015701}, {\"SERVICES_D\": 2, \"REASON\": 7, \"COUNT\": 5945, \"PERC\": 2.473959958885241}, {\"SERVICES_D\": 3, \"REASON\": 1, \"COUNT\": 3093, \"PERC\": 72.8965354701862}, {\"SERVICES_D\": 3, \"REASON\": 2, \"COUNT\": 583, \"PERC\": 13.740278105114307}, {\"SERVICES_D\": 3, \"REASON\": 3, \"COUNT\": 83, \"PERC\": 1.9561630921517794}, {\"SERVICES_D\": 3, \"REASON\": 4, \"COUNT\": 394, \"PERC\": 9.285882630214472}, {\"SERVICES_D\": 3, \"REASON\": 5, \"COUNT\": 1, \"PERC\": 0.023568230025925053}, {\"SERVICES_D\": 3, \"REASON\": 6, \"COUNT\": 1, \"PERC\": 0.023568230025925053}, {\"SERVICES_D\": 3, \"REASON\": 7, \"COUNT\": 88, \"PERC\": 2.0740042422814047}, {\"SERVICES_D\": 4, \"REASON\": 1, \"COUNT\": 97796, \"PERC\": 54.41061105949248}, {\"SERVICES_D\": 4, \"REASON\": 2, \"COUNT\": 35158, \"PERC\": 19.560802728430986}, {\"SERVICES_D\": 4, \"REASON\": 3, \"COUNT\": 9493, \"PERC\": 5.281605901956748}, {\"SERVICES_D\": 4, \"REASON\": 4, \"COUNT\": 30651, \"PERC\": 17.053250026427502}, {\"SERVICES_D\": 4, \"REASON\": 5, \"COUNT\": 387, \"PERC\": 0.21531459855232923}, {\"SERVICES_D\": 4, \"REASON\": 6, \"COUNT\": 33, \"PERC\": 0.01836015956647769}, {\"SERVICES_D\": 4, \"REASON\": 7, \"COUNT\": 6219, \"PERC\": 3.460055525573477}, {\"SERVICES_D\": 5, \"REASON\": 1, \"COUNT\": 50073, \"PERC\": 41.22252408001976}, {\"SERVICES_D\": 5, \"REASON\": 2, \"COUNT\": 34354, \"PERC\": 28.28188029966247}, {\"SERVICES_D\": 5, \"REASON\": 3, \"COUNT\": 9557, \"PERC\": 7.867786284679345}, {\"SERVICES_D\": 5, \"REASON\": 4, \"COUNT\": 23712, \"PERC\": 19.520869350456902}, {\"SERVICES_D\": 5, \"REASON\": 5, \"COUNT\": 1175, \"PERC\": 0.9673170330122665}, {\"SERVICES_D\": 5, \"REASON\": 6, \"COUNT\": 61, \"PERC\": 0.05021816086276447}, {\"SERVICES_D\": 5, \"REASON\": 7, \"COUNT\": 2538, \"PERC\": 2.0894047913064955}, {\"SERVICES_D\": 6, \"REASON\": 1, \"COUNT\": 61084, \"PERC\": 25.90819057475262}, {\"SERVICES_D\": 6, \"REASON\": 2, \"COUNT\": 63257, \"PERC\": 26.829847606363803}, {\"SERVICES_D\": 6, \"REASON\": 3, \"COUNT\": 16109, \"PERC\": 6.83247727667949}, {\"SERVICES_D\": 6, \"REASON\": 4, \"COUNT\": 77785, \"PERC\": 32.99175895254293}, {\"SERVICES_D\": 6, \"REASON\": 5, \"COUNT\": 4432, \"PERC\": 1.8797901353431932}, {\"SERVICES_D\": 6, \"REASON\": 6, \"COUNT\": 461, \"PERC\": 0.19552871218258394}, {\"SERVICES_D\": 6, \"REASON\": 7, \"COUNT\": 12643, \"PERC\": 5.362406742135377}, {\"SERVICES_D\": 7, \"REASON\": 1, \"COUNT\": 332393, \"PERC\": 37.5897071695621}, {\"SERVICES_D\": 7, \"REASON\": 2, \"COUNT\": 242889, \"PERC\": 27.467866004120932}, {\"SERVICES_D\": 7, \"REASON\": 3, \"COUNT\": 54314, \"PERC\": 6.142269407621688}, {\"SERVICES_D\": 7, \"REASON\": 4, \"COUNT\": 190569, \"PERC\": 21.551094353961364}, {\"SERVICES_D\": 7, \"REASON\": 5, \"COUNT\": 19755, \"PERC\": 2.234056268136511}, {\"SERVICES_D\": 7, \"REASON\": 6, \"COUNT\": 2974, \"PERC\": 0.33632413775945247}, {\"SERVICES_D\": 7, \"REASON\": 7, \"COUNT\": 41372, \"PERC\": 4.6786826588379515}, {\"SERVICES_D\": 8, \"REASON\": 1, \"COUNT\": 8952, \"PERC\": 67.47569156553855}, {\"SERVICES_D\": 8, \"REASON\": 2, \"COUNT\": 1739, \"PERC\": 13.107710861536143}, {\"SERVICES_D\": 8, \"REASON\": 3, \"COUNT\": 430, \"PERC\": 3.241124594859426}, {\"SERVICES_D\": 8, \"REASON\": 4, \"COUNT\": 1852, \"PERC\": 13.959448255068969}, {\"SERVICES_D\": 8, \"REASON\": 5, \"COUNT\": 64, \"PERC\": 0.48239993970000755}, {\"SERVICES_D\": 8, \"REASON\": 6, \"COUNT\": 10, \"PERC\": 0.07537499057812617}, {\"SERVICES_D\": 8, \"REASON\": 7, \"COUNT\": 220, \"PERC\": 1.6582497927187758}]}}, {\"mode\": \"vega-lite\"});\n",
       "</script>"
      ],
      "text/plain": [
       "alt.Chart(...)"
      ]
     },
     "execution_count": 143,
     "metadata": {},
     "output_type": "execute_result"
    }
   ],
   "source": [
    "df4 = df.copy()\n",
    "completion_df = df4.groupby(['SERVICES_D','REASON']).size().reset_index()\n",
    "completion_df = completion_df.rename(columns={0:'COUNT'})\n",
    "completion_df['PERC'] = 100 * completion_df['COUNT'] / completion_df.groupby(['SERVICES_D'])['COUNT'].transform('sum')\n",
    "\n",
    "bar = alt.Chart(completion_df).mark_bar().encode(\n",
    "    x='SERVICES_D:N',\n",
    "    y='PERC',\n",
    "    color='REASON:N',\n",
    "#    order=alt.Order('PERC', sort='ascending'\n",
    "#                   )\n",
    ")\n",
    "\n",
    "bar"
   ]
  },
  {
   "cell_type": "code",
   "execution_count": null,
   "id": "37730b9e-0025-4451-ab12-69e1d0517e7f",
   "metadata": {},
   "outputs": [],
   "source": []
  }
 ],
 "metadata": {
  "kernelspec": {
   "display_name": "Python 3",
   "language": "python",
   "name": "python3"
  },
  "language_info": {
   "codemirror_mode": {
    "name": "ipython",
    "version": 3
   },
   "file_extension": ".py",
   "mimetype": "text/x-python",
   "name": "python",
   "nbconvert_exporter": "python",
   "pygments_lexer": "ipython3",
   "version": "3.8.8"
  }
 },
 "nbformat": 4,
 "nbformat_minor": 5
}
