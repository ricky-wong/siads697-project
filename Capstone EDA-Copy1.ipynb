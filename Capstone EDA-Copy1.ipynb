{
 "cells": [
  {
   "cell_type": "code",
   "execution_count": null,
   "id": "delayed-feeding",
   "metadata": {},
   "outputs": [],
   "source": [
    "from util import *"
   ]
  },
  {
   "cell_type": "code",
   "execution_count": null,
   "id": "demanding-arrow",
   "metadata": {},
   "outputs": [],
   "source": [
    "import pandas as pd\n",
    "import numpy as np\n",
    "import matplotlib.pylab as plt\n",
    "%matplotlib inline\n",
    "import seaborn as sns\n",
    "import dtale\n",
    "from sklearn.preprocessing import StandardScaler"
   ]
  },
  {
   "cell_type": "code",
   "execution_count": null,
   "id": "ae68ded9-c1eb-4228-87c3-8d4ae29e80b3",
   "metadata": {},
   "outputs": [],
   "source": [
    "url = \"https://www.datafiles.samhsa.gov/sites/default/files/field-uploads-protected/studies/TEDS-A-2018/TEDS-A-2018-datasets/TEDS-A-2018-DS0001/TEDS-A-2018-DS0001-bundles-with-study-info/TEDS-A-2018-DS0001-bndl-data-csv_v1.zip\"\n",
    "# df = read_csv(url) # Use this if not inside Coursera...\n",
    "df = read_csv('TEDS-D-2019-DS0001-bndl-data-tsv_V1.zip')"
   ]
  },
  {
   "cell_type": "code",
   "execution_count": null,
   "id": "495b0b53-925b-455b-ad67-25f0887ed7fe",
   "metadata": {},
   "outputs": [],
   "source": [
    "df.shape"
   ]
  },
  {
   "cell_type": "code",
   "execution_count": null,
   "id": "6921fe11-cedc-4831-bd52-917b87b17568",
   "metadata": {},
   "outputs": [],
   "source": [
    "df.head()"
   ]
  },
  {
   "cell_type": "code",
   "execution_count": null,
   "id": "204a2696-3e36-478b-9acb-c8bb8e17a796",
   "metadata": {},
   "outputs": [],
   "source": [
    "df.columns"
   ]
  },
  {
   "cell_type": "code",
   "execution_count": null,
   "id": "8957f69a-9005-493e-b7fb-a28d14047e71",
   "metadata": {},
   "outputs": [],
   "source": [
    "df.nunique(axis=0)"
   ]
  },
  {
   "cell_type": "code",
   "execution_count": null,
   "id": "45a0876f-4dba-4fff-967c-0006fe68a333",
   "metadata": {},
   "outputs": [],
   "source": [
    "#df.describe()"
   ]
  },
  {
   "cell_type": "code",
   "execution_count": null,
   "id": "95d95ae2-28d6-4738-b2a8-7ab3e36b2d6b",
   "metadata": {},
   "outputs": [],
   "source": [
    "# state_list = df['STFIPS'].unique().tolist()\n",
    "# state_list"
   ]
  },
  {
   "cell_type": "code",
   "execution_count": null,
   "id": "fb1eb693-e3c5-4cb2-bcb4-40100ee1edc4",
   "metadata": {},
   "outputs": [],
   "source": [
    "state_dict = {1:'Alabama',2:'Alaska',4:'Arizona', 5:'Arkansas',6:'California',8:'Colorado',9:'Connecticut',\n",
    "              10:'Delaware', 11:'District of Columbia', 12:'Florida', 13:'Georgia', 15:'Hawaii', 16:'Idaho', \n",
    "              17:'Illinois', 18:'Indiana', 19:'Iowa', 20:'Kansas', 21:'Kentucky', 22:'Louisiana', 23:'Maine', \n",
    "              24:'Maryland', 25:'Massachusetts', 26:'Michigan', 27:'Minnesota', 28:'Mississippi', 29:'Missouri',\n",
    "              30:'Montana', 31:'Nebraska', 32:'Nevada', 33:'New Hampshire', 34:'New Jersey', 35:'New Mexico', \n",
    "              36:'New York', 37:'North Carolina', 38:'North Dakota', 39:'Ohio', 40:'Oklahoma', 42:'Pennsylvania',\n",
    "              44:'Rhode Island', 45:'South Carolina', 46:'South Dakota', 47:'Tennessee', 48:'Texas', 49:'Utah',\n",
    "              50:'Vermont', 51:'Virginia', 55:'Wisconsin', 56:'Wyoming', 72:'Puerto Rico'}"
   ]
  },
  {
   "cell_type": "code",
   "execution_count": null,
   "id": "04bead0a-56fb-459d-8100-b6cede0187a9",
   "metadata": {},
   "outputs": [],
   "source": [
    "reason_dict = {1:'1 - Treatment Completed', 2:'2 - Dropped out of treatment', 3:'3 - Terminated by facility', 4:'4 - Transferred to another treatment/facility',5:'5 - Incarcerated',6:'6 - Death',7:'7 - Other'}\n"
   ]
  },
  {
   "cell_type": "code",
   "execution_count": null,
   "id": "7f20b48c-daf1-4a79-a6af-64c459bde29d",
   "metadata": {},
   "outputs": [],
   "source": [
    "#df = df.replace(-9, np.nan) #Replace coded missing values"
   ]
  },
  {
   "cell_type": "code",
   "execution_count": null,
   "id": "b4c7f932-488e-417e-8d04-7237cdc2df6b",
   "metadata": {},
   "outputs": [],
   "source": [
    "# pd.options.display.max_rows = 100\n",
    "# print(df.dtypes) #Confirm that all data is numerical"
   ]
  },
  {
   "cell_type": "markdown",
   "id": "566ada03-ac87-47b9-b9f0-9c9a450c4746",
   "metadata": {},
   "source": [
    "## PCA Testing (Select Features, 2 components) Uncomment to view charts"
   ]
  },
  {
   "cell_type": "code",
   "execution_count": null,
   "id": "present-radiation",
   "metadata": {
    "scrolled": false
   },
   "outputs": [],
   "source": [
    "features = ['LOS','SERVICES','PSOURCE','SUB1','ROUTE1','FREQ1','DSMCRIT','PSYPROB','HLTHINS']\n",
    "from sklearn.preprocessing import StandardScaler\n",
    "from sklearn.decomposition import PCA\n",
    "\n",
    "test_df = df.head()\n",
    "\n",
    "test_df = preprocess(test_df, features, StandardScaler())\n",
    "\n",
    "pca, transformed_X = unsupervised_model(test_df, features, PCA(n_components=2))\n",
    "\n",
    "principalDf = pd.DataFrame(data = transformed_X, columns = ['PC1','PC2'])\n",
    "\n",
    "final_df = pd.concat([principalDf, test_df[['REASON']]], axis=1)\n",
    "\n",
    "pca_scatter_plot(final_df, 'PC1', 'PC2', 'REASON')"
   ]
  },
  {
   "cell_type": "code",
   "execution_count": null,
   "id": "e314b884-82e1-4cad-8631-c21630e50e5e",
   "metadata": {},
   "outputs": [],
   "source": [
    "features = ['LOS','SERVICES','PSOURCE','SUB1','ROUTE1','FREQ1','DSMCRIT','PSYPROB','HLTHINS']\n",
    "\n",
    "x = df.loc[:, features].values\n",
    "\n",
    "y = df.loc[:, ['REASON']].values\n",
    "\n",
    "x = StandardScaler().fit_transform(x)"
   ]
  },
  {
   "cell_type": "code",
   "execution_count": null,
   "id": "15f9c96b-a81d-42ce-9a40-4c09e5dddc9c",
   "metadata": {},
   "outputs": [],
   "source": [
    "from sklearn.decomposition import PCA\n",
    "\n",
    "pca = (PCA(n_components=2))\n",
    "\n",
    "principalComponents = pca.fit_transform(x)\n",
    "\n",
    "principalDf = pd.DataFrame(data = principalComponents\n",
    "                          , columns = ['PC1','PC2'])\n",
    "\n",
    "finalDf = pd.concat([principalDf, df[['REASON']]], axis=1)\n"
   ]
  },
  {
   "cell_type": "code",
   "execution_count": null,
   "id": "56fcaa7a-a07d-4d1e-88aa-cd975bdb1ce0",
   "metadata": {},
   "outputs": [],
   "source": [
    "%matplotlib inline\n",
    "\n",
    "fig = plt.figure(figsize =(8,8))\n",
    "ax = fig.add_subplot(1,1,1)\n",
    "\n",
    "ax.set_xlabel('Principal Component 1', fontsize = 15)\n",
    "ax.set_ylabel('Principal Component 2', fontsize = 15)\n",
    "ax.set_title('2 component PCA', fontsize = 20)\n",
    "targets = [1,2,3,4,5,6]\n",
    "#targets = ['Treatment Completed','Dropout','Terminated by Facility','Transfer','Incarcerated','Death','Other']\n",
    "colors = ['r', 'g', 'b','c','m','y']\n",
    "for target, color in zip(targets,colors):\n",
    "    indicesToKeep = finalDf['REASON'] == target\n",
    "    ax.scatter(finalDf.loc[indicesToKeep, 'PC1']\n",
    "               , finalDf.loc[indicesToKeep, 'PC2']\n",
    "               , c = color\n",
    "               , s = 50)\n",
    "ax.legend(targets)\n",
    "ax.grid()\n",
    "\n",
    "ax.set_xlim([-3,3])\n",
    "ax.set_ylim([-3,3])"
   ]
  },
  {
   "cell_type": "markdown",
   "id": "b6502044-5304-484f-8dd5-f262aeebcf53",
   "metadata": {},
   "source": [
    "## PCA Testing (All Columns, 2 components) Uncomment to view charts"
   ]
  },
  {
   "cell_type": "code",
   "execution_count": null,
   "id": "7f66525d-0da9-4055-a386-65480afd0aa5",
   "metadata": {},
   "outputs": [],
   "source": [
    "#All Columns\n",
    "\n",
    "x = df.loc[:, df.columns != 'REASON'].values\n",
    "\n",
    "y = df.loc[:, ['REASON']].values\n",
    "\n",
    "x = StandardScaler().fit_transform(x)"
   ]
  },
  {
   "cell_type": "code",
   "execution_count": null,
   "id": "9fc0f581-b904-4884-adf7-6972caf6608f",
   "metadata": {},
   "outputs": [],
   "source": [
    "pca = (PCA(n_components=2))\n",
    "\n",
    "principalComponents = pca.fit_transform(x)\n",
    "\n",
    "principalDf = pd.DataFrame(data = principalComponents\n",
    "                          , columns = ['PC1','PC2'])\n",
    "\n",
    "finalDf = pd.concat([principalDf, df[['REASON']]], axis=1)"
   ]
  },
  {
   "cell_type": "code",
   "execution_count": null,
   "id": "fcb2e929-3d1c-4235-a4f4-e30b9b6de114",
   "metadata": {},
   "outputs": [],
   "source": [
    "%matplotlib inline\n",
    "\n",
    "fig = plt.figure(figsize =(8,8))\n",
    "ax = fig.add_subplot(1,1,1)\n",
    "\n",
    "ax.set_xlabel('Principal Component 1', fontsize = 15)\n",
    "ax.set_ylabel('Principal Component 2', fontsize = 15)\n",
    "ax.set_title('2 component PCA', fontsize = 20)\n",
    "targets = [1,2,3,4,5,6]\n",
    "#targets = ['Treatment Completed','Dropout','Terminated by Facility','Transfer','Incarcerated','Death','Other']\n",
    "colors = ['r', 'g', 'b','c','m','y']\n",
    "for target, color in zip(targets,colors):\n",
    "    indicesToKeep = finalDf['REASON'] == target\n",
    "    ax.scatter(finalDf.loc[indicesToKeep, 'PC1']\n",
    "               , finalDf.loc[indicesToKeep, 'PC2']\n",
    "               , c = color\n",
    "               , s = 50)\n",
    "ax.legend(targets)\n",
    "ax.grid()\n",
    "\n",
    "ax.set_xlim([-5,5])\n",
    "ax.set_ylim([-5,5])"
   ]
  },
  {
   "cell_type": "markdown",
   "id": "689032dd-bae9-406f-9f92-8c3a63f1ebda",
   "metadata": {},
   "source": [
    "### PCA Variance and Clustering? Uncomment to view charts"
   ]
  },
  {
   "cell_type": "code",
   "execution_count": null,
   "id": "15f3347f-57e7-49d4-bb44-c3f903d09230",
   "metadata": {},
   "outputs": [],
   "source": [
    "from sklearn.cluster import KMeans\n",
    "\n",
    "pca = PCA(n_components=20)\n",
    "principalComponents = pca.fit_transform(x)\n",
    "\n",
    "features = range(pca.n_components_)\n",
    "\n",
    "plt.bar(features, pca.explained_variance_ratio_, color='black')\n",
    "plt.xlabel('PCA features')\n",
    "plt.ylabel('variance %')\n",
    "plt.xticks(features)"
   ]
  },
  {
   "cell_type": "markdown",
   "id": "77914456-7361-4d03-81d3-fa95f276fddd",
   "metadata": {},
   "source": [
    "Looks like a slight dropoff after four components."
   ]
  },
  {
   "cell_type": "code",
   "execution_count": null,
   "id": "feda9a2e-fc28-434a-9810-93316db4e9b5",
   "metadata": {},
   "outputs": [],
   "source": [
    "PCA_components_df = pd.DataFrame(principalComponents)\n",
    "\n",
    "plt.scatter(PCA_components_df[0], PCA_components_df[1], alpha=.01, color='black') #Alpha reduced to look for clustering\n",
    "plt.xlabel('PCA 1')\n",
    "plt.ylabel('PCA 2')"
   ]
  },
  {
   "cell_type": "markdown",
   "id": "c6c3ba3b-b1f9-4f42-aad2-3e826e7816b3",
   "metadata": {},
   "source": [
    "Roughly three clusters? Hard to reduce alpha much further for clarity."
   ]
  },
  {
   "cell_type": "code",
   "execution_count": null,
   "id": "d0c77529-bc68-4ced-bbae-fe633c7a191f",
   "metadata": {},
   "outputs": [],
   "source": [
    "ks = range(1, 10)\n",
    "inertias = []\n",
    "for k in ks:\n",
    "    # Create a KMeans instance with k clusters: model\n",
    "    model = KMeans(n_clusters=k)\n",
    "    \n",
    "    # Fit model to samples\n",
    "    model.fit(PCA_components_df.iloc[:,:3])\n",
    "    \n",
    "    # Append the inertia to the list of inertias\n",
    "    inertias.append(model.inertia_)\n",
    "    \n",
    "plt.plot(ks, inertias, '-o', color='black')\n",
    "plt.xlabel('number of clusters, k')\n",
    "plt.ylabel('inertia')\n",
    "plt.xticks(ks)\n",
    "plt.show()"
   ]
  },
  {
   "cell_type": "markdown",
   "id": "4ea604fc-f7db-49e1-ba8e-828eed8a4398",
   "metadata": {},
   "source": [
    "Slight elbow after 3 clusters."
   ]
  },
  {
   "cell_type": "markdown",
   "id": "0058b6ae-baf9-440a-8100-d7a7d64b4687",
   "metadata": {},
   "source": [
    "## Completion Rates by..."
   ]
  },
  {
   "cell_type": "markdown",
   "id": "4cdbbfe3-c3d0-4307-9fe5-138bad6d90df",
   "metadata": {},
   "source": [
    "### State"
   ]
  },
  {
   "cell_type": "code",
   "execution_count": null,
   "id": "013a2d72-2d36-4e9e-a8ce-24177906facf",
   "metadata": {},
   "outputs": [],
   "source": [
    "df2 = df.copy()\n",
    "state_completion_df = df2.groupby(['STFIPS','REASON']).size().reset_index()"
   ]
  },
  {
   "cell_type": "code",
   "execution_count": null,
   "id": "3af7d8b5-7307-4546-b336-a2656d9c7104",
   "metadata": {},
   "outputs": [],
   "source": [
    "state_completion_df = state_completion_df.rename(columns={0:'COUNT'})\n"
   ]
  },
  {
   "cell_type": "code",
   "execution_count": null,
   "id": "4adc0c28-6d57-4f21-a626-9589077eb9e4",
   "metadata": {},
   "outputs": [],
   "source": [
    "state_completion_df['PERC'] = 100 * state_completion_df['COUNT'] / state_completion_df.groupby(['STFIPS'])['COUNT'].transform('sum')\n",
    "\n",
    "state_completion_df = state_completion_df.replace({'STFIPS': state_dict})\n",
    "state_completion_df = state_completion_df.replace({'REASON': reason_dict})"
   ]
  },
  {
   "cell_type": "code",
   "execution_count": null,
   "id": "c16baa4a-ea33-4599-a1f6-df1437c68858",
   "metadata": {},
   "outputs": [],
   "source": [
    "%matplotlib inline\n",
    "\n",
    "import altair as alt\n",
    "\n",
    "#completion_df.groupby(['STFIPS'])['COUNT'].plot.barh(stacked=True,title='DISCHARGE RATES BY STATE', figsize=(8,10))\n",
    "\n",
    "# bar = alt.Chart(state_completion_df).mark_bar().encode(\n",
    "#     y='STFIPS:N',\n",
    "#     x='PERC:Q',\n",
    "#     color='REASON:N',\n",
    "# #    order=alt.Order('PERC', sort='ascending'\n",
    "# #                   )\n",
    "# )\n",
    "\n",
    "bar = alt.Chart(state_completion_df).mark_bar().transform_calculate(\n",
    "        filtered='datum.REASON == \"1 - Treatment Completed\" ? datum.PERC : 0'\n",
    "        ).encode(\n",
    "            x=alt.X('PERC:Q', scale=alt.Scale(domain=(0,100)), axis=alt.Axis(title='Percentage of Cases')),\n",
    "            y=alt.Y('STFIPS:N', sort=alt.SortField('filtered', order = 'descending'), axis=alt.Axis(title='State')),\n",
    "            color='REASON:N',\n",
    "            order=alt.Order('REASON',sort='ascending'))\n",
    "\n",
    "bar"
   ]
  },
  {
   "cell_type": "markdown",
   "id": "3d087265-25ad-456a-bbdd-a77d795c87e9",
   "metadata": {},
   "source": [
    "### Choropleth Testing"
   ]
  },
  {
   "cell_type": "code",
   "execution_count": null,
   "id": "f5d24a98-8d1e-4810-8e1c-7e2227c8f961",
   "metadata": {},
   "outputs": [],
   "source": [
    "state_reason1_df = state_completion_df[state_completion_df['REASON']=='1 - Treatment Completed']"
   ]
  },
  {
   "cell_type": "code",
   "execution_count": null,
   "id": "04f3b688-d45c-4d64-948b-20ebd19f57ca",
   "metadata": {},
   "outputs": [],
   "source": [
    "us_state_to_abbrev = {\n",
    "    \"Alabama\": \"AL\",\n",
    "    \"Alaska\": \"AK\",\n",
    "    \"Arizona\": \"AZ\",\n",
    "    \"Arkansas\": \"AR\",\n",
    "    \"California\": \"CA\",\n",
    "    \"Colorado\": \"CO\",\n",
    "    \"Connecticut\": \"CT\",\n",
    "    \"Delaware\": \"DE\",\n",
    "    \"Florida\": \"FL\",\n",
    "    \"Georgia\": \"GA\",\n",
    "    \"Hawaii\": \"HI\",\n",
    "    \"Idaho\": \"ID\",\n",
    "    \"Illinois\": \"IL\",\n",
    "    \"Indiana\": \"IN\",\n",
    "    \"Iowa\": \"IA\",\n",
    "    \"Kansas\": \"KS\",\n",
    "    \"Kentucky\": \"KY\",\n",
    "    \"Louisiana\": \"LA\",\n",
    "    \"Maine\": \"ME\",\n",
    "    \"Maryland\": \"MD\",\n",
    "    \"Massachusetts\": \"MA\",\n",
    "    \"Michigan\": \"MI\",\n",
    "    \"Minnesota\": \"MN\",\n",
    "    \"Mississippi\": \"MS\",\n",
    "    \"Missouri\": \"MO\",\n",
    "    \"Montana\": \"MT\",\n",
    "    \"Nebraska\": \"NE\",\n",
    "    \"Nevada\": \"NV\",\n",
    "    \"New Hampshire\": \"NH\",\n",
    "    \"New Jersey\": \"NJ\",\n",
    "    \"New Mexico\": \"NM\",\n",
    "    \"New York\": \"NY\",\n",
    "    \"North Carolina\": \"NC\",\n",
    "    \"North Dakota\": \"ND\",\n",
    "    \"Ohio\": \"OH\",\n",
    "    \"Oklahoma\": \"OK\",\n",
    "    \"Oregon\": \"OR\",\n",
    "    \"Pennsylvania\": \"PA\",\n",
    "    \"Rhode Island\": \"RI\",\n",
    "    \"South Carolina\": \"SC\",\n",
    "    \"South Dakota\": \"SD\",\n",
    "    \"Tennessee\": \"TN\",\n",
    "    \"Texas\": \"TX\",\n",
    "    \"Utah\": \"UT\",\n",
    "    \"Vermont\": \"VT\",\n",
    "    \"Virginia\": \"VA\",\n",
    "    \"Washington\": \"WA\",\n",
    "    \"West Virginia\": \"WV\",\n",
    "    \"Wisconsin\": \"WI\",\n",
    "    \"Wyoming\": \"WY\",\n",
    "    \"District of Columbia\": \"DC\",\n",
    "    \"American Samoa\": \"AS\",\n",
    "    \"Guam\": \"GU\",\n",
    "    \"Northern Mariana Islands\": \"MP\",\n",
    "    \"Puerto Rico\": \"PR\",\n",
    "    \"United States Minor Outlying Islands\": \"UM\",\n",
    "    \"U.S. Virgin Islands\": \"VI\",\n",
    "}"
   ]
  },
  {
   "cell_type": "code",
   "execution_count": null,
   "id": "7dd14c52-a763-4f97-a5d7-813283fd4647",
   "metadata": {},
   "outputs": [],
   "source": [
    "state_abbv_df = state_reason1_df.replace({'STFIPS':us_state_to_abbrev})\n",
    "\n",
    "#state_abbv_df"
   ]
  },
  {
   "cell_type": "code",
   "execution_count": null,
   "id": "aa0dd97c-2772-46a3-a8c8-e502df66fa0d",
   "metadata": {},
   "outputs": [],
   "source": [
    "import plotly.graph_objects as go\n",
    "\n",
    "fig = go.Figure(data=go.Choropleth(\n",
    "    locations=state_abbv_df['STFIPS'],\n",
    "    z=state_abbv_df['PERC'],\n",
    "    locationmode = 'USA-states',\n",
    "    colorscale = 'Blues',\n",
    "    colorbar_title = 'Completion Percentage'))\n",
    "\n",
    "fig.update_layout(\n",
    "    title_text = '2019 Substance Treatment Completion Rates by State',\n",
    "    geo_scope='usa')\n",
    "\n",
    "fig.show()"
   ]
  },
  {
   "cell_type": "markdown",
   "id": "35f2c1cf-7ffa-4127-9415-1336db4b8d6f",
   "metadata": {},
   "source": [
    "### Region/Census Division"
   ]
  },
  {
   "cell_type": "code",
   "execution_count": null,
   "id": "0e94f9e8-ab07-4a24-b63c-dc6262542e00",
   "metadata": {},
   "outputs": [],
   "source": [
    "df2 = df.copy()\n",
    "completion_df = df2.groupby(['DIVISION','REASON']).size().reset_index()\n",
    "completion_df = completion_df.rename(columns={0:'COUNT'})\n",
    "completion_df['PERC'] = 100 * completion_df['COUNT'] / completion_df.groupby(['DIVISION'])['COUNT'].transform('sum')\n",
    "\n",
    "bar = alt.Chart(completion_df).mark_bar().encode(\n",
    "    x='DIVISION:N',\n",
    "    y='PERC',\n",
    "    color='REASON:N',\n",
    "#    order=alt.Order('PERC', sort='ascending'\n",
    "#                   )\n",
    ")\n",
    "\n",
    "bar"
   ]
  },
  {
   "cell_type": "markdown",
   "id": "3001432b-5301-4271-aa3e-fc988f190511",
   "metadata": {},
   "source": [
    "### Treatment Type @ Admission"
   ]
  },
  {
   "cell_type": "code",
   "execution_count": null,
   "id": "0df6ff9c-3d99-450d-a3fc-3f3d291e6586",
   "metadata": {},
   "outputs": [],
   "source": [
    "df3 = df.copy()\n",
    "completion_df = df3.groupby(['SERVICES','REASON']).size().reset_index()\n",
    "completion_df = completion_df.rename(columns={0:'COUNT'})\n",
    "completion_df['PERC'] = 100 * completion_df['COUNT'] / completion_df.groupby(['SERVICES'])['COUNT'].transform('sum')\n",
    "\n",
    "bar = alt.Chart(completion_df).mark_bar().encode(\n",
    "    x='SERVICES:N',\n",
    "    y='PERC',\n",
    "    color='REASON:N',\n",
    "#    order=alt.Order('PERC', sort='ascending'\n",
    "#                   )\n",
    ")\n",
    "\n",
    "bar"
   ]
  },
  {
   "cell_type": "markdown",
   "id": "86c1026d-8851-42d1-98de-a227436006c0",
   "metadata": {},
   "source": [
    "### Treatment Type @ Discharge"
   ]
  },
  {
   "cell_type": "code",
   "execution_count": null,
   "id": "c4228d45-a4ee-41b6-9d78-74766a18c9a7",
   "metadata": {},
   "outputs": [],
   "source": [
    "df4 = df.copy()\n",
    "completion_df = df4.groupby(['SERVICES_D','REASON']).size().reset_index()\n",
    "completion_df = completion_df.rename(columns={0:'COUNT'})\n",
    "completion_df['PERC'] = 100 * completion_df['COUNT'] / completion_df.groupby(['SERVICES_D'])['COUNT'].transform('sum')\n",
    "\n",
    "bar = alt.Chart(completion_df).mark_bar().encode(\n",
    "    x='SERVICES_D:N',\n",
    "    y='PERC',\n",
    "    color='REASON:N',\n",
    "#    order=alt.Order('PERC', sort='ascending'\n",
    "#                   )\n",
    ")\n",
    "\n",
    "bar"
   ]
  },
  {
   "cell_type": "code",
   "execution_count": null,
   "id": "37730b9e-0025-4451-ab12-69e1d0517e7f",
   "metadata": {},
   "outputs": [],
   "source": []
  }
 ],
 "metadata": {
  "kernelspec": {
   "display_name": "Python 3",
   "language": "python",
   "name": "python3"
  },
  "language_info": {
   "codemirror_mode": {
    "name": "ipython",
    "version": 3
   },
   "file_extension": ".py",
   "mimetype": "text/x-python",
   "name": "python",
   "nbconvert_exporter": "python",
   "pygments_lexer": "ipython3",
   "version": "3.7.10"
  }
 },
 "nbformat": 4,
 "nbformat_minor": 5
}
