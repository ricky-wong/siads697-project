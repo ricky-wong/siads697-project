{
 "cells": [
  {
   "cell_type": "code",
   "execution_count": null,
   "id": "median-teach",
   "metadata": {},
   "outputs": [],
   "source": [
    "from util import *\n",
    "from feature_eng import *"
   ]
  },
  {
   "cell_type": "code",
   "execution_count": null,
   "id": "9351dbcf-85ca-40e8-9ce3-7f3c870a4c09",
   "metadata": {},
   "outputs": [],
   "source": [
    "import pandas as pd\n",
    "import numpy as np\n",
    "import matplotlib.pylab as plt\n",
    "%matplotlib inline\n",
    "import seaborn as sns\n",
    "import dtale\n",
    "from sklearn.preprocessing import StandardScaler\n",
    "from sklearn.decomposition import PCA\n",
    "from sklearn.cluster import KMeans\n",
    "from prince import MCA\n",
    "from prince import FAMD"
   ]
  },
  {
   "cell_type": "code",
   "execution_count": null,
   "id": "aef137cd-9e48-472f-b5bf-d9cb7f400147",
   "metadata": {},
   "outputs": [],
   "source": [
    "df = read_csv('TEDS-D-2019-DS0001-bndl-data-tsv_V1.zip')"
   ]
  },
  {
   "cell_type": "markdown",
   "id": "22c864a4-4f5a-4856-a7d3-6e323f2d570c",
   "metadata": {},
   "source": [
    "## Select Columns"
   ]
  },
  {
   "cell_type": "markdown",
   "id": "366ff367-256e-4fe6-8863-23ee08f7f1b0",
   "metadata": {},
   "source": [
    "##### Drop Unnecessary"
   ]
  },
  {
   "cell_type": "code",
   "execution_count": null,
   "id": "b566e985-69f1-45cd-9278-10f3e656b575",
   "metadata": {
    "scrolled": false
   },
   "outputs": [],
   "source": [
    "#Unnecessary columns\n",
    "unnecessarys = ['DISYR','CASEID','CBSA2010','DETCRIM','PREG','DAYWAIT','SERVICES_D','EMPLOY_D','LIVARAG_D','ARRESTS_D',\n",
    "                     'DETNLF_D','SUB3','SUB3_D','ROUTE3','FREQ3','FREQ3_D','FRSTUSE3','FREQ_ATND_SELF_HELP_D']\n",
    "\n",
    "#High missing data counts\n",
    "high_missing = ['DETNLF','PRIMINC','SUB2','SUB2_D','ROUTE2','FREQ2','FREQ1_D','FREQ2_D','FRSTUSE2','HLTHINS','PRIMPAY']\n",
    "\n",
    "#Drop substance flag columns\n",
    "substance = ['ALCFLG','COKEFLG', 'MARFLG', 'HERFLG', 'METHFLG', 'OPSYNFLG', 'PCPFLG', \n",
    "             'HALLFLG', 'MTHAMFLG', 'AMPHFLG', 'STIMFLG', 'BENZFLG', 'TRNQFLG', \n",
    "             'BARBFLG', 'SEDHPFLG', 'INHFLG', 'OTCFLG', 'OTHERFLG']\n",
    "\n",
    "columns = unnecessarys + high_missing + substance\n",
    "\n",
    "# Remove columns + NaNs\n",
    "df_drop = clean_df(df.copy(), columns)"
   ]
  },
  {
   "cell_type": "code",
   "execution_count": null,
   "id": "d26f944a-2cc4-4f86-a9b1-8f2ecad09bfb",
   "metadata": {},
   "outputs": [],
   "source": [
    "df_drop.head()"
   ]
  },
  {
   "cell_type": "markdown",
   "id": "8cb54ba7-0957-4631-9d86-e9023d8ac4f9",
   "metadata": {},
   "source": [
    "## Feature Engineering"
   ]
  },
  {
   "cell_type": "markdown",
   "id": "3e025df2-463b-431c-ad26-059dd39cfa73",
   "metadata": {},
   "source": [
    "#### Norm Mean of LOS"
   ]
  },
  {
   "cell_type": "code",
   "execution_count": null,
   "id": "operating-center",
   "metadata": {},
   "outputs": [],
   "source": [
    "#Change LOS categories to minimum of range\n",
    "df_drop.loc[df_drop['LOS'] == 32, 'LOS'] = 46\n",
    "df_drop.loc[df_drop['LOS'] == 33, 'LOS'] = 61\n",
    "df_drop.loc[df_drop['LOS'] == 34, 'LOS'] = 91\n",
    "df_drop.loc[df_drop['LOS'] == 35, 'LOS'] = 121\n",
    "df_drop.loc[df_drop['LOS'] == 36, 'LOS'] = 181\n",
    "df_drop.loc[df_drop['LOS'] == 37, 'LOS'] = 366\n",
    "\n",
    "df_drop = compute_LOS_norm(df_drop)"
   ]
  },
  {
   "cell_type": "markdown",
   "id": "445982f8-257b-4eb3-ac82-79bde745a889",
   "metadata": {},
   "source": [
    "#### Binary Discharge Status"
   ]
  },
  {
   "cell_type": "code",
   "execution_count": null,
   "id": "72a7a003-c999-431e-a437-785f2b3d2ecf",
   "metadata": {},
   "outputs": [],
   "source": [
    "df_drop.loc[df_drop['REASON'] == 1, 'REASONbinary'] = 1\n",
    "df_drop.loc[df_drop['REASON'] != 1, 'REASONbinary'] = 0"
   ]
  },
  {
   "cell_type": "code",
   "execution_count": null,
   "id": "3cd65871-e882-4459-a7d6-a737ff9bd6d8",
   "metadata": {},
   "outputs": [],
   "source": [
    "df_drop.columns"
   ]
  },
  {
   "cell_type": "markdown",
   "id": "65cc946d-78fd-4dd7-ae52-1f301cb185fa",
   "metadata": {},
   "source": [
    "## Multiple Correspondence Analysis (MCA)"
   ]
  },
  {
   "cell_type": "code",
   "execution_count": null,
   "id": "decimal-seventh",
   "metadata": {
    "scrolled": true
   },
   "outputs": [],
   "source": [
    "# Make all columns but LOSnorm to strings\n",
    "df_categories = df_drop.copy()\n",
    "str_columns = df_drop.columns.drop('LOSnorm')\n",
    "df_categories[str_columns] = df_categories[str_columns].applymap(str)"
   ]
  },
  {
   "cell_type": "code",
   "execution_count": null,
   "id": "adjustable-perth",
   "metadata": {
    "scrolled": true
   },
   "outputs": [],
   "source": [
    "features = df_categories.columns.drop('REASONbinary')\n",
    "mca = MCA(n_components=5, n_iter=3, random_state=101)\n",
    "model, transformed = unsupervised_model(df_categories, features, mca)"
   ]
  },
  {
   "cell_type": "code",
   "execution_count": null,
   "id": "floating-documentary",
   "metadata": {
    "scrolled": false
   },
   "outputs": [],
   "source": [
    "%matplotlib inline\n",
    "\n",
    "mca.plot_coordinates(X=df_categories[features])"
   ]
  },
  {
   "cell_type": "markdown",
   "id": "33bf1fdb-db79-4e90-a240-35e4931e72c3",
   "metadata": {},
   "source": [
    "## Factor Analysis of Mixed Data (FAMD)"
   ]
  },
  {
   "cell_type": "code",
   "execution_count": null,
   "id": "later-shakespeare",
   "metadata": {},
   "outputs": [],
   "source": [
    "famd = FAMD(n_components=2, n_iter=3, random_state=101)\n",
    "\n",
    "features = df_categories.columns.drop('SERVICES')\n",
    "\n",
    "model, transformed = unsupervised_model(df_categories, features, famd)"
   ]
  },
  {
   "cell_type": "code",
   "execution_count": null,
   "id": "polished-sunglasses",
   "metadata": {},
   "outputs": [],
   "source": [
    "famd.plot_row_coordinates(df_categories,color_labels=[f'Service {t}' for t in df_categories['SERVICES']])"
   ]
  },
  {
   "cell_type": "markdown",
   "id": "3807ab90-ee08-4df2-8827-b82c3d82b505",
   "metadata": {},
   "source": [
    "## PCA on Reduced Set with Dummy Variables"
   ]
  },
  {
   "cell_type": "code",
   "execution_count": null,
   "id": "20f33e32-f186-4ed5-8d72-0b0dc218493d",
   "metadata": {},
   "outputs": [],
   "source": [
    "columns = ['STFIPS', 'EDUC', 'MARSTAT', 'SERVICES', 'LOS', 'PSOURCE', 'NOPRIOR',\n",
    "                                   'ARRESTS', 'EMPLOY', 'METHUSE', 'PSYPROB', 'GENDER', 'VET', 'LIVARAG',\n",
    "                                   'REASON', 'DSMCRIT', 'AGE', 'RACE', 'ETHNIC', 'SUB1', 'SUB1_D',\n",
    "                                   'ROUTE1', 'FREQ1', 'FRSTUSE1', 'FREQ_ATND_SELF_HELP', 'DIVISION',\n",
    "                                   'REGION', 'IDU', 'ALCDRUG']\n",
    "\n",
    "df_dummies = pd.get_dummies(df_drop, prefix=columns, prefix_sep='_', columns=columns)\n",
    "\n",
    "df_dummies.head()"
   ]
  },
  {
   "cell_type": "markdown",
   "id": "c51b17e3-1736-4af7-8810-c8101e967f4e",
   "metadata": {},
   "source": [
    "#### Create Dummy Variable DF for Categories"
   ]
  },
  {
   "cell_type": "markdown",
   "id": "5c534e8d-9841-4b0f-be25-abc22566053b",
   "metadata": {},
   "source": [
    "#### Binary Status as Y"
   ]
  },
  {
   "cell_type": "code",
   "execution_count": null,
   "id": "afraid-sleep",
   "metadata": {
    "scrolled": true
   },
   "outputs": [],
   "source": [
    "columns = df_dummies.columns.drop('REASONbinary')\n",
    "\n",
    "scaled_df = preprocess(df_dummies, [columns], [StandardScaler()], remainder='drop')"
   ]
  },
  {
   "cell_type": "code",
   "execution_count": null,
   "id": "hearing-ridge",
   "metadata": {},
   "outputs": [],
   "source": [
    "# pca, transformed_X = unsupervised_model(df_dummies, features, PCA(n_components=10))\n",
    "pca = PCA(n_components=10)\n",
    "pca.fit(scaled_df)\n",
    "transformed = pca.transform(scaled_df)"
   ]
  },
  {
   "cell_type": "code",
   "execution_count": null,
   "id": "supreme-principle",
   "metadata": {},
   "outputs": [],
   "source": [
    "components = range(pca.n_components_)\n",
    "\n",
    "plt.bar(components, pca.explained_variance_ratio_, color='black')\n",
    "plt.xlabel('PCA features')\n",
    "plt.ylabel('variance %')\n",
    "plt.xticks(components)"
   ]
  },
  {
   "cell_type": "code",
   "execution_count": null,
   "id": "2736d92f-188c-4a7a-aefe-6b55b520a506",
   "metadata": {},
   "outputs": [],
   "source": [
    "PCA_components_df = pd.DataFrame(principalComponents)\n",
    "\n",
    "plt.scatter(PCA_components_df[0], PCA_components_df[1], alpha=.01, color='black') #Alpha reduced to look for clustering\n",
    "plt.xlabel('PCA 1')\n",
    "plt.ylabel('PCA 2')"
   ]
  },
  {
   "cell_type": "code",
   "execution_count": null,
   "id": "fe1233f5-e886-443f-9713-b1fde68ccf1b",
   "metadata": {},
   "outputs": [],
   "source": [
    "ks = range(1, 10)\n",
    "inertias = []\n",
    "for k in ks:\n",
    "    # Create a KMeans instance with k clusters: model\n",
    "    model = KMeans(n_clusters=k)\n",
    "    \n",
    "    # Fit model to samples\n",
    "    model.fit(PCA_components_df.iloc[:,:3])\n",
    "    \n",
    "    # Append the inertia to the list of inertias\n",
    "    inertias.append(model.inertia_)\n",
    "    \n",
    "plt.plot(ks, inertias, '-o', color='black')\n",
    "plt.xlabel('number of clusters, k')\n",
    "plt.ylabel('inertia')\n",
    "plt.xticks(ks)\n",
    "plt.show()"
   ]
  },
  {
   "cell_type": "code",
   "execution_count": null,
   "id": "8beaa92e-ce15-486c-a192-1fdc25b65574",
   "metadata": {},
   "outputs": [],
   "source": [
    "pca = (PCA(n_components=2))\n",
    "\n",
    "principalComponents = pca.fit_transform(x)\n",
    "\n",
    "principalDf = pd.DataFrame(data = principalComponents\n",
    "                          , columns = ['PC1','PC2'])\n",
    "\n",
    "finalDf = pd.concat([principalDf, df_drop[['REASONbinary']]], axis=1)"
   ]
  },
  {
   "cell_type": "code",
   "execution_count": null,
   "id": "01842891-97b7-4c92-8dd3-41fe822db11b",
   "metadata": {},
   "outputs": [],
   "source": [
    "%matplotlib inline\n",
    "\n",
    "fig = plt.figure(figsize =(8,8))\n",
    "ax = fig.add_subplot(1,1,1)\n",
    "\n",
    "ax.set_xlabel('Principal Component 1', fontsize = 15)\n",
    "ax.set_ylabel('Principal Component 2', fontsize = 15)\n",
    "ax.set_title('2 component PCA', fontsize = 20)\n",
    "targets = [0,1]\n",
    "\n",
    "colors = ['r','b']\n",
    "for target, color in zip(targets,colors):\n",
    "    indicesToKeep = finalDf['REASONbinary'] == target\n",
    "    ax.scatter(finalDf.loc[indicesToKeep, 'PC1']\n",
    "               , finalDf.loc[indicesToKeep, 'PC2']\n",
    "               , c = color\n",
    "               , s = 50)\n",
    "ax.legend(targets)\n",
    "ax.grid()\n",
    "\n",
    "ax.set_xlim([-7.5,7.5])\n",
    "ax.set_ylim([-7.5,7.5])"
   ]
  },
  {
   "cell_type": "markdown",
   "id": "b18b5562-814f-49c4-9244-6aa85bc8a586",
   "metadata": {},
   "source": [
    "#### LOSnorm as Y"
   ]
  },
  {
   "cell_type": "code",
   "execution_count": null,
   "id": "6ea5c788-4782-4fd7-9210-7d4afd4c2294",
   "metadata": {},
   "outputs": [],
   "source": [
    "x = df_dummies.loc[:, df_dummies.columns != 'LOSnorm'].values\n",
    "\n",
    "y = df_dummies.loc[:, ['LOSnorm']].values\n",
    "\n",
    "x = StandardScaler().fit_transform(x)"
   ]
  },
  {
   "cell_type": "code",
   "execution_count": null,
   "id": "aa2c464f-f517-486a-9dad-fe8decf932d4",
   "metadata": {},
   "outputs": [],
   "source": [
    "pca = PCA(n_components=10)\n",
    "principalComponents = pca.fit_transform(x)\n",
    "\n",
    "features = range(pca.n_components_)\n",
    "\n",
    "plt.bar(features, pca.explained_variance_ratio_, color='black')\n",
    "plt.xlabel('PCA features')\n",
    "plt.ylabel('variance %')\n",
    "plt.xticks(features)"
   ]
  },
  {
   "cell_type": "code",
   "execution_count": null,
   "id": "c7c56ed8-abf5-4c6d-9456-76f9178d3225",
   "metadata": {},
   "outputs": [],
   "source": [
    "PCA_components_df = pd.DataFrame(principalComponents)\n",
    "\n",
    "plt.scatter(PCA_components_df[0], PCA_components_df[1], alpha=.01, color='black') #Alpha reduced to look for clustering\n",
    "plt.xlabel('PCA 1')\n",
    "plt.ylabel('PCA 2')"
   ]
  },
  {
   "cell_type": "code",
   "execution_count": null,
   "id": "f3a1c0d0-6d6e-4905-b9d5-7e4375274297",
   "metadata": {},
   "outputs": [],
   "source": [
    "ks = range(1, 10)\n",
    "inertias = []\n",
    "for k in ks:\n",
    "    # Create a KMeans instance with k clusters: model\n",
    "    model = KMeans(n_clusters=k)\n",
    "    \n",
    "    # Fit model to samples\n",
    "    model.fit(PCA_components_df.iloc[:,:3])\n",
    "    \n",
    "    # Append the inertia to the list of inertias\n",
    "    inertias.append(model.inertia_)\n",
    "    \n",
    "plt.plot(ks, inertias, '-o', color='black')\n",
    "plt.xlabel('number of clusters, k')\n",
    "plt.ylabel('inertia')\n",
    "plt.xticks(ks)\n",
    "plt.show()"
   ]
  },
  {
   "cell_type": "code",
   "execution_count": null,
   "id": "0321233c-584f-4020-ba4c-eee6ea96014a",
   "metadata": {},
   "outputs": [],
   "source": []
  }
 ],
 "metadata": {
  "kernelspec": {
   "display_name": "Python 3",
   "language": "python",
   "name": "python3"
  },
  "language_info": {
   "codemirror_mode": {
    "name": "ipython",
    "version": 3
   },
   "file_extension": ".py",
   "mimetype": "text/x-python",
   "name": "python",
   "nbconvert_exporter": "python",
   "pygments_lexer": "ipython3",
   "version": "3.7.10"
  }
 },
 "nbformat": 4,
 "nbformat_minor": 5
}
