{
 "cells": [
  {
   "cell_type": "code",
   "execution_count": 1,
   "id": "delayed-feeding",
   "metadata": {},
   "outputs": [
    {
     "data": {
      "text/plain": [
       "datetime.datetime(2022, 4, 22, 21, 43, 33, 111983)"
      ]
     },
     "execution_count": 1,
     "metadata": {},
     "output_type": "execute_result"
    }
   ],
   "source": [
    "import datetime\n",
    "start_time = datetime.datetime.now()\n",
    "start_time"
   ]
  },
  {
   "cell_type": "code",
   "execution_count": 2,
   "id": "a5fa3798",
   "metadata": {},
   "outputs": [],
   "source": [
    "# Also runs installation of dependencies\n",
    "from util import *"
   ]
  },
  {
   "cell_type": "code",
   "execution_count": 3,
   "id": "demanding-arrow",
   "metadata": {},
   "outputs": [],
   "source": [
    "import pandas as pd\n",
    "import numpy as np\n",
    "import matplotlib.pylab as plt\n",
    "import seaborn as sns\n",
    "import dtale\n",
    "from sklearn.preprocessing import StandardScaler\n",
    "from sklearn.preprocessing import StandardScaler\n",
    "from sklearn.decomposition import PCA\n",
    "from sklearn.cluster import KMeans"
   ]
  },
  {
   "cell_type": "code",
   "execution_count": 4,
   "id": "ae68ded9-c1eb-4228-87c3-8d4ae29e80b3",
   "metadata": {},
   "outputs": [
    {
     "data": {
      "text/plain": [
       "(1722503, 76)"
      ]
     },
     "execution_count": 4,
     "metadata": {},
     "output_type": "execute_result"
    }
   ],
   "source": [
    "df = read_csv('dataset/TEDS-D-2019-DS0001-bndl-data-tsv_V1.zip')\n",
    "df.shape"
   ]
  },
  {
   "cell_type": "code",
   "execution_count": 5,
   "id": "6921fe11-cedc-4831-bd52-917b87b17568",
   "metadata": {},
   "outputs": [
    {
     "data": {
      "text/html": [
       "<div>\n",
       "<style scoped>\n",
       "    .dataframe tbody tr th:only-of-type {\n",
       "        vertical-align: middle;\n",
       "    }\n",
       "\n",
       "    .dataframe tbody tr th {\n",
       "        vertical-align: top;\n",
       "    }\n",
       "\n",
       "    .dataframe thead th {\n",
       "        text-align: right;\n",
       "    }\n",
       "</style>\n",
       "<table border=\"1\" class=\"dataframe\">\n",
       "  <thead>\n",
       "    <tr style=\"text-align: right;\">\n",
       "      <th></th>\n",
       "      <th>DISYR</th>\n",
       "      <th>CASEID</th>\n",
       "      <th>STFIPS</th>\n",
       "      <th>CBSA2010</th>\n",
       "      <th>EDUC</th>\n",
       "      <th>MARSTAT</th>\n",
       "      <th>SERVICES</th>\n",
       "      <th>DETCRIM</th>\n",
       "      <th>LOS</th>\n",
       "      <th>PSOURCE</th>\n",
       "      <th>...</th>\n",
       "      <th>TRNQFLG</th>\n",
       "      <th>BARBFLG</th>\n",
       "      <th>SEDHPFLG</th>\n",
       "      <th>INHFLG</th>\n",
       "      <th>OTCFLG</th>\n",
       "      <th>OTHERFLG</th>\n",
       "      <th>DIVISION</th>\n",
       "      <th>REGION</th>\n",
       "      <th>IDU</th>\n",
       "      <th>ALCDRUG</th>\n",
       "    </tr>\n",
       "  </thead>\n",
       "  <tbody>\n",
       "    <tr>\n",
       "      <th>0</th>\n",
       "      <td>2019</td>\n",
       "      <td>20191553576</td>\n",
       "      <td>2</td>\n",
       "      <td>-9</td>\n",
       "      <td>4</td>\n",
       "      <td>1</td>\n",
       "      <td>7</td>\n",
       "      <td>-9</td>\n",
       "      <td>37</td>\n",
       "      <td>1</td>\n",
       "      <td>...</td>\n",
       "      <td>0</td>\n",
       "      <td>0</td>\n",
       "      <td>0</td>\n",
       "      <td>0</td>\n",
       "      <td>0</td>\n",
       "      <td>0</td>\n",
       "      <td>9</td>\n",
       "      <td>4</td>\n",
       "      <td>0</td>\n",
       "      <td>1</td>\n",
       "    </tr>\n",
       "    <tr>\n",
       "      <th>1</th>\n",
       "      <td>2019</td>\n",
       "      <td>20191465214</td>\n",
       "      <td>2</td>\n",
       "      <td>-9</td>\n",
       "      <td>3</td>\n",
       "      <td>1</td>\n",
       "      <td>7</td>\n",
       "      <td>-9</td>\n",
       "      <td>35</td>\n",
       "      <td>1</td>\n",
       "      <td>...</td>\n",
       "      <td>0</td>\n",
       "      <td>0</td>\n",
       "      <td>0</td>\n",
       "      <td>0</td>\n",
       "      <td>0</td>\n",
       "      <td>0</td>\n",
       "      <td>9</td>\n",
       "      <td>4</td>\n",
       "      <td>0</td>\n",
       "      <td>3</td>\n",
       "    </tr>\n",
       "    <tr>\n",
       "      <th>2</th>\n",
       "      <td>2019</td>\n",
       "      <td>20191443889</td>\n",
       "      <td>2</td>\n",
       "      <td>-9</td>\n",
       "      <td>2</td>\n",
       "      <td>1</td>\n",
       "      <td>7</td>\n",
       "      <td>-9</td>\n",
       "      <td>35</td>\n",
       "      <td>1</td>\n",
       "      <td>...</td>\n",
       "      <td>0</td>\n",
       "      <td>0</td>\n",
       "      <td>0</td>\n",
       "      <td>0</td>\n",
       "      <td>0</td>\n",
       "      <td>0</td>\n",
       "      <td>9</td>\n",
       "      <td>4</td>\n",
       "      <td>0</td>\n",
       "      <td>3</td>\n",
       "    </tr>\n",
       "    <tr>\n",
       "      <th>3</th>\n",
       "      <td>2019</td>\n",
       "      <td>20191409377</td>\n",
       "      <td>2</td>\n",
       "      <td>-9</td>\n",
       "      <td>3</td>\n",
       "      <td>1</td>\n",
       "      <td>7</td>\n",
       "      <td>-9</td>\n",
       "      <td>37</td>\n",
       "      <td>1</td>\n",
       "      <td>...</td>\n",
       "      <td>0</td>\n",
       "      <td>0</td>\n",
       "      <td>0</td>\n",
       "      <td>0</td>\n",
       "      <td>0</td>\n",
       "      <td>0</td>\n",
       "      <td>9</td>\n",
       "      <td>4</td>\n",
       "      <td>0</td>\n",
       "      <td>3</td>\n",
       "    </tr>\n",
       "    <tr>\n",
       "      <th>4</th>\n",
       "      <td>2019</td>\n",
       "      <td>20191479567</td>\n",
       "      <td>2</td>\n",
       "      <td>-9</td>\n",
       "      <td>3</td>\n",
       "      <td>3</td>\n",
       "      <td>7</td>\n",
       "      <td>-9</td>\n",
       "      <td>37</td>\n",
       "      <td>1</td>\n",
       "      <td>...</td>\n",
       "      <td>0</td>\n",
       "      <td>0</td>\n",
       "      <td>0</td>\n",
       "      <td>0</td>\n",
       "      <td>0</td>\n",
       "      <td>0</td>\n",
       "      <td>9</td>\n",
       "      <td>4</td>\n",
       "      <td>0</td>\n",
       "      <td>1</td>\n",
       "    </tr>\n",
       "  </tbody>\n",
       "</table>\n",
       "<p>5 rows × 76 columns</p>\n",
       "</div>"
      ],
      "text/plain": [
       "   DISYR       CASEID  STFIPS  CBSA2010  EDUC  MARSTAT  SERVICES  DETCRIM  \\\n",
       "0   2019  20191553576       2        -9     4        1         7       -9   \n",
       "1   2019  20191465214       2        -9     3        1         7       -9   \n",
       "2   2019  20191443889       2        -9     2        1         7       -9   \n",
       "3   2019  20191409377       2        -9     3        1         7       -9   \n",
       "4   2019  20191479567       2        -9     3        3         7       -9   \n",
       "\n",
       "   LOS  PSOURCE  ...  TRNQFLG  BARBFLG  SEDHPFLG  INHFLG  OTCFLG  OTHERFLG  \\\n",
       "0   37        1  ...        0        0         0       0       0         0   \n",
       "1   35        1  ...        0        0         0       0       0         0   \n",
       "2   35        1  ...        0        0         0       0       0         0   \n",
       "3   37        1  ...        0        0         0       0       0         0   \n",
       "4   37        1  ...        0        0         0       0       0         0   \n",
       "\n",
       "   DIVISION  REGION  IDU  ALCDRUG  \n",
       "0         9       4    0        1  \n",
       "1         9       4    0        3  \n",
       "2         9       4    0        3  \n",
       "3         9       4    0        3  \n",
       "4         9       4    0        1  \n",
       "\n",
       "[5 rows x 76 columns]"
      ]
     },
     "execution_count": 5,
     "metadata": {},
     "output_type": "execute_result"
    }
   ],
   "source": [
    "df.head()"
   ]
  },
  {
   "cell_type": "code",
   "execution_count": 6,
   "id": "204a2696-3e36-478b-9acb-c8bb8e17a796",
   "metadata": {},
   "outputs": [
    {
     "data": {
      "text/plain": [
       "Index(['DISYR', 'CASEID', 'STFIPS', 'CBSA2010', 'EDUC', 'MARSTAT', 'SERVICES',\n",
       "       'DETCRIM', 'LOS', 'PSOURCE', 'NOPRIOR', 'ARRESTS', 'EMPLOY', 'METHUSE',\n",
       "       'PSYPROB', 'PREG', 'GENDER', 'VET', 'LIVARAG', 'DAYWAIT', 'SERVICES_D',\n",
       "       'REASON', 'EMPLOY_D', 'LIVARAG_D', 'ARRESTS_D', 'DSMCRIT', 'AGE',\n",
       "       'RACE', 'ETHNIC', 'DETNLF', 'DETNLF_D', 'PRIMINC', 'SUB1', 'SUB2',\n",
       "       'SUB3', 'SUB1_D', 'SUB2_D', 'SUB3_D', 'ROUTE1', 'ROUTE2', 'ROUTE3',\n",
       "       'FREQ1', 'FREQ2', 'FREQ3', 'FREQ1_D', 'FREQ2_D', 'FREQ3_D', 'FRSTUSE1',\n",
       "       'FRSTUSE2', 'FRSTUSE3', 'HLTHINS', 'PRIMPAY', 'FREQ_ATND_SELF_HELP',\n",
       "       'FREQ_ATND_SELF_HELP_D', 'ALCFLG', 'COKEFLG', 'MARFLG', 'HERFLG',\n",
       "       'METHFLG', 'OPSYNFLG', 'PCPFLG', 'HALLFLG', 'MTHAMFLG', 'AMPHFLG',\n",
       "       'STIMFLG', 'BENZFLG', 'TRNQFLG', 'BARBFLG', 'SEDHPFLG', 'INHFLG',\n",
       "       'OTCFLG', 'OTHERFLG', 'DIVISION', 'REGION', 'IDU', 'ALCDRUG'],\n",
       "      dtype='object')"
      ]
     },
     "execution_count": 6,
     "metadata": {},
     "output_type": "execute_result"
    }
   ],
   "source": [
    "df.columns"
   ]
  },
  {
   "cell_type": "code",
   "execution_count": 7,
   "id": "8957f69a-9005-493e-b7fb-a28d14047e71",
   "metadata": {},
   "outputs": [
    {
     "data": {
      "text/plain": [
       "DISYR             1\n",
       "CASEID      1722503\n",
       "STFIPS           49\n",
       "CBSA2010        279\n",
       "EDUC              6\n",
       "             ...   \n",
       "OTHERFLG          2\n",
       "DIVISION         10\n",
       "REGION            5\n",
       "IDU               3\n",
       "ALCDRUG           4\n",
       "Length: 76, dtype: int64"
      ]
     },
     "execution_count": 7,
     "metadata": {},
     "output_type": "execute_result"
    }
   ],
   "source": [
    "df.nunique(axis=0)"
   ]
  },
  {
   "cell_type": "markdown",
   "id": "566ada03-ac87-47b9-b9f0-9c9a450c4746",
   "metadata": {},
   "source": [
    "## PCA Testing (Select Features, 2 components)"
   ]
  },
  {
   "cell_type": "code",
   "execution_count": 8,
   "id": "present-radiation",
   "metadata": {
    "scrolled": true
   },
   "outputs": [],
   "source": [
    "test_df = df.head()\n",
    "\n",
    "features = ['LOS','SERVICES','PSOURCE','SUB1','ROUTE1','FREQ1','DSMCRIT','PSYPROB','HLTHINS']\n",
    "test_df = preprocess_df(test_df, features, StandardScaler())\n",
    "\n",
    "pca, transformed_X = unsupervised_model(test_df, features, PCA(n_components=2))\n",
    "\n",
    "principalDf = pd.DataFrame(data = transformed_X, columns = ['PC1','PC2'])\n",
    "\n",
    "final_df = pd.concat([principalDf, test_df[['REASON']]], axis=1)"
   ]
  },
  {
   "cell_type": "code",
   "execution_count": 9,
   "id": "7081744c",
   "metadata": {},
   "outputs": [
    {
     "data": {
      "application/vnd.plotly.v1+json": {
       "config": {
        "plotlyServerURL": "https://plot.ly",
        "staticPlot": true
       },
       "data": [
        {
         "hovertemplate": "color=1<br>Principal Component 1=%{x}<br>Principal Component 2=%{y}<extra></extra>",
         "legendgroup": "1",
         "marker": {
          "color": "#636efa",
          "symbol": "circle"
         },
         "mode": "markers",
         "name": "1",
         "orientation": "v",
         "showlegend": true,
         "type": "scatter",
         "x": [
          0.376942215129494,
          -1.6883456727393078
         ],
         "xaxis": "x",
         "y": [
          1.443375672974065,
          7.308838763229608e-16
         ],
         "yaxis": "y"
        },
        {
         "hovertemplate": "color=3<br>Principal Component 1=%{x}<br>Principal Component 2=%{y}<extra></extra>",
         "legendgroup": "3",
         "marker": {
          "color": "#EF553B",
          "symbol": "circle"
         },
         "mode": "markers",
         "name": "3",
         "orientation": "v",
         "showlegend": true,
         "type": "scatter",
         "x": [
          0.37694221512949244,
          2.6228069152196287,
          -1.6883456727393078
         ],
         "xaxis": "x",
         "y": [
          -1.4433756729740639,
          -2.4983588939597844e-15,
          7.308838763229608e-16
         ],
         "yaxis": "y"
        }
       ],
       "layout": {
        "legend": {
         "title": {
          "text": "color"
         },
         "tracegroupgap": 0
        },
        "template": {
         "data": {
          "bar": [
           {
            "error_x": {
             "color": "#2a3f5f"
            },
            "error_y": {
             "color": "#2a3f5f"
            },
            "marker": {
             "line": {
              "color": "#E5ECF6",
              "width": 0.5
             },
             "pattern": {
              "fillmode": "overlay",
              "size": 10,
              "solidity": 0.2
             }
            },
            "type": "bar"
           }
          ],
          "barpolar": [
           {
            "marker": {
             "line": {
              "color": "#E5ECF6",
              "width": 0.5
             },
             "pattern": {
              "fillmode": "overlay",
              "size": 10,
              "solidity": 0.2
             }
            },
            "type": "barpolar"
           }
          ],
          "carpet": [
           {
            "aaxis": {
             "endlinecolor": "#2a3f5f",
             "gridcolor": "white",
             "linecolor": "white",
             "minorgridcolor": "white",
             "startlinecolor": "#2a3f5f"
            },
            "baxis": {
             "endlinecolor": "#2a3f5f",
             "gridcolor": "white",
             "linecolor": "white",
             "minorgridcolor": "white",
             "startlinecolor": "#2a3f5f"
            },
            "type": "carpet"
           }
          ],
          "choropleth": [
           {
            "colorbar": {
             "outlinewidth": 0,
             "ticks": ""
            },
            "type": "choropleth"
           }
          ],
          "contour": [
           {
            "colorbar": {
             "outlinewidth": 0,
             "ticks": ""
            },
            "colorscale": [
             [
              0,
              "#0d0887"
             ],
             [
              0.1111111111111111,
              "#46039f"
             ],
             [
              0.2222222222222222,
              "#7201a8"
             ],
             [
              0.3333333333333333,
              "#9c179e"
             ],
             [
              0.4444444444444444,
              "#bd3786"
             ],
             [
              0.5555555555555556,
              "#d8576b"
             ],
             [
              0.6666666666666666,
              "#ed7953"
             ],
             [
              0.7777777777777778,
              "#fb9f3a"
             ],
             [
              0.8888888888888888,
              "#fdca26"
             ],
             [
              1,
              "#f0f921"
             ]
            ],
            "type": "contour"
           }
          ],
          "contourcarpet": [
           {
            "colorbar": {
             "outlinewidth": 0,
             "ticks": ""
            },
            "type": "contourcarpet"
           }
          ],
          "heatmap": [
           {
            "colorbar": {
             "outlinewidth": 0,
             "ticks": ""
            },
            "colorscale": [
             [
              0,
              "#0d0887"
             ],
             [
              0.1111111111111111,
              "#46039f"
             ],
             [
              0.2222222222222222,
              "#7201a8"
             ],
             [
              0.3333333333333333,
              "#9c179e"
             ],
             [
              0.4444444444444444,
              "#bd3786"
             ],
             [
              0.5555555555555556,
              "#d8576b"
             ],
             [
              0.6666666666666666,
              "#ed7953"
             ],
             [
              0.7777777777777778,
              "#fb9f3a"
             ],
             [
              0.8888888888888888,
              "#fdca26"
             ],
             [
              1,
              "#f0f921"
             ]
            ],
            "type": "heatmap"
           }
          ],
          "heatmapgl": [
           {
            "colorbar": {
             "outlinewidth": 0,
             "ticks": ""
            },
            "colorscale": [
             [
              0,
              "#0d0887"
             ],
             [
              0.1111111111111111,
              "#46039f"
             ],
             [
              0.2222222222222222,
              "#7201a8"
             ],
             [
              0.3333333333333333,
              "#9c179e"
             ],
             [
              0.4444444444444444,
              "#bd3786"
             ],
             [
              0.5555555555555556,
              "#d8576b"
             ],
             [
              0.6666666666666666,
              "#ed7953"
             ],
             [
              0.7777777777777778,
              "#fb9f3a"
             ],
             [
              0.8888888888888888,
              "#fdca26"
             ],
             [
              1,
              "#f0f921"
             ]
            ],
            "type": "heatmapgl"
           }
          ],
          "histogram": [
           {
            "marker": {
             "pattern": {
              "fillmode": "overlay",
              "size": 10,
              "solidity": 0.2
             }
            },
            "type": "histogram"
           }
          ],
          "histogram2d": [
           {
            "colorbar": {
             "outlinewidth": 0,
             "ticks": ""
            },
            "colorscale": [
             [
              0,
              "#0d0887"
             ],
             [
              0.1111111111111111,
              "#46039f"
             ],
             [
              0.2222222222222222,
              "#7201a8"
             ],
             [
              0.3333333333333333,
              "#9c179e"
             ],
             [
              0.4444444444444444,
              "#bd3786"
             ],
             [
              0.5555555555555556,
              "#d8576b"
             ],
             [
              0.6666666666666666,
              "#ed7953"
             ],
             [
              0.7777777777777778,
              "#fb9f3a"
             ],
             [
              0.8888888888888888,
              "#fdca26"
             ],
             [
              1,
              "#f0f921"
             ]
            ],
            "type": "histogram2d"
           }
          ],
          "histogram2dcontour": [
           {
            "colorbar": {
             "outlinewidth": 0,
             "ticks": ""
            },
            "colorscale": [
             [
              0,
              "#0d0887"
             ],
             [
              0.1111111111111111,
              "#46039f"
             ],
             [
              0.2222222222222222,
              "#7201a8"
             ],
             [
              0.3333333333333333,
              "#9c179e"
             ],
             [
              0.4444444444444444,
              "#bd3786"
             ],
             [
              0.5555555555555556,
              "#d8576b"
             ],
             [
              0.6666666666666666,
              "#ed7953"
             ],
             [
              0.7777777777777778,
              "#fb9f3a"
             ],
             [
              0.8888888888888888,
              "#fdca26"
             ],
             [
              1,
              "#f0f921"
             ]
            ],
            "type": "histogram2dcontour"
           }
          ],
          "mesh3d": [
           {
            "colorbar": {
             "outlinewidth": 0,
             "ticks": ""
            },
            "type": "mesh3d"
           }
          ],
          "parcoords": [
           {
            "line": {
             "colorbar": {
              "outlinewidth": 0,
              "ticks": ""
             }
            },
            "type": "parcoords"
           }
          ],
          "pie": [
           {
            "automargin": true,
            "type": "pie"
           }
          ],
          "scatter": [
           {
            "fillpattern": {
             "fillmode": "overlay",
             "size": 10,
             "solidity": 0.2
            },
            "type": "scatter"
           }
          ],
          "scatter3d": [
           {
            "line": {
             "colorbar": {
              "outlinewidth": 0,
              "ticks": ""
             }
            },
            "marker": {
             "colorbar": {
              "outlinewidth": 0,
              "ticks": ""
             }
            },
            "type": "scatter3d"
           }
          ],
          "scattercarpet": [
           {
            "marker": {
             "colorbar": {
              "outlinewidth": 0,
              "ticks": ""
             }
            },
            "type": "scattercarpet"
           }
          ],
          "scattergeo": [
           {
            "marker": {
             "colorbar": {
              "outlinewidth": 0,
              "ticks": ""
             }
            },
            "type": "scattergeo"
           }
          ],
          "scattergl": [
           {
            "marker": {
             "colorbar": {
              "outlinewidth": 0,
              "ticks": ""
             }
            },
            "type": "scattergl"
           }
          ],
          "scattermapbox": [
           {
            "marker": {
             "colorbar": {
              "outlinewidth": 0,
              "ticks": ""
             }
            },
            "type": "scattermapbox"
           }
          ],
          "scatterpolar": [
           {
            "marker": {
             "colorbar": {
              "outlinewidth": 0,
              "ticks": ""
             }
            },
            "type": "scatterpolar"
           }
          ],
          "scatterpolargl": [
           {
            "marker": {
             "colorbar": {
              "outlinewidth": 0,
              "ticks": ""
             }
            },
            "type": "scatterpolargl"
           }
          ],
          "scatterternary": [
           {
            "marker": {
             "colorbar": {
              "outlinewidth": 0,
              "ticks": ""
             }
            },
            "type": "scatterternary"
           }
          ],
          "surface": [
           {
            "colorbar": {
             "outlinewidth": 0,
             "ticks": ""
            },
            "colorscale": [
             [
              0,
              "#0d0887"
             ],
             [
              0.1111111111111111,
              "#46039f"
             ],
             [
              0.2222222222222222,
              "#7201a8"
             ],
             [
              0.3333333333333333,
              "#9c179e"
             ],
             [
              0.4444444444444444,
              "#bd3786"
             ],
             [
              0.5555555555555556,
              "#d8576b"
             ],
             [
              0.6666666666666666,
              "#ed7953"
             ],
             [
              0.7777777777777778,
              "#fb9f3a"
             ],
             [
              0.8888888888888888,
              "#fdca26"
             ],
             [
              1,
              "#f0f921"
             ]
            ],
            "type": "surface"
           }
          ],
          "table": [
           {
            "cells": {
             "fill": {
              "color": "#EBF0F8"
             },
             "line": {
              "color": "white"
             }
            },
            "header": {
             "fill": {
              "color": "#C8D4E3"
             },
             "line": {
              "color": "white"
             }
            },
            "type": "table"
           }
          ]
         },
         "layout": {
          "annotationdefaults": {
           "arrowcolor": "#2a3f5f",
           "arrowhead": 0,
           "arrowwidth": 1
          },
          "autotypenumbers": "strict",
          "coloraxis": {
           "colorbar": {
            "outlinewidth": 0,
            "ticks": ""
           }
          },
          "colorscale": {
           "diverging": [
            [
             0,
             "#8e0152"
            ],
            [
             0.1,
             "#c51b7d"
            ],
            [
             0.2,
             "#de77ae"
            ],
            [
             0.3,
             "#f1b6da"
            ],
            [
             0.4,
             "#fde0ef"
            ],
            [
             0.5,
             "#f7f7f7"
            ],
            [
             0.6,
             "#e6f5d0"
            ],
            [
             0.7,
             "#b8e186"
            ],
            [
             0.8,
             "#7fbc41"
            ],
            [
             0.9,
             "#4d9221"
            ],
            [
             1,
             "#276419"
            ]
           ],
           "sequential": [
            [
             0,
             "#0d0887"
            ],
            [
             0.1111111111111111,
             "#46039f"
            ],
            [
             0.2222222222222222,
             "#7201a8"
            ],
            [
             0.3333333333333333,
             "#9c179e"
            ],
            [
             0.4444444444444444,
             "#bd3786"
            ],
            [
             0.5555555555555556,
             "#d8576b"
            ],
            [
             0.6666666666666666,
             "#ed7953"
            ],
            [
             0.7777777777777778,
             "#fb9f3a"
            ],
            [
             0.8888888888888888,
             "#fdca26"
            ],
            [
             1,
             "#f0f921"
            ]
           ],
           "sequentialminus": [
            [
             0,
             "#0d0887"
            ],
            [
             0.1111111111111111,
             "#46039f"
            ],
            [
             0.2222222222222222,
             "#7201a8"
            ],
            [
             0.3333333333333333,
             "#9c179e"
            ],
            [
             0.4444444444444444,
             "#bd3786"
            ],
            [
             0.5555555555555556,
             "#d8576b"
            ],
            [
             0.6666666666666666,
             "#ed7953"
            ],
            [
             0.7777777777777778,
             "#fb9f3a"
            ],
            [
             0.8888888888888888,
             "#fdca26"
            ],
            [
             1,
             "#f0f921"
            ]
           ]
          },
          "colorway": [
           "#636efa",
           "#EF553B",
           "#00cc96",
           "#ab63fa",
           "#FFA15A",
           "#19d3f3",
           "#FF6692",
           "#B6E880",
           "#FF97FF",
           "#FECB52"
          ],
          "font": {
           "color": "#2a3f5f"
          },
          "geo": {
           "bgcolor": "white",
           "lakecolor": "white",
           "landcolor": "#E5ECF6",
           "showlakes": true,
           "showland": true,
           "subunitcolor": "white"
          },
          "hoverlabel": {
           "align": "left"
          },
          "hovermode": "closest",
          "mapbox": {
           "style": "light"
          },
          "paper_bgcolor": "white",
          "plot_bgcolor": "#E5ECF6",
          "polar": {
           "angularaxis": {
            "gridcolor": "white",
            "linecolor": "white",
            "ticks": ""
           },
           "bgcolor": "#E5ECF6",
           "radialaxis": {
            "gridcolor": "white",
            "linecolor": "white",
            "ticks": ""
           }
          },
          "scene": {
           "xaxis": {
            "backgroundcolor": "#E5ECF6",
            "gridcolor": "white",
            "gridwidth": 2,
            "linecolor": "white",
            "showbackground": true,
            "ticks": "",
            "zerolinecolor": "white"
           },
           "yaxis": {
            "backgroundcolor": "#E5ECF6",
            "gridcolor": "white",
            "gridwidth": 2,
            "linecolor": "white",
            "showbackground": true,
            "ticks": "",
            "zerolinecolor": "white"
           },
           "zaxis": {
            "backgroundcolor": "#E5ECF6",
            "gridcolor": "white",
            "gridwidth": 2,
            "linecolor": "white",
            "showbackground": true,
            "ticks": "",
            "zerolinecolor": "white"
           }
          },
          "shapedefaults": {
           "line": {
            "color": "#2a3f5f"
           }
          },
          "ternary": {
           "aaxis": {
            "gridcolor": "white",
            "linecolor": "white",
            "ticks": ""
           },
           "baxis": {
            "gridcolor": "white",
            "linecolor": "white",
            "ticks": ""
           },
           "bgcolor": "#E5ECF6",
           "caxis": {
            "gridcolor": "white",
            "linecolor": "white",
            "ticks": ""
           }
          },
          "title": {
           "x": 0.05
          },
          "xaxis": {
           "automargin": true,
           "gridcolor": "white",
           "linecolor": "white",
           "ticks": "",
           "title": {
            "standoff": 15
           },
           "zerolinecolor": "white",
           "zerolinewidth": 2
          },
          "yaxis": {
           "automargin": true,
           "gridcolor": "white",
           "linecolor": "white",
           "ticks": "",
           "title": {
            "standoff": 15
           },
           "zerolinecolor": "white",
           "zerolinewidth": 2
          }
         }
        },
        "title": {
         "text": "2 component PCA"
        },
        "xaxis": {
         "anchor": "y",
         "domain": [
          0,
          1
         ],
         "title": {
          "text": "Principal Component 1"
         }
        },
        "yaxis": {
         "anchor": "x",
         "domain": [
          0,
          1
         ],
         "title": {
          "text": "Principal Component 2"
         }
        }
       }
      }
     },
     "metadata": {},
     "output_type": "display_data"
    }
   ],
   "source": [
    "pca_scatter_plot(final_df, 'PC1', 'PC2', 'REASON')"
   ]
  },
  {
   "cell_type": "markdown",
   "id": "b6502044-5304-484f-8dd5-f262aeebcf53",
   "metadata": {},
   "source": [
    "## PCA Testing (All Columns, 2 components)"
   ]
  },
  {
   "cell_type": "code",
   "execution_count": 10,
   "id": "7f66525d-0da9-4055-a386-65480afd0aa5",
   "metadata": {},
   "outputs": [],
   "source": [
    "# All Columns\n",
    "test_df = df.head()\n",
    "\n",
    "features = df.columns.drop(['REASON'])\n",
    "test_df = preprocess_df(test_df, features, StandardScaler())\n",
    "\n",
    "pca, transformed_X = unsupervised_model(test_df, features, PCA(n_components=2))\n",
    "\n",
    "principalDf = pd.DataFrame(data = transformed_X, columns = ['PC1','PC2'])\n",
    "\n",
    "final_df = pd.concat([principalDf, test_df[['REASON']]], axis=1)"
   ]
  },
  {
   "cell_type": "code",
   "execution_count": 11,
   "id": "98e8f1e0",
   "metadata": {},
   "outputs": [
    {
     "data": {
      "application/vnd.plotly.v1+json": {
       "config": {
        "plotlyServerURL": "https://plot.ly",
        "staticPlot": true
       },
       "data": [
        {
         "hovertemplate": "color=1<br>Principal Component 1=%{x}<br>Principal Component 2=%{y}<extra></extra>",
         "legendgroup": "1",
         "marker": {
          "color": "#636efa",
          "symbol": "circle"
         },
         "mode": "markers",
         "name": "1",
         "orientation": "v",
         "showlegend": true,
         "type": "scatter",
         "x": [
          -3.8166704998552237,
          6.766714098490214
         ],
         "xaxis": "x",
         "y": [
          -0.45104495099719616,
          -2.887452944426459
         ],
         "yaxis": "y"
        },
        {
         "hovertemplate": "color=3<br>Principal Component 1=%{x}<br>Principal Component 2=%{y}<extra></extra>",
         "legendgroup": "3",
         "marker": {
          "color": "#EF553B",
          "symbol": "circle"
         },
         "mode": "markers",
         "name": "3",
         "orientation": "v",
         "showlegend": true,
         "type": "scatter",
         "x": [
          0.547324530033523,
          0.3213354561209084,
          -3.818703584789422
         ],
         "xaxis": "x",
         "y": [
          2.9095269940937456,
          4.314629798584431,
          -3.885658897254525
         ],
         "yaxis": "y"
        }
       ],
       "layout": {
        "legend": {
         "title": {
          "text": "color"
         },
         "tracegroupgap": 0
        },
        "template": {
         "data": {
          "bar": [
           {
            "error_x": {
             "color": "#2a3f5f"
            },
            "error_y": {
             "color": "#2a3f5f"
            },
            "marker": {
             "line": {
              "color": "#E5ECF6",
              "width": 0.5
             },
             "pattern": {
              "fillmode": "overlay",
              "size": 10,
              "solidity": 0.2
             }
            },
            "type": "bar"
           }
          ],
          "barpolar": [
           {
            "marker": {
             "line": {
              "color": "#E5ECF6",
              "width": 0.5
             },
             "pattern": {
              "fillmode": "overlay",
              "size": 10,
              "solidity": 0.2
             }
            },
            "type": "barpolar"
           }
          ],
          "carpet": [
           {
            "aaxis": {
             "endlinecolor": "#2a3f5f",
             "gridcolor": "white",
             "linecolor": "white",
             "minorgridcolor": "white",
             "startlinecolor": "#2a3f5f"
            },
            "baxis": {
             "endlinecolor": "#2a3f5f",
             "gridcolor": "white",
             "linecolor": "white",
             "minorgridcolor": "white",
             "startlinecolor": "#2a3f5f"
            },
            "type": "carpet"
           }
          ],
          "choropleth": [
           {
            "colorbar": {
             "outlinewidth": 0,
             "ticks": ""
            },
            "type": "choropleth"
           }
          ],
          "contour": [
           {
            "colorbar": {
             "outlinewidth": 0,
             "ticks": ""
            },
            "colorscale": [
             [
              0,
              "#0d0887"
             ],
             [
              0.1111111111111111,
              "#46039f"
             ],
             [
              0.2222222222222222,
              "#7201a8"
             ],
             [
              0.3333333333333333,
              "#9c179e"
             ],
             [
              0.4444444444444444,
              "#bd3786"
             ],
             [
              0.5555555555555556,
              "#d8576b"
             ],
             [
              0.6666666666666666,
              "#ed7953"
             ],
             [
              0.7777777777777778,
              "#fb9f3a"
             ],
             [
              0.8888888888888888,
              "#fdca26"
             ],
             [
              1,
              "#f0f921"
             ]
            ],
            "type": "contour"
           }
          ],
          "contourcarpet": [
           {
            "colorbar": {
             "outlinewidth": 0,
             "ticks": ""
            },
            "type": "contourcarpet"
           }
          ],
          "heatmap": [
           {
            "colorbar": {
             "outlinewidth": 0,
             "ticks": ""
            },
            "colorscale": [
             [
              0,
              "#0d0887"
             ],
             [
              0.1111111111111111,
              "#46039f"
             ],
             [
              0.2222222222222222,
              "#7201a8"
             ],
             [
              0.3333333333333333,
              "#9c179e"
             ],
             [
              0.4444444444444444,
              "#bd3786"
             ],
             [
              0.5555555555555556,
              "#d8576b"
             ],
             [
              0.6666666666666666,
              "#ed7953"
             ],
             [
              0.7777777777777778,
              "#fb9f3a"
             ],
             [
              0.8888888888888888,
              "#fdca26"
             ],
             [
              1,
              "#f0f921"
             ]
            ],
            "type": "heatmap"
           }
          ],
          "heatmapgl": [
           {
            "colorbar": {
             "outlinewidth": 0,
             "ticks": ""
            },
            "colorscale": [
             [
              0,
              "#0d0887"
             ],
             [
              0.1111111111111111,
              "#46039f"
             ],
             [
              0.2222222222222222,
              "#7201a8"
             ],
             [
              0.3333333333333333,
              "#9c179e"
             ],
             [
              0.4444444444444444,
              "#bd3786"
             ],
             [
              0.5555555555555556,
              "#d8576b"
             ],
             [
              0.6666666666666666,
              "#ed7953"
             ],
             [
              0.7777777777777778,
              "#fb9f3a"
             ],
             [
              0.8888888888888888,
              "#fdca26"
             ],
             [
              1,
              "#f0f921"
             ]
            ],
            "type": "heatmapgl"
           }
          ],
          "histogram": [
           {
            "marker": {
             "pattern": {
              "fillmode": "overlay",
              "size": 10,
              "solidity": 0.2
             }
            },
            "type": "histogram"
           }
          ],
          "histogram2d": [
           {
            "colorbar": {
             "outlinewidth": 0,
             "ticks": ""
            },
            "colorscale": [
             [
              0,
              "#0d0887"
             ],
             [
              0.1111111111111111,
              "#46039f"
             ],
             [
              0.2222222222222222,
              "#7201a8"
             ],
             [
              0.3333333333333333,
              "#9c179e"
             ],
             [
              0.4444444444444444,
              "#bd3786"
             ],
             [
              0.5555555555555556,
              "#d8576b"
             ],
             [
              0.6666666666666666,
              "#ed7953"
             ],
             [
              0.7777777777777778,
              "#fb9f3a"
             ],
             [
              0.8888888888888888,
              "#fdca26"
             ],
             [
              1,
              "#f0f921"
             ]
            ],
            "type": "histogram2d"
           }
          ],
          "histogram2dcontour": [
           {
            "colorbar": {
             "outlinewidth": 0,
             "ticks": ""
            },
            "colorscale": [
             [
              0,
              "#0d0887"
             ],
             [
              0.1111111111111111,
              "#46039f"
             ],
             [
              0.2222222222222222,
              "#7201a8"
             ],
             [
              0.3333333333333333,
              "#9c179e"
             ],
             [
              0.4444444444444444,
              "#bd3786"
             ],
             [
              0.5555555555555556,
              "#d8576b"
             ],
             [
              0.6666666666666666,
              "#ed7953"
             ],
             [
              0.7777777777777778,
              "#fb9f3a"
             ],
             [
              0.8888888888888888,
              "#fdca26"
             ],
             [
              1,
              "#f0f921"
             ]
            ],
            "type": "histogram2dcontour"
           }
          ],
          "mesh3d": [
           {
            "colorbar": {
             "outlinewidth": 0,
             "ticks": ""
            },
            "type": "mesh3d"
           }
          ],
          "parcoords": [
           {
            "line": {
             "colorbar": {
              "outlinewidth": 0,
              "ticks": ""
             }
            },
            "type": "parcoords"
           }
          ],
          "pie": [
           {
            "automargin": true,
            "type": "pie"
           }
          ],
          "scatter": [
           {
            "fillpattern": {
             "fillmode": "overlay",
             "size": 10,
             "solidity": 0.2
            },
            "type": "scatter"
           }
          ],
          "scatter3d": [
           {
            "line": {
             "colorbar": {
              "outlinewidth": 0,
              "ticks": ""
             }
            },
            "marker": {
             "colorbar": {
              "outlinewidth": 0,
              "ticks": ""
             }
            },
            "type": "scatter3d"
           }
          ],
          "scattercarpet": [
           {
            "marker": {
             "colorbar": {
              "outlinewidth": 0,
              "ticks": ""
             }
            },
            "type": "scattercarpet"
           }
          ],
          "scattergeo": [
           {
            "marker": {
             "colorbar": {
              "outlinewidth": 0,
              "ticks": ""
             }
            },
            "type": "scattergeo"
           }
          ],
          "scattergl": [
           {
            "marker": {
             "colorbar": {
              "outlinewidth": 0,
              "ticks": ""
             }
            },
            "type": "scattergl"
           }
          ],
          "scattermapbox": [
           {
            "marker": {
             "colorbar": {
              "outlinewidth": 0,
              "ticks": ""
             }
            },
            "type": "scattermapbox"
           }
          ],
          "scatterpolar": [
           {
            "marker": {
             "colorbar": {
              "outlinewidth": 0,
              "ticks": ""
             }
            },
            "type": "scatterpolar"
           }
          ],
          "scatterpolargl": [
           {
            "marker": {
             "colorbar": {
              "outlinewidth": 0,
              "ticks": ""
             }
            },
            "type": "scatterpolargl"
           }
          ],
          "scatterternary": [
           {
            "marker": {
             "colorbar": {
              "outlinewidth": 0,
              "ticks": ""
             }
            },
            "type": "scatterternary"
           }
          ],
          "surface": [
           {
            "colorbar": {
             "outlinewidth": 0,
             "ticks": ""
            },
            "colorscale": [
             [
              0,
              "#0d0887"
             ],
             [
              0.1111111111111111,
              "#46039f"
             ],
             [
              0.2222222222222222,
              "#7201a8"
             ],
             [
              0.3333333333333333,
              "#9c179e"
             ],
             [
              0.4444444444444444,
              "#bd3786"
             ],
             [
              0.5555555555555556,
              "#d8576b"
             ],
             [
              0.6666666666666666,
              "#ed7953"
             ],
             [
              0.7777777777777778,
              "#fb9f3a"
             ],
             [
              0.8888888888888888,
              "#fdca26"
             ],
             [
              1,
              "#f0f921"
             ]
            ],
            "type": "surface"
           }
          ],
          "table": [
           {
            "cells": {
             "fill": {
              "color": "#EBF0F8"
             },
             "line": {
              "color": "white"
             }
            },
            "header": {
             "fill": {
              "color": "#C8D4E3"
             },
             "line": {
              "color": "white"
             }
            },
            "type": "table"
           }
          ]
         },
         "layout": {
          "annotationdefaults": {
           "arrowcolor": "#2a3f5f",
           "arrowhead": 0,
           "arrowwidth": 1
          },
          "autotypenumbers": "strict",
          "coloraxis": {
           "colorbar": {
            "outlinewidth": 0,
            "ticks": ""
           }
          },
          "colorscale": {
           "diverging": [
            [
             0,
             "#8e0152"
            ],
            [
             0.1,
             "#c51b7d"
            ],
            [
             0.2,
             "#de77ae"
            ],
            [
             0.3,
             "#f1b6da"
            ],
            [
             0.4,
             "#fde0ef"
            ],
            [
             0.5,
             "#f7f7f7"
            ],
            [
             0.6,
             "#e6f5d0"
            ],
            [
             0.7,
             "#b8e186"
            ],
            [
             0.8,
             "#7fbc41"
            ],
            [
             0.9,
             "#4d9221"
            ],
            [
             1,
             "#276419"
            ]
           ],
           "sequential": [
            [
             0,
             "#0d0887"
            ],
            [
             0.1111111111111111,
             "#46039f"
            ],
            [
             0.2222222222222222,
             "#7201a8"
            ],
            [
             0.3333333333333333,
             "#9c179e"
            ],
            [
             0.4444444444444444,
             "#bd3786"
            ],
            [
             0.5555555555555556,
             "#d8576b"
            ],
            [
             0.6666666666666666,
             "#ed7953"
            ],
            [
             0.7777777777777778,
             "#fb9f3a"
            ],
            [
             0.8888888888888888,
             "#fdca26"
            ],
            [
             1,
             "#f0f921"
            ]
           ],
           "sequentialminus": [
            [
             0,
             "#0d0887"
            ],
            [
             0.1111111111111111,
             "#46039f"
            ],
            [
             0.2222222222222222,
             "#7201a8"
            ],
            [
             0.3333333333333333,
             "#9c179e"
            ],
            [
             0.4444444444444444,
             "#bd3786"
            ],
            [
             0.5555555555555556,
             "#d8576b"
            ],
            [
             0.6666666666666666,
             "#ed7953"
            ],
            [
             0.7777777777777778,
             "#fb9f3a"
            ],
            [
             0.8888888888888888,
             "#fdca26"
            ],
            [
             1,
             "#f0f921"
            ]
           ]
          },
          "colorway": [
           "#636efa",
           "#EF553B",
           "#00cc96",
           "#ab63fa",
           "#FFA15A",
           "#19d3f3",
           "#FF6692",
           "#B6E880",
           "#FF97FF",
           "#FECB52"
          ],
          "font": {
           "color": "#2a3f5f"
          },
          "geo": {
           "bgcolor": "white",
           "lakecolor": "white",
           "landcolor": "#E5ECF6",
           "showlakes": true,
           "showland": true,
           "subunitcolor": "white"
          },
          "hoverlabel": {
           "align": "left"
          },
          "hovermode": "closest",
          "mapbox": {
           "style": "light"
          },
          "paper_bgcolor": "white",
          "plot_bgcolor": "#E5ECF6",
          "polar": {
           "angularaxis": {
            "gridcolor": "white",
            "linecolor": "white",
            "ticks": ""
           },
           "bgcolor": "#E5ECF6",
           "radialaxis": {
            "gridcolor": "white",
            "linecolor": "white",
            "ticks": ""
           }
          },
          "scene": {
           "xaxis": {
            "backgroundcolor": "#E5ECF6",
            "gridcolor": "white",
            "gridwidth": 2,
            "linecolor": "white",
            "showbackground": true,
            "ticks": "",
            "zerolinecolor": "white"
           },
           "yaxis": {
            "backgroundcolor": "#E5ECF6",
            "gridcolor": "white",
            "gridwidth": 2,
            "linecolor": "white",
            "showbackground": true,
            "ticks": "",
            "zerolinecolor": "white"
           },
           "zaxis": {
            "backgroundcolor": "#E5ECF6",
            "gridcolor": "white",
            "gridwidth": 2,
            "linecolor": "white",
            "showbackground": true,
            "ticks": "",
            "zerolinecolor": "white"
           }
          },
          "shapedefaults": {
           "line": {
            "color": "#2a3f5f"
           }
          },
          "ternary": {
           "aaxis": {
            "gridcolor": "white",
            "linecolor": "white",
            "ticks": ""
           },
           "baxis": {
            "gridcolor": "white",
            "linecolor": "white",
            "ticks": ""
           },
           "bgcolor": "#E5ECF6",
           "caxis": {
            "gridcolor": "white",
            "linecolor": "white",
            "ticks": ""
           }
          },
          "title": {
           "x": 0.05
          },
          "xaxis": {
           "automargin": true,
           "gridcolor": "white",
           "linecolor": "white",
           "ticks": "",
           "title": {
            "standoff": 15
           },
           "zerolinecolor": "white",
           "zerolinewidth": 2
          },
          "yaxis": {
           "automargin": true,
           "gridcolor": "white",
           "linecolor": "white",
           "ticks": "",
           "title": {
            "standoff": 15
           },
           "zerolinecolor": "white",
           "zerolinewidth": 2
          }
         }
        },
        "title": {
         "text": "2 component PCA"
        },
        "xaxis": {
         "anchor": "y",
         "domain": [
          0,
          1
         ],
         "title": {
          "text": "Principal Component 1"
         }
        },
        "yaxis": {
         "anchor": "x",
         "domain": [
          0,
          1
         ],
         "title": {
          "text": "Principal Component 2"
         }
        }
       }
      }
     },
     "metadata": {},
     "output_type": "display_data"
    }
   ],
   "source": [
    "pca_scatter_plot(final_df, 'PC1', 'PC2', 'REASON')"
   ]
  },
  {
   "cell_type": "markdown",
   "id": "689032dd-bae9-406f-9f92-8c3a63f1ebda",
   "metadata": {},
   "source": [
    "### PCA Variance and Clustering?"
   ]
  },
  {
   "cell_type": "code",
   "execution_count": 12,
   "id": "elementary-creek",
   "metadata": {
    "scrolled": true
   },
   "outputs": [],
   "source": [
    "test_df = df.head(n=20)\n",
    "\n",
    "pca, transformed_X = unsupervised_model(test_df, features, PCA(n_components=20))\n",
    "\n",
    "components = range(pca.n_components_)"
   ]
  },
  {
   "cell_type": "code",
   "execution_count": 13,
   "id": "8a5c6a00",
   "metadata": {},
   "outputs": [
    {
     "data": {
      "application/vnd.plotly.v1+json": {
       "config": {
        "plotlyServerURL": "https://plot.ly",
        "staticPlot": true
       },
       "data": [
        {
         "alignmentgroup": "True",
         "hovertemplate": "PCA features=%{x}<br>variance %=%{y}<extra></extra>",
         "legendgroup": "",
         "marker": {
          "color": "#636efa",
          "pattern": {
           "shape": ""
          }
         },
         "name": "",
         "offsetgroup": "",
         "orientation": "v",
         "showlegend": false,
         "textposition": "auto",
         "type": "bar",
         "x": [
          0,
          1,
          2,
          3,
          4,
          5,
          6,
          7,
          8,
          9,
          10,
          11,
          12,
          13,
          14,
          15,
          16,
          17,
          18,
          19
         ],
         "xaxis": "x",
         "y": [
          0.9999999332227562,
          1.9467500693290378e-8,
          1.6026306566365624e-8,
          1.0005697920270028e-8,
          9.527903178760166e-9,
          4.5816241182201595e-9,
          1.955957938076948e-9,
          1.8200074243054644e-9,
          1.1722281152482303e-9,
          8.593343318003227e-10,
          5.261657943976936e-10,
          3.4656080499356754e-10,
          1.60773897714622e-10,
          1.2283159703956254e-10,
          8.20374057823558e-11,
          6.558375154610779e-11,
          3.771373939003502e-11,
          1.4548540003060768e-11,
          4.467920156863435e-12,
          1.0995749121278953e-31
         ],
         "yaxis": "y"
        }
       ],
       "layout": {
        "barmode": "relative",
        "legend": {
         "tracegroupgap": 0
        },
        "margin": {
         "t": 60
        },
        "template": {
         "data": {
          "bar": [
           {
            "error_x": {
             "color": "#2a3f5f"
            },
            "error_y": {
             "color": "#2a3f5f"
            },
            "marker": {
             "line": {
              "color": "#E5ECF6",
              "width": 0.5
             },
             "pattern": {
              "fillmode": "overlay",
              "size": 10,
              "solidity": 0.2
             }
            },
            "type": "bar"
           }
          ],
          "barpolar": [
           {
            "marker": {
             "line": {
              "color": "#E5ECF6",
              "width": 0.5
             },
             "pattern": {
              "fillmode": "overlay",
              "size": 10,
              "solidity": 0.2
             }
            },
            "type": "barpolar"
           }
          ],
          "carpet": [
           {
            "aaxis": {
             "endlinecolor": "#2a3f5f",
             "gridcolor": "white",
             "linecolor": "white",
             "minorgridcolor": "white",
             "startlinecolor": "#2a3f5f"
            },
            "baxis": {
             "endlinecolor": "#2a3f5f",
             "gridcolor": "white",
             "linecolor": "white",
             "minorgridcolor": "white",
             "startlinecolor": "#2a3f5f"
            },
            "type": "carpet"
           }
          ],
          "choropleth": [
           {
            "colorbar": {
             "outlinewidth": 0,
             "ticks": ""
            },
            "type": "choropleth"
           }
          ],
          "contour": [
           {
            "colorbar": {
             "outlinewidth": 0,
             "ticks": ""
            },
            "colorscale": [
             [
              0,
              "#0d0887"
             ],
             [
              0.1111111111111111,
              "#46039f"
             ],
             [
              0.2222222222222222,
              "#7201a8"
             ],
             [
              0.3333333333333333,
              "#9c179e"
             ],
             [
              0.4444444444444444,
              "#bd3786"
             ],
             [
              0.5555555555555556,
              "#d8576b"
             ],
             [
              0.6666666666666666,
              "#ed7953"
             ],
             [
              0.7777777777777778,
              "#fb9f3a"
             ],
             [
              0.8888888888888888,
              "#fdca26"
             ],
             [
              1,
              "#f0f921"
             ]
            ],
            "type": "contour"
           }
          ],
          "contourcarpet": [
           {
            "colorbar": {
             "outlinewidth": 0,
             "ticks": ""
            },
            "type": "contourcarpet"
           }
          ],
          "heatmap": [
           {
            "colorbar": {
             "outlinewidth": 0,
             "ticks": ""
            },
            "colorscale": [
             [
              0,
              "#0d0887"
             ],
             [
              0.1111111111111111,
              "#46039f"
             ],
             [
              0.2222222222222222,
              "#7201a8"
             ],
             [
              0.3333333333333333,
              "#9c179e"
             ],
             [
              0.4444444444444444,
              "#bd3786"
             ],
             [
              0.5555555555555556,
              "#d8576b"
             ],
             [
              0.6666666666666666,
              "#ed7953"
             ],
             [
              0.7777777777777778,
              "#fb9f3a"
             ],
             [
              0.8888888888888888,
              "#fdca26"
             ],
             [
              1,
              "#f0f921"
             ]
            ],
            "type": "heatmap"
           }
          ],
          "heatmapgl": [
           {
            "colorbar": {
             "outlinewidth": 0,
             "ticks": ""
            },
            "colorscale": [
             [
              0,
              "#0d0887"
             ],
             [
              0.1111111111111111,
              "#46039f"
             ],
             [
              0.2222222222222222,
              "#7201a8"
             ],
             [
              0.3333333333333333,
              "#9c179e"
             ],
             [
              0.4444444444444444,
              "#bd3786"
             ],
             [
              0.5555555555555556,
              "#d8576b"
             ],
             [
              0.6666666666666666,
              "#ed7953"
             ],
             [
              0.7777777777777778,
              "#fb9f3a"
             ],
             [
              0.8888888888888888,
              "#fdca26"
             ],
             [
              1,
              "#f0f921"
             ]
            ],
            "type": "heatmapgl"
           }
          ],
          "histogram": [
           {
            "marker": {
             "pattern": {
              "fillmode": "overlay",
              "size": 10,
              "solidity": 0.2
             }
            },
            "type": "histogram"
           }
          ],
          "histogram2d": [
           {
            "colorbar": {
             "outlinewidth": 0,
             "ticks": ""
            },
            "colorscale": [
             [
              0,
              "#0d0887"
             ],
             [
              0.1111111111111111,
              "#46039f"
             ],
             [
              0.2222222222222222,
              "#7201a8"
             ],
             [
              0.3333333333333333,
              "#9c179e"
             ],
             [
              0.4444444444444444,
              "#bd3786"
             ],
             [
              0.5555555555555556,
              "#d8576b"
             ],
             [
              0.6666666666666666,
              "#ed7953"
             ],
             [
              0.7777777777777778,
              "#fb9f3a"
             ],
             [
              0.8888888888888888,
              "#fdca26"
             ],
             [
              1,
              "#f0f921"
             ]
            ],
            "type": "histogram2d"
           }
          ],
          "histogram2dcontour": [
           {
            "colorbar": {
             "outlinewidth": 0,
             "ticks": ""
            },
            "colorscale": [
             [
              0,
              "#0d0887"
             ],
             [
              0.1111111111111111,
              "#46039f"
             ],
             [
              0.2222222222222222,
              "#7201a8"
             ],
             [
              0.3333333333333333,
              "#9c179e"
             ],
             [
              0.4444444444444444,
              "#bd3786"
             ],
             [
              0.5555555555555556,
              "#d8576b"
             ],
             [
              0.6666666666666666,
              "#ed7953"
             ],
             [
              0.7777777777777778,
              "#fb9f3a"
             ],
             [
              0.8888888888888888,
              "#fdca26"
             ],
             [
              1,
              "#f0f921"
             ]
            ],
            "type": "histogram2dcontour"
           }
          ],
          "mesh3d": [
           {
            "colorbar": {
             "outlinewidth": 0,
             "ticks": ""
            },
            "type": "mesh3d"
           }
          ],
          "parcoords": [
           {
            "line": {
             "colorbar": {
              "outlinewidth": 0,
              "ticks": ""
             }
            },
            "type": "parcoords"
           }
          ],
          "pie": [
           {
            "automargin": true,
            "type": "pie"
           }
          ],
          "scatter": [
           {
            "fillpattern": {
             "fillmode": "overlay",
             "size": 10,
             "solidity": 0.2
            },
            "type": "scatter"
           }
          ],
          "scatter3d": [
           {
            "line": {
             "colorbar": {
              "outlinewidth": 0,
              "ticks": ""
             }
            },
            "marker": {
             "colorbar": {
              "outlinewidth": 0,
              "ticks": ""
             }
            },
            "type": "scatter3d"
           }
          ],
          "scattercarpet": [
           {
            "marker": {
             "colorbar": {
              "outlinewidth": 0,
              "ticks": ""
             }
            },
            "type": "scattercarpet"
           }
          ],
          "scattergeo": [
           {
            "marker": {
             "colorbar": {
              "outlinewidth": 0,
              "ticks": ""
             }
            },
            "type": "scattergeo"
           }
          ],
          "scattergl": [
           {
            "marker": {
             "colorbar": {
              "outlinewidth": 0,
              "ticks": ""
             }
            },
            "type": "scattergl"
           }
          ],
          "scattermapbox": [
           {
            "marker": {
             "colorbar": {
              "outlinewidth": 0,
              "ticks": ""
             }
            },
            "type": "scattermapbox"
           }
          ],
          "scatterpolar": [
           {
            "marker": {
             "colorbar": {
              "outlinewidth": 0,
              "ticks": ""
             }
            },
            "type": "scatterpolar"
           }
          ],
          "scatterpolargl": [
           {
            "marker": {
             "colorbar": {
              "outlinewidth": 0,
              "ticks": ""
             }
            },
            "type": "scatterpolargl"
           }
          ],
          "scatterternary": [
           {
            "marker": {
             "colorbar": {
              "outlinewidth": 0,
              "ticks": ""
             }
            },
            "type": "scatterternary"
           }
          ],
          "surface": [
           {
            "colorbar": {
             "outlinewidth": 0,
             "ticks": ""
            },
            "colorscale": [
             [
              0,
              "#0d0887"
             ],
             [
              0.1111111111111111,
              "#46039f"
             ],
             [
              0.2222222222222222,
              "#7201a8"
             ],
             [
              0.3333333333333333,
              "#9c179e"
             ],
             [
              0.4444444444444444,
              "#bd3786"
             ],
             [
              0.5555555555555556,
              "#d8576b"
             ],
             [
              0.6666666666666666,
              "#ed7953"
             ],
             [
              0.7777777777777778,
              "#fb9f3a"
             ],
             [
              0.8888888888888888,
              "#fdca26"
             ],
             [
              1,
              "#f0f921"
             ]
            ],
            "type": "surface"
           }
          ],
          "table": [
           {
            "cells": {
             "fill": {
              "color": "#EBF0F8"
             },
             "line": {
              "color": "white"
             }
            },
            "header": {
             "fill": {
              "color": "#C8D4E3"
             },
             "line": {
              "color": "white"
             }
            },
            "type": "table"
           }
          ]
         },
         "layout": {
          "annotationdefaults": {
           "arrowcolor": "#2a3f5f",
           "arrowhead": 0,
           "arrowwidth": 1
          },
          "autotypenumbers": "strict",
          "coloraxis": {
           "colorbar": {
            "outlinewidth": 0,
            "ticks": ""
           }
          },
          "colorscale": {
           "diverging": [
            [
             0,
             "#8e0152"
            ],
            [
             0.1,
             "#c51b7d"
            ],
            [
             0.2,
             "#de77ae"
            ],
            [
             0.3,
             "#f1b6da"
            ],
            [
             0.4,
             "#fde0ef"
            ],
            [
             0.5,
             "#f7f7f7"
            ],
            [
             0.6,
             "#e6f5d0"
            ],
            [
             0.7,
             "#b8e186"
            ],
            [
             0.8,
             "#7fbc41"
            ],
            [
             0.9,
             "#4d9221"
            ],
            [
             1,
             "#276419"
            ]
           ],
           "sequential": [
            [
             0,
             "#0d0887"
            ],
            [
             0.1111111111111111,
             "#46039f"
            ],
            [
             0.2222222222222222,
             "#7201a8"
            ],
            [
             0.3333333333333333,
             "#9c179e"
            ],
            [
             0.4444444444444444,
             "#bd3786"
            ],
            [
             0.5555555555555556,
             "#d8576b"
            ],
            [
             0.6666666666666666,
             "#ed7953"
            ],
            [
             0.7777777777777778,
             "#fb9f3a"
            ],
            [
             0.8888888888888888,
             "#fdca26"
            ],
            [
             1,
             "#f0f921"
            ]
           ],
           "sequentialminus": [
            [
             0,
             "#0d0887"
            ],
            [
             0.1111111111111111,
             "#46039f"
            ],
            [
             0.2222222222222222,
             "#7201a8"
            ],
            [
             0.3333333333333333,
             "#9c179e"
            ],
            [
             0.4444444444444444,
             "#bd3786"
            ],
            [
             0.5555555555555556,
             "#d8576b"
            ],
            [
             0.6666666666666666,
             "#ed7953"
            ],
            [
             0.7777777777777778,
             "#fb9f3a"
            ],
            [
             0.8888888888888888,
             "#fdca26"
            ],
            [
             1,
             "#f0f921"
            ]
           ]
          },
          "colorway": [
           "#636efa",
           "#EF553B",
           "#00cc96",
           "#ab63fa",
           "#FFA15A",
           "#19d3f3",
           "#FF6692",
           "#B6E880",
           "#FF97FF",
           "#FECB52"
          ],
          "font": {
           "color": "#2a3f5f"
          },
          "geo": {
           "bgcolor": "white",
           "lakecolor": "white",
           "landcolor": "#E5ECF6",
           "showlakes": true,
           "showland": true,
           "subunitcolor": "white"
          },
          "hoverlabel": {
           "align": "left"
          },
          "hovermode": "closest",
          "mapbox": {
           "style": "light"
          },
          "paper_bgcolor": "white",
          "plot_bgcolor": "#E5ECF6",
          "polar": {
           "angularaxis": {
            "gridcolor": "white",
            "linecolor": "white",
            "ticks": ""
           },
           "bgcolor": "#E5ECF6",
           "radialaxis": {
            "gridcolor": "white",
            "linecolor": "white",
            "ticks": ""
           }
          },
          "scene": {
           "xaxis": {
            "backgroundcolor": "#E5ECF6",
            "gridcolor": "white",
            "gridwidth": 2,
            "linecolor": "white",
            "showbackground": true,
            "ticks": "",
            "zerolinecolor": "white"
           },
           "yaxis": {
            "backgroundcolor": "#E5ECF6",
            "gridcolor": "white",
            "gridwidth": 2,
            "linecolor": "white",
            "showbackground": true,
            "ticks": "",
            "zerolinecolor": "white"
           },
           "zaxis": {
            "backgroundcolor": "#E5ECF6",
            "gridcolor": "white",
            "gridwidth": 2,
            "linecolor": "white",
            "showbackground": true,
            "ticks": "",
            "zerolinecolor": "white"
           }
          },
          "shapedefaults": {
           "line": {
            "color": "#2a3f5f"
           }
          },
          "ternary": {
           "aaxis": {
            "gridcolor": "white",
            "linecolor": "white",
            "ticks": ""
           },
           "baxis": {
            "gridcolor": "white",
            "linecolor": "white",
            "ticks": ""
           },
           "bgcolor": "#E5ECF6",
           "caxis": {
            "gridcolor": "white",
            "linecolor": "white",
            "ticks": ""
           }
          },
          "title": {
           "x": 0.05
          },
          "xaxis": {
           "automargin": true,
           "gridcolor": "white",
           "linecolor": "white",
           "ticks": "",
           "title": {
            "standoff": 15
           },
           "zerolinecolor": "white",
           "zerolinewidth": 2
          },
          "yaxis": {
           "automargin": true,
           "gridcolor": "white",
           "linecolor": "white",
           "ticks": "",
           "title": {
            "standoff": 15
           },
           "zerolinecolor": "white",
           "zerolinewidth": 2
          }
         }
        },
        "xaxis": {
         "anchor": "y",
         "domain": [
          0,
          1
         ],
         "title": {
          "text": "PCA features"
         }
        },
        "yaxis": {
         "anchor": "x",
         "domain": [
          0,
          1
         ],
         "title": {
          "text": "variance %"
         }
        }
       }
      }
     },
     "metadata": {},
     "output_type": "display_data"
    }
   ],
   "source": [
    "bar_chart(components, pca.explained_variance_ratio_, 'PCA features', 'variance %')"
   ]
  },
  {
   "cell_type": "markdown",
   "id": "77914456-7361-4d03-81d3-fa95f276fddd",
   "metadata": {},
   "source": [
    "Looks like a slight dropoff after four components."
   ]
  },
  {
   "cell_type": "code",
   "execution_count": 14,
   "id": "feda9a2e-fc28-434a-9810-93316db4e9b5",
   "metadata": {},
   "outputs": [
    {
     "data": {
      "text/plain": [
       "(20, 20)"
      ]
     },
     "execution_count": 14,
     "metadata": {},
     "output_type": "execute_result"
    }
   ],
   "source": [
    "PCA_components_df = pd.DataFrame(transformed_X)\n",
    "PCA_components_df.shape"
   ]
  },
  {
   "cell_type": "code",
   "execution_count": 15,
   "id": "d8654008",
   "metadata": {},
   "outputs": [
    {
     "name": "stderr",
     "output_type": "stream",
     "text": [
      "findfont: Font family ['Heiti TC'] not found. Falling back to DejaVu Sans.\n"
     ]
    },
    {
     "data": {
      "image/png": "[encoded data removed]",
      "text/plain": [
       "<Figure size 432x288 with 1 Axes>"
      ]
     },
     "metadata": {
      "needs_background": "light"
     },
     "output_type": "display_data"
    }
   ],
   "source": [
    "%matplotlib inline\n",
    "plt.scatter(PCA_components_df[0], PCA_components_df[1], alpha=.01, color='black') #Alpha reduced to look for clustering\n",
    "plt.xlabel('PCA 1')\n",
    "plt.ylabel('PCA 2')\n",
    "plt.show()"
   ]
  },
  {
   "cell_type": "markdown",
   "id": "c6c3ba3b-b1f9-4f42-aad2-3e826e7816b3",
   "metadata": {},
   "source": [
    "Roughly three clusters? Hard to reduce alpha much further for clarity."
   ]
  },
  {
   "cell_type": "code",
   "execution_count": 16,
   "id": "d0c77529-bc68-4ced-bbae-fe633c7a191f",
   "metadata": {},
   "outputs": [
    {
     "data": {
      "image/png": "[encoded data removed]",
      "text/plain": [
       "<Figure size 432x288 with 1 Axes>"
      ]
     },
     "metadata": {
      "needs_background": "light"
     },
     "output_type": "display_data"
    }
   ],
   "source": [
    "ks = range(1, 10)\n",
    "inertias = []\n",
    "for k in ks:\n",
    "    # Create a KMeans instance with k clusters: model\n",
    "    model = KMeans(n_clusters=k)\n",
    "    \n",
    "    # Fit model to samples\n",
    "    model.fit(PCA_components_df.iloc[:,:3])\n",
    "    \n",
    "    # Append the inertia to the list of inertias\n",
    "    inertias.append(model.inertia_)\n",
    "    \n",
    "plt.plot(ks, inertias, '-o', color='black')\n",
    "plt.xlabel('number of clusters, k')\n",
    "plt.ylabel('inertia')\n",
    "plt.xticks(ks)\n",
    "plt.show()"
   ]
  },
  {
   "cell_type": "markdown",
   "id": "4ea604fc-f7db-49e1-ba8e-828eed8a4398",
   "metadata": {},
   "source": [
    "Slight elbow after 3 clusters."
   ]
  },
  {
   "cell_type": "markdown",
   "id": "0058b6ae-baf9-440a-8100-d7a7d64b4687",
   "metadata": {},
   "source": [
    "## Completion Rates by..."
   ]
  },
  {
   "cell_type": "markdown",
   "id": "4cdbbfe3-c3d0-4307-9fe5-138bad6d90df",
   "metadata": {},
   "source": [
    "### State"
   ]
  },
  {
   "cell_type": "code",
   "execution_count": 17,
   "id": "013a2d72-2d36-4e9e-a8ce-24177906facf",
   "metadata": {},
   "outputs": [],
   "source": [
    "df2 = df.copy()\n",
    "state_completion_df = df2.groupby(['STFIPS','REASON']).size().reset_index()"
   ]
  },
  {
   "cell_type": "code",
   "execution_count": 18,
   "id": "3af7d8b5-7307-4546-b336-a2656d9c7104",
   "metadata": {},
   "outputs": [],
   "source": [
    "state_completion_df = state_completion_df.rename(columns={0:'COUNT'})"
   ]
  },
  {
   "cell_type": "code",
   "execution_count": 19,
   "id": "4adc0c28-6d57-4f21-a626-9589077eb9e4",
   "metadata": {},
   "outputs": [],
   "source": [
    "state_completion_df['PERC'] = 100 * state_completion_df['COUNT'] / state_completion_df.groupby(['STFIPS'])['COUNT'].transform('sum')\n",
    "\n",
    "state_completion_df = state_completion_df.replace({'STFIPS': STATE_DICT})\n",
    "state_completion_df = state_completion_df.replace({'REASON': REASON_DICT})"
   ]
  },
  {
   "cell_type": "code",
   "execution_count": 20,
   "id": "c16baa4a-ea33-4599-a1f6-df1437c68858",
   "metadata": {
    "scrolled": true
   },
   "outputs": [
    {
     "data": {
      "text/html": [
       "\n",
       "<div id=\"altair-viz-8059b176e3ba4c1baf52253d482768b5\"></div>\n",
       "<script type=\"text/javascript\">\n",
       "  var VEGA_DEBUG = (typeof VEGA_DEBUG == \"undefined\") ? {} : VEGA_DEBUG;\n",
       "  (function(spec, embedOpt){\n",
       "    let outputDiv = document.currentScript.previousElementSibling;\n",
       "    if (outputDiv.id !== \"altair-viz-8059b176e3ba4c1baf52253d482768b5\") {\n",
       "      outputDiv = document.getElementById(\"altair-viz-8059b176e3ba4c1baf52253d482768b5\");\n",
       "    }\n",
       "    const paths = {\n",
       "      \"vega\": \"https://cdn.jsdelivr.net/npm//vega@5?noext\",\n",
       "      \"vega-lib\": \"https://cdn.jsdelivr.net/npm//vega-lib?noext\",\n",
       "      \"vega-lite\": \"https://cdn.jsdelivr.net/npm//vega-lite@4.17.0?noext\",\n",
       "      \"vega-embed\": \"https://cdn.jsdelivr.net/npm//vega-embed@6?noext\",\n",
       "    };\n",
       "\n",
       "    function maybeLoadScript(lib, version) {\n",
       "      var key = `${lib.replace(\"-\", \"\")}_version`;\n",
       "      return (VEGA_DEBUG[key] == version) ?\n",
       "        Promise.resolve(paths[lib]) :\n",
       "        new Promise(function(resolve, reject) {\n",
       "          var s = document.createElement('script');\n",
       "          document.getElementsByTagName(\"head\")[0].appendChild(s);\n",
       "          s.async = true;\n",
       "          s.onload = () => {\n",
       "            VEGA_DEBUG[key] = version;\n",
       "            return resolve(paths[lib]);\n",
       "          };\n",
       "          s.onerror = () => reject(`Error loading script: ${paths[lib]}`);\n",
       "          s.src = paths[lib];\n",
       "        });\n",
       "    }\n",
       "\n",
       "    function showError(err) {\n",
       "      outputDiv.innerHTML = `<div class=\"error\" style=\"color:red;\">${err}</div>`;\n",
       "      throw err;\n",
       "    }\n",
       "\n",
       "    function displayChart(vegaEmbed) {\n",
       "      vegaEmbed(outputDiv, spec, embedOpt)\n",
       "        .catch(err => showError(`Javascript Error: ${err.message}<br>This usually means there's a typo in your chart specification. See the javascript console for the full traceback.`));\n",
       "    }\n",
       "\n",
       "    if(typeof define === \"function\" && define.amd) {\n",
       "      requirejs.config({paths});\n",
       "      require([\"vega-embed\"], displayChart, err => showError(`Error loading script: ${err.message}`));\n",
       "    } else {\n",
       "      maybeLoadScript(\"vega\", \"5\")\n",
       "        .then(() => maybeLoadScript(\"vega-lite\", \"4.17.0\"))\n",
       "        .then(() => maybeLoadScript(\"vega-embed\", \"6\"))\n",
       "        .catch(showError)\n",
       "        .then(() => displayChart(vegaEmbed));\n",
       "    }\n",
       "  })({\"config\": {\"view\": {\"continuousWidth\": 400, \"continuousHeight\": 300}}, \"data\": {\"name\": \"data-fa7754b2b84ba4b01f17a4c7609b85e6\"}, \"mark\": \"bar\", \"encoding\": {\"color\": {\"field\": \"REASON\", \"type\": \"nominal\"}, \"order\": {\"field\": \"REASON\", \"sort\": \"ascending\", \"type\": \"nominal\"}, \"x\": {\"axis\": {\"title\": \"Percentage of Cases\"}, \"field\": \"PERC\", \"scale\": {\"domain\": [0, 100]}, \"type\": \"quantitative\"}, \"y\": {\"axis\": {\"title\": \"State\"}, \"field\": \"STFIPS\", \"sort\": {\"field\": \"filtered\", \"order\": \"descending\"}, \"type\": \"nominal\"}}, \"transform\": [{\"calculate\": \"datum.REASON == \\\"1 - Treatment Completed\\\" ? datum.PERC : 0\", \"as\": \"filtered\"}], \"$schema\": \"https://vega.github.io/schema/vega-lite/v4.17.0.json\", \"datasets\": {\"data-fa7754b2b84ba4b01f17a4c7609b85e6\": [{\"STFIPS\": \"Alabama\", \"REASON\": \"1 - Treatment Completed\", \"COUNT\": 4229, \"PERC\": 33.913392141138736}, {\"STFIPS\": \"Alabama\", \"REASON\": \"2 - Dropped out of treatment\", \"COUNT\": 4337, \"PERC\": 34.7794707297514}, {\"STFIPS\": \"Alabama\", \"REASON\": \"3 - Terminated by facility\", \"COUNT\": 989, \"PERC\": 7.931034482758621}, {\"STFIPS\": \"Alabama\", \"REASON\": \"4 - Transferred to another treatment/facility\", \"COUNT\": 1636, \"PERC\": 13.119486768243785}, {\"STFIPS\": \"Alabama\", \"REASON\": \"5 - Incarcerated\", \"COUNT\": 262, \"PERC\": 2.1010425020048116}, {\"STFIPS\": \"Alabama\", \"REASON\": \"6 - Death\", \"COUNT\": 26, \"PERC\": 0.20850040096230954}, {\"STFIPS\": \"Alabama\", \"REASON\": \"7 - Other\", \"COUNT\": 991, \"PERC\": 7.947072975140337}, {\"STFIPS\": \"Alaska\", \"REASON\": \"1 - Treatment Completed\", \"COUNT\": 2945, \"PERC\": 38.346354166666664}, {\"STFIPS\": \"Alaska\", \"REASON\": \"2 - Dropped out of treatment\", \"COUNT\": 1387, \"PERC\": 18.059895833333332}, {\"STFIPS\": \"Alaska\", \"REASON\": \"3 - Terminated by facility\", \"COUNT\": 1470, \"PERC\": 19.140625}, {\"STFIPS\": \"Alaska\", \"REASON\": \"4 - Transferred to another treatment/facility\", \"COUNT\": 918, \"PERC\": 11.953125}, {\"STFIPS\": \"Alaska\", \"REASON\": \"5 - Incarcerated\", \"COUNT\": 170, \"PERC\": 2.2135416666666665}, {\"STFIPS\": \"Alaska\", \"REASON\": \"6 - Death\", \"COUNT\": 24, \"PERC\": 0.3125}, {\"STFIPS\": \"Alaska\", \"REASON\": \"7 - Other\", \"COUNT\": 766, \"PERC\": 9.973958333333334}, {\"STFIPS\": \"Arizona\", \"REASON\": \"1 - Treatment Completed\", \"COUNT\": 132545, \"PERC\": 99.3181222134802}, {\"STFIPS\": \"Arizona\", \"REASON\": \"2 - Dropped out of treatment\", \"COUNT\": 72, \"PERC\": 0.05395076992244577}, {\"STFIPS\": \"Arizona\", \"REASON\": \"3 - Terminated by facility\", \"COUNT\": 20, \"PERC\": 0.014986324978457158}, {\"STFIPS\": \"Arizona\", \"REASON\": \"4 - Transferred to another treatment/facility\", \"COUNT\": 38, \"PERC\": 0.0284740174590686}, {\"STFIPS\": \"Arizona\", \"REASON\": \"5 - Incarcerated\", \"COUNT\": 674, \"PERC\": 0.5050391517740063}, {\"STFIPS\": \"Arizona\", \"REASON\": \"6 - Death\", \"COUNT\": 69, \"PERC\": 0.0517028211756772}, {\"STFIPS\": \"Arizona\", \"REASON\": \"7 - Other\", \"COUNT\": 37, \"PERC\": 0.027724701210145742}, {\"STFIPS\": \"Arkansas\", \"REASON\": \"1 - Treatment Completed\", \"COUNT\": 7200, \"PERC\": 59.28853754940712}, {\"STFIPS\": \"Arkansas\", \"REASON\": \"2 - Dropped out of treatment\", \"COUNT\": 2472, \"PERC\": 20.35573122529644}, {\"STFIPS\": \"Arkansas\", \"REASON\": \"3 - Terminated by facility\", \"COUNT\": 845, \"PERC\": 6.958168642951252}, {\"STFIPS\": \"Arkansas\", \"REASON\": \"4 - Transferred to another treatment/facility\", \"COUNT\": 1495, \"PERC\": 12.31060606060606}, {\"STFIPS\": \"Arkansas\", \"REASON\": \"5 - Incarcerated\", \"COUNT\": 123, \"PERC\": 1.0128458498023716}, {\"STFIPS\": \"Arkansas\", \"REASON\": \"6 - Death\", \"COUNT\": 5, \"PERC\": 0.04117259552042161}, {\"STFIPS\": \"Arkansas\", \"REASON\": \"7 - Other\", \"COUNT\": 4, \"PERC\": 0.03293807641633729}, {\"STFIPS\": \"California\", \"REASON\": \"1 - Treatment Completed\", \"COUNT\": 30858, \"PERC\": 23.198538532668756}, {\"STFIPS\": \"California\", \"REASON\": \"2 - Dropped out of treatment\", \"COUNT\": 65143, \"PERC\": 48.97343948517859}, {\"STFIPS\": \"California\", \"REASON\": \"3 - Terminated by facility\", \"COUNT\": 40, \"PERC\": 0.030071344264266973}, {\"STFIPS\": \"California\", \"REASON\": \"4 - Transferred to another treatment/facility\", \"COUNT\": 34873, \"PERC\": 26.216949713194555}, {\"STFIPS\": \"California\", \"REASON\": \"5 - Incarcerated\", \"COUNT\": 1657, \"PERC\": 1.2457054361472595}, {\"STFIPS\": \"California\", \"REASON\": \"6 - Death\", \"COUNT\": 394, \"PERC\": 0.2962027410030297}, {\"STFIPS\": \"California\", \"REASON\": \"7 - Other\", \"COUNT\": 52, \"PERC\": 0.039092747543547066}, {\"STFIPS\": \"Colorado\", \"REASON\": \"1 - Treatment Completed\", \"COUNT\": 40919, \"PERC\": 75.28240791846046}, {\"STFIPS\": \"Colorado\", \"REASON\": \"2 - Dropped out of treatment\", \"COUNT\": 6072, \"PERC\": 11.17121095043603}, {\"STFIPS\": \"Colorado\", \"REASON\": \"3 - Terminated by facility\", \"COUNT\": 1988, \"PERC\": 3.6575045074879493}, {\"STFIPS\": \"Colorado\", \"REASON\": \"4 - Transferred to another treatment/facility\", \"COUNT\": 4253, \"PERC\": 7.8246311219045515}, {\"STFIPS\": \"Colorado\", \"REASON\": \"5 - Incarcerated\", \"COUNT\": 503, \"PERC\": 0.9254148728704419}, {\"STFIPS\": \"Colorado\", \"REASON\": \"6 - Death\", \"COUNT\": 45, \"PERC\": 0.08279059498840932}, {\"STFIPS\": \"Colorado\", \"REASON\": \"7 - Other\", \"COUNT\": 574, \"PERC\": 1.0560400338521545}, {\"STFIPS\": \"Connecticut\", \"REASON\": \"1 - Treatment Completed\", \"COUNT\": 26808, \"PERC\": 42.93401665598975}, {\"STFIPS\": \"Connecticut\", \"REASON\": \"2 - Dropped out of treatment\", \"COUNT\": 12694, \"PERC\": 20.329916720051248}, {\"STFIPS\": \"Connecticut\", \"REASON\": \"3 - Terminated by facility\", \"COUNT\": 2331, \"PERC\": 3.733183856502242}, {\"STFIPS\": \"Connecticut\", \"REASON\": \"4 - Transferred to another treatment/facility\", \"COUNT\": 12413, \"PERC\": 19.87988468930173}, {\"STFIPS\": \"Connecticut\", \"REASON\": \"5 - Incarcerated\", \"COUNT\": 944, \"PERC\": 1.5118513773222293}, {\"STFIPS\": \"Connecticut\", \"REASON\": \"6 - Death\", \"COUNT\": 190, \"PERC\": 0.3042921204356182}, {\"STFIPS\": \"Connecticut\", \"REASON\": \"7 - Other\", \"COUNT\": 7060, \"PERC\": 11.30685458039718}, {\"STFIPS\": \"Delaware\", \"REASON\": \"1 - Treatment Completed\", \"COUNT\": 2826, \"PERC\": 37.013752455795675}, {\"STFIPS\": \"Delaware\", \"REASON\": \"2 - Dropped out of treatment\", \"COUNT\": 1045, \"PERC\": 13.686967910936477}, {\"STFIPS\": \"Delaware\", \"REASON\": \"3 - Terminated by facility\", \"COUNT\": 2263, \"PERC\": 29.639816633922724}, {\"STFIPS\": \"Delaware\", \"REASON\": \"4 - Transferred to another treatment/facility\", \"COUNT\": 1064, \"PERC\": 13.935821872953504}, {\"STFIPS\": \"Delaware\", \"REASON\": \"5 - Incarcerated\", \"COUNT\": 204, \"PERC\": 2.6719056974459723}, {\"STFIPS\": \"Delaware\", \"REASON\": \"6 - Death\", \"COUNT\": 41, \"PERC\": 0.5370006548788474}, {\"STFIPS\": \"Delaware\", \"REASON\": \"7 - Other\", \"COUNT\": 192, \"PERC\": 2.5147347740667976}, {\"STFIPS\": \"District of Columbia\", \"REASON\": \"1 - Treatment Completed\", \"COUNT\": 2236, \"PERC\": 51.42594296228151}, {\"STFIPS\": \"District of Columbia\", \"REASON\": \"2 - Dropped out of treatment\", \"COUNT\": 12, \"PERC\": 0.27598896044158233}, {\"STFIPS\": \"District of Columbia\", \"REASON\": \"3 - Terminated by facility\", \"COUNT\": 240, \"PERC\": 5.519779208831647}, {\"STFIPS\": \"District of Columbia\", \"REASON\": \"4 - Transferred to another treatment/facility\", \"COUNT\": 411, \"PERC\": 9.452621895124196}, {\"STFIPS\": \"District of Columbia\", \"REASON\": \"5 - Incarcerated\", \"COUNT\": 20, \"PERC\": 0.45998160073597055}, {\"STFIPS\": \"District of Columbia\", \"REASON\": \"6 - Death\", \"COUNT\": 16, \"PERC\": 0.36798528058877644}, {\"STFIPS\": \"District of Columbia\", \"REASON\": \"7 - Other\", \"COUNT\": 1413, \"PERC\": 32.49770009199632}, {\"STFIPS\": \"Florida\", \"REASON\": \"1 - Treatment Completed\", \"COUNT\": 13475, \"PERC\": 44.90768512964074}, {\"STFIPS\": \"Florida\", \"REASON\": \"2 - Dropped out of treatment\", \"COUNT\": 4791, \"PERC\": 15.966806638672265}, {\"STFIPS\": \"Florida\", \"REASON\": \"3 - Terminated by facility\", \"COUNT\": 580, \"PERC\": 1.9329467439845365}, {\"STFIPS\": \"Florida\", \"REASON\": \"4 - Transferred to another treatment/facility\", \"COUNT\": 2387, \"PERC\": 7.955075651536359}, {\"STFIPS\": \"Florida\", \"REASON\": \"5 - Incarcerated\", \"COUNT\": 358, \"PERC\": 1.1930947143904553}, {\"STFIPS\": \"Florida\", \"REASON\": \"6 - Death\", \"COUNT\": 33, \"PERC\": 0.10997800439912017}, {\"STFIPS\": \"Florida\", \"REASON\": \"7 - Other\", \"COUNT\": 8382, \"PERC\": 27.934413117376526}, {\"STFIPS\": \"Georgia\", \"REASON\": \"1 - Treatment Completed\", \"COUNT\": 7231, \"PERC\": 17.973255120302248}, {\"STFIPS\": \"Georgia\", \"REASON\": \"2 - Dropped out of treatment\", \"COUNT\": 28311, \"PERC\": 70.36935772519388}, {\"STFIPS\": \"Georgia\", \"REASON\": \"3 - Terminated by facility\", \"COUNT\": 2341, \"PERC\": 5.818751242791808}, {\"STFIPS\": \"Georgia\", \"REASON\": \"4 - Transferred to another treatment/facility\", \"COUNT\": 717, \"PERC\": 1.7821634519785245}, {\"STFIPS\": \"Georgia\", \"REASON\": \"5 - Incarcerated\", \"COUNT\": 277, \"PERC\": 0.6885066613640883}, {\"STFIPS\": \"Georgia\", \"REASON\": \"6 - Death\", \"COUNT\": 63, \"PERC\": 0.156591767747067}, {\"STFIPS\": \"Georgia\", \"REASON\": \"7 - Other\", \"COUNT\": 1292, \"PERC\": 3.21137403062239}, {\"STFIPS\": \"Hawaii\", \"REASON\": \"1 - Treatment Completed\", \"COUNT\": 2232, \"PERC\": 27.262733602052034}, {\"STFIPS\": \"Hawaii\", \"REASON\": \"2 - Dropped out of treatment\", \"COUNT\": 1319, \"PERC\": 16.110907536338097}, {\"STFIPS\": \"Hawaii\", \"REASON\": \"3 - Terminated by facility\", \"COUNT\": 922, \"PERC\": 11.261756443141566}, {\"STFIPS\": \"Hawaii\", \"REASON\": \"4 - Transferred to another treatment/facility\", \"COUNT\": 3602, \"PERC\": 43.996579943813366}, {\"STFIPS\": \"Hawaii\", \"REASON\": \"5 - Incarcerated\", \"COUNT\": 47, \"PERC\": 0.5740808598998413}, {\"STFIPS\": \"Hawaii\", \"REASON\": \"6 - Death\", \"COUNT\": 4, \"PERC\": 0.04885794552339074}, {\"STFIPS\": \"Hawaii\", \"REASON\": \"7 - Other\", \"COUNT\": 61, \"PERC\": 0.7450836692317088}, {\"STFIPS\": \"Idaho\", \"REASON\": \"1 - Treatment Completed\", \"COUNT\": 2899, \"PERC\": 38.23025187920348}, {\"STFIPS\": \"Idaho\", \"REASON\": \"2 - Dropped out of treatment\", \"COUNT\": 2050, \"PERC\": 27.0341553474878}, {\"STFIPS\": \"Idaho\", \"REASON\": \"4 - Transferred to another treatment/facility\", \"COUNT\": 1244, \"PERC\": 16.405116708426743}, {\"STFIPS\": \"Idaho\", \"REASON\": \"5 - Incarcerated\", \"COUNT\": 597, \"PERC\": 7.872873532902545}, {\"STFIPS\": \"Idaho\", \"REASON\": \"6 - Death\", \"COUNT\": 18, \"PERC\": 0.23737307134379534}, {\"STFIPS\": \"Idaho\", \"REASON\": \"7 - Other\", \"COUNT\": 775, \"PERC\": 10.220229460635633}, {\"STFIPS\": \"Illinois\", \"REASON\": \"1 - Treatment Completed\", \"COUNT\": 11161, \"PERC\": 28.062455999195414}, {\"STFIPS\": \"Illinois\", \"REASON\": \"2 - Dropped out of treatment\", \"COUNT\": 9822, \"PERC\": 24.695765865432968}, {\"STFIPS\": \"Illinois\", \"REASON\": \"3 - Terminated by facility\", \"COUNT\": 3672, \"PERC\": 9.2326259680177}, {\"STFIPS\": \"Illinois\", \"REASON\": \"4 - Transferred to another treatment/facility\", \"COUNT\": 14641, \"PERC\": 36.81233028261088}, {\"STFIPS\": \"Illinois\", \"REASON\": \"5 - Incarcerated\", \"COUNT\": 423, \"PERC\": 1.063562305139294}, {\"STFIPS\": \"Illinois\", \"REASON\": \"6 - Death\", \"COUNT\": 37, \"PERC\": 0.09303027255355527}, {\"STFIPS\": \"Illinois\", \"REASON\": \"7 - Other\", \"COUNT\": 16, \"PERC\": 0.04022930705018606}, {\"STFIPS\": \"Indiana\", \"REASON\": \"1 - Treatment Completed\", \"COUNT\": 3343, \"PERC\": 22.245142400851744}, {\"STFIPS\": \"Indiana\", \"REASON\": \"2 - Dropped out of treatment\", \"COUNT\": 6582, \"PERC\": 43.79824327921214}, {\"STFIPS\": \"Indiana\", \"REASON\": \"3 - Terminated by facility\", \"COUNT\": 3043, \"PERC\": 20.248868778280542}, {\"STFIPS\": \"Indiana\", \"REASON\": \"4 - Transferred to another treatment/facility\", \"COUNT\": 1334, \"PERC\": 8.87676337503327}, {\"STFIPS\": \"Indiana\", \"REASON\": \"5 - Incarcerated\", \"COUNT\": 485, \"PERC\": 3.227309023156774}, {\"STFIPS\": \"Indiana\", \"REASON\": \"6 - Death\", \"COUNT\": 48, \"PERC\": 0.31940377961139205}, {\"STFIPS\": \"Indiana\", \"REASON\": \"7 - Other\", \"COUNT\": 193, \"PERC\": 1.284269363854139}, {\"STFIPS\": \"Iowa\", \"REASON\": \"1 - Treatment Completed\", \"COUNT\": 9876, \"PERC\": 42.65906440326552}, {\"STFIPS\": \"Iowa\", \"REASON\": \"2 - Dropped out of treatment\", \"COUNT\": 7983, \"PERC\": 34.482311779188805}, {\"STFIPS\": \"Iowa\", \"REASON\": \"3 - Terminated by facility\", \"COUNT\": 1916, \"PERC\": 8.276100384432638}, {\"STFIPS\": \"Iowa\", \"REASON\": \"4 - Transferred to another treatment/facility\", \"COUNT\": 1586, \"PERC\": 6.850675996717205}, {\"STFIPS\": \"Iowa\", \"REASON\": \"5 - Incarcerated\", \"COUNT\": 812, \"PERC\": 3.5074078873482786}, {\"STFIPS\": \"Iowa\", \"REASON\": \"6 - Death\", \"COUNT\": 41, \"PERC\": 0.1770981815040387}, {\"STFIPS\": \"Iowa\", \"REASON\": \"7 - Other\", \"COUNT\": 937, \"PERC\": 4.047341367543519}, {\"STFIPS\": \"Kansas\", \"REASON\": \"1 - Treatment Completed\", \"COUNT\": 1965, \"PERC\": 49.69650986342944}, {\"STFIPS\": \"Kansas\", \"REASON\": \"2 - Dropped out of treatment\", \"COUNT\": 1192, \"PERC\": 30.146686899342438}, {\"STFIPS\": \"Kansas\", \"REASON\": \"3 - Terminated by facility\", \"COUNT\": 180, \"PERC\": 4.552352048558422}, {\"STFIPS\": \"Kansas\", \"REASON\": \"4 - Transferred to another treatment/facility\", \"COUNT\": 384, \"PERC\": 9.711684370257966}, {\"STFIPS\": \"Kansas\", \"REASON\": \"5 - Incarcerated\", \"COUNT\": 138, \"PERC\": 3.490136570561457}, {\"STFIPS\": \"Kansas\", \"REASON\": \"6 - Death\", \"COUNT\": 3, \"PERC\": 0.07587253414264036}, {\"STFIPS\": \"Kansas\", \"REASON\": \"7 - Other\", \"COUNT\": 92, \"PERC\": 2.3267577137076376}, {\"STFIPS\": \"Kentucky\", \"REASON\": \"1 - Treatment Completed\", \"COUNT\": 4411, \"PERC\": 6.664249346568161}, {\"STFIPS\": \"Kentucky\", \"REASON\": \"2 - Dropped out of treatment\", \"COUNT\": 2189, \"PERC\": 3.3071960597682395}, {\"STFIPS\": \"Kentucky\", \"REASON\": \"3 - Terminated by facility\", \"COUNT\": 1224, \"PERC\": 1.8492498753569324}, {\"STFIPS\": \"Kentucky\", \"REASON\": \"4 - Transferred to another treatment/facility\", \"COUNT\": 56226, \"PERC\": 84.94764991161674}, {\"STFIPS\": \"Kentucky\", \"REASON\": \"5 - Incarcerated\", \"COUNT\": 190, \"PERC\": 0.28705676169756306}, {\"STFIPS\": \"Kentucky\", \"REASON\": \"6 - Death\", \"COUNT\": 22, \"PERC\": 0.03323815135445467}, {\"STFIPS\": \"Kentucky\", \"REASON\": \"7 - Other\", \"COUNT\": 1927, \"PERC\": 2.9113598936379157}, {\"STFIPS\": \"Louisiana\", \"REASON\": \"1 - Treatment Completed\", \"COUNT\": 1979, \"PERC\": 13.944475760992109}, {\"STFIPS\": \"Louisiana\", \"REASON\": \"2 - Dropped out of treatment\", \"COUNT\": 10100, \"PERC\": 71.16685456595265}, {\"STFIPS\": \"Louisiana\", \"REASON\": \"3 - Terminated by facility\", \"COUNT\": 9, \"PERC\": 0.06341600901916573}, {\"STFIPS\": \"Louisiana\", \"REASON\": \"4 - Transferred to another treatment/facility\", \"COUNT\": 2002, \"PERC\": 14.106538895152198}, {\"STFIPS\": \"Louisiana\", \"REASON\": \"5 - Incarcerated\", \"COUNT\": 10, \"PERC\": 0.07046223224351747}, {\"STFIPS\": \"Louisiana\", \"REASON\": \"6 - Death\", \"COUNT\": 8, \"PERC\": 0.05636978579481398}, {\"STFIPS\": \"Louisiana\", \"REASON\": \"7 - Other\", \"COUNT\": 84, \"PERC\": 0.5918827508455468}, {\"STFIPS\": \"Maine\", \"REASON\": \"1 - Treatment Completed\", \"COUNT\": 2951, \"PERC\": 43.01749271137026}, {\"STFIPS\": \"Maine\", \"REASON\": \"2 - Dropped out of treatment\", \"COUNT\": 1979, \"PERC\": 28.848396501457724}, {\"STFIPS\": \"Maine\", \"REASON\": \"3 - Terminated by facility\", \"COUNT\": 738, \"PERC\": 10.758017492711371}, {\"STFIPS\": \"Maine\", \"REASON\": \"4 - Transferred to another treatment/facility\", \"COUNT\": 563, \"PERC\": 8.206997084548105}, {\"STFIPS\": \"Maine\", \"REASON\": \"5 - Incarcerated\", \"COUNT\": 182, \"PERC\": 2.6530612244897958}, {\"STFIPS\": \"Maine\", \"REASON\": \"6 - Death\", \"COUNT\": 42, \"PERC\": 0.6122448979591837}, {\"STFIPS\": \"Maine\", \"REASON\": \"7 - Other\", \"COUNT\": 405, \"PERC\": 5.903790087463557}, {\"STFIPS\": \"Maryland\", \"REASON\": \"1 - Treatment Completed\", \"COUNT\": 3332, \"PERC\": 11.053976047506884}, {\"STFIPS\": \"Maryland\", \"REASON\": \"2 - Dropped out of treatment\", \"COUNT\": 10022, \"PERC\": 33.24818365789736}, {\"STFIPS\": \"Maryland\", \"REASON\": \"3 - Terminated by facility\", \"COUNT\": 3796, \"PERC\": 12.593305244998838}, {\"STFIPS\": \"Maryland\", \"REASON\": \"4 - Transferred to another treatment/facility\", \"COUNT\": 12111, \"PERC\": 40.17848256643333}, {\"STFIPS\": \"Maryland\", \"REASON\": \"5 - Incarcerated\", \"COUNT\": 690, \"PERC\": 2.289088677304847}, {\"STFIPS\": \"Maryland\", \"REASON\": \"6 - Death\", \"COUNT\": 176, \"PERC\": 0.583883488703845}, {\"STFIPS\": \"Maryland\", \"REASON\": \"7 - Other\", \"COUNT\": 16, \"PERC\": 0.053080317154895}, {\"STFIPS\": \"Massachusetts\", \"REASON\": \"1 - Treatment Completed\", \"COUNT\": 34441, \"PERC\": 50.86545561955398}, {\"STFIPS\": \"Massachusetts\", \"REASON\": \"2 - Dropped out of treatment\", \"COUNT\": 23958, \"PERC\": 35.38325210456358}, {\"STFIPS\": \"Massachusetts\", \"REASON\": \"3 - Terminated by facility\", \"COUNT\": 3791, \"PERC\": 5.598877566090681}, {\"STFIPS\": \"Massachusetts\", \"REASON\": \"4 - Transferred to another treatment/facility\", \"COUNT\": 2257, \"PERC\": 3.3333333333333335}, {\"STFIPS\": \"Massachusetts\", \"REASON\": \"5 - Incarcerated\", \"COUNT\": 364, \"PERC\": 0.5375867670949638}, {\"STFIPS\": \"Massachusetts\", \"REASON\": \"6 - Death\", \"COUNT\": 143, \"PERC\": 0.21119480135873578}, {\"STFIPS\": \"Massachusetts\", \"REASON\": \"7 - Other\", \"COUNT\": 2756, \"PERC\": 4.070299808004726}, {\"STFIPS\": \"Michigan\", \"REASON\": \"1 - Treatment Completed\", \"COUNT\": 17180, \"PERC\": 23.82537305153381}, {\"STFIPS\": \"Michigan\", \"REASON\": \"2 - Dropped out of treatment\", \"COUNT\": 25668, \"PERC\": 35.59660509236146}, {\"STFIPS\": \"Michigan\", \"REASON\": \"3 - Terminated by facility\", \"COUNT\": 3491, \"PERC\": 4.841349087479891}, {\"STFIPS\": \"Michigan\", \"REASON\": \"4 - Transferred to another treatment/facility\", \"COUNT\": 19837, \"PERC\": 27.51012370333389}, {\"STFIPS\": \"Michigan\", \"REASON\": \"5 - Incarcerated\", \"COUNT\": 1735, \"PERC\": 2.4061130526432573}, {\"STFIPS\": \"Michigan\", \"REASON\": \"6 - Death\", \"COUNT\": 193, \"PERC\": 0.2676540744438897}, {\"STFIPS\": \"Michigan\", \"REASON\": \"7 - Other\", \"COUNT\": 4004, \"PERC\": 5.552781938203806}, {\"STFIPS\": \"Minnesota\", \"REASON\": \"1 - Treatment Completed\", \"COUNT\": 26041, \"PERC\": 50.431869238515766}, {\"STFIPS\": \"Minnesota\", \"REASON\": \"2 - Dropped out of treatment\", \"COUNT\": 14361, \"PERC\": 27.8119916337439}, {\"STFIPS\": \"Minnesota\", \"REASON\": \"3 - Terminated by facility\", \"COUNT\": 3348, \"PERC\": 6.483848477806181}, {\"STFIPS\": \"Minnesota\", \"REASON\": \"4 - Transferred to another treatment/facility\", \"COUNT\": 4064, \"PERC\": 7.870477961112402}, {\"STFIPS\": \"Minnesota\", \"REASON\": \"5 - Incarcerated\", \"COUNT\": 854, \"PERC\": 1.6538848865132854}, {\"STFIPS\": \"Minnesota\", \"REASON\": \"6 - Death\", \"COUNT\": 72, \"PERC\": 0.13943760167325123}, {\"STFIPS\": \"Minnesota\", \"REASON\": \"7 - Other\", \"COUNT\": 2896, \"PERC\": 5.608490200635216}, {\"STFIPS\": \"Mississippi\", \"REASON\": \"1 - Treatment Completed\", \"COUNT\": 1240, \"PERC\": 27.77777777777778}, {\"STFIPS\": \"Mississippi\", \"REASON\": \"2 - Dropped out of treatment\", \"COUNT\": 1696, \"PERC\": 37.992831541218635}, {\"STFIPS\": \"Mississippi\", \"REASON\": \"3 - Terminated by facility\", \"COUNT\": 156, \"PERC\": 3.4946236559139785}, {\"STFIPS\": \"Mississippi\", \"REASON\": \"4 - Transferred to another treatment/facility\", \"COUNT\": 1305, \"PERC\": 29.233870967741936}, {\"STFIPS\": \"Mississippi\", \"REASON\": \"5 - Incarcerated\", \"COUNT\": 2, \"PERC\": 0.044802867383512544}, {\"STFIPS\": \"Mississippi\", \"REASON\": \"7 - Other\", \"COUNT\": 65, \"PERC\": 1.4560931899641576}, {\"STFIPS\": \"Missouri\", \"REASON\": \"1 - Treatment Completed\", \"COUNT\": 10280, \"PERC\": 21.75293072072453}, {\"STFIPS\": \"Missouri\", \"REASON\": \"2 - Dropped out of treatment\", \"COUNT\": 13678, \"PERC\": 28.94324770409243}, {\"STFIPS\": \"Missouri\", \"REASON\": \"3 - Terminated by facility\", \"COUNT\": 3258, \"PERC\": 6.894070845147912}, {\"STFIPS\": \"Missouri\", \"REASON\": \"4 - Transferred to another treatment/facility\", \"COUNT\": 18511, \"PERC\": 39.17008760421516}, {\"STFIPS\": \"Missouri\", \"REASON\": \"5 - Incarcerated\", \"COUNT\": 655, \"PERC\": 1.386008718100639}, {\"STFIPS\": \"Missouri\", \"REASON\": \"6 - Death\", \"COUNT\": 189, \"PERC\": 0.39993228659697827}, {\"STFIPS\": \"Missouri\", \"REASON\": \"7 - Other\", \"COUNT\": 687, \"PERC\": 1.4537221211223497}, {\"STFIPS\": \"Montana\", \"REASON\": \"1 - Treatment Completed\", \"COUNT\": 521, \"PERC\": 45.74187884108868}, {\"STFIPS\": \"Montana\", \"REASON\": \"2 - Dropped out of treatment\", \"COUNT\": 345, \"PERC\": 30.28972783143108}, {\"STFIPS\": \"Montana\", \"REASON\": \"3 - Terminated by facility\", \"COUNT\": 19, \"PERC\": 1.6681299385425812}, {\"STFIPS\": \"Montana\", \"REASON\": \"4 - Transferred to another treatment/facility\", \"COUNT\": 221, \"PERC\": 19.402985074626866}, {\"STFIPS\": \"Montana\", \"REASON\": \"7 - Other\", \"COUNT\": 33, \"PERC\": 2.8972783143107987}, {\"STFIPS\": \"Nebraska\", \"REASON\": \"1 - Treatment Completed\", \"COUNT\": 5921, \"PERC\": 61.319386909693456}, {\"STFIPS\": \"Nebraska\", \"REASON\": \"2 - Dropped out of treatment\", \"COUNT\": 1581, \"PERC\": 16.37323943661972}, {\"STFIPS\": \"Nebraska\", \"REASON\": \"3 - Terminated by facility\", \"COUNT\": 284, \"PERC\": 2.9411764705882355}, {\"STFIPS\": \"Nebraska\", \"REASON\": \"4 - Transferred to another treatment/facility\", \"COUNT\": 980, \"PERC\": 10.149130074565038}, {\"STFIPS\": \"Nebraska\", \"REASON\": \"5 - Incarcerated\", \"COUNT\": 149, \"PERC\": 1.5430820215410108}, {\"STFIPS\": \"Nebraska\", \"REASON\": \"6 - Death\", \"COUNT\": 15, \"PERC\": 0.15534382767191385}, {\"STFIPS\": \"Nebraska\", \"REASON\": \"7 - Other\", \"COUNT\": 726, \"PERC\": 7.5186412593206295}, {\"STFIPS\": \"Nevada\", \"REASON\": \"1 - Treatment Completed\", \"COUNT\": 4451, \"PERC\": 51.438807350052}, {\"STFIPS\": \"Nevada\", \"REASON\": \"2 - Dropped out of treatment\", \"COUNT\": 1987, \"PERC\": 22.96313417311915}, {\"STFIPS\": \"Nevada\", \"REASON\": \"3 - Terminated by facility\", \"COUNT\": 603, \"PERC\": 6.968681382179591}, {\"STFIPS\": \"Nevada\", \"REASON\": \"4 - Transferred to another treatment/facility\", \"COUNT\": 1247, \"PERC\": 14.411186871605224}, {\"STFIPS\": \"Nevada\", \"REASON\": \"5 - Incarcerated\", \"COUNT\": 110, \"PERC\": 1.2712354096845024}, {\"STFIPS\": \"Nevada\", \"REASON\": \"6 - Death\", \"COUNT\": 6, \"PERC\": 0.06934011325551832}, {\"STFIPS\": \"Nevada\", \"REASON\": \"7 - Other\", \"COUNT\": 249, \"PERC\": 2.87761470010401}, {\"STFIPS\": \"New Hampshire\", \"REASON\": \"1 - Treatment Completed\", \"COUNT\": 1015, \"PERC\": 38.59315589353612}, {\"STFIPS\": \"New Hampshire\", \"REASON\": \"2 - Dropped out of treatment\", \"COUNT\": 292, \"PERC\": 11.102661596958175}, {\"STFIPS\": \"New Hampshire\", \"REASON\": \"3 - Terminated by facility\", \"COUNT\": 225, \"PERC\": 8.55513307984791}, {\"STFIPS\": \"New Hampshire\", \"REASON\": \"4 - Transferred to another treatment/facility\", \"COUNT\": 409, \"PERC\": 15.551330798479087}, {\"STFIPS\": \"New Hampshire\", \"REASON\": \"5 - Incarcerated\", \"COUNT\": 76, \"PERC\": 2.8897338403041823}, {\"STFIPS\": \"New Hampshire\", \"REASON\": \"6 - Death\", \"COUNT\": 3, \"PERC\": 0.11406844106463879}, {\"STFIPS\": \"New Hampshire\", \"REASON\": \"7 - Other\", \"COUNT\": 610, \"PERC\": 23.193916349809886}, {\"STFIPS\": \"New Jersey\", \"REASON\": \"1 - Treatment Completed\", \"COUNT\": 50056, \"PERC\": 57.22386080435329}, {\"STFIPS\": \"New Jersey\", \"REASON\": \"2 - Dropped out of treatment\", \"COUNT\": 23540, \"PERC\": 26.910853510757484}, {\"STFIPS\": \"New Jersey\", \"REASON\": \"3 - Terminated by facility\", \"COUNT\": 3410, \"PERC\": 3.898301209502252}, {\"STFIPS\": \"New Jersey\", \"REASON\": \"4 - Transferred to another treatment/facility\", \"COUNT\": 864, \"PERC\": 0.9877220659853213}, {\"STFIPS\": \"New Jersey\", \"REASON\": \"5 - Incarcerated\", \"COUNT\": 1498, \"PERC\": 1.712508859775476}, {\"STFIPS\": \"New Jersey\", \"REASON\": \"6 - Death\", \"COUNT\": 248, \"PERC\": 0.28351281523652744}, {\"STFIPS\": \"New Jersey\", \"REASON\": \"7 - Other\", \"COUNT\": 7858, \"PERC\": 8.983240734389648}, {\"STFIPS\": \"New Mexico\", \"REASON\": \"1 - Treatment Completed\", \"COUNT\": 83, \"PERC\": 4.30944963655244}, {\"STFIPS\": \"New Mexico\", \"REASON\": \"2 - Dropped out of treatment\", \"COUNT\": 54, \"PERC\": 2.803738317757009}, {\"STFIPS\": \"New Mexico\", \"REASON\": \"3 - Terminated by facility\", \"COUNT\": 16, \"PERC\": 0.8307372793354102}, {\"STFIPS\": \"New Mexico\", \"REASON\": \"4 - Transferred to another treatment/facility\", \"COUNT\": 1750, \"PERC\": 90.86188992731049}, {\"STFIPS\": \"New Mexico\", \"REASON\": \"5 - Incarcerated\", \"COUNT\": 3, \"PERC\": 0.1557632398753894}, {\"STFIPS\": \"New Mexico\", \"REASON\": \"6 - Death\", \"COUNT\": 4, \"PERC\": 0.20768431983385255}, {\"STFIPS\": \"New Mexico\", \"REASON\": \"7 - Other\", \"COUNT\": 16, \"PERC\": 0.8307372793354102}, {\"STFIPS\": \"New York\", \"REASON\": \"1 - Treatment Completed\", \"COUNT\": 129030, \"PERC\": 49.83007646559049}, {\"STFIPS\": \"New York\", \"REASON\": \"2 - Dropped out of treatment\", \"COUNT\": 84870, \"PERC\": 32.77593264849}, {\"STFIPS\": \"New York\", \"REASON\": \"3 - Terminated by facility\", \"COUNT\": 19957, \"PERC\": 7.70719085502433}, {\"STFIPS\": \"New York\", \"REASON\": \"4 - Transferred to another treatment/facility\", \"COUNT\": 13531, \"PERC\": 5.225534872943539}, {\"STFIPS\": \"New York\", \"REASON\": \"5 - Incarcerated\", \"COUNT\": 6454, \"PERC\": 2.492469297906851}, {\"STFIPS\": \"New York\", \"REASON\": \"6 - Death\", \"COUNT\": 793, \"PERC\": 0.306248551788059}, {\"STFIPS\": \"New York\", \"REASON\": \"7 - Other\", \"COUNT\": 4305, \"PERC\": 1.662547308256739}, {\"STFIPS\": \"North Carolina\", \"REASON\": \"1 - Treatment Completed\", \"COUNT\": 28406, \"PERC\": 17.211480783562873}, {\"STFIPS\": \"North Carolina\", \"REASON\": \"2 - Dropped out of treatment\", \"COUNT\": 5286, \"PERC\": 3.202840506298435}, {\"STFIPS\": \"North Carolina\", \"REASON\": \"3 - Terminated by facility\", \"COUNT\": 38, \"PERC\": 0.023024581770590337}, {\"STFIPS\": \"North Carolina\", \"REASON\": \"4 - Transferred to another treatment/facility\", \"COUNT\": 131173, \"PERC\": 79.47903854193807}, {\"STFIPS\": \"North Carolina\", \"REASON\": \"5 - Incarcerated\", \"COUNT\": 26, \"PERC\": 0.01575366121145655}, {\"STFIPS\": \"North Carolina\", \"REASON\": \"6 - Death\", \"COUNT\": 20, \"PERC\": 0.012118200931889651}, {\"STFIPS\": \"North Carolina\", \"REASON\": \"7 - Other\", \"COUNT\": 92, \"PERC\": 0.0557437242866924}, {\"STFIPS\": \"North Dakota\", \"REASON\": \"1 - Treatment Completed\", \"COUNT\": 70, \"PERC\": 25.454545454545453}, {\"STFIPS\": \"North Dakota\", \"REASON\": \"2 - Dropped out of treatment\", \"COUNT\": 84, \"PERC\": 30.545454545454547}, {\"STFIPS\": \"North Dakota\", \"REASON\": \"3 - Terminated by facility\", \"COUNT\": 7, \"PERC\": 2.5454545454545454}, {\"STFIPS\": \"North Dakota\", \"REASON\": \"4 - Transferred to another treatment/facility\", \"COUNT\": 38, \"PERC\": 13.818181818181818}, {\"STFIPS\": \"North Dakota\", \"REASON\": \"5 - Incarcerated\", \"COUNT\": 3, \"PERC\": 1.0909090909090908}, {\"STFIPS\": \"North Dakota\", \"REASON\": \"6 - Death\", \"COUNT\": 8, \"PERC\": 2.909090909090909}, {\"STFIPS\": \"North Dakota\", \"REASON\": \"7 - Other\", \"COUNT\": 65, \"PERC\": 23.636363636363637}, {\"STFIPS\": \"Ohio\", \"REASON\": \"1 - Treatment Completed\", \"COUNT\": 5090, \"PERC\": 29.27137845764564}, {\"STFIPS\": \"Ohio\", \"REASON\": \"2 - Dropped out of treatment\", \"COUNT\": 5099, \"PERC\": 29.323135315429294}, {\"STFIPS\": \"Ohio\", \"REASON\": \"3 - Terminated by facility\", \"COUNT\": 3466, \"PERC\": 19.93214100868365}, {\"STFIPS\": \"Ohio\", \"REASON\": \"4 - Transferred to another treatment/facility\", \"COUNT\": 1449, \"PERC\": 8.33285410316867}, {\"STFIPS\": \"Ohio\", \"REASON\": \"5 - Incarcerated\", \"COUNT\": 611, \"PERC\": 3.5137155673126688}, {\"STFIPS\": \"Ohio\", \"REASON\": \"6 - Death\", \"COUNT\": 81, \"PERC\": 0.465811720052907}, {\"STFIPS\": \"Ohio\", \"REASON\": \"7 - Other\", \"COUNT\": 1593, \"PERC\": 9.160963827707171}, {\"STFIPS\": \"Oklahoma\", \"REASON\": \"1 - Treatment Completed\", \"COUNT\": 4391, \"PERC\": 34.358372456964005}, {\"STFIPS\": \"Oklahoma\", \"REASON\": \"2 - Dropped out of treatment\", \"COUNT\": 5754, \"PERC\": 45.02347417840375}, {\"STFIPS\": \"Oklahoma\", \"REASON\": \"3 - Terminated by facility\", \"COUNT\": 498, \"PERC\": 3.896713615023474}, {\"STFIPS\": \"Oklahoma\", \"REASON\": \"4 - Transferred to another treatment/facility\", \"COUNT\": 1353, \"PERC\": 10.586854460093896}, {\"STFIPS\": \"Oklahoma\", \"REASON\": \"5 - Incarcerated\", \"COUNT\": 223, \"PERC\": 1.7449139280125197}, {\"STFIPS\": \"Oklahoma\", \"REASON\": \"6 - Death\", \"COUNT\": 41, \"PERC\": 0.3208137715179969}, {\"STFIPS\": \"Oklahoma\", \"REASON\": \"7 - Other\", \"COUNT\": 520, \"PERC\": 4.068857589984351}, {\"STFIPS\": \"Pennsylvania\", \"REASON\": \"1 - Treatment Completed\", \"COUNT\": 10129, \"PERC\": 38.19381598793363}, {\"STFIPS\": \"Pennsylvania\", \"REASON\": \"2 - Dropped out of treatment\", \"COUNT\": 5848, \"PERC\": 22.05128205128205}, {\"STFIPS\": \"Pennsylvania\", \"REASON\": \"3 - Terminated by facility\", \"COUNT\": 1551, \"PERC\": 5.84841628959276}, {\"STFIPS\": \"Pennsylvania\", \"REASON\": \"4 - Transferred to another treatment/facility\", \"COUNT\": 1265, \"PERC\": 4.7699849170437405}, {\"STFIPS\": \"Pennsylvania\", \"REASON\": \"5 - Incarcerated\", \"COUNT\": 929, \"PERC\": 3.5030165912518854}, {\"STFIPS\": \"Pennsylvania\", \"REASON\": \"6 - Death\", \"COUNT\": 47, \"PERC\": 0.17722473604826547}, {\"STFIPS\": \"Pennsylvania\", \"REASON\": \"7 - Other\", \"COUNT\": 6751, \"PERC\": 25.456259426847662}, {\"STFIPS\": \"Rhode Island\", \"REASON\": \"1 - Treatment Completed\", \"COUNT\": 3160, \"PERC\": 29.660221513046743}, {\"STFIPS\": \"Rhode Island\", \"REASON\": \"2 - Dropped out of treatment\", \"COUNT\": 2403, \"PERC\": 22.55490895438333}, {\"STFIPS\": \"Rhode Island\", \"REASON\": \"3 - Terminated by facility\", \"COUNT\": 1415, \"PERC\": 13.281396658532007}, {\"STFIPS\": \"Rhode Island\", \"REASON\": \"4 - Transferred to another treatment/facility\", \"COUNT\": 3455, \"PERC\": 32.42913459733433}, {\"STFIPS\": \"Rhode Island\", \"REASON\": \"5 - Incarcerated\", \"COUNT\": 164, \"PERC\": 1.5393279519429321}, {\"STFIPS\": \"Rhode Island\", \"REASON\": \"6 - Death\", \"COUNT\": 51, \"PERC\": 0.4786934484700582}, {\"STFIPS\": \"Rhode Island\", \"REASON\": \"7 - Other\", \"COUNT\": 6, \"PERC\": 0.056316876290595085}, {\"STFIPS\": \"South Carolina\", \"REASON\": \"1 - Treatment Completed\", \"COUNT\": 15278, \"PERC\": 46.29556680100603}, {\"STFIPS\": \"South Carolina\", \"REASON\": \"2 - Dropped out of treatment\", \"COUNT\": 13198, \"PERC\": 39.99272749310627}, {\"STFIPS\": \"South Carolina\", \"REASON\": \"3 - Terminated by facility\", \"COUNT\": 1810, \"PERC\": 5.48468228235508}, {\"STFIPS\": \"South Carolina\", \"REASON\": \"4 - Transferred to another treatment/facility\", \"COUNT\": 1386, \"PERC\": 4.19987273112936}, {\"STFIPS\": \"South Carolina\", \"REASON\": \"5 - Incarcerated\", \"COUNT\": 438, \"PERC\": 1.327232508105815}, {\"STFIPS\": \"South Carolina\", \"REASON\": \"6 - Death\", \"COUNT\": 83, \"PERC\": 0.2515075300748462}, {\"STFIPS\": \"South Carolina\", \"REASON\": \"7 - Other\", \"COUNT\": 808, \"PERC\": 2.448410654222599}, {\"STFIPS\": \"South Dakota\", \"REASON\": \"1 - Treatment Completed\", \"COUNT\": 9979, \"PERC\": 60.85869366347502}, {\"STFIPS\": \"South Dakota\", \"REASON\": \"2 - Dropped out of treatment\", \"COUNT\": 1842, \"PERC\": 11.233762273586631}, {\"STFIPS\": \"South Dakota\", \"REASON\": \"3 - Terminated by facility\", \"COUNT\": 783, \"PERC\": 4.775263767762396}, {\"STFIPS\": \"South Dakota\", \"REASON\": \"4 - Transferred to another treatment/facility\", \"COUNT\": 2454, \"PERC\": 14.966152344941149}, {\"STFIPS\": \"South Dakota\", \"REASON\": \"5 - Incarcerated\", \"COUNT\": 523, \"PERC\": 3.1896078550954443}, {\"STFIPS\": \"South Dakota\", \"REASON\": \"6 - Death\", \"COUNT\": 10, \"PERC\": 0.06098676587180582}, {\"STFIPS\": \"South Dakota\", \"REASON\": \"7 - Other\", \"COUNT\": 806, \"PERC\": 4.915533329267549}, {\"STFIPS\": \"Tennessee\", \"REASON\": \"1 - Treatment Completed\", \"COUNT\": 8722, \"PERC\": 49.73484632491304}, {\"STFIPS\": \"Tennessee\", \"REASON\": \"2 - Dropped out of treatment\", \"COUNT\": 4976, \"PERC\": 28.374294349090494}, {\"STFIPS\": \"Tennessee\", \"REASON\": \"3 - Terminated by facility\", \"COUNT\": 2839, \"PERC\": 16.188629754233904}, {\"STFIPS\": \"Tennessee\", \"REASON\": \"4 - Transferred to another treatment/facility\", \"COUNT\": 466, \"PERC\": 2.6572389804413525}, {\"STFIPS\": \"Tennessee\", \"REASON\": \"5 - Incarcerated\", \"COUNT\": 225, \"PERC\": 1.2830016536465758}, {\"STFIPS\": \"Tennessee\", \"REASON\": \"6 - Death\", \"COUNT\": 20, \"PERC\": 0.11404459143525118}, {\"STFIPS\": \"Tennessee\", \"REASON\": \"7 - Other\", \"COUNT\": 289, \"PERC\": 1.6479443462393797}, {\"STFIPS\": \"Texas\", \"REASON\": \"1 - Treatment Completed\", \"COUNT\": 18429, \"PERC\": 53.94590480651016}, {\"STFIPS\": \"Texas\", \"REASON\": \"2 - Dropped out of treatment\", \"COUNT\": 5968, \"PERC\": 17.469703178970786}, {\"STFIPS\": \"Texas\", \"REASON\": \"3 - Terminated by facility\", \"COUNT\": 5037, \"PERC\": 14.744452900884022}, {\"STFIPS\": \"Texas\", \"REASON\": \"4 - Transferred to another treatment/facility\", \"COUNT\": 1875, \"PERC\": 5.488554534277853}, {\"STFIPS\": \"Texas\", \"REASON\": \"5 - Incarcerated\", \"COUNT\": 8, \"PERC\": 0.023417832679585505}, {\"STFIPS\": \"Texas\", \"REASON\": \"7 - Other\", \"COUNT\": 2845, \"PERC\": 8.327966746677594}, {\"STFIPS\": \"Utah\", \"REASON\": \"1 - Treatment Completed\", \"COUNT\": 8467, \"PERC\": 49.514619883040936}, {\"STFIPS\": \"Utah\", \"REASON\": \"2 - Dropped out of treatment\", \"COUNT\": 3826, \"PERC\": 22.374269005847953}, {\"STFIPS\": \"Utah\", \"REASON\": \"3 - Terminated by facility\", \"COUNT\": 1395, \"PERC\": 8.157894736842104}, {\"STFIPS\": \"Utah\", \"REASON\": \"4 - Transferred to another treatment/facility\", \"COUNT\": 2844, \"PERC\": 16.63157894736842}, {\"STFIPS\": \"Utah\", \"REASON\": \"5 - Incarcerated\", \"COUNT\": 519, \"PERC\": 3.0350877192982457}, {\"STFIPS\": \"Utah\", \"REASON\": \"6 - Death\", \"COUNT\": 42, \"PERC\": 0.24561403508771928}, {\"STFIPS\": \"Utah\", \"REASON\": \"7 - Other\", \"COUNT\": 7, \"PERC\": 0.04093567251461988}, {\"STFIPS\": \"Vermont\", \"REASON\": \"1 - Treatment Completed\", \"COUNT\": 3106, \"PERC\": 33.81600435492651}, {\"STFIPS\": \"Vermont\", \"REASON\": \"2 - Dropped out of treatment\", \"COUNT\": 3264, \"PERC\": 35.536200326619486}, {\"STFIPS\": \"Vermont\", \"REASON\": \"3 - Terminated by facility\", \"COUNT\": 602, \"PERC\": 6.554164398475776}, {\"STFIPS\": \"Vermont\", \"REASON\": \"4 - Transferred to another treatment/facility\", \"COUNT\": 1513, \"PERC\": 16.47250952640174}, {\"STFIPS\": \"Vermont\", \"REASON\": \"5 - Incarcerated\", \"COUNT\": 249, \"PERC\": 2.7109417528579205}, {\"STFIPS\": \"Vermont\", \"REASON\": \"6 - Death\", \"COUNT\": 30, \"PERC\": 0.326619488296135}, {\"STFIPS\": \"Vermont\", \"REASON\": \"7 - Other\", \"COUNT\": 421, \"PERC\": 4.583560152422428}, {\"STFIPS\": \"Virginia\", \"REASON\": \"1 - Treatment Completed\", \"COUNT\": 7415, \"PERC\": 34.95827636603649}, {\"STFIPS\": \"Virginia\", \"REASON\": \"2 - Dropped out of treatment\", \"COUNT\": 16, \"PERC\": 0.07543255857809628}, {\"STFIPS\": \"Virginia\", \"REASON\": \"3 - Terminated by facility\", \"COUNT\": 7870, \"PERC\": 37.1033897506011}, {\"STFIPS\": \"Virginia\", \"REASON\": \"4 - Transferred to another treatment/facility\", \"COUNT\": 16, \"PERC\": 0.07543255857809628}, {\"STFIPS\": \"Virginia\", \"REASON\": \"5 - Incarcerated\", \"COUNT\": 870, \"PERC\": 4.1016453726839845}, {\"STFIPS\": \"Virginia\", \"REASON\": \"6 - Death\", \"COUNT\": 74, \"PERC\": 0.34887558342369523}, {\"STFIPS\": \"Virginia\", \"REASON\": \"7 - Other\", \"COUNT\": 4950, \"PERC\": 23.336947810098533}, {\"STFIPS\": \"Wisconsin\", \"REASON\": \"1 - Treatment Completed\", \"COUNT\": 3864, \"PERC\": 56.21999127018769}, {\"STFIPS\": \"Wisconsin\", \"REASON\": \"2 - Dropped out of treatment\", \"COUNT\": 1477, \"PERC\": 21.489887967408702}, {\"STFIPS\": \"Wisconsin\", \"REASON\": \"3 - Terminated by facility\", \"COUNT\": 483, \"PERC\": 7.027498908773461}, {\"STFIPS\": \"Wisconsin\", \"REASON\": \"4 - Transferred to another treatment/facility\", \"COUNT\": 627, \"PERC\": 9.122653862941947}, {\"STFIPS\": \"Wisconsin\", \"REASON\": \"5 - Incarcerated\", \"COUNT\": 276, \"PERC\": 4.015713662156264}, {\"STFIPS\": \"Wisconsin\", \"REASON\": \"6 - Death\", \"COUNT\": 30, \"PERC\": 0.43649061545176776}, {\"STFIPS\": \"Wisconsin\", \"REASON\": \"7 - Other\", \"COUNT\": 116, \"PERC\": 1.6877637130801688}, {\"STFIPS\": \"Wyoming\", \"REASON\": \"1 - Treatment Completed\", \"COUNT\": 2265, \"PERC\": 43.844367015098726}, {\"STFIPS\": \"Wyoming\", \"REASON\": \"2 - Dropped out of treatment\", \"COUNT\": 1016, \"PERC\": 19.667053813395277}, {\"STFIPS\": \"Wyoming\", \"REASON\": \"3 - Terminated by facility\", \"COUNT\": 176, \"PERC\": 3.4068912117692607}, {\"STFIPS\": \"Wyoming\", \"REASON\": \"4 - Transferred to another treatment/facility\", \"COUNT\": 620, \"PERC\": 12.00154858691444}, {\"STFIPS\": \"Wyoming\", \"REASON\": \"5 - Incarcerated\", \"COUNT\": 233, \"PERC\": 4.510259388308169}, {\"STFIPS\": \"Wyoming\", \"REASON\": \"6 - Death\", \"COUNT\": 17, \"PERC\": 0.32907471931862176}, {\"STFIPS\": \"Wyoming\", \"REASON\": \"7 - Other\", \"COUNT\": 839, \"PERC\": 16.240805265195508}, {\"STFIPS\": \"Puerto Rico\", \"REASON\": \"1 - Treatment Completed\", \"COUNT\": 1478, \"PERC\": 53.203743700503956}, {\"STFIPS\": \"Puerto Rico\", \"REASON\": \"2 - Dropped out of treatment\", \"COUNT\": 949, \"PERC\": 34.16126709863211}, {\"STFIPS\": \"Puerto Rico\", \"REASON\": \"3 - Terminated by facility\", \"COUNT\": 119, \"PERC\": 4.283657307415407}, {\"STFIPS\": \"Puerto Rico\", \"REASON\": \"4 - Transferred to another treatment/facility\", \"COUNT\": 95, \"PERC\": 3.4197264218862493}, {\"STFIPS\": \"Puerto Rico\", \"REASON\": \"5 - Incarcerated\", \"COUNT\": 42, \"PERC\": 1.511879049676026}, {\"STFIPS\": \"Puerto Rico\", \"REASON\": \"6 - Death\", \"COUNT\": 51, \"PERC\": 1.83585313174946}, {\"STFIPS\": \"Puerto Rico\", \"REASON\": \"7 - Other\", \"COUNT\": 44, \"PERC\": 1.5838732901367891}]}}, {\"mode\": \"vega-lite\"});\n",
       "</script>"
      ],
      "text/plain": [
       "alt.Chart(...)"
      ]
     },
     "execution_count": 20,
     "metadata": {},
     "output_type": "execute_result"
    }
   ],
   "source": [
    "%matplotlib inline\n",
    "\n",
    "import altair as alt\n",
    "\n",
    "#completion_df.groupby(['STFIPS'])['COUNT'].plot.barh(stacked=True,title='DISCHARGE RATES BY STATE', figsize=(8,10))\n",
    "\n",
    "# bar = alt.Chart(state_completion_df).mark_bar().encode(\n",
    "#     y='STFIPS:N',\n",
    "#     x='PERC:Q',\n",
    "#     color='REASON:N',\n",
    "# #    order=alt.Order('PERC', sort='ascending'\n",
    "# #                   )\n",
    "# )\n",
    "\n",
    "bar = alt.Chart(state_completion_df).mark_bar().transform_calculate(\n",
    "        filtered='datum.REASON == \"1 - Treatment Completed\" ? datum.PERC : 0'\n",
    "        ).encode(\n",
    "            x=alt.X('PERC:Q', scale=alt.Scale(domain=(0,100)), axis=alt.Axis(title='Percentage of Cases')),\n",
    "            y=alt.Y('STFIPS:N', sort=alt.SortField('filtered', order = 'descending'), axis=alt.Axis(title='State')),\n",
    "            color='REASON:N',\n",
    "            order=alt.Order('REASON',sort='ascending'))\n",
    "\n",
    "bar"
   ]
  },
  {
   "cell_type": "markdown",
   "id": "3d087265-25ad-456a-bbdd-a77d795c87e9",
   "metadata": {},
   "source": [
    "### Choropleth Testing"
   ]
  },
  {
   "cell_type": "code",
   "execution_count": 21,
   "id": "f5d24a98-8d1e-4810-8e1c-7e2227c8f961",
   "metadata": {},
   "outputs": [],
   "source": [
    "state_reason1_df = state_completion_df[state_completion_df['REASON']=='1 - Treatment Completed']"
   ]
  },
  {
   "cell_type": "code",
   "execution_count": 22,
   "id": "7dd14c52-a763-4f97-a5d7-813283fd4647",
   "metadata": {
    "scrolled": true
   },
   "outputs": [
    {
     "data": {
      "text/html": [
       "<div>\n",
       "<style scoped>\n",
       "    .dataframe tbody tr th:only-of-type {\n",
       "        vertical-align: middle;\n",
       "    }\n",
       "\n",
       "    .dataframe tbody tr th {\n",
       "        vertical-align: top;\n",
       "    }\n",
       "\n",
       "    .dataframe thead th {\n",
       "        text-align: right;\n",
       "    }\n",
       "</style>\n",
       "<table border=\"1\" class=\"dataframe\">\n",
       "  <thead>\n",
       "    <tr style=\"text-align: right;\">\n",
       "      <th></th>\n",
       "      <th>STFIPS</th>\n",
       "      <th>REASON</th>\n",
       "      <th>COUNT</th>\n",
       "      <th>PERC</th>\n",
       "    </tr>\n",
       "  </thead>\n",
       "  <tbody>\n",
       "    <tr>\n",
       "      <th>0</th>\n",
       "      <td>AL</td>\n",
       "      <td>1 - Treatment Completed</td>\n",
       "      <td>4229</td>\n",
       "      <td>33.913392</td>\n",
       "    </tr>\n",
       "    <tr>\n",
       "      <th>1</th>\n",
       "      <td>AL</td>\n",
       "      <td>2 - Dropped out of treatment</td>\n",
       "      <td>4337</td>\n",
       "      <td>34.779471</td>\n",
       "    </tr>\n",
       "    <tr>\n",
       "      <th>2</th>\n",
       "      <td>AL</td>\n",
       "      <td>3 - Terminated by facility</td>\n",
       "      <td>989</td>\n",
       "      <td>7.931034</td>\n",
       "    </tr>\n",
       "    <tr>\n",
       "      <th>3</th>\n",
       "      <td>AL</td>\n",
       "      <td>4 - Transferred to another treatment/facility</td>\n",
       "      <td>1636</td>\n",
       "      <td>13.119487</td>\n",
       "    </tr>\n",
       "    <tr>\n",
       "      <th>4</th>\n",
       "      <td>AL</td>\n",
       "      <td>5 - Incarcerated</td>\n",
       "      <td>262</td>\n",
       "      <td>2.101043</td>\n",
       "    </tr>\n",
       "    <tr>\n",
       "      <th>...</th>\n",
       "      <td>...</td>\n",
       "      <td>...</td>\n",
       "      <td>...</td>\n",
       "      <td>...</td>\n",
       "    </tr>\n",
       "    <tr>\n",
       "      <th>333</th>\n",
       "      <td>PR</td>\n",
       "      <td>3 - Terminated by facility</td>\n",
       "      <td>119</td>\n",
       "      <td>4.283657</td>\n",
       "    </tr>\n",
       "    <tr>\n",
       "      <th>334</th>\n",
       "      <td>PR</td>\n",
       "      <td>4 - Transferred to another treatment/facility</td>\n",
       "      <td>95</td>\n",
       "      <td>3.419726</td>\n",
       "    </tr>\n",
       "    <tr>\n",
       "      <th>335</th>\n",
       "      <td>PR</td>\n",
       "      <td>5 - Incarcerated</td>\n",
       "      <td>42</td>\n",
       "      <td>1.511879</td>\n",
       "    </tr>\n",
       "    <tr>\n",
       "      <th>336</th>\n",
       "      <td>PR</td>\n",
       "      <td>6 - Death</td>\n",
       "      <td>51</td>\n",
       "      <td>1.835853</td>\n",
       "    </tr>\n",
       "    <tr>\n",
       "      <th>337</th>\n",
       "      <td>PR</td>\n",
       "      <td>7 - Other</td>\n",
       "      <td>44</td>\n",
       "      <td>1.583873</td>\n",
       "    </tr>\n",
       "  </tbody>\n",
       "</table>\n",
       "<p>338 rows × 4 columns</p>\n",
       "</div>"
      ],
      "text/plain": [
       "    STFIPS                                         REASON  COUNT       PERC\n",
       "0       AL                        1 - Treatment Completed   4229  33.913392\n",
       "1       AL                   2 - Dropped out of treatment   4337  34.779471\n",
       "2       AL                     3 - Terminated by facility    989   7.931034\n",
       "3       AL  4 - Transferred to another treatment/facility   1636  13.119487\n",
       "4       AL                               5 - Incarcerated    262   2.101043\n",
       "..     ...                                            ...    ...        ...\n",
       "333     PR                     3 - Terminated by facility    119   4.283657\n",
       "334     PR  4 - Transferred to another treatment/facility     95   3.419726\n",
       "335     PR                               5 - Incarcerated     42   1.511879\n",
       "336     PR                                      6 - Death     51   1.835853\n",
       "337     PR                                      7 - Other     44   1.583873\n",
       "\n",
       "[338 rows x 4 columns]"
      ]
     },
     "execution_count": 22,
     "metadata": {},
     "output_type": "execute_result"
    }
   ],
   "source": [
    "state_abbv_df = state_completion_df.replace({'STFIPS':US_STATE_TO_ABBREV})\n",
    "\n",
    "state_abbv_df"
   ]
  },
  {
   "cell_type": "code",
   "execution_count": 23,
   "id": "delayed-comment",
   "metadata": {
    "scrolled": false
   },
   "outputs": [
    {
     "data": {
      "application/vnd.plotly.v1+json": {
       "config": {
        "plotlyServerURL": "https://plot.ly",
        "staticPlot": true
       },
       "data": [
        {
         "colorbar": {
          "title": {
           "text": "Completion Percentage"
          }
         },
         "colorscale": [
          [
           0,
           "rgb(247,251,255)"
          ],
          [
           0.125,
           "rgb(222,235,247)"
          ],
          [
           0.25,
           "rgb(198,219,239)"
          ],
          [
           0.375,
           "rgb(158,202,225)"
          ],
          [
           0.5,
           "rgb(107,174,214)"
          ],
          [
           0.625,
           "rgb(66,146,198)"
          ],
          [
           0.75,
           "rgb(33,113,181)"
          ],
          [
           0.875,
           "rgb(8,81,156)"
          ],
          [
           1,
           "rgb(8,48,107)"
          ]
         ],
         "locationmode": "USA-states",
         "locations": [
          "AL",
          "AK",
          "AZ",
          "AR",
          "CA",
          "CO",
          "CT",
          "DE",
          "DC",
          "FL",
          "GA",
          "HI",
          "ID",
          "IL",
          "IN",
          "IA",
          "KS",
          "KY",
          "LA",
          "ME",
          "MD",
          "MA",
          "MI",
          "MN",
          "MS",
          "MO",
          "MT",
          "NE",
          "NV",
          "NH",
          "NJ",
          "NM",
          "NY",
          "NC",
          "ND",
          "OH",
          "OK",
          "PA",
          "RI",
          "SC",
          "SD",
          "TN",
          "TX",
          "UT",
          "VT",
          "VA",
          "WI",
          "WY",
          "PR"
         ],
         "type": "choropleth",
         "z": [
          33.913392141138736,
          38.346354166666664,
          99.3181222134802,
          59.28853754940712,
          23.198538532668756,
          75.28240791846046,
          42.93401665598975,
          37.013752455795675,
          51.42594296228151,
          44.90768512964074,
          17.973255120302248,
          27.262733602052034,
          38.23025187920348,
          28.062455999195414,
          22.245142400851744,
          42.65906440326552,
          49.69650986342944,
          6.664249346568161,
          13.944475760992109,
          43.01749271137026,
          11.053976047506884,
          50.86545561955398,
          23.82537305153381,
          50.431869238515766,
          27.77777777777778,
          21.75293072072453,
          45.74187884108868,
          61.319386909693456,
          51.438807350052,
          38.59315589353612,
          57.22386080435329,
          4.30944963655244,
          49.83007646559049,
          17.211480783562873,
          25.454545454545453,
          29.27137845764564,
          34.358372456964005,
          38.19381598793363,
          29.660221513046743,
          46.29556680100603,
          60.85869366347502,
          49.73484632491304,
          53.94590480651016,
          49.514619883040936,
          33.81600435492651,
          34.95827636603649,
          56.21999127018769,
          43.844367015098726,
          53.203743700503956
         ]
        }
       ],
       "layout": {
        "geo": {
         "scope": "usa"
        },
        "template": {
         "data": {
          "bar": [
           {
            "error_x": {
             "color": "#2a3f5f"
            },
            "error_y": {
             "color": "#2a3f5f"
            },
            "marker": {
             "line": {
              "color": "#E5ECF6",
              "width": 0.5
             },
             "pattern": {
              "fillmode": "overlay",
              "size": 10,
              "solidity": 0.2
             }
            },
            "type": "bar"
           }
          ],
          "barpolar": [
           {
            "marker": {
             "line": {
              "color": "#E5ECF6",
              "width": 0.5
             },
             "pattern": {
              "fillmode": "overlay",
              "size": 10,
              "solidity": 0.2
             }
            },
            "type": "barpolar"
           }
          ],
          "carpet": [
           {
            "aaxis": {
             "endlinecolor": "#2a3f5f",
             "gridcolor": "white",
             "linecolor": "white",
             "minorgridcolor": "white",
             "startlinecolor": "#2a3f5f"
            },
            "baxis": {
             "endlinecolor": "#2a3f5f",
             "gridcolor": "white",
             "linecolor": "white",
             "minorgridcolor": "white",
             "startlinecolor": "#2a3f5f"
            },
            "type": "carpet"
           }
          ],
          "choropleth": [
           {
            "colorbar": {
             "outlinewidth": 0,
             "ticks": ""
            },
            "type": "choropleth"
           }
          ],
          "contour": [
           {
            "colorbar": {
             "outlinewidth": 0,
             "ticks": ""
            },
            "colorscale": [
             [
              0,
              "#0d0887"
             ],
             [
              0.1111111111111111,
              "#46039f"
             ],
             [
              0.2222222222222222,
              "#7201a8"
             ],
             [
              0.3333333333333333,
              "#9c179e"
             ],
             [
              0.4444444444444444,
              "#bd3786"
             ],
             [
              0.5555555555555556,
              "#d8576b"
             ],
             [
              0.6666666666666666,
              "#ed7953"
             ],
             [
              0.7777777777777778,
              "#fb9f3a"
             ],
             [
              0.8888888888888888,
              "#fdca26"
             ],
             [
              1,
              "#f0f921"
             ]
            ],
            "type": "contour"
           }
          ],
          "contourcarpet": [
           {
            "colorbar": {
             "outlinewidth": 0,
             "ticks": ""
            },
            "type": "contourcarpet"
           }
          ],
          "heatmap": [
           {
            "colorbar": {
             "outlinewidth": 0,
             "ticks": ""
            },
            "colorscale": [
             [
              0,
              "#0d0887"
             ],
             [
              0.1111111111111111,
              "#46039f"
             ],
             [
              0.2222222222222222,
              "#7201a8"
             ],
             [
              0.3333333333333333,
              "#9c179e"
             ],
             [
              0.4444444444444444,
              "#bd3786"
             ],
             [
              0.5555555555555556,
              "#d8576b"
             ],
             [
              0.6666666666666666,
              "#ed7953"
             ],
             [
              0.7777777777777778,
              "#fb9f3a"
             ],
             [
              0.8888888888888888,
              "#fdca26"
             ],
             [
              1,
              "#f0f921"
             ]
            ],
            "type": "heatmap"
           }
          ],
          "heatmapgl": [
           {
            "colorbar": {
             "outlinewidth": 0,
             "ticks": ""
            },
            "colorscale": [
             [
              0,
              "#0d0887"
             ],
             [
              0.1111111111111111,
              "#46039f"
             ],
             [
              0.2222222222222222,
              "#7201a8"
             ],
             [
              0.3333333333333333,
              "#9c179e"
             ],
             [
              0.4444444444444444,
              "#bd3786"
             ],
             [
              0.5555555555555556,
              "#d8576b"
             ],
             [
              0.6666666666666666,
              "#ed7953"
             ],
             [
              0.7777777777777778,
              "#fb9f3a"
             ],
             [
              0.8888888888888888,
              "#fdca26"
             ],
             [
              1,
              "#f0f921"
             ]
            ],
            "type": "heatmapgl"
           }
          ],
          "histogram": [
           {
            "marker": {
             "pattern": {
              "fillmode": "overlay",
              "size": 10,
              "solidity": 0.2
             }
            },
            "type": "histogram"
           }
          ],
          "histogram2d": [
           {
            "colorbar": {
             "outlinewidth": 0,
             "ticks": ""
            },
            "colorscale": [
             [
              0,
              "#0d0887"
             ],
             [
              0.1111111111111111,
              "#46039f"
             ],
             [
              0.2222222222222222,
              "#7201a8"
             ],
             [
              0.3333333333333333,
              "#9c179e"
             ],
             [
              0.4444444444444444,
              "#bd3786"
             ],
             [
              0.5555555555555556,
              "#d8576b"
             ],
             [
              0.6666666666666666,
              "#ed7953"
             ],
             [
              0.7777777777777778,
              "#fb9f3a"
             ],
             [
              0.8888888888888888,
              "#fdca26"
             ],
             [
              1,
              "#f0f921"
             ]
            ],
            "type": "histogram2d"
           }
          ],
          "histogram2dcontour": [
           {
            "colorbar": {
             "outlinewidth": 0,
             "ticks": ""
            },
            "colorscale": [
             [
              0,
              "#0d0887"
             ],
             [
              0.1111111111111111,
              "#46039f"
             ],
             [
              0.2222222222222222,
              "#7201a8"
             ],
             [
              0.3333333333333333,
              "#9c179e"
             ],
             [
              0.4444444444444444,
              "#bd3786"
             ],
             [
              0.5555555555555556,
              "#d8576b"
             ],
             [
              0.6666666666666666,
              "#ed7953"
             ],
             [
              0.7777777777777778,
              "#fb9f3a"
             ],
             [
              0.8888888888888888,
              "#fdca26"
             ],
             [
              1,
              "#f0f921"
             ]
            ],
            "type": "histogram2dcontour"
           }
          ],
          "mesh3d": [
           {
            "colorbar": {
             "outlinewidth": 0,
             "ticks": ""
            },
            "type": "mesh3d"
           }
          ],
          "parcoords": [
           {
            "line": {
             "colorbar": {
              "outlinewidth": 0,
              "ticks": ""
             }
            },
            "type": "parcoords"
           }
          ],
          "pie": [
           {
            "automargin": true,
            "type": "pie"
           }
          ],
          "scatter": [
           {
            "fillpattern": {
             "fillmode": "overlay",
             "size": 10,
             "solidity": 0.2
            },
            "type": "scatter"
           }
          ],
          "scatter3d": [
           {
            "line": {
             "colorbar": {
              "outlinewidth": 0,
              "ticks": ""
             }
            },
            "marker": {
             "colorbar": {
              "outlinewidth": 0,
              "ticks": ""
             }
            },
            "type": "scatter3d"
           }
          ],
          "scattercarpet": [
           {
            "marker": {
             "colorbar": {
              "outlinewidth": 0,
              "ticks": ""
             }
            },
            "type": "scattercarpet"
           }
          ],
          "scattergeo": [
           {
            "marker": {
             "colorbar": {
              "outlinewidth": 0,
              "ticks": ""
             }
            },
            "type": "scattergeo"
           }
          ],
          "scattergl": [
           {
            "marker": {
             "colorbar": {
              "outlinewidth": 0,
              "ticks": ""
             }
            },
            "type": "scattergl"
           }
          ],
          "scattermapbox": [
           {
            "marker": {
             "colorbar": {
              "outlinewidth": 0,
              "ticks": ""
             }
            },
            "type": "scattermapbox"
           }
          ],
          "scatterpolar": [
           {
            "marker": {
             "colorbar": {
              "outlinewidth": 0,
              "ticks": ""
             }
            },
            "type": "scatterpolar"
           }
          ],
          "scatterpolargl": [
           {
            "marker": {
             "colorbar": {
              "outlinewidth": 0,
              "ticks": ""
             }
            },
            "type": "scatterpolargl"
           }
          ],
          "scatterternary": [
           {
            "marker": {
             "colorbar": {
              "outlinewidth": 0,
              "ticks": ""
             }
            },
            "type": "scatterternary"
           }
          ],
          "surface": [
           {
            "colorbar": {
             "outlinewidth": 0,
             "ticks": ""
            },
            "colorscale": [
             [
              0,
              "#0d0887"
             ],
             [
              0.1111111111111111,
              "#46039f"
             ],
             [
              0.2222222222222222,
              "#7201a8"
             ],
             [
              0.3333333333333333,
              "#9c179e"
             ],
             [
              0.4444444444444444,
              "#bd3786"
             ],
             [
              0.5555555555555556,
              "#d8576b"
             ],
             [
              0.6666666666666666,
              "#ed7953"
             ],
             [
              0.7777777777777778,
              "#fb9f3a"
             ],
             [
              0.8888888888888888,
              "#fdca26"
             ],
             [
              1,
              "#f0f921"
             ]
            ],
            "type": "surface"
           }
          ],
          "table": [
           {
            "cells": {
             "fill": {
              "color": "#EBF0F8"
             },
             "line": {
              "color": "white"
             }
            },
            "header": {
             "fill": {
              "color": "#C8D4E3"
             },
             "line": {
              "color": "white"
             }
            },
            "type": "table"
           }
          ]
         },
         "layout": {
          "annotationdefaults": {
           "arrowcolor": "#2a3f5f",
           "arrowhead": 0,
           "arrowwidth": 1
          },
          "autotypenumbers": "strict",
          "coloraxis": {
           "colorbar": {
            "outlinewidth": 0,
            "ticks": ""
           }
          },
          "colorscale": {
           "diverging": [
            [
             0,
             "#8e0152"
            ],
            [
             0.1,
             "#c51b7d"
            ],
            [
             0.2,
             "#de77ae"
            ],
            [
             0.3,
             "#f1b6da"
            ],
            [
             0.4,
             "#fde0ef"
            ],
            [
             0.5,
             "#f7f7f7"
            ],
            [
             0.6,
             "#e6f5d0"
            ],
            [
             0.7,
             "#b8e186"
            ],
            [
             0.8,
             "#7fbc41"
            ],
            [
             0.9,
             "#4d9221"
            ],
            [
             1,
             "#276419"
            ]
           ],
           "sequential": [
            [
             0,
             "#0d0887"
            ],
            [
             0.1111111111111111,
             "#46039f"
            ],
            [
             0.2222222222222222,
             "#7201a8"
            ],
            [
             0.3333333333333333,
             "#9c179e"
            ],
            [
             0.4444444444444444,
             "#bd3786"
            ],
            [
             0.5555555555555556,
             "#d8576b"
            ],
            [
             0.6666666666666666,
             "#ed7953"
            ],
            [
             0.7777777777777778,
             "#fb9f3a"
            ],
            [
             0.8888888888888888,
             "#fdca26"
            ],
            [
             1,
             "#f0f921"
            ]
           ],
           "sequentialminus": [
            [
             0,
             "#0d0887"
            ],
            [
             0.1111111111111111,
             "#46039f"
            ],
            [
             0.2222222222222222,
             "#7201a8"
            ],
            [
             0.3333333333333333,
             "#9c179e"
            ],
            [
             0.4444444444444444,
             "#bd3786"
            ],
            [
             0.5555555555555556,
             "#d8576b"
            ],
            [
             0.6666666666666666,
             "#ed7953"
            ],
            [
             0.7777777777777778,
             "#fb9f3a"
            ],
            [
             0.8888888888888888,
             "#fdca26"
            ],
            [
             1,
             "#f0f921"
            ]
           ]
          },
          "colorway": [
           "#636efa",
           "#EF553B",
           "#00cc96",
           "#ab63fa",
           "#FFA15A",
           "#19d3f3",
           "#FF6692",
           "#B6E880",
           "#FF97FF",
           "#FECB52"
          ],
          "font": {
           "color": "#2a3f5f"
          },
          "geo": {
           "bgcolor": "white",
           "lakecolor": "white",
           "landcolor": "#E5ECF6",
           "showlakes": true,
           "showland": true,
           "subunitcolor": "white"
          },
          "hoverlabel": {
           "align": "left"
          },
          "hovermode": "closest",
          "mapbox": {
           "style": "light"
          },
          "paper_bgcolor": "white",
          "plot_bgcolor": "#E5ECF6",
          "polar": {
           "angularaxis": {
            "gridcolor": "white",
            "linecolor": "white",
            "ticks": ""
           },
           "bgcolor": "#E5ECF6",
           "radialaxis": {
            "gridcolor": "white",
            "linecolor": "white",
            "ticks": ""
           }
          },
          "scene": {
           "xaxis": {
            "backgroundcolor": "#E5ECF6",
            "gridcolor": "white",
            "gridwidth": 2,
            "linecolor": "white",
            "showbackground": true,
            "ticks": "",
            "zerolinecolor": "white"
           },
           "yaxis": {
            "backgroundcolor": "#E5ECF6",
            "gridcolor": "white",
            "gridwidth": 2,
            "linecolor": "white",
            "showbackground": true,
            "ticks": "",
            "zerolinecolor": "white"
           },
           "zaxis": {
            "backgroundcolor": "#E5ECF6",
            "gridcolor": "white",
            "gridwidth": 2,
            "linecolor": "white",
            "showbackground": true,
            "ticks": "",
            "zerolinecolor": "white"
           }
          },
          "shapedefaults": {
           "line": {
            "color": "#2a3f5f"
           }
          },
          "ternary": {
           "aaxis": {
            "gridcolor": "white",
            "linecolor": "white",
            "ticks": ""
           },
           "baxis": {
            "gridcolor": "white",
            "linecolor": "white",
            "ticks": ""
           },
           "bgcolor": "#E5ECF6",
           "caxis": {
            "gridcolor": "white",
            "linecolor": "white",
            "ticks": ""
           }
          },
          "title": {
           "x": 0.05
          },
          "xaxis": {
           "automargin": true,
           "gridcolor": "white",
           "linecolor": "white",
           "ticks": "",
           "title": {
            "standoff": 15
           },
           "zerolinecolor": "white",
           "zerolinewidth": 2
          },
          "yaxis": {
           "automargin": true,
           "gridcolor": "white",
           "linecolor": "white",
           "ticks": "",
           "title": {
            "standoff": 15
           },
           "zerolinecolor": "white",
           "zerolinewidth": 2
          }
         }
        },
        "title": {
         "text": "2019 Substance Treatment Completion Rates by State"
        }
       }
      }
     },
     "metadata": {},
     "output_type": "display_data"
    }
   ],
   "source": [
    "map_chart(state_abbv_df, \n",
    "          'PERC', \n",
    "          1, \n",
    "          'Completion Percentage', \n",
    "          '2019 Substance Treatment Completion Rates by State',\n",
    "          states='ALL',\n",
    "          is_static=True)"
   ]
  },
  {
   "cell_type": "markdown",
   "id": "35f2c1cf-7ffa-4127-9415-1336db4b8d6f",
   "metadata": {},
   "source": [
    "### Region/Census Division"
   ]
  },
  {
   "cell_type": "code",
   "execution_count": 24,
   "id": "0e94f9e8-ab07-4a24-b63c-dc6262542e00",
   "metadata": {},
   "outputs": [
    {
     "data": {
      "text/html": [
       "\n",
       "<div id=\"altair-viz-cf9d9ff1073f41589e1f436f40056aa5\"></div>\n",
       "<script type=\"text/javascript\">\n",
       "  var VEGA_DEBUG = (typeof VEGA_DEBUG == \"undefined\") ? {} : VEGA_DEBUG;\n",
       "  (function(spec, embedOpt){\n",
       "    let outputDiv = document.currentScript.previousElementSibling;\n",
       "    if (outputDiv.id !== \"altair-viz-cf9d9ff1073f41589e1f436f40056aa5\") {\n",
       "      outputDiv = document.getElementById(\"altair-viz-cf9d9ff1073f41589e1f436f40056aa5\");\n",
       "    }\n",
       "    const paths = {\n",
       "      \"vega\": \"https://cdn.jsdelivr.net/npm//vega@5?noext\",\n",
       "      \"vega-lib\": \"https://cdn.jsdelivr.net/npm//vega-lib?noext\",\n",
       "      \"vega-lite\": \"https://cdn.jsdelivr.net/npm//vega-lite@4.17.0?noext\",\n",
       "      \"vega-embed\": \"https://cdn.jsdelivr.net/npm//vega-embed@6?noext\",\n",
       "    };\n",
       "\n",
       "    function maybeLoadScript(lib, version) {\n",
       "      var key = `${lib.replace(\"-\", \"\")}_version`;\n",
       "      return (VEGA_DEBUG[key] == version) ?\n",
       "        Promise.resolve(paths[lib]) :\n",
       "        new Promise(function(resolve, reject) {\n",
       "          var s = document.createElement('script');\n",
       "          document.getElementsByTagName(\"head\")[0].appendChild(s);\n",
       "          s.async = true;\n",
       "          s.onload = () => {\n",
       "            VEGA_DEBUG[key] = version;\n",
       "            return resolve(paths[lib]);\n",
       "          };\n",
       "          s.onerror = () => reject(`Error loading script: ${paths[lib]}`);\n",
       "          s.src = paths[lib];\n",
       "        });\n",
       "    }\n",
       "\n",
       "    function showError(err) {\n",
       "      outputDiv.innerHTML = `<div class=\"error\" style=\"color:red;\">${err}</div>`;\n",
       "      throw err;\n",
       "    }\n",
       "\n",
       "    function displayChart(vegaEmbed) {\n",
       "      vegaEmbed(outputDiv, spec, embedOpt)\n",
       "        .catch(err => showError(`Javascript Error: ${err.message}<br>This usually means there's a typo in your chart specification. See the javascript console for the full traceback.`));\n",
       "    }\n",
       "\n",
       "    if(typeof define === \"function\" && define.amd) {\n",
       "      requirejs.config({paths});\n",
       "      require([\"vega-embed\"], displayChart, err => showError(`Error loading script: ${err.message}`));\n",
       "    } else {\n",
       "      maybeLoadScript(\"vega\", \"5\")\n",
       "        .then(() => maybeLoadScript(\"vega-lite\", \"4.17.0\"))\n",
       "        .then(() => maybeLoadScript(\"vega-embed\", \"6\"))\n",
       "        .catch(showError)\n",
       "        .then(() => displayChart(vegaEmbed));\n",
       "    }\n",
       "  })({\"config\": {\"view\": {\"continuousWidth\": 400, \"continuousHeight\": 300}}, \"data\": {\"name\": \"data-a7890a2cb75e6991e5aca1ca1881d4b0\"}, \"mark\": \"bar\", \"encoding\": {\"color\": {\"field\": \"REASON\", \"type\": \"nominal\"}, \"x\": {\"field\": \"DIVISION\", \"type\": \"nominal\"}, \"y\": {\"field\": \"PERC\", \"type\": \"quantitative\"}}, \"$schema\": \"https://vega.github.io/schema/vega-lite/v4.17.0.json\", \"datasets\": {\"data-a7890a2cb75e6991e5aca1ca1881d4b0\": [{\"DIVISION\": 0, \"REASON\": 1, \"COUNT\": 1478, \"PERC\": 53.203743700503956}, {\"DIVISION\": 0, \"REASON\": 2, \"COUNT\": 949, \"PERC\": 34.16126709863211}, {\"DIVISION\": 0, \"REASON\": 3, \"COUNT\": 119, \"PERC\": 4.283657307415407}, {\"DIVISION\": 0, \"REASON\": 4, \"COUNT\": 95, \"PERC\": 3.4197264218862493}, {\"DIVISION\": 0, \"REASON\": 5, \"COUNT\": 42, \"PERC\": 1.511879049676026}, {\"DIVISION\": 0, \"REASON\": 6, \"COUNT\": 51, \"PERC\": 1.83585313174946}, {\"DIVISION\": 0, \"REASON\": 7, \"COUNT\": 44, \"PERC\": 1.5838732901367891}, {\"DIVISION\": 1, \"REASON\": 1, \"COUNT\": 71481, \"PERC\": 44.821575254422214}, {\"DIVISION\": 1, \"REASON\": 2, \"COUNT\": 44590, \"PERC\": 27.95979407947128}, {\"DIVISION\": 1, \"REASON\": 3, \"COUNT\": 9102, \"PERC\": 5.707334507991648}, {\"DIVISION\": 1, \"REASON\": 4, \"COUNT\": 20610, \"PERC\": 12.923331598517674}, {\"DIVISION\": 1, \"REASON\": 5, \"COUNT\": 1979, \"PERC\": 1.2409157318518425}, {\"DIVISION\": 1, \"REASON\": 6, \"COUNT\": 459, \"PERC\": 0.2878121884386032}, {\"DIVISION\": 1, \"REASON\": 7, \"COUNT\": 11258, \"PERC\": 7.059236639306743}, {\"DIVISION\": 2, \"REASON\": 1, \"COUNT\": 189215, \"PERC\": 50.73685960518483}, {\"DIVISION\": 2, \"REASON\": 2, \"COUNT\": 114258, \"PERC\": 30.63759271077456}, {\"DIVISION\": 2, \"REASON\": 3, \"COUNT\": 24918, \"PERC\": 6.681611223433637}, {\"DIVISION\": 2, \"REASON\": 4, \"COUNT\": 15660, \"PERC\": 4.199134431293473}, {\"DIVISION\": 2, \"REASON\": 5, \"COUNT\": 8881, \"PERC\": 2.3813865187942103}, {\"DIVISION\": 2, \"REASON\": 6, \"COUNT\": 1088, \"PERC\": 0.29174062970927833}, {\"DIVISION\": 2, \"REASON\": 7, \"COUNT\": 18914, \"PERC\": 5.07167488081001}, {\"DIVISION\": 3, \"REASON\": 1, \"COUNT\": 40638, \"PERC\": 26.882317920222267}, {\"DIVISION\": 3, \"REASON\": 2, \"COUNT\": 48648, \"PERC\": 32.180988291327644}, {\"DIVISION\": 3, \"REASON\": 3, \"COUNT\": 14155, \"PERC\": 9.363630349937157}, {\"DIVISION\": 3, \"REASON\": 4, \"COUNT\": 37888, \"PERC\": 25.06317391016736}, {\"DIVISION\": 3, \"REASON\": 5, \"COUNT\": 3530, \"PERC\": 2.335119401997751}, {\"DIVISION\": 3, \"REASON\": 6, \"COUNT\": 389, \"PERC\": 0.25732618905867566}, {\"DIVISION\": 3, \"REASON\": 7, \"COUNT\": 5922, \"PERC\": 3.9174439372891445}, {\"DIVISION\": 4, \"REASON\": 1, \"COUNT\": 64132, \"PERC\": 42.10153157352275}, {\"DIVISION\": 4, \"REASON\": 2, \"COUNT\": 40721, \"PERC\": 26.732621268717956}, {\"DIVISION\": 4, \"REASON\": 3, \"COUNT\": 9776, \"PERC\": 6.417772292502314}, {\"DIVISION\": 4, \"REASON\": 4, \"COUNT\": 28017, \"PERC\": 18.392668404156847}, {\"DIVISION\": 4, \"REASON\": 5, \"COUNT\": 3134, \"PERC\": 2.057415953836155}, {\"DIVISION\": 4, \"REASON\": 6, \"COUNT\": 338, \"PERC\": 0.2218910633046013}, {\"DIVISION\": 4, \"REASON\": 7, \"COUNT\": 6209, \"PERC\": 4.076099443959377}, {\"DIVISION\": 5, \"REASON\": 1, \"COUNT\": 80199, \"PERC\": 24.18422457232289}, {\"DIVISION\": 5, \"REASON\": 2, \"COUNT\": 62681, \"PERC\": 18.901624464367025}, {\"DIVISION\": 5, \"REASON\": 3, \"COUNT\": 18938, \"PERC\": 5.710804934608298}, {\"DIVISION\": 5, \"REASON\": 4, \"COUNT\": 149265, \"PERC\": 45.01126299315174}, {\"DIVISION\": 5, \"REASON\": 5, \"COUNT\": 2883, \"PERC\": 0.8693764191823701}, {\"DIVISION\": 5, \"REASON\": 6, \"COUNT\": 506, \"PERC\": 0.1525856635817826}, {\"DIVISION\": 5, \"REASON\": 7, \"COUNT\": 17145, \"PERC\": 5.1701209527858945}, {\"DIVISION\": 6, \"REASON\": 1, \"COUNT\": 18602, \"PERC\": 18.480031790184782}, {\"DIVISION\": 6, \"REASON\": 2, \"COUNT\": 13198, \"PERC\": 13.111464335386449}, {\"DIVISION\": 6, \"REASON\": 3, \"COUNT\": 5208, \"PERC\": 5.173852573018081}, {\"DIVISION\": 6, \"REASON\": 4, \"COUNT\": 59633, \"PERC\": 59.24200278164117}, {\"DIVISION\": 6, \"REASON\": 5, \"COUNT\": 679, \"PERC\": 0.674547983310153}, {\"DIVISION\": 6, \"REASON\": 6, \"COUNT\": 68, \"PERC\": 0.0675541426584542}, {\"DIVISION\": 6, \"REASON\": 7, \"COUNT\": 3272, \"PERC\": 3.250546393800914}, {\"DIVISION\": 7, \"REASON\": 1, \"COUNT\": 31999, \"PERC\": 43.66794945276891}, {\"DIVISION\": 7, \"REASON\": 2, \"COUNT\": 24294, \"PERC\": 33.15319741259314}, {\"DIVISION\": 7, \"REASON\": 3, \"COUNT\": 6389, \"PERC\": 8.718851497038674}, {\"DIVISION\": 7, \"REASON\": 4, \"COUNT\": 6725, \"PERC\": 9.177379295286443}, {\"DIVISION\": 7, \"REASON\": 5, \"COUNT\": 364, \"PERC\": 0.4967384481017495}, {\"DIVISION\": 7, \"REASON\": 6, \"COUNT\": 54, \"PERC\": 0.07369196757553427}, {\"DIVISION\": 7, \"REASON\": 7, \"COUNT\": 3453, \"PERC\": 4.712191926635552}, {\"DIVISION\": 8, \"REASON\": 1, \"COUNT\": 192150, \"PERC\": 83.770751953125}, {\"DIVISION\": 8, \"REASON\": 2, \"COUNT\": 15422, \"PERC\": 6.723458426339286}, {\"DIVISION\": 8, \"REASON\": 3, \"COUNT\": 4217, \"PERC\": 1.8384660993303572}, {\"DIVISION\": 8, \"REASON\": 4, \"COUNT\": 12217, \"PERC\": 5.326189313616071}, {\"DIVISION\": 8, \"REASON\": 5, \"COUNT\": 2639, \"PERC\": 1.1505126953125}, {\"DIVISION\": 8, \"REASON\": 6, \"COUNT\": 201, \"PERC\": 0.08762904575892858}, {\"DIVISION\": 8, \"REASON\": 7, \"COUNT\": 2530, \"PERC\": 1.1029924665178572}, {\"DIVISION\": 9, \"REASON\": 1, \"COUNT\": 36035, \"PERC\": 24.20340667902528}, {\"DIVISION\": 9, \"REASON\": 2, \"COUNT\": 67849, \"PERC\": 45.57172026544155}, {\"DIVISION\": 9, \"REASON\": 3, \"COUNT\": 2432, \"PERC\": 1.6334864726901481}, {\"DIVISION\": 9, \"REASON\": 4, \"COUNT\": 39393, \"PERC\": 26.458853872813734}, {\"DIVISION\": 9, \"REASON\": 5, \"COUNT\": 1874, \"PERC\": 1.2586980468015367}, {\"DIVISION\": 9, \"REASON\": 6, \"COUNT\": 422, \"PERC\": 0.28344214287633324}, {\"DIVISION\": 9, \"REASON\": 7, \"COUNT\": 879, \"PERC\": 0.5903925203514145}]}}, {\"mode\": \"vega-lite\"});\n",
       "</script>"
      ],
      "text/plain": [
       "alt.Chart(...)"
      ]
     },
     "execution_count": 24,
     "metadata": {},
     "output_type": "execute_result"
    }
   ],
   "source": [
    "df2 = df.copy()\n",
    "completion_df = df2.groupby(['DIVISION','REASON']).size().reset_index()\n",
    "completion_df = completion_df.rename(columns={0:'COUNT'})\n",
    "completion_df['PERC'] = 100 * completion_df['COUNT'] / completion_df.groupby(['DIVISION'])['COUNT'].transform('sum')\n",
    "\n",
    "bar = alt.Chart(completion_df).mark_bar().encode(\n",
    "    x='DIVISION:N',\n",
    "    y='PERC',\n",
    "    color='REASON:N',\n",
    "#    order=alt.Order('PERC', sort='ascending'\n",
    "#                   )\n",
    ")\n",
    "\n",
    "bar"
   ]
  },
  {
   "cell_type": "markdown",
   "id": "3001432b-5301-4271-aa3e-fc988f190511",
   "metadata": {},
   "source": [
    "### Treatment Type @ Admission"
   ]
  },
  {
   "cell_type": "code",
   "execution_count": 25,
   "id": "0df6ff9c-3d99-450d-a3fc-3f3d291e6586",
   "metadata": {},
   "outputs": [
    {
     "data": {
      "text/html": [
       "\n",
       "<div id=\"altair-viz-c79568052bdd45518b44dedab8690530\"></div>\n",
       "<script type=\"text/javascript\">\n",
       "  var VEGA_DEBUG = (typeof VEGA_DEBUG == \"undefined\") ? {} : VEGA_DEBUG;\n",
       "  (function(spec, embedOpt){\n",
       "    let outputDiv = document.currentScript.previousElementSibling;\n",
       "    if (outputDiv.id !== \"altair-viz-c79568052bdd45518b44dedab8690530\") {\n",
       "      outputDiv = document.getElementById(\"altair-viz-c79568052bdd45518b44dedab8690530\");\n",
       "    }\n",
       "    const paths = {\n",
       "      \"vega\": \"https://cdn.jsdelivr.net/npm//vega@5?noext\",\n",
       "      \"vega-lib\": \"https://cdn.jsdelivr.net/npm//vega-lib?noext\",\n",
       "      \"vega-lite\": \"https://cdn.jsdelivr.net/npm//vega-lite@4.17.0?noext\",\n",
       "      \"vega-embed\": \"https://cdn.jsdelivr.net/npm//vega-embed@6?noext\",\n",
       "    };\n",
       "\n",
       "    function maybeLoadScript(lib, version) {\n",
       "      var key = `${lib.replace(\"-\", \"\")}_version`;\n",
       "      return (VEGA_DEBUG[key] == version) ?\n",
       "        Promise.resolve(paths[lib]) :\n",
       "        new Promise(function(resolve, reject) {\n",
       "          var s = document.createElement('script');\n",
       "          document.getElementsByTagName(\"head\")[0].appendChild(s);\n",
       "          s.async = true;\n",
       "          s.onload = () => {\n",
       "            VEGA_DEBUG[key] = version;\n",
       "            return resolve(paths[lib]);\n",
       "          };\n",
       "          s.onerror = () => reject(`Error loading script: ${paths[lib]}`);\n",
       "          s.src = paths[lib];\n",
       "        });\n",
       "    }\n",
       "\n",
       "    function showError(err) {\n",
       "      outputDiv.innerHTML = `<div class=\"error\" style=\"color:red;\">${err}</div>`;\n",
       "      throw err;\n",
       "    }\n",
       "\n",
       "    function displayChart(vegaEmbed) {\n",
       "      vegaEmbed(outputDiv, spec, embedOpt)\n",
       "        .catch(err => showError(`Javascript Error: ${err.message}<br>This usually means there's a typo in your chart specification. See the javascript console for the full traceback.`));\n",
       "    }\n",
       "\n",
       "    if(typeof define === \"function\" && define.amd) {\n",
       "      requirejs.config({paths});\n",
       "      require([\"vega-embed\"], displayChart, err => showError(`Error loading script: ${err.message}`));\n",
       "    } else {\n",
       "      maybeLoadScript(\"vega\", \"5\")\n",
       "        .then(() => maybeLoadScript(\"vega-lite\", \"4.17.0\"))\n",
       "        .then(() => maybeLoadScript(\"vega-embed\", \"6\"))\n",
       "        .catch(showError)\n",
       "        .then(() => displayChart(vegaEmbed));\n",
       "    }\n",
       "  })({\"config\": {\"view\": {\"continuousWidth\": 400, \"continuousHeight\": 300}}, \"data\": {\"name\": \"data-e475b7f7cbb01789fe63d6ca4ee991ed\"}, \"mark\": \"bar\", \"encoding\": {\"color\": {\"field\": \"REASON\", \"type\": \"nominal\"}, \"x\": {\"field\": \"SERVICES\", \"type\": \"nominal\"}, \"y\": {\"field\": \"PERC\", \"type\": \"quantitative\"}}, \"$schema\": \"https://vega.github.io/schema/vega-lite/v4.17.0.json\", \"datasets\": {\"data-e475b7f7cbb01789fe63d6ca4ee991ed\": [{\"SERVICES\": 1, \"REASON\": 1, \"COUNT\": 31505, \"PERC\": 71.66579468164964}, {\"SERVICES\": 1, \"REASON\": 2, \"COUNT\": 8311, \"PERC\": 18.905393416892245}, {\"SERVICES\": 1, \"REASON\": 3, \"COUNT\": 747, \"PERC\": 1.6992334114328609}, {\"SERVICES\": 1, \"REASON\": 4, \"COUNT\": 2783, \"PERC\": 6.33061122358454}, {\"SERVICES\": 1, \"REASON\": 5, \"COUNT\": 14, \"PERC\": 0.03184640931734947}, {\"SERVICES\": 1, \"REASON\": 6, \"COUNT\": 1, \"PERC\": 0.0022747435226678193}, {\"SERVICES\": 1, \"REASON\": 7, \"COUNT\": 600, \"PERC\": 1.3648461136006915}, {\"SERVICES\": 2, \"REASON\": 1, \"COUNT\": 144144, \"PERC\": 58.67550261944208}, {\"SERVICES\": 2, \"REASON\": 2, \"COUNT\": 47446, \"PERC\": 19.31344972584394}, {\"SERVICES\": 2, \"REASON\": 3, \"COUNT\": 5148, \"PERC\": 2.0955536649800743}, {\"SERVICES\": 2, \"REASON\": 4, \"COUNT\": 42655, \"PERC\": 17.363217090078685}, {\"SERVICES\": 2, \"REASON\": 5, \"COUNT\": 181, \"PERC\": 0.07367816887361955}, {\"SERVICES\": 2, \"REASON\": 6, \"COUNT\": 38, \"PERC\": 0.015468344846395265}, {\"SERVICES\": 2, \"REASON\": 7, \"COUNT\": 6051, \"PERC\": 2.463130385935204}, {\"SERVICES\": 3, \"REASON\": 1, \"COUNT\": 3072, \"PERC\": 77.85098834262544}, {\"SERVICES\": 3, \"REASON\": 2, \"COUNT\": 495, \"PERC\": 12.54434870755195}, {\"SERVICES\": 3, \"REASON\": 3, \"COUNT\": 56, \"PERC\": 1.4191586416624429}, {\"SERVICES\": 3, \"REASON\": 4, \"COUNT\": 238, \"PERC\": 6.031424227065383}, {\"SERVICES\": 3, \"REASON\": 5, \"COUNT\": 3, \"PERC\": 0.07602635580334516}, {\"SERVICES\": 3, \"REASON\": 6, \"COUNT\": 2, \"PERC\": 0.05068423720223011}, {\"SERVICES\": 3, \"REASON\": 7, \"COUNT\": 80, \"PERC\": 2.0273694880892044}, {\"SERVICES\": 4, \"REASON\": 1, \"COUNT\": 98309, \"PERC\": 54.60397689402355}, {\"SERVICES\": 4, \"REASON\": 2, \"COUNT\": 35048, \"PERC\": 19.46678515885359}, {\"SERVICES\": 4, \"REASON\": 3, \"COUNT\": 9718, \"PERC\": 5.397689402355033}, {\"SERVICES\": 4, \"REASON\": 4, \"COUNT\": 30215, \"PERC\": 16.78238169295712}, {\"SERVICES\": 4, \"REASON\": 5, \"COUNT\": 426, \"PERC\": 0.23661408575872028}, {\"SERVICES\": 4, \"REASON\": 6, \"COUNT\": 37, \"PERC\": 0.020550988669184627}, {\"SERVICES\": 4, \"REASON\": 7, \"COUNT\": 6287, \"PERC\": 3.492001777382804}, {\"SERVICES\": 5, \"REASON\": 1, \"COUNT\": 49975, \"PERC\": 41.10462247080112}, {\"SERVICES\": 5, \"REASON\": 2, \"COUNT\": 34565, \"PERC\": 28.429840434281953}, {\"SERVICES\": 5, \"REASON\": 3, \"COUNT\": 9457, \"PERC\": 7.778417502878763}, {\"SERVICES\": 5, \"REASON\": 4, \"COUNT\": 23807, \"PERC\": 19.581345616055273}, {\"SERVICES\": 5, \"REASON\": 5, \"COUNT\": 1179, \"PERC\": 0.969731863793387}, {\"SERVICES\": 5, \"REASON\": 6, \"COUNT\": 62, \"PERC\": 0.050995229478532654}, {\"SERVICES\": 5, \"REASON\": 7, \"COUNT\": 2535, \"PERC\": 2.085046882710972}, {\"SERVICES\": 6, \"REASON\": 1, \"COUNT\": 60375, \"PERC\": 25.62171108470548}, {\"SERVICES\": 6, \"REASON\": 2, \"COUNT\": 63940, \"PERC\": 27.13461212018333}, {\"SERVICES\": 6, \"REASON\": 3, \"COUNT\": 15802, \"PERC\": 6.7059921914785265}, {\"SERVICES\": 6, \"REASON\": 4, \"COUNT\": 77901, \"PERC\": 33.059327788151414}, {\"SERVICES\": 6, \"REASON\": 5, \"COUNT\": 4451, \"PERC\": 1.8888983194703786}, {\"SERVICES\": 6, \"REASON\": 6, \"COUNT\": 461, \"PERC\": 0.19563741300288576}, {\"SERVICES\": 6, \"REASON\": 7, \"COUNT\": 12710, \"PERC\": 5.393821083007978}, {\"SERVICES\": 7, \"REASON\": 1, \"COUNT\": 329594, \"PERC\": 37.52289723935286}, {\"SERVICES\": 7, \"REASON\": 2, \"COUNT\": 241071, \"PERC\": 27.444924241303035}, {\"SERVICES\": 7, \"REASON\": 3, \"COUNT\": 53892, \"PERC\": 6.13537861133153}, {\"SERVICES\": 7, \"REASON\": 4, \"COUNT\": 190026, \"PERC\": 21.633664662600854}, {\"SERVICES\": 7, \"REASON\": 5, \"COUNT\": 19688, \"PERC\": 2.2413963872169367}, {\"SERVICES\": 7, \"REASON\": 6, \"COUNT\": 2965, \"PERC\": 0.3375528386884507}, {\"SERVICES\": 7, \"REASON\": 7, \"COUNT\": 41145, \"PERC\": 4.684186019506342}, {\"SERVICES\": 8, \"REASON\": 1, \"COUNT\": 8955, \"PERC\": 67.37135118868493}, {\"SERVICES\": 8, \"REASON\": 2, \"COUNT\": 1734, \"PERC\": 13.045440866686729}, {\"SERVICES\": 8, \"REASON\": 3, \"COUNT\": 434, \"PERC\": 3.265121877821246}, {\"SERVICES\": 8, \"REASON\": 4, \"COUNT\": 1878, \"PERC\": 14.12879927776106}, {\"SERVICES\": 8, \"REASON\": 5, \"COUNT\": 63, \"PERC\": 0.47396930484501953}, {\"SERVICES\": 8, \"REASON\": 6, \"COUNT\": 10, \"PERC\": 0.07523322299127294}, {\"SERVICES\": 8, \"REASON\": 7, \"COUNT\": 218, \"PERC\": 1.6400842612097501}]}}, {\"mode\": \"vega-lite\"});\n",
       "</script>"
      ],
      "text/plain": [
       "alt.Chart(...)"
      ]
     },
     "execution_count": 25,
     "metadata": {},
     "output_type": "execute_result"
    }
   ],
   "source": [
    "df3 = df.copy()\n",
    "completion_df = df3.groupby(['SERVICES','REASON']).size().reset_index()\n",
    "completion_df = completion_df.rename(columns={0:'COUNT'})\n",
    "completion_df['PERC'] = 100 * completion_df['COUNT'] / completion_df.groupby(['SERVICES'])['COUNT'].transform('sum')\n",
    "\n",
    "bar = alt.Chart(completion_df).mark_bar().encode(\n",
    "    x='SERVICES:N',\n",
    "    y='PERC',\n",
    "    color='REASON:N',\n",
    "#    order=alt.Order('PERC', sort='ascending'\n",
    "#                   )\n",
    ")\n",
    "\n",
    "bar"
   ]
  },
  {
   "cell_type": "markdown",
   "id": "86c1026d-8851-42d1-98de-a227436006c0",
   "metadata": {},
   "source": [
    "### Treatment Type @ Discharge"
   ]
  },
  {
   "cell_type": "code",
   "execution_count": 26,
   "id": "c4228d45-a4ee-41b6-9d78-74766a18c9a7",
   "metadata": {},
   "outputs": [
    {
     "data": {
      "text/html": [
       "\n",
       "<div id=\"altair-viz-8fe9e13706d74a73a2e0f49a896db756\"></div>\n",
       "<script type=\"text/javascript\">\n",
       "  var VEGA_DEBUG = (typeof VEGA_DEBUG == \"undefined\") ? {} : VEGA_DEBUG;\n",
       "  (function(spec, embedOpt){\n",
       "    let outputDiv = document.currentScript.previousElementSibling;\n",
       "    if (outputDiv.id !== \"altair-viz-8fe9e13706d74a73a2e0f49a896db756\") {\n",
       "      outputDiv = document.getElementById(\"altair-viz-8fe9e13706d74a73a2e0f49a896db756\");\n",
       "    }\n",
       "    const paths = {\n",
       "      \"vega\": \"https://cdn.jsdelivr.net/npm//vega@5?noext\",\n",
       "      \"vega-lib\": \"https://cdn.jsdelivr.net/npm//vega-lib?noext\",\n",
       "      \"vega-lite\": \"https://cdn.jsdelivr.net/npm//vega-lite@4.17.0?noext\",\n",
       "      \"vega-embed\": \"https://cdn.jsdelivr.net/npm//vega-embed@6?noext\",\n",
       "    };\n",
       "\n",
       "    function maybeLoadScript(lib, version) {\n",
       "      var key = `${lib.replace(\"-\", \"\")}_version`;\n",
       "      return (VEGA_DEBUG[key] == version) ?\n",
       "        Promise.resolve(paths[lib]) :\n",
       "        new Promise(function(resolve, reject) {\n",
       "          var s = document.createElement('script');\n",
       "          document.getElementsByTagName(\"head\")[0].appendChild(s);\n",
       "          s.async = true;\n",
       "          s.onload = () => {\n",
       "            VEGA_DEBUG[key] = version;\n",
       "            return resolve(paths[lib]);\n",
       "          };\n",
       "          s.onerror = () => reject(`Error loading script: ${paths[lib]}`);\n",
       "          s.src = paths[lib];\n",
       "        });\n",
       "    }\n",
       "\n",
       "    function showError(err) {\n",
       "      outputDiv.innerHTML = `<div class=\"error\" style=\"color:red;\">${err}</div>`;\n",
       "      throw err;\n",
       "    }\n",
       "\n",
       "    function displayChart(vegaEmbed) {\n",
       "      vegaEmbed(outputDiv, spec, embedOpt)\n",
       "        .catch(err => showError(`Javascript Error: ${err.message}<br>This usually means there's a typo in your chart specification. See the javascript console for the full traceback.`));\n",
       "    }\n",
       "\n",
       "    if(typeof define === \"function\" && define.amd) {\n",
       "      requirejs.config({paths});\n",
       "      require([\"vega-embed\"], displayChart, err => showError(`Error loading script: ${err.message}`));\n",
       "    } else {\n",
       "      maybeLoadScript(\"vega\", \"5\")\n",
       "        .then(() => maybeLoadScript(\"vega-lite\", \"4.17.0\"))\n",
       "        .then(() => maybeLoadScript(\"vega-embed\", \"6\"))\n",
       "        .catch(showError)\n",
       "        .then(() => displayChart(vegaEmbed));\n",
       "    }\n",
       "  })({\"config\": {\"view\": {\"continuousWidth\": 400, \"continuousHeight\": 300}}, \"data\": {\"name\": \"data-07c8c9d5cb3571eae33649bfc3b087bf\"}, \"mark\": \"bar\", \"encoding\": {\"color\": {\"field\": \"REASON\", \"type\": \"nominal\"}, \"x\": {\"field\": \"SERVICES_D\", \"type\": \"nominal\"}, \"y\": {\"field\": \"PERC\", \"type\": \"quantitative\"}}, \"$schema\": \"https://vega.github.io/schema/vega-lite/v4.17.0.json\", \"datasets\": {\"data-07c8c9d5cb3571eae33649bfc3b087bf\": [{\"SERVICES_D\": 1, \"REASON\": 1, \"COUNT\": 31060, \"PERC\": 71.49104635639645}, {\"SERVICES_D\": 1, \"REASON\": 2, \"COUNT\": 8287, \"PERC\": 19.074253095797083}, {\"SERVICES_D\": 1, \"REASON\": 3, \"COUNT\": 716, \"PERC\": 1.648022832942043}, {\"SERVICES_D\": 1, \"REASON\": 4, \"COUNT\": 2767, \"PERC\": 6.368825668646135}, {\"SERVICES_D\": 1, \"REASON\": 5, \"COUNT\": 14, \"PERC\": 0.03222391014132486}, {\"SERVICES_D\": 1, \"REASON\": 6, \"COUNT\": 1, \"PERC\": 0.00230170786723749}, {\"SERVICES_D\": 1, \"REASON\": 7, \"COUNT\": 601, \"PERC\": 1.3833264282097317}, {\"SERVICES_D\": 2, \"REASON\": 1, \"COUNT\": 141478, \"PERC\": 58.87483718472096}, {\"SERVICES_D\": 2, \"REASON\": 2, \"COUNT\": 46343, \"PERC\": 19.285235723232752}, {\"SERVICES_D\": 2, \"REASON\": 3, \"COUNT\": 4552, \"PERC\": 1.8942751442969916}, {\"SERVICES_D\": 2, \"REASON\": 4, \"COUNT\": 41773, \"PERC\": 17.383470035746537}, {\"SERVICES_D\": 2, \"REASON\": 5, \"COUNT\": 177, \"PERC\": 0.07365700802736545}, {\"SERVICES_D\": 2, \"REASON\": 6, \"COUNT\": 35, \"PERC\": 0.01456494509015701}, {\"SERVICES_D\": 2, \"REASON\": 7, \"COUNT\": 5945, \"PERC\": 2.473959958885241}, {\"SERVICES_D\": 3, \"REASON\": 1, \"COUNT\": 3093, \"PERC\": 72.8965354701862}, {\"SERVICES_D\": 3, \"REASON\": 2, \"COUNT\": 583, \"PERC\": 13.740278105114307}, {\"SERVICES_D\": 3, \"REASON\": 3, \"COUNT\": 83, \"PERC\": 1.9561630921517794}, {\"SERVICES_D\": 3, \"REASON\": 4, \"COUNT\": 394, \"PERC\": 9.285882630214472}, {\"SERVICES_D\": 3, \"REASON\": 5, \"COUNT\": 1, \"PERC\": 0.023568230025925053}, {\"SERVICES_D\": 3, \"REASON\": 6, \"COUNT\": 1, \"PERC\": 0.023568230025925053}, {\"SERVICES_D\": 3, \"REASON\": 7, \"COUNT\": 88, \"PERC\": 2.0740042422814047}, {\"SERVICES_D\": 4, \"REASON\": 1, \"COUNT\": 97796, \"PERC\": 54.41061105949248}, {\"SERVICES_D\": 4, \"REASON\": 2, \"COUNT\": 35158, \"PERC\": 19.560802728430986}, {\"SERVICES_D\": 4, \"REASON\": 3, \"COUNT\": 9493, \"PERC\": 5.281605901956748}, {\"SERVICES_D\": 4, \"REASON\": 4, \"COUNT\": 30651, \"PERC\": 17.053250026427502}, {\"SERVICES_D\": 4, \"REASON\": 5, \"COUNT\": 387, \"PERC\": 0.21531459855232923}, {\"SERVICES_D\": 4, \"REASON\": 6, \"COUNT\": 33, \"PERC\": 0.01836015956647769}, {\"SERVICES_D\": 4, \"REASON\": 7, \"COUNT\": 6219, \"PERC\": 3.460055525573477}, {\"SERVICES_D\": 5, \"REASON\": 1, \"COUNT\": 50073, \"PERC\": 41.22252408001976}, {\"SERVICES_D\": 5, \"REASON\": 2, \"COUNT\": 34354, \"PERC\": 28.28188029966247}, {\"SERVICES_D\": 5, \"REASON\": 3, \"COUNT\": 9557, \"PERC\": 7.867786284679345}, {\"SERVICES_D\": 5, \"REASON\": 4, \"COUNT\": 23712, \"PERC\": 19.520869350456902}, {\"SERVICES_D\": 5, \"REASON\": 5, \"COUNT\": 1175, \"PERC\": 0.9673170330122665}, {\"SERVICES_D\": 5, \"REASON\": 6, \"COUNT\": 61, \"PERC\": 0.05021816086276447}, {\"SERVICES_D\": 5, \"REASON\": 7, \"COUNT\": 2538, \"PERC\": 2.0894047913064955}, {\"SERVICES_D\": 6, \"REASON\": 1, \"COUNT\": 61084, \"PERC\": 25.90819057475262}, {\"SERVICES_D\": 6, \"REASON\": 2, \"COUNT\": 63257, \"PERC\": 26.829847606363803}, {\"SERVICES_D\": 6, \"REASON\": 3, \"COUNT\": 16109, \"PERC\": 6.83247727667949}, {\"SERVICES_D\": 6, \"REASON\": 4, \"COUNT\": 77785, \"PERC\": 32.99175895254293}, {\"SERVICES_D\": 6, \"REASON\": 5, \"COUNT\": 4432, \"PERC\": 1.8797901353431932}, {\"SERVICES_D\": 6, \"REASON\": 6, \"COUNT\": 461, \"PERC\": 0.19552871218258394}, {\"SERVICES_D\": 6, \"REASON\": 7, \"COUNT\": 12643, \"PERC\": 5.362406742135377}, {\"SERVICES_D\": 7, \"REASON\": 1, \"COUNT\": 332393, \"PERC\": 37.5897071695621}, {\"SERVICES_D\": 7, \"REASON\": 2, \"COUNT\": 242889, \"PERC\": 27.467866004120932}, {\"SERVICES_D\": 7, \"REASON\": 3, \"COUNT\": 54314, \"PERC\": 6.142269407621688}, {\"SERVICES_D\": 7, \"REASON\": 4, \"COUNT\": 190569, \"PERC\": 21.551094353961364}, {\"SERVICES_D\": 7, \"REASON\": 5, \"COUNT\": 19755, \"PERC\": 2.234056268136511}, {\"SERVICES_D\": 7, \"REASON\": 6, \"COUNT\": 2974, \"PERC\": 0.33632413775945247}, {\"SERVICES_D\": 7, \"REASON\": 7, \"COUNT\": 41372, \"PERC\": 4.6786826588379515}, {\"SERVICES_D\": 8, \"REASON\": 1, \"COUNT\": 8952, \"PERC\": 67.47569156553855}, {\"SERVICES_D\": 8, \"REASON\": 2, \"COUNT\": 1739, \"PERC\": 13.107710861536143}, {\"SERVICES_D\": 8, \"REASON\": 3, \"COUNT\": 430, \"PERC\": 3.241124594859426}, {\"SERVICES_D\": 8, \"REASON\": 4, \"COUNT\": 1852, \"PERC\": 13.959448255068969}, {\"SERVICES_D\": 8, \"REASON\": 5, \"COUNT\": 64, \"PERC\": 0.48239993970000755}, {\"SERVICES_D\": 8, \"REASON\": 6, \"COUNT\": 10, \"PERC\": 0.07537499057812617}, {\"SERVICES_D\": 8, \"REASON\": 7, \"COUNT\": 220, \"PERC\": 1.6582497927187758}]}}, {\"mode\": \"vega-lite\"});\n",
       "</script>"
      ],
      "text/plain": [
       "alt.Chart(...)"
      ]
     },
     "execution_count": 26,
     "metadata": {},
     "output_type": "execute_result"
    }
   ],
   "source": [
    "df4 = df.copy()\n",
    "completion_df = df4.groupby(['SERVICES_D','REASON']).size().reset_index()\n",
    "completion_df = completion_df.rename(columns={0:'COUNT'})\n",
    "completion_df['PERC'] = 100 * completion_df['COUNT'] / completion_df.groupby(['SERVICES_D'])['COUNT'].transform('sum')\n",
    "\n",
    "bar = alt.Chart(completion_df).mark_bar().encode(\n",
    "    x='SERVICES_D:N',\n",
    "    y='PERC',\n",
    "    color='REASON:N',\n",
    "#    order=alt.Order('PERC', sort='ascending'\n",
    "#                   )\n",
    ")\n",
    "\n",
    "bar"
   ]
  },
  {
   "cell_type": "code",
   "execution_count": 27,
   "id": "37730b9e-0025-4451-ab12-69e1d0517e7f",
   "metadata": {},
   "outputs": [
    {
     "data": {
      "text/plain": [
       "datetime.datetime(2022, 4, 22, 21, 43, 53, 95205)"
      ]
     },
     "execution_count": 27,
     "metadata": {},
     "output_type": "execute_result"
    }
   ],
   "source": [
    "end_time = datetime.datetime.now()\n",
    "end_time"
   ]
  },
  {
   "cell_type": "code",
   "execution_count": 28,
   "id": "e8a63f45",
   "metadata": {},
   "outputs": [
    {
     "data": {
      "text/plain": [
       "datetime.timedelta(seconds=19, microseconds=983222)"
      ]
     },
     "execution_count": 28,
     "metadata": {},
     "output_type": "execute_result"
    }
   ],
   "source": [
    "# How long it took to run our entire notebook\n",
    "end_time - start_time"
   ]
  }
 ],
 "metadata": {
  "kernelspec": {
   "display_name": "Python 3",
   "language": "python",
   "name": "python3"
  },
  "language_info": {
   "codemirror_mode": {
    "name": "ipython",
    "version": 3
   },
   "file_extension": ".py",
   "mimetype": "text/x-python",
   "name": "python",
   "nbconvert_exporter": "python",
   "pygments_lexer": "ipython3",
   "version": "3.7.10"
  }
 },
 "nbformat": 4,
 "nbformat_minor": 5
}
