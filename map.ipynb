{
 "cells": [
  {
   "cell_type": "code",
   "execution_count": 1,
   "metadata": {},
   "outputs": [],
   "source": [
    "from util import *\n",
    "from feature_eng import *"
   ]
  },
  {
   "cell_type": "code",
   "execution_count": 2,
   "metadata": {},
   "outputs": [],
   "source": [
    "from ipywidgets import interact, widgets\n",
    "from IPython.display import display"
   ]
  },
  {
   "cell_type": "code",
   "execution_count": 3,
   "metadata": {
    "scrolled": true
   },
   "outputs": [],
   "source": [
    "years = [2016, 2017, 2018, 2019]\n",
    "origin_df = []\n",
    "\n",
    "for year in years:\n",
    "    file_name = f'TEDS-D-{year}-DS0001-bndl-data-tsv'\n",
    "    if year == 2019:\n",
    "        file_name += '_V1.zip'\n",
    "    else:\n",
    "        file_name += '.zip'\n",
    "    origin_df.append(read_csv(file_name))"
   ]
  },
  {
   "cell_type": "code",
   "execution_count": 7,
   "metadata": {},
   "outputs": [],
   "source": [
    "df = pd.concat(origin_df)"
   ]
  },
  {
   "cell_type": "code",
   "execution_count": 8,
   "metadata": {},
   "outputs": [
    {
     "data": {
      "text/html": [
       "<div>\n",
       "<style scoped>\n",
       "    .dataframe tbody tr th:only-of-type {\n",
       "        vertical-align: middle;\n",
       "    }\n",
       "\n",
       "    .dataframe tbody tr th {\n",
       "        vertical-align: top;\n",
       "    }\n",
       "\n",
       "    .dataframe thead th {\n",
       "        text-align: right;\n",
       "    }\n",
       "</style>\n",
       "<table border=\"1\" class=\"dataframe\">\n",
       "  <thead>\n",
       "    <tr style=\"text-align: right;\">\n",
       "      <th></th>\n",
       "      <th>DISYR</th>\n",
       "      <th>CASEID</th>\n",
       "      <th>STFIPS</th>\n",
       "      <th>AGE</th>\n",
       "      <th>SERVICES</th>\n",
       "      <th>SUB1</th>\n",
       "      <th>SUB2</th>\n",
       "      <th>SUB3</th>\n",
       "      <th>DETCRIM</th>\n",
       "      <th>NOPRIOR</th>\n",
       "      <th>...</th>\n",
       "      <th>OTHERFLG</th>\n",
       "      <th>NUMSUBS</th>\n",
       "      <th>IDU</th>\n",
       "      <th>DIVISION</th>\n",
       "      <th>REGION</th>\n",
       "      <th>ALCDRUG</th>\n",
       "      <th>YEAR</th>\n",
       "      <th>CBSA</th>\n",
       "      <th>GENDER</th>\n",
       "      <th>CBSA2010</th>\n",
       "    </tr>\n",
       "  </thead>\n",
       "  <tbody>\n",
       "    <tr>\n",
       "      <th>0</th>\n",
       "      <td>2016</td>\n",
       "      <td>20161314323</td>\n",
       "      <td>2</td>\n",
       "      <td>6</td>\n",
       "      <td>7</td>\n",
       "      <td>2</td>\n",
       "      <td>1</td>\n",
       "      <td>1</td>\n",
       "      <td>-9</td>\n",
       "      <td>1</td>\n",
       "      <td>...</td>\n",
       "      <td>0</td>\n",
       "      <td>1.0</td>\n",
       "      <td>0</td>\n",
       "      <td>9</td>\n",
       "      <td>4</td>\n",
       "      <td>1</td>\n",
       "      <td>2016.0</td>\n",
       "      <td>-9.0</td>\n",
       "      <td>2</td>\n",
       "      <td>NaN</td>\n",
       "    </tr>\n",
       "    <tr>\n",
       "      <th>1</th>\n",
       "      <td>2016</td>\n",
       "      <td>20161235303</td>\n",
       "      <td>2</td>\n",
       "      <td>5</td>\n",
       "      <td>7</td>\n",
       "      <td>2</td>\n",
       "      <td>1</td>\n",
       "      <td>1</td>\n",
       "      <td>-9</td>\n",
       "      <td>1</td>\n",
       "      <td>...</td>\n",
       "      <td>0</td>\n",
       "      <td>1.0</td>\n",
       "      <td>0</td>\n",
       "      <td>9</td>\n",
       "      <td>4</td>\n",
       "      <td>1</td>\n",
       "      <td>2016.0</td>\n",
       "      <td>-9.0</td>\n",
       "      <td>2</td>\n",
       "      <td>NaN</td>\n",
       "    </tr>\n",
       "    <tr>\n",
       "      <th>2</th>\n",
       "      <td>2016</td>\n",
       "      <td>20161216159</td>\n",
       "      <td>2</td>\n",
       "      <td>4</td>\n",
       "      <td>7</td>\n",
       "      <td>4</td>\n",
       "      <td>10</td>\n",
       "      <td>1</td>\n",
       "      <td>-9</td>\n",
       "      <td>0</td>\n",
       "      <td>...</td>\n",
       "      <td>0</td>\n",
       "      <td>2.0</td>\n",
       "      <td>1</td>\n",
       "      <td>9</td>\n",
       "      <td>4</td>\n",
       "      <td>2</td>\n",
       "      <td>2016.0</td>\n",
       "      <td>-9.0</td>\n",
       "      <td>2</td>\n",
       "      <td>NaN</td>\n",
       "    </tr>\n",
       "    <tr>\n",
       "      <th>3</th>\n",
       "      <td>2016</td>\n",
       "      <td>20161185262</td>\n",
       "      <td>2</td>\n",
       "      <td>4</td>\n",
       "      <td>7</td>\n",
       "      <td>10</td>\n",
       "      <td>4</td>\n",
       "      <td>2</td>\n",
       "      <td>-9</td>\n",
       "      <td>0</td>\n",
       "      <td>...</td>\n",
       "      <td>0</td>\n",
       "      <td>3.0</td>\n",
       "      <td>1</td>\n",
       "      <td>9</td>\n",
       "      <td>4</td>\n",
       "      <td>3</td>\n",
       "      <td>2016.0</td>\n",
       "      <td>-9.0</td>\n",
       "      <td>2</td>\n",
       "      <td>NaN</td>\n",
       "    </tr>\n",
       "    <tr>\n",
       "      <th>4</th>\n",
       "      <td>2016</td>\n",
       "      <td>20161248228</td>\n",
       "      <td>2</td>\n",
       "      <td>5</td>\n",
       "      <td>7</td>\n",
       "      <td>2</td>\n",
       "      <td>1</td>\n",
       "      <td>1</td>\n",
       "      <td>-9</td>\n",
       "      <td>1</td>\n",
       "      <td>...</td>\n",
       "      <td>0</td>\n",
       "      <td>1.0</td>\n",
       "      <td>0</td>\n",
       "      <td>9</td>\n",
       "      <td>4</td>\n",
       "      <td>1</td>\n",
       "      <td>2016.0</td>\n",
       "      <td>-9.0</td>\n",
       "      <td>1</td>\n",
       "      <td>NaN</td>\n",
       "    </tr>\n",
       "  </tbody>\n",
       "</table>\n",
       "<p>5 rows × 79 columns</p>\n",
       "</div>"
      ],
      "text/plain": [
       "   DISYR       CASEID  STFIPS  AGE  SERVICES  SUB1  SUB2  SUB3  DETCRIM  \\\n",
       "0   2016  20161314323       2    6         7     2     1     1       -9   \n",
       "1   2016  20161235303       2    5         7     2     1     1       -9   \n",
       "2   2016  20161216159       2    4         7     4    10     1       -9   \n",
       "3   2016  20161185262       2    4         7    10     4     2       -9   \n",
       "4   2016  20161248228       2    5         7     2     1     1       -9   \n",
       "\n",
       "   NOPRIOR  ...  OTHERFLG  NUMSUBS  IDU  DIVISION  REGION  ALCDRUG    YEAR  \\\n",
       "0        1  ...         0      1.0    0         9       4        1  2016.0   \n",
       "1        1  ...         0      1.0    0         9       4        1  2016.0   \n",
       "2        0  ...         0      2.0    1         9       4        2  2016.0   \n",
       "3        0  ...         0      3.0    1         9       4        3  2016.0   \n",
       "4        1  ...         0      1.0    0         9       4        1  2016.0   \n",
       "\n",
       "   CBSA  GENDER  CBSA2010  \n",
       "0  -9.0       2       NaN  \n",
       "1  -9.0       2       NaN  \n",
       "2  -9.0       2       NaN  \n",
       "3  -9.0       2       NaN  \n",
       "4  -9.0       1       NaN  \n",
       "\n",
       "[5 rows x 79 columns]"
      ]
     },
     "execution_count": 8,
     "metadata": {},
     "output_type": "execute_result"
    }
   ],
   "source": [
    "df.head()"
   ]
  },
  {
   "cell_type": "code",
   "execution_count": 9,
   "metadata": {},
   "outputs": [],
   "source": [
    "df['state'] = df['STFIPS'].apply(lambda x: US_STATE_TO_ABBREV[STATE_DICT[x]])\n",
    "df['REASON'] = df['REASON'].apply(lambda x: REASON_DICT[x])"
   ]
  },
  {
   "cell_type": "code",
   "execution_count": 59,
   "metadata": {
    "scrolled": false
   },
   "outputs": [
    {
     "data": {
      "application/vnd.jupyter.widget-view+json": {
       "model_id": "dfe0debe8c924c1dacd46d81ec944c67",
       "version_major": 2,
       "version_minor": 0
      },
      "text/plain": [
       "IntRangeSlider(value=(2016, 2019), continuous_update=False, description='Year:', max=2019, min=2016)"
      ]
     },
     "metadata": {},
     "output_type": "display_data"
    },
    {
     "data": {
      "application/vnd.jupyter.widget-view+json": {
       "model_id": "ebe60b2f6f9e4ba3a331f4e16fd2f3bc",
       "version_major": 2,
       "version_minor": 0
      },
      "text/plain": [
       "SelectMultiple(description='States:', index=(0, 1, 2, 3, 4, 5, 6, 7, 8, 9, 10, 11, 12, 13, 14, 15, 16, 17, 18,…"
      ]
     },
     "metadata": {},
     "output_type": "display_data"
    },
    {
     "data": {
      "application/vnd.jupyter.widget-view+json": {
       "model_id": "2885e6d2f4964fedb97ffe88b69ebe4c",
       "version_major": 2,
       "version_minor": 0
      },
      "text/plain": [
       "Dropdown(description='Column:', index=59, options=('AGE', 'ALCDRUG', 'ALCFLG', 'AMPHFLG', 'ARRESTS', 'ARRESTS_…"
      ]
     },
     "metadata": {},
     "output_type": "display_data"
    },
    {
     "data": {
      "application/vnd.jupyter.widget-view+json": {
       "model_id": "293145ff2afd44d49ee93c358f1b8781",
       "version_major": 2,
       "version_minor": 0
      },
      "text/plain": [
       "Dropdown(description='Classes:', options=('1 - Treatment Completed', '2 - Dropped out of treatment', '3 - Term…"
      ]
     },
     "metadata": {},
     "output_type": "display_data"
    },
    {
     "data": {
      "application/vnd.jupyter.widget-view+json": {
       "model_id": "5632a68fe35f494e891c4145b192f8fc",
       "version_major": 2,
       "version_minor": 0
      },
      "text/plain": [
       "Button(description='Update Map!', style=ButtonStyle())"
      ]
     },
     "metadata": {},
     "output_type": "display_data"
    },
    {
     "data": {
      "application/vnd.jupyter.widget-view+json": {
       "model_id": "55c2841edfe940f5ad149a80617ee74a",
       "version_major": 2,
       "version_minor": 0
      },
      "text/plain": [
       "FigureWidget({\n",
       "    'data': [{'colorbar': {'title': {'text': 'title'}},\n",
       "              'colorscale': [[0.0, 'rgb…"
      ]
     },
     "metadata": {},
     "output_type": "display_data"
    }
   ],
   "source": [
    "years_widget = widgets.IntRangeSlider(\n",
    "    value=[min(years), max(years)],\n",
    "    min=min(years),\n",
    "    max=max(years),\n",
    "    step=1,\n",
    "    description='Year:',\n",
    "    disabled=False,\n",
    "    continuous_update=False,\n",
    "    orientation='horizontal',\n",
    "    readout=True,\n",
    "    readout_format='d',\n",
    ")\n",
    "\n",
    "state_list = sorted(list(df['state'].unique()))\n",
    "state = widgets.SelectMultiple(\n",
    "    options=state_list,\n",
    "    value=state_list,\n",
    "    description='States:',\n",
    ")\n",
    "\n",
    "df_columns = sorted(list(df.columns.unique()))\n",
    "df_columns.remove('state')\n",
    "df_columns.remove('DISYR')\n",
    "column = widgets.Dropdown(\n",
    "    options=df_columns,\n",
    "    value='REASON',\n",
    "    description='Column:',\n",
    ")\n",
    "\n",
    "reason_classes = sorted(list(df['REASON'].unique()))\n",
    "column_classes = widgets.Dropdown(\n",
    "    options=reason_classes,\n",
    "    value=reason_classes[0],\n",
    "    description='Classes:'\n",
    ")\n",
    "\n",
    "button = widgets.Button(description=\"Update Map!\")\n",
    "\n",
    "def view_map(button):\n",
    "    year_min, year_max = years_widget.value\n",
    "    if year_min == year_max:\n",
    "        tmp_df = df[df['DISYR'] == year_min]\n",
    "    else:\n",
    "        tmp_df = df[df['DISYR'].isin(list(range(year_min, year_max + 1)))]\n",
    "    if len(state.value) == len(tmp_df['state'].unique()):\n",
    "        tmp_df = df[df['state'].isin(state.value)]\n",
    "    else:\n",
    "        tmp_df = df\n",
    "    tmp_df = tmp_df[tmp_df[column.value] == column_classes.value]\n",
    "    tmp_df = tmp_df[['state', column.value]].value_counts().reset_index()\n",
    "    with g.batch_update():\n",
    "        g.data[0].locations = tmp_df['state']\n",
    "        g.data[0].z = tmp_df[0]\n",
    "        title = f\"Class `{column_classes.value}` count in column {column.value}\"\n",
    "        if len(state.value) == len(tmp_df['state'].unique()):\n",
    "            title += \" in all states\"\n",
    "        else:\n",
    "            title += \" in \" + \", \".join(x for x in state.value)\n",
    "        if year_min == 2016 and year_max == 2019:\n",
    "            title += \" in all years\"\n",
    "        elif year_min == year_max:\n",
    "            title += f\" in {year_min}\"\n",
    "        else:\n",
    "            title += f\" from {year_min} to {year_max}\"\n",
    "        g.layout.title = title\n",
    "        g.layout.xaxis.title = 'Delay in Minutes'\n",
    "\n",
    "# Define function to bind value of the input to the output variable \n",
    "def change_classes(change):\n",
    "    if change['type'] == 'change' and change['name'] == 'value':\n",
    "        col = change.new\n",
    "        column_classes.options = sorted(list(df[col].unique()))\n",
    "\n",
    "def change_state(change):\n",
    "    if change['type'] == 'change' and change['name'] == 'value':\n",
    "        year_range = list(range(change.new[0], change.new[1] + 1))\n",
    "        if year_range:\n",
    "            filtered_df = df[df['DISYR'].isin(year_range)]\n",
    "        else:\n",
    "            # min equals max\n",
    "            filtered_df = df[df['DISYR'] == change.new[0]]\n",
    "        new_state = sorted(list(filtered_df['state'].unique()))\n",
    "        state.options = new_state\n",
    "        state.value = new_state\n",
    "        \n",
    "column.observe(change_classes)\n",
    "years_widget.observe(change_state)\n",
    "\n",
    "button.on_click(view_map)\n",
    "\n",
    "\n",
    "display(years_widget, state, column, column_classes, button)\n",
    "empty_map = go.Choropleth(locationmode = 'USA-states',\n",
    "            colorscale = 'Blues',\n",
    "            colorbar_title = 'title')\n",
    "g = go.FigureWidget(data=[empty_map])\n",
    "g.update_layout(title_text = 'Default title', geo_scope='usa')"
   ]
  },
  {
   "cell_type": "code",
   "execution_count": 14,
   "metadata": {
    "scrolled": true
   },
   "outputs": [
    {
     "data": {
      "text/plain": [
       "<AxesSubplot:>"
      ]
     },
     "execution_count": 14,
     "metadata": {},
     "output_type": "execute_result"
    },
    {
     "data": {
      "image/png": "[encoded data removed]",
      "text/plain": [
       "<Figure size 432x288 with 1 Axes>"
      ]
     },
     "metadata": {
      "needs_background": "light"
     },
     "output_type": "display_data"
    }
   ],
   "source": [
    "df['REASON'].value_counts().reset_index().plot.bar()"
   ]
  },
  {
   "cell_type": "code",
   "execution_count": 81,
   "metadata": {
    "scrolled": true
   },
   "outputs": [],
   "source": [
    "import plotly.express as px\n",
    "# count_df = df[['state', 'REASON']].value_counts(normalize=True).reset_index()\n",
    "# count_df.columns = ['state', 'REASON', 'count']\n",
    "# count_df.groupby(['state'])['count'].sum()\n",
    "# count_df = df.groupby(['state']).agg({'REASON': [('count', lambda x: list(x.value_counts()))]}, )#.reset_index(level=[0,1])\n",
    "#['REASON'].value_counts(normalize=True)\n",
    "# count_df.columns = ['state', 'REASON', 'count']\n",
    "# count_df\n",
    "count_df = pd.DataFrame(df.groupby(['state'])['REASON'].value_counts(normalize=True))\n",
    "count_df.columns = ['count']\n",
    "count_df = count_df.reset_index()"
   ]
  },
  {
   "cell_type": "code",
   "execution_count": 82,
   "metadata": {},
   "outputs": [
    {
     "data": {
      "application/vnd.plotly.v1+json": {
       "config": {
        "plotlyServerURL": "https://plot.ly"
       },
       "data": [
        {
         "alignmentgroup": "True",
         "hovertemplate": "REASON=1 - Treatment Completed<br>state=%{x}<br>count=%{y}<extra></extra>",
         "legendgroup": "1 - Treatment Completed",
         "marker": {
          "color": "#636efa",
          "pattern": {
           "shape": ""
          }
         },
         "name": "1 - Treatment Completed",
         "offsetgroup": "1 - Treatment Completed",
         "orientation": "v",
         "showlegend": true,
         "textposition": "auto",
         "type": "bar",
         "x": [
          "AK",
          "AL",
          "AR",
          "AZ",
          "CA",
          "CO",
          "CT",
          "DC",
          "DE",
          "FL",
          "GA",
          "HI",
          "IA",
          "ID",
          "IL",
          "IN",
          "KS",
          "KY",
          "LA",
          "MA",
          "MD",
          "ME",
          "MI",
          "MN",
          "MO",
          "MS",
          "MT",
          "NC",
          "ND",
          "NE",
          "NH",
          "NJ",
          "NM",
          "NV",
          "NY",
          "OH",
          "OK",
          "PA",
          "PR",
          "RI",
          "SC",
          "SD",
          "TN",
          "TX",
          "UT",
          "VA",
          "VT",
          "WA",
          "WI",
          "WY"
         ],
         "xaxis": "x",
         "y": [
          0.4504133697619132,
          0.37036305678580494,
          0.5586834871392107,
          0.8074200050390526,
          0.3301756266993673,
          0.7701321786690976,
          0.4557813869884264,
          0.5394319949305836,
          0.3990012484394507,
          0.5078795940201833,
          0.17973255120302248,
          0.30084671017816195,
          0.44389728791585636,
          0.39729175505586195,
          0.2775773698935147,
          0.27964389525410915,
          0.26294396322148406,
          0.08404388335417255,
          0.13433988764044943,
          0.5329133858267716,
          0.10865351822121663,
          0.4256372760809598,
          0.251444460081932,
          0.5159390843392057,
          0.22128428673662875,
          0.19862708719851577,
          0.4613506916192026,
          0.22373812985306296,
          0.21317969031328773,
          0.6533729124651605,
          0.37903134547923506,
          0.54988009906569,
          0.0791350356567748,
          0.49298603026775323,
          0.49720173441365123,
          0.3146559807337367,
          0.3850354893341706,
          0.42282148940649583,
          0.5615584415584416,
          0.3857014260671815,
          0.49058069849142383,
          0.5750812187198173,
          0.5174370437528333,
          0.5402748212998931,
          0.4278757588863793,
          0.3670021881838074,
          0.2934939885822525,
          0.453441840778791,
          0.5640896318178543,
          0.5077753779697625
         ],
         "yaxis": "y"
        },
        {
         "alignmentgroup": "True",
         "hovertemplate": "REASON=2 - Dropped out of treatment<br>state=%{x}<br>count=%{y}<extra></extra>",
         "legendgroup": "2 - Dropped out of treatment",
         "marker": {
          "color": "#EF553B",
          "pattern": {
           "shape": ""
          }
         },
         "name": "2 - Dropped out of treatment",
         "offsetgroup": "2 - Dropped out of treatment",
         "orientation": "v",
         "showlegend": true,
         "textposition": "auto",
         "type": "bar",
         "x": [
          "AK",
          "AL",
          "AR",
          "AZ",
          "CA",
          "CO",
          "CT",
          "DC",
          "DE",
          "FL",
          "GA",
          "HI",
          "IA",
          "ID",
          "IL",
          "IN",
          "KS",
          "KY",
          "LA",
          "MA",
          "MD",
          "ME",
          "MI",
          "MN",
          "MO",
          "MS",
          "MT",
          "NC",
          "ND",
          "NE",
          "NH",
          "NJ",
          "NM",
          "NV",
          "NY",
          "OH",
          "OK",
          "PA",
          "PR",
          "RI",
          "SC",
          "SD",
          "TN",
          "TX",
          "UT",
          "VA",
          "VT",
          "WA",
          "WI",
          "WY"
         ],
         "xaxis": "x",
         "y": [
          0.1899371961820956,
          0.33050297610651924,
          0.2339485568427253,
          0.12797619047619047,
          0.35378459325935036,
          0.09808113035551504,
          0.21428142501991648,
          0.000921712080188951,
          0.15084269662921349,
          0.2489807130671139,
          0.7036935772519387,
          0.16340330452166754,
          0.359659578027309,
          0.27591571206335735,
          0.23964606120191717,
          0.43278718440021374,
          0.26269167157233764,
          0.04224579518412455,
          0.725684691011236,
          0.32558872001464934,
          0.29600638844755733,
          0.27754328824487356,
          0.3543805462892876,
          0.2621174114214457,
          0.2870291531940012,
          0.43153988868274584,
          0.29910496338486575,
          0.1035169275623484,
          0.18959308606409794,
          0.12696290589381615,
          0.053807853343894985,
          0.2757459410585352,
          0.03450655624568668,
          0.22654249126891735,
          0.31467097431122165,
          0.2838023234008113,
          0.414930258225343,
          0.20995617140997913,
          0.3045194805194805,
          0.21526034017150708,
          0.36712543914031825,
          0.1251031697251734,
          0.26359557938505307,
          0.19552235097280776,
          0.26384416999054894,
          0.0004126289465457956,
          0.35050380153113575,
          0.24570010389010735,
          0.21903595359896247,
          0.23606911447084233
         ],
         "yaxis": "y"
        },
        {
         "alignmentgroup": "True",
         "hovertemplate": "REASON=3 - Terminated by facility<br>state=%{x}<br>count=%{y}<extra></extra>",
         "legendgroup": "3 - Terminated by facility",
         "marker": {
          "color": "#00cc96",
          "pattern": {
           "shape": ""
          }
         },
         "name": "3 - Terminated by facility",
         "offsetgroup": "3 - Terminated by facility",
         "orientation": "v",
         "showlegend": true,
         "textposition": "auto",
         "type": "bar",
         "x": [
          "AK",
          "AL",
          "AR",
          "AZ",
          "CA",
          "CO",
          "CT",
          "DC",
          "DE",
          "FL",
          "GA",
          "HI",
          "IA",
          "IL",
          "IN",
          "KS",
          "KY",
          "LA",
          "MA",
          "MD",
          "ME",
          "MI",
          "MN",
          "MO",
          "MS",
          "MT",
          "NC",
          "ND",
          "NE",
          "NH",
          "NJ",
          "NM",
          "NV",
          "NY",
          "OH",
          "OK",
          "PA",
          "PR",
          "RI",
          "SC",
          "SD",
          "TN",
          "TX",
          "UT",
          "VA",
          "VT",
          "WA",
          "WI",
          "WY"
         ],
         "xaxis": "x",
         "y": [
          0.18855338324521875,
          0.08431831645462495,
          0.10295994502258002,
          0.00015432098765432098,
          0.00010593458378944057,
          0.03690063810391978,
          0.044072492023395374,
          0.07920963189123797,
          0.21713483146067417,
          0.025908683457189947,
          0.05818751242791807,
          0.10636796613159287,
          0.06856533467160153,
          0.09256916481721114,
          0.20277897261434585,
          0.026883076836823366,
          0.025257129028354777,
          0.0002808988764044944,
          0.06008789598974547,
          0.1364033372983854,
          0.11020638771644123,
          0.04363619765615193,
          0.07523941125774566,
          0.06400016715681922,
          0.030575139146567717,
          0.03181448331977217,
          0.0003442760661246122,
          0.04987396471011883,
          0.03693548752577553,
          0.07146090302138734,
          0.047252761652667306,
          0.01081205429031516,
          0.06487194412107102,
          0.09053150958715883,
          0.2099548940454218,
          0.03959962702898137,
          0.06152270856858504,
          0.03345454545454545,
          0.12448476808641683,
          0.06580698491423848,
          0.05498287821582228,
          0.15506541822331296,
          0.11595007164569753,
          0.0832011789770452,
          0.36118787120975304,
          0.0667438373102523,
          0.06262264804340298,
          0.05778514302183154,
          0.03423326133909287
         ],
         "yaxis": "y"
        },
        {
         "alignmentgroup": "True",
         "hovertemplate": "REASON=4 - Transferred to another treatment/facility<br>state=%{x}<br>count=%{y}<extra></extra>",
         "legendgroup": "4 - Transferred to another treatment/facility",
         "marker": {
          "color": "#ab63fa",
          "pattern": {
           "shape": ""
          }
         },
         "name": "4 - Transferred to another treatment/facility",
         "offsetgroup": "4 - Transferred to another treatment/facility",
         "orientation": "v",
         "showlegend": true,
         "textposition": "auto",
         "type": "bar",
         "x": [
          "AK",
          "AL",
          "AR",
          "AZ",
          "CA",
          "CO",
          "CT",
          "DC",
          "DE",
          "FL",
          "GA",
          "HI",
          "IA",
          "ID",
          "IL",
          "IN",
          "KS",
          "KY",
          "LA",
          "MA",
          "MD",
          "ME",
          "MI",
          "MN",
          "MO",
          "MS",
          "MT",
          "NC",
          "ND",
          "NE",
          "NH",
          "NJ",
          "NM",
          "NV",
          "NY",
          "OH",
          "OK",
          "PA",
          "PR",
          "RI",
          "SC",
          "SD",
          "TN",
          "TX",
          "UT",
          "VA",
          "VT",
          "WA",
          "WI",
          "WY"
         ],
         "xaxis": "x",
         "y": [
          0.09296384345172622,
          0.11368444808034077,
          0.08705576281170234,
          0.0019904257999496097,
          0.2995268255257405,
          0.07273017319963537,
          0.18751526263746382,
          0.08064980701653321,
          0.16769662921348313,
          0.043417285949744096,
          0.017821634519785245,
          0.4140941965073205,
          0.046672103381218244,
          0.1502262763399802,
          0.3767901163168967,
          0.019812562728919823,
          0.3969108289182295,
          0.8138466502641875,
          0.13091643258426966,
          0.0281377037172679,
          0.4280093497591855,
          0.07830104024726645,
          0.2675607928459762,
          0.07426684063804484,
          0.3960676358279747,
          0.32289424860853433,
          0.15362082994304313,
          0.6711278287197061,
          0.0875045012603529,
          0.0918855226484784,
          0.1487495756478443,
          0.008016327493349757,
          0.8622038187255578,
          0.1270663562281723,
          0.05088830974159811,
          0.06416494763958665,
          0.09550722155620255,
          0.0385749009550422,
          0.047896103896103895,
          0.2536836120718245,
          0.03977681339119653,
          0.1622618315918869,
          0.022853391274443906,
          0.05984279360241193,
          0.190574591122431,
          0.00031259768677711783,
          0.20267817210807398,
          0.18042248643656933,
          0.09730528136032855,
          0.10134989200863931
         ],
         "yaxis": "y"
        },
        {
         "alignmentgroup": "True",
         "hovertemplate": "REASON=7 - Other<br>state=%{x}<br>count=%{y}<extra></extra>",
         "legendgroup": "7 - Other",
         "marker": {
          "color": "#FFA15A",
          "pattern": {
           "shape": ""
          }
         },
         "name": "7 - Other",
         "offsetgroup": "7 - Other",
         "orientation": "v",
         "showlegend": true,
         "textposition": "auto",
         "type": "bar",
         "x": [
          "AK",
          "AL",
          "AR",
          "AZ",
          "CA",
          "CO",
          "CT",
          "DC",
          "DE",
          "FL",
          "GA",
          "HI",
          "IA",
          "ID",
          "IL",
          "IN",
          "KS",
          "KY",
          "LA",
          "MA",
          "MD",
          "ME",
          "MI",
          "MN",
          "MO",
          "MS",
          "MT",
          "NC",
          "ND",
          "NE",
          "NH",
          "NJ",
          "NM",
          "NV",
          "NY",
          "OH",
          "OK",
          "PA",
          "PR",
          "RI",
          "SC",
          "SD",
          "TN",
          "TX",
          "UT",
          "VA",
          "VT",
          "WA",
          "WI",
          "WY"
         ],
         "xaxis": "x",
         "y": [
          0.05105914913245574,
          0.07853536065897486,
          0.004687806793638327,
          0.04819538926681784,
          0.00012038020885163702,
          0.01089334548769371,
          0.0790734728355078,
          0.29022409124949594,
          0.03639200998751561,
          0.1644738744469826,
          0.0321137403062239,
          0.0070853178103134,
          0.03838111369006545,
          0.08711639089237731,
          0.0002747074004727859,
          0.027776691562715887,
          0.009923471533092254,
          0.030597346025087728,
          0.005951544943820225,
          0.046196667277055486,
          0.00021627556834723875,
          0.0717537970686962,
          0.05527936371485845,
          0.054155813516805734,
          0.013085244754148885,
          0.015584415584415584,
          0.054109031733116354,
          0.0008754448538597281,
          0.4528267915016205,
          0.07659015204731368,
          0.32097997057825056,
          0.09520658341304888,
          0.008281573498964804,
          0.0731082654249127,
          0.016054303575382834,
          0.08818855670815362,
          0.04159768605735381,
          0.23768875959348504,
          0.021506493506493505,
          0.00014213294167811626,
          0.02289729282909692,
          0.044692246904908244,
          0.020899441952073532,
          0.08816148029122113,
          0.0001601870985310843,
          0.22459518599562364,
          0.05214280076819868,
          0.039574435338027625,
          0.019489876792276102,
          0.06943844492440605
         ],
         "yaxis": "y"
        },
        {
         "alignmentgroup": "True",
         "hovertemplate": "REASON=5 - Incarcerated<br>state=%{x}<br>count=%{y}<extra></extra>",
         "legendgroup": "5 - Incarcerated",
         "marker": {
          "color": "#19d3f3",
          "pattern": {
           "shape": ""
          }
         },
         "name": "5 - Incarcerated",
         "offsetgroup": "5 - Incarcerated",
         "orientation": "v",
         "showlegend": true,
         "textposition": "auto",
         "type": "bar",
         "x": [
          "AK",
          "AL",
          "AR",
          "AZ",
          "CA",
          "CO",
          "CT",
          "DC",
          "DE",
          "FL",
          "GA",
          "HI",
          "IA",
          "ID",
          "IL",
          "IN",
          "KS",
          "KY",
          "LA",
          "MA",
          "MD",
          "ME",
          "MI",
          "MN",
          "MO",
          "MS",
          "NC",
          "ND",
          "NE",
          "NH",
          "NJ",
          "NM",
          "NV",
          "NY",
          "OH",
          "OK",
          "PA",
          "PR",
          "RI",
          "SC",
          "SD",
          "TN",
          "TX",
          "UT",
          "VA",
          "VT",
          "WA",
          "WI",
          "WY"
         ],
         "xaxis": "x",
         "y": [
          0.024305432352836817,
          0.020141611893142262,
          0.011682701747496563,
          0.01168745275888133,
          0.013716923531281199,
          0.010314494074749317,
          0.01675787552093133,
          0.00616394953626361,
          0.025749063670411985,
          0.008342249081918862,
          0.0068850666136408825,
          0.007849708943376258,
          0.04081718001798298,
          0.08693961250176778,
          0.01207266733656717,
          0.033785633285105386,
          0.03882488156308693,
          0.0035897229056588553,
          0.0023525280898876403,
          0.004999084416773485,
          0.025703519468960295,
          0.03247033799727475,
          0.025153955291155227,
          0.016784065248896227,
          0.01528440165694197,
          0.0001484230055658627,
          8.656083948275964e-05,
          0.0005401512423478574,
          0.01334662708753484,
          0.023707140432273396,
          0.02086472815902926,
          0.004140786749482402,
          0.014493597206053551,
          0.027578577606683283,
          0.03444634168007343,
          0.020304085554984683,
          0.027684740377806275,
          0.015168831168831168,
          0.016297910645757332,
          0.011531308121512708,
          0.03714110106242866,
          0.019008019008019007,
          0.0002236339691716432,
          0.0319252887372451,
          0.04208815254767115,
          0.031043645260582464,
          0.016930239716803262,
          0.03739462497298076,
          0.04832613390928726
         ],
         "yaxis": "y"
        },
        {
         "alignmentgroup": "True",
         "hovertemplate": "REASON=6 - Death<br>state=%{x}<br>count=%{y}<extra></extra>",
         "legendgroup": "6 - Death",
         "marker": {
          "color": "#FF6692",
          "pattern": {
           "shape": ""
          }
         },
         "name": "6 - Death",
         "offsetgroup": "6 - Death",
         "orientation": "v",
         "showlegend": true,
         "textposition": "auto",
         "type": "bar",
         "x": [
          "AK",
          "AL",
          "AR",
          "AZ",
          "CA",
          "CO",
          "CT",
          "DC",
          "DE",
          "FL",
          "GA",
          "HI",
          "IA",
          "ID",
          "IL",
          "IN",
          "KS",
          "KY",
          "LA",
          "MA",
          "MD",
          "ME",
          "MI",
          "MN",
          "MO",
          "MS",
          "NC",
          "ND",
          "NE",
          "NH",
          "NJ",
          "NM",
          "NV",
          "NY",
          "OH",
          "OK",
          "PA",
          "PR",
          "RI",
          "SC",
          "SD",
          "TN",
          "TX",
          "UT",
          "VA",
          "VT",
          "WA",
          "WI",
          "WY"
         ],
         "xaxis": "x",
         "y": [
          0.0027676258737536815,
          0.0024542300205929644,
          0.0009817396426467701,
          0.002576215671453767,
          0.0025697161916196113,
          0.0009480401093892434,
          0.002518084974358769,
          0.0033988132956967567,
          0.003183520599250936,
          0.0009975999768672469,
          0.00156591767747067,
          0.0003527959075674722,
          0.002007402295966376,
          0.002510253146655353,
          0.001069913033420324,
          0.0034150601545901277,
          0.001822106354946318,
          0.0004194732384140685,
          0.00047401685393258427,
          0.0020765427577366783,
          0.005007611236347605,
          0.004087872644488019,
          0.0025446841206385675,
          0.001497373577856204,
          0.003249110673485272,
          0.0006307977736549165,
          0.00031083210541536414,
          0.006481814908174289,
          0.000906392331920872,
          0.0022632114971144054,
          0.0030335591576795564,
          0.0009201748332183115,
          0.0009313154831199069,
          0.0030745907643040865,
          0.004786955792216508,
          0.003025632242963978,
          0.0017512296886064804,
          0.015896103896103898,
          0.004429810015634624,
          0.0022814631122132674,
          0.0007375537799631224,
          0.001141106404264299,
          2.4848218796849247e-05,
          0.002418825187819373,
          0.0044013754298218195,
          0.003393754439504354,
          0.0013082457962984339,
          0.0048994884357662655,
          0.0028077753779697625
         ],
         "yaxis": "y"
        }
       ],
       "layout": {
        "barmode": "relative",
        "legend": {
         "title": {
          "text": "REASON"
         },
         "tracegroupgap": 0
        },
        "template": {
         "data": {
          "bar": [
           {
            "error_x": {
             "color": "#2a3f5f"
            },
            "error_y": {
             "color": "#2a3f5f"
            },
            "marker": {
             "line": {
              "color": "#E5ECF6",
              "width": 0.5
             },
             "pattern": {
              "fillmode": "overlay",
              "size": 10,
              "solidity": 0.2
             }
            },
            "type": "bar"
           }
          ],
          "barpolar": [
           {
            "marker": {
             "line": {
              "color": "#E5ECF6",
              "width": 0.5
             },
             "pattern": {
              "fillmode": "overlay",
              "size": 10,
              "solidity": 0.2
             }
            },
            "type": "barpolar"
           }
          ],
          "carpet": [
           {
            "aaxis": {
             "endlinecolor": "#2a3f5f",
             "gridcolor": "white",
             "linecolor": "white",
             "minorgridcolor": "white",
             "startlinecolor": "#2a3f5f"
            },
            "baxis": {
             "endlinecolor": "#2a3f5f",
             "gridcolor": "white",
             "linecolor": "white",
             "minorgridcolor": "white",
             "startlinecolor": "#2a3f5f"
            },
            "type": "carpet"
           }
          ],
          "choropleth": [
           {
            "colorbar": {
             "outlinewidth": 0,
             "ticks": ""
            },
            "type": "choropleth"
           }
          ],
          "contour": [
           {
            "colorbar": {
             "outlinewidth": 0,
             "ticks": ""
            },
            "colorscale": [
             [
              0,
              "#0d0887"
             ],
             [
              0.1111111111111111,
              "#46039f"
             ],
             [
              0.2222222222222222,
              "#7201a8"
             ],
             [
              0.3333333333333333,
              "#9c179e"
             ],
             [
              0.4444444444444444,
              "#bd3786"
             ],
             [
              0.5555555555555556,
              "#d8576b"
             ],
             [
              0.6666666666666666,
              "#ed7953"
             ],
             [
              0.7777777777777778,
              "#fb9f3a"
             ],
             [
              0.8888888888888888,
              "#fdca26"
             ],
             [
              1,
              "#f0f921"
             ]
            ],
            "type": "contour"
           }
          ],
          "contourcarpet": [
           {
            "colorbar": {
             "outlinewidth": 0,
             "ticks": ""
            },
            "type": "contourcarpet"
           }
          ],
          "heatmap": [
           {
            "colorbar": {
             "outlinewidth": 0,
             "ticks": ""
            },
            "colorscale": [
             [
              0,
              "#0d0887"
             ],
             [
              0.1111111111111111,
              "#46039f"
             ],
             [
              0.2222222222222222,
              "#7201a8"
             ],
             [
              0.3333333333333333,
              "#9c179e"
             ],
             [
              0.4444444444444444,
              "#bd3786"
             ],
             [
              0.5555555555555556,
              "#d8576b"
             ],
             [
              0.6666666666666666,
              "#ed7953"
             ],
             [
              0.7777777777777778,
              "#fb9f3a"
             ],
             [
              0.8888888888888888,
              "#fdca26"
             ],
             [
              1,
              "#f0f921"
             ]
            ],
            "type": "heatmap"
           }
          ],
          "heatmapgl": [
           {
            "colorbar": {
             "outlinewidth": 0,
             "ticks": ""
            },
            "colorscale": [
             [
              0,
              "#0d0887"
             ],
             [
              0.1111111111111111,
              "#46039f"
             ],
             [
              0.2222222222222222,
              "#7201a8"
             ],
             [
              0.3333333333333333,
              "#9c179e"
             ],
             [
              0.4444444444444444,
              "#bd3786"
             ],
             [
              0.5555555555555556,
              "#d8576b"
             ],
             [
              0.6666666666666666,
              "#ed7953"
             ],
             [
              0.7777777777777778,
              "#fb9f3a"
             ],
             [
              0.8888888888888888,
              "#fdca26"
             ],
             [
              1,
              "#f0f921"
             ]
            ],
            "type": "heatmapgl"
           }
          ],
          "histogram": [
           {
            "marker": {
             "pattern": {
              "fillmode": "overlay",
              "size": 10,
              "solidity": 0.2
             }
            },
            "type": "histogram"
           }
          ],
          "histogram2d": [
           {
            "colorbar": {
             "outlinewidth": 0,
             "ticks": ""
            },
            "colorscale": [
             [
              0,
              "#0d0887"
             ],
             [
              0.1111111111111111,
              "#46039f"
             ],
             [
              0.2222222222222222,
              "#7201a8"
             ],
             [
              0.3333333333333333,
              "#9c179e"
             ],
             [
              0.4444444444444444,
              "#bd3786"
             ],
             [
              0.5555555555555556,
              "#d8576b"
             ],
             [
              0.6666666666666666,
              "#ed7953"
             ],
             [
              0.7777777777777778,
              "#fb9f3a"
             ],
             [
              0.8888888888888888,
              "#fdca26"
             ],
             [
              1,
              "#f0f921"
             ]
            ],
            "type": "histogram2d"
           }
          ],
          "histogram2dcontour": [
           {
            "colorbar": {
             "outlinewidth": 0,
             "ticks": ""
            },
            "colorscale": [
             [
              0,
              "#0d0887"
             ],
             [
              0.1111111111111111,
              "#46039f"
             ],
             [
              0.2222222222222222,
              "#7201a8"
             ],
             [
              0.3333333333333333,
              "#9c179e"
             ],
             [
              0.4444444444444444,
              "#bd3786"
             ],
             [
              0.5555555555555556,
              "#d8576b"
             ],
             [
              0.6666666666666666,
              "#ed7953"
             ],
             [
              0.7777777777777778,
              "#fb9f3a"
             ],
             [
              0.8888888888888888,
              "#fdca26"
             ],
             [
              1,
              "#f0f921"
             ]
            ],
            "type": "histogram2dcontour"
           }
          ],
          "mesh3d": [
           {
            "colorbar": {
             "outlinewidth": 0,
             "ticks": ""
            },
            "type": "mesh3d"
           }
          ],
          "parcoords": [
           {
            "line": {
             "colorbar": {
              "outlinewidth": 0,
              "ticks": ""
             }
            },
            "type": "parcoords"
           }
          ],
          "pie": [
           {
            "automargin": true,
            "type": "pie"
           }
          ],
          "scatter": [
           {
            "fillpattern": {
             "fillmode": "overlay",
             "size": 10,
             "solidity": 0.2
            },
            "type": "scatter"
           }
          ],
          "scatter3d": [
           {
            "line": {
             "colorbar": {
              "outlinewidth": 0,
              "ticks": ""
             }
            },
            "marker": {
             "colorbar": {
              "outlinewidth": 0,
              "ticks": ""
             }
            },
            "type": "scatter3d"
           }
          ],
          "scattercarpet": [
           {
            "marker": {
             "colorbar": {
              "outlinewidth": 0,
              "ticks": ""
             }
            },
            "type": "scattercarpet"
           }
          ],
          "scattergeo": [
           {
            "marker": {
             "colorbar": {
              "outlinewidth": 0,
              "ticks": ""
             }
            },
            "type": "scattergeo"
           }
          ],
          "scattergl": [
           {
            "marker": {
             "colorbar": {
              "outlinewidth": 0,
              "ticks": ""
             }
            },
            "type": "scattergl"
           }
          ],
          "scattermapbox": [
           {
            "marker": {
             "colorbar": {
              "outlinewidth": 0,
              "ticks": ""
             }
            },
            "type": "scattermapbox"
           }
          ],
          "scatterpolar": [
           {
            "marker": {
             "colorbar": {
              "outlinewidth": 0,
              "ticks": ""
             }
            },
            "type": "scatterpolar"
           }
          ],
          "scatterpolargl": [
           {
            "marker": {
             "colorbar": {
              "outlinewidth": 0,
              "ticks": ""
             }
            },
            "type": "scatterpolargl"
           }
          ],
          "scatterternary": [
           {
            "marker": {
             "colorbar": {
              "outlinewidth": 0,
              "ticks": ""
             }
            },
            "type": "scatterternary"
           }
          ],
          "surface": [
           {
            "colorbar": {
             "outlinewidth": 0,
             "ticks": ""
            },
            "colorscale": [
             [
              0,
              "#0d0887"
             ],
             [
              0.1111111111111111,
              "#46039f"
             ],
             [
              0.2222222222222222,
              "#7201a8"
             ],
             [
              0.3333333333333333,
              "#9c179e"
             ],
             [
              0.4444444444444444,
              "#bd3786"
             ],
             [
              0.5555555555555556,
              "#d8576b"
             ],
             [
              0.6666666666666666,
              "#ed7953"
             ],
             [
              0.7777777777777778,
              "#fb9f3a"
             ],
             [
              0.8888888888888888,
              "#fdca26"
             ],
             [
              1,
              "#f0f921"
             ]
            ],
            "type": "surface"
           }
          ],
          "table": [
           {
            "cells": {
             "fill": {
              "color": "#EBF0F8"
             },
             "line": {
              "color": "white"
             }
            },
            "header": {
             "fill": {
              "color": "#C8D4E3"
             },
             "line": {
              "color": "white"
             }
            },
            "type": "table"
           }
          ]
         },
         "layout": {
          "annotationdefaults": {
           "arrowcolor": "#2a3f5f",
           "arrowhead": 0,
           "arrowwidth": 1
          },
          "autotypenumbers": "strict",
          "coloraxis": {
           "colorbar": {
            "outlinewidth": 0,
            "ticks": ""
           }
          },
          "colorscale": {
           "diverging": [
            [
             0,
             "#8e0152"
            ],
            [
             0.1,
             "#c51b7d"
            ],
            [
             0.2,
             "#de77ae"
            ],
            [
             0.3,
             "#f1b6da"
            ],
            [
             0.4,
             "#fde0ef"
            ],
            [
             0.5,
             "#f7f7f7"
            ],
            [
             0.6,
             "#e6f5d0"
            ],
            [
             0.7,
             "#b8e186"
            ],
            [
             0.8,
             "#7fbc41"
            ],
            [
             0.9,
             "#4d9221"
            ],
            [
             1,
             "#276419"
            ]
           ],
           "sequential": [
            [
             0,
             "#0d0887"
            ],
            [
             0.1111111111111111,
             "#46039f"
            ],
            [
             0.2222222222222222,
             "#7201a8"
            ],
            [
             0.3333333333333333,
             "#9c179e"
            ],
            [
             0.4444444444444444,
             "#bd3786"
            ],
            [
             0.5555555555555556,
             "#d8576b"
            ],
            [
             0.6666666666666666,
             "#ed7953"
            ],
            [
             0.7777777777777778,
             "#fb9f3a"
            ],
            [
             0.8888888888888888,
             "#fdca26"
            ],
            [
             1,
             "#f0f921"
            ]
           ],
           "sequentialminus": [
            [
             0,
             "#0d0887"
            ],
            [
             0.1111111111111111,
             "#46039f"
            ],
            [
             0.2222222222222222,
             "#7201a8"
            ],
            [
             0.3333333333333333,
             "#9c179e"
            ],
            [
             0.4444444444444444,
             "#bd3786"
            ],
            [
             0.5555555555555556,
             "#d8576b"
            ],
            [
             0.6666666666666666,
             "#ed7953"
            ],
            [
             0.7777777777777778,
             "#fb9f3a"
            ],
            [
             0.8888888888888888,
             "#fdca26"
            ],
            [
             1,
             "#f0f921"
            ]
           ]
          },
          "colorway": [
           "#636efa",
           "#EF553B",
           "#00cc96",
           "#ab63fa",
           "#FFA15A",
           "#19d3f3",
           "#FF6692",
           "#B6E880",
           "#FF97FF",
           "#FECB52"
          ],
          "font": {
           "color": "#2a3f5f"
          },
          "geo": {
           "bgcolor": "white",
           "lakecolor": "white",
           "landcolor": "#E5ECF6",
           "showlakes": true,
           "showland": true,
           "subunitcolor": "white"
          },
          "hoverlabel": {
           "align": "left"
          },
          "hovermode": "closest",
          "mapbox": {
           "style": "light"
          },
          "paper_bgcolor": "white",
          "plot_bgcolor": "#E5ECF6",
          "polar": {
           "angularaxis": {
            "gridcolor": "white",
            "linecolor": "white",
            "ticks": ""
           },
           "bgcolor": "#E5ECF6",
           "radialaxis": {
            "gridcolor": "white",
            "linecolor": "white",
            "ticks": ""
           }
          },
          "scene": {
           "xaxis": {
            "backgroundcolor": "#E5ECF6",
            "gridcolor": "white",
            "gridwidth": 2,
            "linecolor": "white",
            "showbackground": true,
            "ticks": "",
            "zerolinecolor": "white"
           },
           "yaxis": {
            "backgroundcolor": "#E5ECF6",
            "gridcolor": "white",
            "gridwidth": 2,
            "linecolor": "white",
            "showbackground": true,
            "ticks": "",
            "zerolinecolor": "white"
           },
           "zaxis": {
            "backgroundcolor": "#E5ECF6",
            "gridcolor": "white",
            "gridwidth": 2,
            "linecolor": "white",
            "showbackground": true,
            "ticks": "",
            "zerolinecolor": "white"
           }
          },
          "shapedefaults": {
           "line": {
            "color": "#2a3f5f"
           }
          },
          "ternary": {
           "aaxis": {
            "gridcolor": "white",
            "linecolor": "white",
            "ticks": ""
           },
           "baxis": {
            "gridcolor": "white",
            "linecolor": "white",
            "ticks": ""
           },
           "bgcolor": "#E5ECF6",
           "caxis": {
            "gridcolor": "white",
            "linecolor": "white",
            "ticks": ""
           }
          },
          "title": {
           "x": 0.05
          },
          "xaxis": {
           "automargin": true,
           "gridcolor": "white",
           "linecolor": "white",
           "ticks": "",
           "title": {
            "standoff": 15
           },
           "zerolinecolor": "white",
           "zerolinewidth": 2
          },
          "yaxis": {
           "automargin": true,
           "gridcolor": "white",
           "linecolor": "white",
           "ticks": "",
           "title": {
            "standoff": 15
           },
           "zerolinecolor": "white",
           "zerolinewidth": 2
          }
         }
        },
        "title": {
         "text": "Long-Form Input"
        },
        "xaxis": {
         "anchor": "y",
         "domain": [
          0,
          1
         ],
         "title": {
          "text": "state"
         }
        },
        "yaxis": {
         "anchor": "x",
         "domain": [
          0,
          1
         ],
         "title": {
          "text": "count"
         }
        }
       }
      },
      "text/html": [
       "<div>                            <div id=\"ea49e0e9-6e9d-43c7-b2c4-b83883ba0520\" class=\"plotly-graph-div\" style=\"height:525px; width:100%;\"></div>            <script type=\"text/javascript\">                require([\"plotly\"], function(Plotly) {                    window.PLOTLYENV=window.PLOTLYENV || {};                                    if (document.getElementById(\"ea49e0e9-6e9d-43c7-b2c4-b83883ba0520\")) {                    Plotly.newPlot(                        \"ea49e0e9-6e9d-43c7-b2c4-b83883ba0520\",                        [{\"alignmentgroup\":\"True\",\"hovertemplate\":\"REASON=1 - Treatment Completed<br>state=%{x}<br>count=%{y}<extra></extra>\",\"legendgroup\":\"1 - Treatment Completed\",\"marker\":{\"color\":\"#636efa\",\"pattern\":{\"shape\":\"\"}},\"name\":\"1 - Treatment Completed\",\"offsetgroup\":\"1 - Treatment Completed\",\"orientation\":\"v\",\"showlegend\":true,\"textposition\":\"auto\",\"x\":[\"AK\",\"AL\",\"AR\",\"AZ\",\"CA\",\"CO\",\"CT\",\"DC\",\"DE\",\"FL\",\"GA\",\"HI\",\"IA\",\"ID\",\"IL\",\"IN\",\"KS\",\"KY\",\"LA\",\"MA\",\"MD\",\"ME\",\"MI\",\"MN\",\"MO\",\"MS\",\"MT\",\"NC\",\"ND\",\"NE\",\"NH\",\"NJ\",\"NM\",\"NV\",\"NY\",\"OH\",\"OK\",\"PA\",\"PR\",\"RI\",\"SC\",\"SD\",\"TN\",\"TX\",\"UT\",\"VA\",\"VT\",\"WA\",\"WI\",\"WY\"],\"xaxis\":\"x\",\"y\":[0.4504133697619132,0.37036305678580494,0.5586834871392107,0.8074200050390526,0.3301756266993673,0.7701321786690976,0.4557813869884264,0.5394319949305836,0.3990012484394507,0.5078795940201833,0.17973255120302248,0.30084671017816195,0.44389728791585636,0.39729175505586195,0.2775773698935147,0.27964389525410915,0.26294396322148406,0.08404388335417255,0.13433988764044943,0.5329133858267716,0.10865351822121663,0.4256372760809598,0.251444460081932,0.5159390843392057,0.22128428673662875,0.19862708719851577,0.4613506916192026,0.22373812985306296,0.21317969031328773,0.6533729124651605,0.37903134547923506,0.54988009906569,0.0791350356567748,0.49298603026775323,0.49720173441365123,0.3146559807337367,0.3850354893341706,0.42282148940649583,0.5615584415584416,0.3857014260671815,0.49058069849142383,0.5750812187198173,0.5174370437528333,0.5402748212998931,0.4278757588863793,0.3670021881838074,0.2934939885822525,0.453441840778791,0.5640896318178543,0.5077753779697625],\"yaxis\":\"y\",\"type\":\"bar\"},{\"alignmentgroup\":\"True\",\"hovertemplate\":\"REASON=2 - Dropped out of treatment<br>state=%{x}<br>count=%{y}<extra></extra>\",\"legendgroup\":\"2 - Dropped out of treatment\",\"marker\":{\"color\":\"#EF553B\",\"pattern\":{\"shape\":\"\"}},\"name\":\"2 - Dropped out of treatment\",\"offsetgroup\":\"2 - Dropped out of treatment\",\"orientation\":\"v\",\"showlegend\":true,\"textposition\":\"auto\",\"x\":[\"AK\",\"AL\",\"AR\",\"AZ\",\"CA\",\"CO\",\"CT\",\"DC\",\"DE\",\"FL\",\"GA\",\"HI\",\"IA\",\"ID\",\"IL\",\"IN\",\"KS\",\"KY\",\"LA\",\"MA\",\"MD\",\"ME\",\"MI\",\"MN\",\"MO\",\"MS\",\"MT\",\"NC\",\"ND\",\"NE\",\"NH\",\"NJ\",\"NM\",\"NV\",\"NY\",\"OH\",\"OK\",\"PA\",\"PR\",\"RI\",\"SC\",\"SD\",\"TN\",\"TX\",\"UT\",\"VA\",\"VT\",\"WA\",\"WI\",\"WY\"],\"xaxis\":\"x\",\"y\":[0.1899371961820956,0.33050297610651924,0.2339485568427253,0.12797619047619047,0.35378459325935036,0.09808113035551504,0.21428142501991648,0.000921712080188951,0.15084269662921349,0.2489807130671139,0.7036935772519387,0.16340330452166754,0.359659578027309,0.27591571206335735,0.23964606120191717,0.43278718440021374,0.26269167157233764,0.04224579518412455,0.725684691011236,0.32558872001464934,0.29600638844755733,0.27754328824487356,0.3543805462892876,0.2621174114214457,0.2870291531940012,0.43153988868274584,0.29910496338486575,0.1035169275623484,0.18959308606409794,0.12696290589381615,0.053807853343894985,0.2757459410585352,0.03450655624568668,0.22654249126891735,0.31467097431122165,0.2838023234008113,0.414930258225343,0.20995617140997913,0.3045194805194805,0.21526034017150708,0.36712543914031825,0.1251031697251734,0.26359557938505307,0.19552235097280776,0.26384416999054894,0.0004126289465457956,0.35050380153113575,0.24570010389010735,0.21903595359896247,0.23606911447084233],\"yaxis\":\"y\",\"type\":\"bar\"},{\"alignmentgroup\":\"True\",\"hovertemplate\":\"REASON=3 - Terminated by facility<br>state=%{x}<br>count=%{y}<extra></extra>\",\"legendgroup\":\"3 - Terminated by facility\",\"marker\":{\"color\":\"#00cc96\",\"pattern\":{\"shape\":\"\"}},\"name\":\"3 - Terminated by facility\",\"offsetgroup\":\"3 - Terminated by facility\",\"orientation\":\"v\",\"showlegend\":true,\"textposition\":\"auto\",\"x\":[\"AK\",\"AL\",\"AR\",\"AZ\",\"CA\",\"CO\",\"CT\",\"DC\",\"DE\",\"FL\",\"GA\",\"HI\",\"IA\",\"IL\",\"IN\",\"KS\",\"KY\",\"LA\",\"MA\",\"MD\",\"ME\",\"MI\",\"MN\",\"MO\",\"MS\",\"MT\",\"NC\",\"ND\",\"NE\",\"NH\",\"NJ\",\"NM\",\"NV\",\"NY\",\"OH\",\"OK\",\"PA\",\"PR\",\"RI\",\"SC\",\"SD\",\"TN\",\"TX\",\"UT\",\"VA\",\"VT\",\"WA\",\"WI\",\"WY\"],\"xaxis\":\"x\",\"y\":[0.18855338324521875,0.08431831645462495,0.10295994502258002,0.00015432098765432098,0.00010593458378944057,0.03690063810391978,0.044072492023395374,0.07920963189123797,0.21713483146067417,0.025908683457189947,0.05818751242791807,0.10636796613159287,0.06856533467160153,0.09256916481721114,0.20277897261434585,0.026883076836823366,0.025257129028354777,0.0002808988764044944,0.06008789598974547,0.1364033372983854,0.11020638771644123,0.04363619765615193,0.07523941125774566,0.06400016715681922,0.030575139146567717,0.03181448331977217,0.0003442760661246122,0.04987396471011883,0.03693548752577553,0.07146090302138734,0.047252761652667306,0.01081205429031516,0.06487194412107102,0.09053150958715883,0.2099548940454218,0.03959962702898137,0.06152270856858504,0.03345454545454545,0.12448476808641683,0.06580698491423848,0.05498287821582228,0.15506541822331296,0.11595007164569753,0.0832011789770452,0.36118787120975304,0.0667438373102523,0.06262264804340298,0.05778514302183154,0.03423326133909287],\"yaxis\":\"y\",\"type\":\"bar\"},{\"alignmentgroup\":\"True\",\"hovertemplate\":\"REASON=4 - Transferred to another treatment/facility<br>state=%{x}<br>count=%{y}<extra></extra>\",\"legendgroup\":\"4 - Transferred to another treatment/facility\",\"marker\":{\"color\":\"#ab63fa\",\"pattern\":{\"shape\":\"\"}},\"name\":\"4 - Transferred to another treatment/facility\",\"offsetgroup\":\"4 - Transferred to another treatment/facility\",\"orientation\":\"v\",\"showlegend\":true,\"textposition\":\"auto\",\"x\":[\"AK\",\"AL\",\"AR\",\"AZ\",\"CA\",\"CO\",\"CT\",\"DC\",\"DE\",\"FL\",\"GA\",\"HI\",\"IA\",\"ID\",\"IL\",\"IN\",\"KS\",\"KY\",\"LA\",\"MA\",\"MD\",\"ME\",\"MI\",\"MN\",\"MO\",\"MS\",\"MT\",\"NC\",\"ND\",\"NE\",\"NH\",\"NJ\",\"NM\",\"NV\",\"NY\",\"OH\",\"OK\",\"PA\",\"PR\",\"RI\",\"SC\",\"SD\",\"TN\",\"TX\",\"UT\",\"VA\",\"VT\",\"WA\",\"WI\",\"WY\"],\"xaxis\":\"x\",\"y\":[0.09296384345172622,0.11368444808034077,0.08705576281170234,0.0019904257999496097,0.2995268255257405,0.07273017319963537,0.18751526263746382,0.08064980701653321,0.16769662921348313,0.043417285949744096,0.017821634519785245,0.4140941965073205,0.046672103381218244,0.1502262763399802,0.3767901163168967,0.019812562728919823,0.3969108289182295,0.8138466502641875,0.13091643258426966,0.0281377037172679,0.4280093497591855,0.07830104024726645,0.2675607928459762,0.07426684063804484,0.3960676358279747,0.32289424860853433,0.15362082994304313,0.6711278287197061,0.0875045012603529,0.0918855226484784,0.1487495756478443,0.008016327493349757,0.8622038187255578,0.1270663562281723,0.05088830974159811,0.06416494763958665,0.09550722155620255,0.0385749009550422,0.047896103896103895,0.2536836120718245,0.03977681339119653,0.1622618315918869,0.022853391274443906,0.05984279360241193,0.190574591122431,0.00031259768677711783,0.20267817210807398,0.18042248643656933,0.09730528136032855,0.10134989200863931],\"yaxis\":\"y\",\"type\":\"bar\"},{\"alignmentgroup\":\"True\",\"hovertemplate\":\"REASON=7 - Other<br>state=%{x}<br>count=%{y}<extra></extra>\",\"legendgroup\":\"7 - Other\",\"marker\":{\"color\":\"#FFA15A\",\"pattern\":{\"shape\":\"\"}},\"name\":\"7 - Other\",\"offsetgroup\":\"7 - Other\",\"orientation\":\"v\",\"showlegend\":true,\"textposition\":\"auto\",\"x\":[\"AK\",\"AL\",\"AR\",\"AZ\",\"CA\",\"CO\",\"CT\",\"DC\",\"DE\",\"FL\",\"GA\",\"HI\",\"IA\",\"ID\",\"IL\",\"IN\",\"KS\",\"KY\",\"LA\",\"MA\",\"MD\",\"ME\",\"MI\",\"MN\",\"MO\",\"MS\",\"MT\",\"NC\",\"ND\",\"NE\",\"NH\",\"NJ\",\"NM\",\"NV\",\"NY\",\"OH\",\"OK\",\"PA\",\"PR\",\"RI\",\"SC\",\"SD\",\"TN\",\"TX\",\"UT\",\"VA\",\"VT\",\"WA\",\"WI\",\"WY\"],\"xaxis\":\"x\",\"y\":[0.05105914913245574,0.07853536065897486,0.004687806793638327,0.04819538926681784,0.00012038020885163702,0.01089334548769371,0.0790734728355078,0.29022409124949594,0.03639200998751561,0.1644738744469826,0.0321137403062239,0.0070853178103134,0.03838111369006545,0.08711639089237731,0.0002747074004727859,0.027776691562715887,0.009923471533092254,0.030597346025087728,0.005951544943820225,0.046196667277055486,0.00021627556834723875,0.0717537970686962,0.05527936371485845,0.054155813516805734,0.013085244754148885,0.015584415584415584,0.054109031733116354,0.0008754448538597281,0.4528267915016205,0.07659015204731368,0.32097997057825056,0.09520658341304888,0.008281573498964804,0.0731082654249127,0.016054303575382834,0.08818855670815362,0.04159768605735381,0.23768875959348504,0.021506493506493505,0.00014213294167811626,0.02289729282909692,0.044692246904908244,0.020899441952073532,0.08816148029122113,0.0001601870985310843,0.22459518599562364,0.05214280076819868,0.039574435338027625,0.019489876792276102,0.06943844492440605],\"yaxis\":\"y\",\"type\":\"bar\"},{\"alignmentgroup\":\"True\",\"hovertemplate\":\"REASON=5 - Incarcerated<br>state=%{x}<br>count=%{y}<extra></extra>\",\"legendgroup\":\"5 - Incarcerated\",\"marker\":{\"color\":\"#19d3f3\",\"pattern\":{\"shape\":\"\"}},\"name\":\"5 - Incarcerated\",\"offsetgroup\":\"5 - Incarcerated\",\"orientation\":\"v\",\"showlegend\":true,\"textposition\":\"auto\",\"x\":[\"AK\",\"AL\",\"AR\",\"AZ\",\"CA\",\"CO\",\"CT\",\"DC\",\"DE\",\"FL\",\"GA\",\"HI\",\"IA\",\"ID\",\"IL\",\"IN\",\"KS\",\"KY\",\"LA\",\"MA\",\"MD\",\"ME\",\"MI\",\"MN\",\"MO\",\"MS\",\"NC\",\"ND\",\"NE\",\"NH\",\"NJ\",\"NM\",\"NV\",\"NY\",\"OH\",\"OK\",\"PA\",\"PR\",\"RI\",\"SC\",\"SD\",\"TN\",\"TX\",\"UT\",\"VA\",\"VT\",\"WA\",\"WI\",\"WY\"],\"xaxis\":\"x\",\"y\":[0.024305432352836817,0.020141611893142262,0.011682701747496563,0.01168745275888133,0.013716923531281199,0.010314494074749317,0.01675787552093133,0.00616394953626361,0.025749063670411985,0.008342249081918862,0.0068850666136408825,0.007849708943376258,0.04081718001798298,0.08693961250176778,0.01207266733656717,0.033785633285105386,0.03882488156308693,0.0035897229056588553,0.0023525280898876403,0.004999084416773485,0.025703519468960295,0.03247033799727475,0.025153955291155227,0.016784065248896227,0.01528440165694197,0.0001484230055658627,8.656083948275964e-05,0.0005401512423478574,0.01334662708753484,0.023707140432273396,0.02086472815902926,0.004140786749482402,0.014493597206053551,0.027578577606683283,0.03444634168007343,0.020304085554984683,0.027684740377806275,0.015168831168831168,0.016297910645757332,0.011531308121512708,0.03714110106242866,0.019008019008019007,0.0002236339691716432,0.0319252887372451,0.04208815254767115,0.031043645260582464,0.016930239716803262,0.03739462497298076,0.04832613390928726],\"yaxis\":\"y\",\"type\":\"bar\"},{\"alignmentgroup\":\"True\",\"hovertemplate\":\"REASON=6 - Death<br>state=%{x}<br>count=%{y}<extra></extra>\",\"legendgroup\":\"6 - Death\",\"marker\":{\"color\":\"#FF6692\",\"pattern\":{\"shape\":\"\"}},\"name\":\"6 - Death\",\"offsetgroup\":\"6 - Death\",\"orientation\":\"v\",\"showlegend\":true,\"textposition\":\"auto\",\"x\":[\"AK\",\"AL\",\"AR\",\"AZ\",\"CA\",\"CO\",\"CT\",\"DC\",\"DE\",\"FL\",\"GA\",\"HI\",\"IA\",\"ID\",\"IL\",\"IN\",\"KS\",\"KY\",\"LA\",\"MA\",\"MD\",\"ME\",\"MI\",\"MN\",\"MO\",\"MS\",\"NC\",\"ND\",\"NE\",\"NH\",\"NJ\",\"NM\",\"NV\",\"NY\",\"OH\",\"OK\",\"PA\",\"PR\",\"RI\",\"SC\",\"SD\",\"TN\",\"TX\",\"UT\",\"VA\",\"VT\",\"WA\",\"WI\",\"WY\"],\"xaxis\":\"x\",\"y\":[0.0027676258737536815,0.0024542300205929644,0.0009817396426467701,0.002576215671453767,0.0025697161916196113,0.0009480401093892434,0.002518084974358769,0.0033988132956967567,0.003183520599250936,0.0009975999768672469,0.00156591767747067,0.0003527959075674722,0.002007402295966376,0.002510253146655353,0.001069913033420324,0.0034150601545901277,0.001822106354946318,0.0004194732384140685,0.00047401685393258427,0.0020765427577366783,0.005007611236347605,0.004087872644488019,0.0025446841206385675,0.001497373577856204,0.003249110673485272,0.0006307977736549165,0.00031083210541536414,0.006481814908174289,0.000906392331920872,0.0022632114971144054,0.0030335591576795564,0.0009201748332183115,0.0009313154831199069,0.0030745907643040865,0.004786955792216508,0.003025632242963978,0.0017512296886064804,0.015896103896103898,0.004429810015634624,0.0022814631122132674,0.0007375537799631224,0.001141106404264299,2.4848218796849247e-05,0.002418825187819373,0.0044013754298218195,0.003393754439504354,0.0013082457962984339,0.0048994884357662655,0.0028077753779697625],\"yaxis\":\"y\",\"type\":\"bar\"}],                        {\"template\":{\"data\":{\"histogram2dcontour\":[{\"type\":\"histogram2dcontour\",\"colorbar\":{\"outlinewidth\":0,\"ticks\":\"\"},\"colorscale\":[[0.0,\"#0d0887\"],[0.1111111111111111,\"#46039f\"],[0.2222222222222222,\"#7201a8\"],[0.3333333333333333,\"#9c179e\"],[0.4444444444444444,\"#bd3786\"],[0.5555555555555556,\"#d8576b\"],[0.6666666666666666,\"#ed7953\"],[0.7777777777777778,\"#fb9f3a\"],[0.8888888888888888,\"#fdca26\"],[1.0,\"#f0f921\"]]}],\"choropleth\":[{\"type\":\"choropleth\",\"colorbar\":{\"outlinewidth\":0,\"ticks\":\"\"}}],\"histogram2d\":[{\"type\":\"histogram2d\",\"colorbar\":{\"outlinewidth\":0,\"ticks\":\"\"},\"colorscale\":[[0.0,\"#0d0887\"],[0.1111111111111111,\"#46039f\"],[0.2222222222222222,\"#7201a8\"],[0.3333333333333333,\"#9c179e\"],[0.4444444444444444,\"#bd3786\"],[0.5555555555555556,\"#d8576b\"],[0.6666666666666666,\"#ed7953\"],[0.7777777777777778,\"#fb9f3a\"],[0.8888888888888888,\"#fdca26\"],[1.0,\"#f0f921\"]]}],\"heatmap\":[{\"type\":\"heatmap\",\"colorbar\":{\"outlinewidth\":0,\"ticks\":\"\"},\"colorscale\":[[0.0,\"#0d0887\"],[0.1111111111111111,\"#46039f\"],[0.2222222222222222,\"#7201a8\"],[0.3333333333333333,\"#9c179e\"],[0.4444444444444444,\"#bd3786\"],[0.5555555555555556,\"#d8576b\"],[0.6666666666666666,\"#ed7953\"],[0.7777777777777778,\"#fb9f3a\"],[0.8888888888888888,\"#fdca26\"],[1.0,\"#f0f921\"]]}],\"heatmapgl\":[{\"type\":\"heatmapgl\",\"colorbar\":{\"outlinewidth\":0,\"ticks\":\"\"},\"colorscale\":[[0.0,\"#0d0887\"],[0.1111111111111111,\"#46039f\"],[0.2222222222222222,\"#7201a8\"],[0.3333333333333333,\"#9c179e\"],[0.4444444444444444,\"#bd3786\"],[0.5555555555555556,\"#d8576b\"],[0.6666666666666666,\"#ed7953\"],[0.7777777777777778,\"#fb9f3a\"],[0.8888888888888888,\"#fdca26\"],[1.0,\"#f0f921\"]]}],\"contourcarpet\":[{\"type\":\"contourcarpet\",\"colorbar\":{\"outlinewidth\":0,\"ticks\":\"\"}}],\"contour\":[{\"type\":\"contour\",\"colorbar\":{\"outlinewidth\":0,\"ticks\":\"\"},\"colorscale\":[[0.0,\"#0d0887\"],[0.1111111111111111,\"#46039f\"],[0.2222222222222222,\"#7201a8\"],[0.3333333333333333,\"#9c179e\"],[0.4444444444444444,\"#bd3786\"],[0.5555555555555556,\"#d8576b\"],[0.6666666666666666,\"#ed7953\"],[0.7777777777777778,\"#fb9f3a\"],[0.8888888888888888,\"#fdca26\"],[1.0,\"#f0f921\"]]}],\"surface\":[{\"type\":\"surface\",\"colorbar\":{\"outlinewidth\":0,\"ticks\":\"\"},\"colorscale\":[[0.0,\"#0d0887\"],[0.1111111111111111,\"#46039f\"],[0.2222222222222222,\"#7201a8\"],[0.3333333333333333,\"#9c179e\"],[0.4444444444444444,\"#bd3786\"],[0.5555555555555556,\"#d8576b\"],[0.6666666666666666,\"#ed7953\"],[0.7777777777777778,\"#fb9f3a\"],[0.8888888888888888,\"#fdca26\"],[1.0,\"#f0f921\"]]}],\"mesh3d\":[{\"type\":\"mesh3d\",\"colorbar\":{\"outlinewidth\":0,\"ticks\":\"\"}}],\"scatter\":[{\"fillpattern\":{\"fillmode\":\"overlay\",\"size\":10,\"solidity\":0.2},\"type\":\"scatter\"}],\"parcoords\":[{\"type\":\"parcoords\",\"line\":{\"colorbar\":{\"outlinewidth\":0,\"ticks\":\"\"}}}],\"scatterpolargl\":[{\"type\":\"scatterpolargl\",\"marker\":{\"colorbar\":{\"outlinewidth\":0,\"ticks\":\"\"}}}],\"bar\":[{\"error_x\":{\"color\":\"#2a3f5f\"},\"error_y\":{\"color\":\"#2a3f5f\"},\"marker\":{\"line\":{\"color\":\"#E5ECF6\",\"width\":0.5},\"pattern\":{\"fillmode\":\"overlay\",\"size\":10,\"solidity\":0.2}},\"type\":\"bar\"}],\"scattergeo\":[{\"type\":\"scattergeo\",\"marker\":{\"colorbar\":{\"outlinewidth\":0,\"ticks\":\"\"}}}],\"scatterpolar\":[{\"type\":\"scatterpolar\",\"marker\":{\"colorbar\":{\"outlinewidth\":0,\"ticks\":\"\"}}}],\"histogram\":[{\"marker\":{\"pattern\":{\"fillmode\":\"overlay\",\"size\":10,\"solidity\":0.2}},\"type\":\"histogram\"}],\"scattergl\":[{\"type\":\"scattergl\",\"marker\":{\"colorbar\":{\"outlinewidth\":0,\"ticks\":\"\"}}}],\"scatter3d\":[{\"type\":\"scatter3d\",\"line\":{\"colorbar\":{\"outlinewidth\":0,\"ticks\":\"\"}},\"marker\":{\"colorbar\":{\"outlinewidth\":0,\"ticks\":\"\"}}}],\"scattermapbox\":[{\"type\":\"scattermapbox\",\"marker\":{\"colorbar\":{\"outlinewidth\":0,\"ticks\":\"\"}}}],\"scatterternary\":[{\"type\":\"scatterternary\",\"marker\":{\"colorbar\":{\"outlinewidth\":0,\"ticks\":\"\"}}}],\"scattercarpet\":[{\"type\":\"scattercarpet\",\"marker\":{\"colorbar\":{\"outlinewidth\":0,\"ticks\":\"\"}}}],\"carpet\":[{\"aaxis\":{\"endlinecolor\":\"#2a3f5f\",\"gridcolor\":\"white\",\"linecolor\":\"white\",\"minorgridcolor\":\"white\",\"startlinecolor\":\"#2a3f5f\"},\"baxis\":{\"endlinecolor\":\"#2a3f5f\",\"gridcolor\":\"white\",\"linecolor\":\"white\",\"minorgridcolor\":\"white\",\"startlinecolor\":\"#2a3f5f\"},\"type\":\"carpet\"}],\"table\":[{\"cells\":{\"fill\":{\"color\":\"#EBF0F8\"},\"line\":{\"color\":\"white\"}},\"header\":{\"fill\":{\"color\":\"#C8D4E3\"},\"line\":{\"color\":\"white\"}},\"type\":\"table\"}],\"barpolar\":[{\"marker\":{\"line\":{\"color\":\"#E5ECF6\",\"width\":0.5},\"pattern\":{\"fillmode\":\"overlay\",\"size\":10,\"solidity\":0.2}},\"type\":\"barpolar\"}],\"pie\":[{\"automargin\":true,\"type\":\"pie\"}]},\"layout\":{\"autotypenumbers\":\"strict\",\"colorway\":[\"#636efa\",\"#EF553B\",\"#00cc96\",\"#ab63fa\",\"#FFA15A\",\"#19d3f3\",\"#FF6692\",\"#B6E880\",\"#FF97FF\",\"#FECB52\"],\"font\":{\"color\":\"#2a3f5f\"},\"hovermode\":\"closest\",\"hoverlabel\":{\"align\":\"left\"},\"paper_bgcolor\":\"white\",\"plot_bgcolor\":\"#E5ECF6\",\"polar\":{\"bgcolor\":\"#E5ECF6\",\"angularaxis\":{\"gridcolor\":\"white\",\"linecolor\":\"white\",\"ticks\":\"\"},\"radialaxis\":{\"gridcolor\":\"white\",\"linecolor\":\"white\",\"ticks\":\"\"}},\"ternary\":{\"bgcolor\":\"#E5ECF6\",\"aaxis\":{\"gridcolor\":\"white\",\"linecolor\":\"white\",\"ticks\":\"\"},\"baxis\":{\"gridcolor\":\"white\",\"linecolor\":\"white\",\"ticks\":\"\"},\"caxis\":{\"gridcolor\":\"white\",\"linecolor\":\"white\",\"ticks\":\"\"}},\"coloraxis\":{\"colorbar\":{\"outlinewidth\":0,\"ticks\":\"\"}},\"colorscale\":{\"sequential\":[[0.0,\"#0d0887\"],[0.1111111111111111,\"#46039f\"],[0.2222222222222222,\"#7201a8\"],[0.3333333333333333,\"#9c179e\"],[0.4444444444444444,\"#bd3786\"],[0.5555555555555556,\"#d8576b\"],[0.6666666666666666,\"#ed7953\"],[0.7777777777777778,\"#fb9f3a\"],[0.8888888888888888,\"#fdca26\"],[1.0,\"#f0f921\"]],\"sequentialminus\":[[0.0,\"#0d0887\"],[0.1111111111111111,\"#46039f\"],[0.2222222222222222,\"#7201a8\"],[0.3333333333333333,\"#9c179e\"],[0.4444444444444444,\"#bd3786\"],[0.5555555555555556,\"#d8576b\"],[0.6666666666666666,\"#ed7953\"],[0.7777777777777778,\"#fb9f3a\"],[0.8888888888888888,\"#fdca26\"],[1.0,\"#f0f921\"]],\"diverging\":[[0,\"#8e0152\"],[0.1,\"#c51b7d\"],[0.2,\"#de77ae\"],[0.3,\"#f1b6da\"],[0.4,\"#fde0ef\"],[0.5,\"#f7f7f7\"],[0.6,\"#e6f5d0\"],[0.7,\"#b8e186\"],[0.8,\"#7fbc41\"],[0.9,\"#4d9221\"],[1,\"#276419\"]]},\"xaxis\":{\"gridcolor\":\"white\",\"linecolor\":\"white\",\"ticks\":\"\",\"title\":{\"standoff\":15},\"zerolinecolor\":\"white\",\"automargin\":true,\"zerolinewidth\":2},\"yaxis\":{\"gridcolor\":\"white\",\"linecolor\":\"white\",\"ticks\":\"\",\"title\":{\"standoff\":15},\"zerolinecolor\":\"white\",\"automargin\":true,\"zerolinewidth\":2},\"scene\":{\"xaxis\":{\"backgroundcolor\":\"#E5ECF6\",\"gridcolor\":\"white\",\"linecolor\":\"white\",\"showbackground\":true,\"ticks\":\"\",\"zerolinecolor\":\"white\",\"gridwidth\":2},\"yaxis\":{\"backgroundcolor\":\"#E5ECF6\",\"gridcolor\":\"white\",\"linecolor\":\"white\",\"showbackground\":true,\"ticks\":\"\",\"zerolinecolor\":\"white\",\"gridwidth\":2},\"zaxis\":{\"backgroundcolor\":\"#E5ECF6\",\"gridcolor\":\"white\",\"linecolor\":\"white\",\"showbackground\":true,\"ticks\":\"\",\"zerolinecolor\":\"white\",\"gridwidth\":2}},\"shapedefaults\":{\"line\":{\"color\":\"#2a3f5f\"}},\"annotationdefaults\":{\"arrowcolor\":\"#2a3f5f\",\"arrowhead\":0,\"arrowwidth\":1},\"geo\":{\"bgcolor\":\"white\",\"landcolor\":\"#E5ECF6\",\"subunitcolor\":\"white\",\"showland\":true,\"showlakes\":true,\"lakecolor\":\"white\"},\"title\":{\"x\":0.05},\"mapbox\":{\"style\":\"light\"}}},\"xaxis\":{\"anchor\":\"y\",\"domain\":[0.0,1.0],\"title\":{\"text\":\"state\"}},\"yaxis\":{\"anchor\":\"x\",\"domain\":[0.0,1.0],\"title\":{\"text\":\"count\"}},\"legend\":{\"title\":{\"text\":\"REASON\"},\"tracegroupgap\":0},\"title\":{\"text\":\"Long-Form Input\"},\"barmode\":\"relative\"},                        {\"responsive\": true}                    ).then(function(){\n",
       "                            \n",
       "var gd = document.getElementById('ea49e0e9-6e9d-43c7-b2c4-b83883ba0520');\n",
       "var x = new MutationObserver(function (mutations, observer) {{\n",
       "        var display = window.getComputedStyle(gd).display;\n",
       "        if (!display || display === 'none') {{\n",
       "            console.log([gd, 'removed!']);\n",
       "            Plotly.purge(gd);\n",
       "            observer.disconnect();\n",
       "        }}\n",
       "}});\n",
       "\n",
       "// Listen for the removal of the full notebook cells\n",
       "var notebookContainer = gd.closest('#notebook-container');\n",
       "if (notebookContainer) {{\n",
       "    x.observe(notebookContainer, {childList: true});\n",
       "}}\n",
       "\n",
       "// Listen for the clearing of the current output cell\n",
       "var outputEl = gd.closest('.output');\n",
       "if (outputEl) {{\n",
       "    x.observe(outputEl, {childList: true});\n",
       "}}\n",
       "\n",
       "                        })                };                });            </script>        </div>"
      ]
     },
     "metadata": {},
     "output_type": "display_data"
    }
   ],
   "source": [
    "fig = px.bar(count_df, x=\"state\", y=\"count\", color=\"REASON\", title=\"Long-Form Input\")\n",
    "fig.show()"
   ]
  },
  {
   "cell_type": "code",
   "execution_count": null,
   "metadata": {},
   "outputs": [],
   "source": []
  }
 ],
 "metadata": {
  "kernelspec": {
   "display_name": "Python 3",
   "language": "python",
   "name": "python3"
  },
  "language_info": {
   "codemirror_mode": {
    "name": "ipython",
    "version": 3
   },
   "file_extension": ".py",
   "mimetype": "text/x-python",
   "name": "python",
   "nbconvert_exporter": "python",
   "pygments_lexer": "ipython3",
   "version": "3.8.3"
  }
 },
 "nbformat": 4,
 "nbformat_minor": 5
}
